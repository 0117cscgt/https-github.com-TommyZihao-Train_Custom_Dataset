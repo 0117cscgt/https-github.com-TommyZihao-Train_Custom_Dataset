{
 "cells": [
  {
   "cell_type": "markdown",
   "id": "dea36d56",
   "metadata": {},
   "source": [
    "# 安装YOLOV8\n",
    "\n",
    "同济子豪兄 2023-4-15\n",
    "\n",
    "安装YOLOV8环境和所需的第三方工具包"
   ]
  },
  {
   "cell_type": "markdown",
   "id": "de3aa69a-0627-46af-beb5-5adb4c29283e",
   "metadata": {},
   "source": [
    "## 云GPU环境\n",
    "\n",
    "https://growthdata.virtaicloud.com/t/ea\n",
    "\n",
    "公众号 趋动云 回复 子豪兄，领取专属算力福利~"
   ]
  },
  {
   "cell_type": "markdown",
   "id": "e4620c53",
   "metadata": {},
   "source": [
    "## 安装YOLOV8"
   ]
  },
  {
   "cell_type": "code",
   "execution_count": null,
   "id": "05f6af90-fe54-4a4f-8492-9f918f617bc2",
   "metadata": {
    "tags": []
   },
   "outputs": [],
   "source": [
    "!pip install ultralytics --upgrade -i https://pypi.douban.com/simple"
   ]
  },
  {
   "cell_type": "markdown",
   "id": "0661fcc5",
   "metadata": {},
   "source": [
    "## 验证安装成功"
   ]
  },
  {
   "cell_type": "code",
   "execution_count": 7,
   "id": "f575e9f3",
   "metadata": {
    "tags": []
   },
   "outputs": [
    {
     "name": "stderr",
     "output_type": "stream",
     "text": [
      "Ultralytics YOLOv8.0.114 🚀 Python-3.8.10 torch-1.10.0+cu111 CUDA:0 (B1.gpu.xlarge, 24118MiB)\n",
      "Setup complete ✅ (96 CPUs, 503.6 GB RAM, 14987.1/44518.7 GB disk)\n"
     ]
    }
   ],
   "source": [
    "import ultralytics\n",
    "ultralytics.checks()"
   ]
  },
  {
   "cell_type": "markdown",
   "id": "bf16e24c",
   "metadata": {},
   "source": [
    "## 安装其它第三方工具包"
   ]
  },
  {
   "cell_type": "code",
   "execution_count": null,
   "id": "e7315eb7",
   "metadata": {
    "tags": []
   },
   "outputs": [],
   "source": [
    "!pip install numpy opencv-python pillow pandas matplotlib seaborn tqdm lap -i https://pypi.tuna.tsinghua.edu.cn/simple"
   ]
  },
  {
   "cell_type": "markdown",
   "id": "67e13264",
   "metadata": {},
   "source": [
    "## 安装Roboflow Supervision"
   ]
  },
  {
   "cell_type": "code",
   "execution_count": null,
   "id": "dc6363cd",
   "metadata": {
    "tags": []
   },
   "outputs": [],
   "source": [
    "!pip install supervision"
   ]
  },
  {
   "cell_type": "markdown",
   "id": "e1a13555-2afa-4645-a6a6-4796668977d3",
   "metadata": {},
   "source": [
    "## 下载待测视频至`videos`目录中"
   ]
  },
  {
   "cell_type": "code",
   "execution_count": null,
   "id": "4d076a07-4bfb-4700-8454-ddeba53d0526",
   "metadata": {
    "tags": []
   },
   "outputs": [],
   "source": [
    "import os\n",
    "os.mkdir('videos')"
   ]
  },
  {
   "cell_type": "code",
   "execution_count": null,
   "id": "f91f2b94-e16c-4cbd-bbbb-dd2e1cee60ff",
   "metadata": {
    "tags": []
   },
   "outputs": [],
   "source": [
    "# 水果-文具视频\n",
    "!wget https://zihao-openmmlab.obs.cn-east-3.myhuaweicloud.com/20230502-YOLO/videos/video_fruits.mp4 -P videos\n",
    "\n",
    "# 玩具视频\n",
    "!wget https://zihao-openmmlab.obs.cn-east-3.myhuaweicloud.com/20230502-YOLO/videos/video_table.mp4 -P videos\n",
    "\n",
    "#人流量视频-短\n",
    "!wget https://zihao-openmmlab.obs.cn-east-3.myhuaweicloud.com/20220418-mmtracking/data/mot_people_short.mp4 -P videos\n",
    "\n",
    "# 人流量视频-中\n",
    "!wget https://zihao-openmmlab.obs.cn-east-3.myhuaweicloud.com/20220418-mmtracking/data/mot_people_medium.mp4 -P videos\n",
    "\n",
    "# 人流量视频-长\n",
    "!wget https://zihao-openmmlab.obs.cn-east-3.myhuaweicloud.com/20220418-mmtracking/data/mot_people_long.mp4 -P videos\n",
    "\n",
    "# 车流量视频-简单场景\n",
    "!wget https://zihao-openmmlab.obs.cn-east-3.myhuaweicloud.com/20230502-YOLO/videos/line_count_1.mp4 -P videos\n",
    "\n",
    "# 车流量视频-上海漕河泾宜山路隧道\n",
    "!wget https://zihao-openmmlab.obs.cn-east-3.myhuaweicloud.com/20230502-YOLO/videos/line_count_2.mp4 -P videos\n",
    "\n",
    "# 车流量视频-桥下-短\n",
    "!wget https://zihao-openmmlab.obs.cn-east-3.myhuaweicloud.com/20230502-YOLO/videos/bridge-short.mp4 -P videos\n",
    "\n",
    "# 车流量视频-桥下-长\n",
    "!wget https://zihao-openmmlab.obs.cn-east-3.myhuaweicloud.com/20230502-YOLO/videos/bridge-long.mp4 -P videos"
   ]
  },
  {
   "cell_type": "code",
   "execution_count": null,
   "id": "bba71f3e-9503-4070-b54c-e53c78bb3552",
   "metadata": {},
   "outputs": [],
   "source": []
  }
 ],
 "metadata": {
  "kernelspec": {
   "display_name": "Python 3 (ipykernel)",
   "language": "python",
   "name": "python3"
  },
  "language_info": {
   "codemirror_mode": {
    "name": "ipython",
    "version": 3
   },
   "file_extension": ".py",
   "mimetype": "text/x-python",
   "name": "python",
   "nbconvert_exporter": "python",
   "pygments_lexer": "ipython3",
   "version": "3.8.10"
  }
 },
 "nbformat": 4,
 "nbformat_minor": 5
}

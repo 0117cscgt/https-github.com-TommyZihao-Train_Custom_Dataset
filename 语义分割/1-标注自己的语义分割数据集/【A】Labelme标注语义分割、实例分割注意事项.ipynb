{
 "cells": [
  {
   "cell_type": "markdown",
   "id": "d435b13a-c122-4164-9983-51a1ad207f5e",
   "metadata": {},
   "source": [
    "# Labelme标注语义分割、实例分割注意事项\n",
    "\n",
    "同济子豪兄 2023-6-8\n",
    "\n",
    "## 标注前\n",
    "\n",
    "1. 标注前，需左上角`File`开启`Save Automatically`自动保存\n",
    "\n",
    "2. 标注前，需左上角`File`关闭`Save With Image Data`将图像本身保存至标签文件中\n",
    "\n",
    "3. 应提前把所有图像放到同一个文件夹中，再用labelme打开这个文件夹标注\n",
    "\n",
    "## 标注中\n",
    "\n",
    "4. 应使标注文件保存至图像相同目录下，标注过程中，不要切换图像和标注文件的目录\n",
    "\n",
    "5. 多段线（polygon）轮廓应尽可能精细\n",
    "\n",
    "6. 如果是实例分割标注：标目标检测框时，画物体的外接矩形框。框的两个点，必须分别是左上角和右下角，顺序不能错。\n",
    "\n",
    "7. 如果是目标检测+关键点检测标注：多段线（polygon）的第一个点`必须且只能落入一个框中`。（见视频教程：https://www.bilibili.com/video/BV19g4y1777q）\n",
    "\n",
    "## 标注后确认\n",
    "\n",
    "8. Labelme标注的json文件最后`imagePath`图像路径，**只能**是图像名字本身，**不能**有其它的路径和符号（例如`../`、`\\\\`之类的）"
   ]
  },
  {
   "cell_type": "markdown",
   "id": "04c54f12-8868-49b3-96c6-d3250a997aae",
   "metadata": {},
   "source": [
    "## 安装第三方工具包"
   ]
  },
  {
   "cell_type": "code",
   "execution_count": 3,
   "id": "10e98636-0d12-45bf-b1cb-95e1f9507fdc",
   "metadata": {},
   "outputs": [],
   "source": [
    "!pip install seedir emoji -i https://pypi.tuna.tsinghua.edu.cn/simple"
   ]
  },
  {
   "cell_type": "code",
   "execution_count": null,
   "id": "94814b0c-d0a1-4b62-992d-3b68fc8f3914",
   "metadata": {},
   "outputs": [],
   "source": []
  }
 ],
 "metadata": {
  "kernelspec": {
   "display_name": "Python 3 (ipykernel)",
   "language": "python",
   "name": "python3"
  },
  "language_info": {
   "codemirror_mode": {
    "name": "ipython",
    "version": 3
   },
   "file_extension": ".py",
   "mimetype": "text/x-python",
   "name": "python",
   "nbconvert_exporter": "python",
   "pygments_lexer": "ipython3",
   "version": "3.7.10"
  }
 },
 "nbformat": 4,
 "nbformat_minor": 5
}

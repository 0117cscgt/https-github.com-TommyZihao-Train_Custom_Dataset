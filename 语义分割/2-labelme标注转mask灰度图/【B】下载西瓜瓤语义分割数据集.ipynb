{
 "cells": [
  {
   "cell_type": "markdown",
   "id": "f7edaf26-b073-4794-9dd3-74bb130a7e94",
   "metadata": {},
   "source": [
    "# 下载西瓜瓤语义分割数据集\n",
    "\n",
    "同济子豪兄 2023-6-11"
   ]
  },
  {
   "cell_type": "markdown",
   "id": "6cae36da-9559-4a1e-b4a1-ece1b6916b07",
   "metadata": {},
   "source": [
    "## 下载数据集压缩包"
   ]
  },
  {
   "cell_type": "code",
   "execution_count": 1,
   "id": "b4f10c74-1b93-4cd2-8e7f-22b4daa7c3d2",
   "metadata": {},
   "outputs": [
    {
     "name": "stdout",
     "output_type": "stream",
     "text": [
      "--2023-06-11 16:44:29--  https://zihao-openmmlab.obs.cn-east-3.myhuaweicloud.com/20230130-mmseg/dataset/watermelon/Watermelon87_Semantic_Seg_Mask.zip\n",
      "正在连接 172.16.0.13:5848... 已连接。\n",
      "已发出 Proxy 请求，正在等待回应... 200 OK\n",
      "长度： 13230222 (13M) [application/zip]\n",
      "正在保存至: “Watermelon87_Semantic_Seg_Mask.zip”\n",
      "\n",
      "Watermelon87_Semant 100%[===================>]  12.62M  26.2MB/s    用时 0.5s    \n",
      "\n",
      "2023-06-11 16:44:29 (26.2 MB/s) - 已保存 “Watermelon87_Semantic_Seg_Mask.zip” [13230222/13230222])\n",
      "\n"
     ]
    }
   ],
   "source": [
    "!wget https://zihao-openmmlab.obs.cn-east-3.myhuaweicloud.com/20230130-mmseg/dataset/watermelon/Watermelon87_Semantic_Seg_Mask.zip"
   ]
  },
  {
   "cell_type": "code",
   "execution_count": 2,
   "id": "352aaad4-9de3-421f-8ea7-5ad23e7a7e45",
   "metadata": {},
   "outputs": [],
   "source": [
    "!unzip Watermelon87_Semantic_Seg_Mask.zip >> /dev/null # 解压压缩包\n",
    "!rm -rf Watermelon87_Semantic_Seg_Mask.zip # 删除压缩包"
   ]
  },
  {
   "cell_type": "markdown",
   "id": "7c480ae4-47b5-4f88-a824-85bd0a43fadb",
   "metadata": {},
   "source": [
    "## 删除系统自动生成的多余文件"
   ]
  },
  {
   "cell_type": "markdown",
   "id": "abc907c0-c853-4de4-8b00-e1aadb5ae07d",
   "metadata": {},
   "source": [
    "### 查看待删除的多余文件"
   ]
  },
  {
   "cell_type": "code",
   "execution_count": 3,
   "id": "23c17bcc-bcbc-4ed1-a829-1b63e99d2b80",
   "metadata": {},
   "outputs": [],
   "source": [
    "!find . -iname '__MACOSX'"
   ]
  },
  {
   "cell_type": "code",
   "execution_count": 4,
   "id": "69da9d50-11d1-4071-b818-dbb065a6474e",
   "metadata": {},
   "outputs": [],
   "source": [
    "!find . -iname '.DS_Store'"
   ]
  },
  {
   "cell_type": "code",
   "execution_count": 5,
   "id": "d4d6ca60-2948-4105-b635-e0d390814067",
   "metadata": {},
   "outputs": [
    {
     "name": "stdout",
     "output_type": "stream",
     "text": [
      "./.ipynb_checkpoints\n"
     ]
    }
   ],
   "source": [
    "!find . -iname '.ipynb_checkpoints'"
   ]
  },
  {
   "cell_type": "markdown",
   "id": "c0a45903-8386-4a9a-9899-73da22791b22",
   "metadata": {},
   "source": [
    "### 删除多余文件"
   ]
  },
  {
   "cell_type": "code",
   "execution_count": 6,
   "id": "8d959813-5703-4e01-ba3e-f27b207d59f2",
   "metadata": {},
   "outputs": [],
   "source": [
    "!for i in `find . -iname '__MACOSX'`; do rm -rf $i;done"
   ]
  },
  {
   "cell_type": "code",
   "execution_count": 7,
   "id": "d2ea0bef-6954-44d5-8478-680c8d7eded1",
   "metadata": {},
   "outputs": [],
   "source": [
    "!for i in `find . -iname '.DS_Store'`; do rm -rf $i;done"
   ]
  },
  {
   "cell_type": "code",
   "execution_count": 8,
   "id": "7a2b568c-2685-4a13-90f6-185f60066360",
   "metadata": {},
   "outputs": [],
   "source": [
    "!for i in `find . -iname '.ipynb_checkpoints'`; do rm -rf $i;done"
   ]
  },
  {
   "cell_type": "markdown",
   "id": "18ae7178-4c5d-411c-b78f-169cc57bce4b",
   "metadata": {},
   "source": [
    "### 验证多余文件已删除"
   ]
  },
  {
   "cell_type": "code",
   "execution_count": 9,
   "id": "2dea6d10-e56f-4775-a055-933d09a9adde",
   "metadata": {},
   "outputs": [],
   "source": [
    "!find . -iname '__MACOSX'"
   ]
  },
  {
   "cell_type": "code",
   "execution_count": 10,
   "id": "23d47236-e846-42bd-9856-a0dd07a23621",
   "metadata": {},
   "outputs": [],
   "source": [
    "!find . -iname '.DS_Store'"
   ]
  },
  {
   "cell_type": "code",
   "execution_count": 11,
   "id": "a85571be-399b-4e6e-b00e-f3fea415a17e",
   "metadata": {},
   "outputs": [],
   "source": [
    "!find . -iname '.ipynb_checkpoints'"
   ]
  },
  {
   "cell_type": "code",
   "execution_count": null,
   "id": "9fa47a60-336e-4fee-bc89-f07f50e271f1",
   "metadata": {},
   "outputs": [],
   "source": []
  }
 ],
 "metadata": {
  "kernelspec": {
   "display_name": "Python 3 (ipykernel)",
   "language": "python",
   "name": "python3"
  },
  "language_info": {
   "codemirror_mode": {
    "name": "ipython",
    "version": 3
   },
   "file_extension": ".py",
   "mimetype": "text/x-python",
   "name": "python",
   "nbconvert_exporter": "python",
   "pygments_lexer": "ipython3",
   "version": "3.7.10"
  }
 },
 "nbformat": 4,
 "nbformat_minor": 5
}

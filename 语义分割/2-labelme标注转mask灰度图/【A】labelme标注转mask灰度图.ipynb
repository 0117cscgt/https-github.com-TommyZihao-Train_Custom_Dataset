{
 "cells": [
  {
   "cell_type": "markdown",
   "id": "9802d7b1-136d-498f-b60e-0b79330ae278",
   "metadata": {},
   "source": [
    "## 视频教程\n",
    "\n",
    "## Labelme标注转mask灰度图\n",
    "\n",
    "代码教程：https://github.com/TommyZihao/Label2Everything/tree/main/labelme2mask"
   ]
  },
  {
   "cell_type": "code",
   "execution_count": null,
   "id": "0b4a159e-e762-4bb9-8463-2914e6d0dd27",
   "metadata": {},
   "outputs": [],
   "source": []
  }
 ],
 "metadata": {
  "kernelspec": {
   "display_name": "Python 3 (ipykernel)",
   "language": "python",
   "name": "python3"
  },
  "language_info": {
   "codemirror_mode": {
    "name": "ipython",
    "version": 3
   },
   "file_extension": ".py",
   "mimetype": "text/x-python",
   "name": "python",
   "nbconvert_exporter": "python",
   "pygments_lexer": "ipython3",
   "version": "3.7.10"
  }
 },
 "nbformat": 4,
 "nbformat_minor": 5
}

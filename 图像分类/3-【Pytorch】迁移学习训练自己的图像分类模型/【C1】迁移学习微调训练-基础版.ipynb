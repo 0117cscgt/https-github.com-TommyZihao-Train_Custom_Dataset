{
 "cells": [
  {
   "cell_type": "markdown",
   "id": "4a36abc9-47b6-4e9a-8d2c-330e64012db2",
   "metadata": {},
   "source": [
    "# 迁移学习微调训练图像分类模型\n",
    "\n",
    "在自己的图像分类数据集上，使用ImageNet预训练图像分类模型初始化，改动分类层，迁移学习微调训练\n",
    "\n",
    "同济子豪兄：https://space.bilibili.com/1900783\n",
    "\n",
    "[代码运行云GPU环境](https://featurize.cn/?s=d7ce99f842414bfcaea5662a97581bd1)：GPU RTX 3060、CUDA v11.2"
   ]
  },
  {
   "cell_type": "markdown",
   "id": "36d59cc6-c7c9-46d6-a5d2-d5da1d7ed4bc",
   "metadata": {},
   "source": [
    "## 设置matplotlib中文字体"
   ]
  },
  {
   "cell_type": "code",
   "execution_count": 16,
   "id": "981d43b0-08f2-4c00-973c-071a7c7205e4",
   "metadata": {},
   "outputs": [],
   "source": [
    "# # windows操作系统\n",
    "# plt.rcParams['font.sans-serif']=['SimHei']  # 用来正常显示中文标签 \n",
    "# plt.rcParams['axes.unicode_minus']=False  # 用来正常显示负号"
   ]
  },
  {
   "cell_type": "code",
   "execution_count": 17,
   "id": "9065b0da-f63f-4915-bae1-7fd9c729af4c",
   "metadata": {},
   "outputs": [],
   "source": [
    "# Mac操作系统，参考 https://www.ngui.cc/51cto/show-727683.html\n",
    "# 下载 simhei.ttf 字体文件\n",
    "# !wget https://zihao-openmmlab.obs.cn-east-3.myhuaweicloud.com/20220716-mmclassification/dataset/SimHei.ttf"
   ]
  },
  {
   "cell_type": "code",
   "execution_count": 1,
   "id": "c680af5c-d54b-45d2-90f8-04554da4d7d3",
   "metadata": {},
   "outputs": [
    {
     "name": "stdout",
     "output_type": "stream",
     "text": [
      "--2022-08-14 20:24:47--  https://zihao-openmmlab.obs.cn-east-3.myhuaweicloud.com/20220716-mmclassification/dataset/SimHei.ttf\n",
      "Connecting to 172.16.0.13:5848... connected.\n",
      "Proxy request sent, awaiting response... 200 OK\n",
      "Length: 10050868 (9.6M) [application/x-font-ttf]\n",
      "Saving to: ‘/environment/miniconda3/lib/python3.7/site-packages/matplotlib/mpl-data/fonts/ttf/SimHei.ttf’\n",
      "\n",
      "/environment/minico 100%[===================>]   9.58M  19.8MB/s    in 0.5s    \n",
      "\n",
      "2022-08-14 20:24:49 (19.8 MB/s) - ‘/environment/miniconda3/lib/python3.7/site-packages/matplotlib/mpl-data/fonts/ttf/SimHei.ttf’ saved [10050868/10050868]\n",
      "\n"
     ]
    }
   ],
   "source": [
    "# Linux操作系统，例如 云GPU平台：https://featurize.cn/?s=d7ce99f842414bfcaea5662a97581bd1\n",
    "# 如果遇到 SSL 相关报错，重新运行本代码块即可\n",
    "!wget https://zihao-openmmlab.obs.cn-east-3.myhuaweicloud.com/20220716-mmclassification/dataset/SimHei.ttf -O /environment/miniconda3/lib/python3.7/site-packages/matplotlib/mpl-data/fonts/ttf/SimHei.ttf\n",
    "!rm -rf /home/featurize/.cache/matplotlib\n",
    "\n",
    "import matplotlib\n",
    "import matplotlib.pyplot as plt\n",
    "matplotlib.rc(\"font\",family='SimHei') # 中文字体\n",
    "plt.rcParams['axes.unicode_minus']=False  # 用来正常显示负号"
   ]
  },
  {
   "cell_type": "markdown",
   "id": "0d9c174f-33c0-44fa-af53-14237d35b37d",
   "metadata": {},
   "source": [
    "## 导入工具包"
   ]
  },
  {
   "cell_type": "code",
   "execution_count": 2,
   "id": "6b35d923-b9e9-4ea4-914a-5bf05b93a2b5",
   "metadata": {},
   "outputs": [],
   "source": [
    "import time\n",
    "import os\n",
    "\n",
    "import numpy as np\n",
    "from tqdm import tqdm\n",
    "\n",
    "import torch\n",
    "import torchvision\n",
    "import torch.nn as nn\n",
    "import torch.nn.functional as F\n",
    "\n",
    "import matplotlib.pyplot as plt\n",
    "%matplotlib inline\n",
    "\n",
    "# 忽略烦人的红色提示\n",
    "import warnings\n",
    "warnings.filterwarnings(\"ignore\")"
   ]
  },
  {
   "cell_type": "markdown",
   "id": "dd7d48dc-580c-4c07-8d4e-02f99634c952",
   "metadata": {},
   "source": [
    "## 获取计算硬件"
   ]
  },
  {
   "cell_type": "code",
   "execution_count": 3,
   "id": "e14f47aa-9ccb-4d56-a100-a5a82a97a43a",
   "metadata": {},
   "outputs": [
    {
     "name": "stdout",
     "output_type": "stream",
     "text": [
      "device cuda:0\n"
     ]
    }
   ],
   "source": [
    "# 有 GPU 就用 GPU，没有就用 CPU\n",
    "device = torch.device('cuda:0' if torch.cuda.is_available() else 'cpu')\n",
    "print('device', device)"
   ]
  },
  {
   "cell_type": "markdown",
   "id": "4e9499c1-0594-48b8-80f0-e7fdbc30dbe3",
   "metadata": {},
   "source": [
    "## 图像预处理"
   ]
  },
  {
   "cell_type": "code",
   "execution_count": 4,
   "id": "81f0ca03-de86-450d-a47e-6f0e7c19d97a",
   "metadata": {},
   "outputs": [],
   "source": [
    "from torchvision import transforms\n",
    "\n",
    "# 训练集图像预处理：缩放裁剪、图像增强、转 Tensor、归一化\n",
    "train_transform = transforms.Compose([transforms.RandomResizedCrop(224),\n",
    "                                      transforms.RandomHorizontalFlip(),\n",
    "                                      transforms.ToTensor(),\n",
    "                                      transforms.Normalize([0.485, 0.456, 0.406], [0.229, 0.224, 0.225])\n",
    "                                     ])\n",
    "\n",
    "# 测试集图像预处理-RCTN：缩放、裁剪、转 Tensor、归一化\n",
    "test_transform = transforms.Compose([transforms.Resize(256),\n",
    "                                     transforms.CenterCrop(224),\n",
    "                                     transforms.ToTensor(),\n",
    "                                     transforms.Normalize(\n",
    "                                         mean=[0.485, 0.456, 0.406], \n",
    "                                         std=[0.229, 0.224, 0.225])\n",
    "                                    ])"
   ]
  },
  {
   "cell_type": "markdown",
   "id": "1d059c79-5b67-49fe-9baa-1bcd363208dc",
   "metadata": {},
   "source": [
    "## 载入图像分类数据集"
   ]
  },
  {
   "cell_type": "code",
   "execution_count": 5,
   "id": "dcf6544a-6af5-4b07-93df-d863157b9290",
   "metadata": {},
   "outputs": [],
   "source": [
    "# 数据集文件夹路径\n",
    "dataset_dir = 'fruit30_split'"
   ]
  },
  {
   "cell_type": "code",
   "execution_count": 6,
   "id": "ccb23900-b48f-4839-9cf5-82c9d07b42a6",
   "metadata": {},
   "outputs": [
    {
     "name": "stdout",
     "output_type": "stream",
     "text": [
      "训练集路径 fruit30_split/train\n",
      "测试集路径 fruit30_split/val\n"
     ]
    }
   ],
   "source": [
    "train_path = os.path.join(dataset_dir, 'train')\n",
    "test_path = os.path.join(dataset_dir, 'val')\n",
    "print('训练集路径', train_path)\n",
    "print('测试集路径', test_path)"
   ]
  },
  {
   "cell_type": "code",
   "execution_count": 7,
   "id": "6eb2572f-3823-430e-81d5-ef202fa52244",
   "metadata": {},
   "outputs": [],
   "source": [
    "from torchvision import datasets\n",
    "\n",
    "# 载入训练集\n",
    "train_dataset = datasets.ImageFolder(train_path, train_transform)\n",
    "\n",
    "# 载入测试集\n",
    "test_dataset = datasets.ImageFolder(test_path, test_transform)"
   ]
  },
  {
   "cell_type": "code",
   "execution_count": 8,
   "id": "df766b1f-a51f-4c3f-a916-08fc633713a5",
   "metadata": {},
   "outputs": [
    {
     "name": "stdout",
     "output_type": "stream",
     "text": [
      "训练集图像数量 4375\n",
      "类别个数 30\n",
      "各类别名称 ['哈密瓜', '圣女果', '山竹', '杨梅', '柚子', '柠檬', '桂圆', '梨', '椰子', '榴莲', '火龙果', '猕猴桃', '石榴', '砂糖橘', '胡萝卜', '脐橙', '芒果', '苦瓜', '苹果-红', '苹果-青', '草莓', '荔枝', '菠萝', '葡萄-白', '葡萄-红', '西瓜', '西红柿', '车厘子', '香蕉', '黄瓜']\n"
     ]
    }
   ],
   "source": [
    "print('训练集图像数量', len(train_dataset))\n",
    "print('类别个数', len(train_dataset.classes))\n",
    "print('各类别名称', train_dataset.classes)"
   ]
  },
  {
   "cell_type": "code",
   "execution_count": 9,
   "id": "fa33a8d8-2e9e-43d9-bcfd-09f0c9d6619a",
   "metadata": {},
   "outputs": [
    {
     "name": "stdout",
     "output_type": "stream",
     "text": [
      "训练集图像数量 1078\n",
      "类别个数 30\n",
      "各类别名称 ['哈密瓜', '圣女果', '山竹', '杨梅', '柚子', '柠檬', '桂圆', '梨', '椰子', '榴莲', '火龙果', '猕猴桃', '石榴', '砂糖橘', '胡萝卜', '脐橙', '芒果', '苦瓜', '苹果-红', '苹果-青', '草莓', '荔枝', '菠萝', '葡萄-白', '葡萄-红', '西瓜', '西红柿', '车厘子', '香蕉', '黄瓜']\n"
     ]
    }
   ],
   "source": [
    "print('训练集图像数量', len(test_dataset))\n",
    "print('类别个数', len(test_dataset.classes))\n",
    "print('各类别名称', test_dataset.classes)"
   ]
  },
  {
   "cell_type": "markdown",
   "id": "f74e98be-4648-4d34-9e6c-273a55127b4d",
   "metadata": {},
   "source": [
    "## 类别和索引号 一一对应"
   ]
  },
  {
   "cell_type": "code",
   "execution_count": 10,
   "id": "0f737200-3afd-46f7-9c42-52c66829572e",
   "metadata": {},
   "outputs": [],
   "source": [
    "# 各类别名称\n",
    "class_names = train_dataset.classes\n",
    "n_class = len(class_names)"
   ]
  },
  {
   "cell_type": "code",
   "execution_count": 11,
   "id": "75f0a680-7511-46a9-b3a3-2c8fc20d9a37",
   "metadata": {},
   "outputs": [
    {
     "data": {
      "text/plain": [
       "['哈密瓜',\n",
       " '圣女果',\n",
       " '山竹',\n",
       " '杨梅',\n",
       " '柚子',\n",
       " '柠檬',\n",
       " '桂圆',\n",
       " '梨',\n",
       " '椰子',\n",
       " '榴莲',\n",
       " '火龙果',\n",
       " '猕猴桃',\n",
       " '石榴',\n",
       " '砂糖橘',\n",
       " '胡萝卜',\n",
       " '脐橙',\n",
       " '芒果',\n",
       " '苦瓜',\n",
       " '苹果-红',\n",
       " '苹果-青',\n",
       " '草莓',\n",
       " '荔枝',\n",
       " '菠萝',\n",
       " '葡萄-白',\n",
       " '葡萄-红',\n",
       " '西瓜',\n",
       " '西红柿',\n",
       " '车厘子',\n",
       " '香蕉',\n",
       " '黄瓜']"
      ]
     },
     "execution_count": 11,
     "metadata": {},
     "output_type": "execute_result"
    }
   ],
   "source": [
    "class_names"
   ]
  },
  {
   "cell_type": "code",
   "execution_count": 12,
   "id": "c671913e-b8f5-4410-bf12-2e942d9d4e7a",
   "metadata": {},
   "outputs": [
    {
     "data": {
      "text/plain": [
       "{'哈密瓜': 0,\n",
       " '圣女果': 1,\n",
       " '山竹': 2,\n",
       " '杨梅': 3,\n",
       " '柚子': 4,\n",
       " '柠檬': 5,\n",
       " '桂圆': 6,\n",
       " '梨': 7,\n",
       " '椰子': 8,\n",
       " '榴莲': 9,\n",
       " '火龙果': 10,\n",
       " '猕猴桃': 11,\n",
       " '石榴': 12,\n",
       " '砂糖橘': 13,\n",
       " '胡萝卜': 14,\n",
       " '脐橙': 15,\n",
       " '芒果': 16,\n",
       " '苦瓜': 17,\n",
       " '苹果-红': 18,\n",
       " '苹果-青': 19,\n",
       " '草莓': 20,\n",
       " '荔枝': 21,\n",
       " '菠萝': 22,\n",
       " '葡萄-白': 23,\n",
       " '葡萄-红': 24,\n",
       " '西瓜': 25,\n",
       " '西红柿': 26,\n",
       " '车厘子': 27,\n",
       " '香蕉': 28,\n",
       " '黄瓜': 29}"
      ]
     },
     "execution_count": 12,
     "metadata": {},
     "output_type": "execute_result"
    }
   ],
   "source": [
    "# 映射关系：类别 到 索引号\n",
    "train_dataset.class_to_idx"
   ]
  },
  {
   "cell_type": "code",
   "execution_count": 13,
   "id": "d07ab397-19fa-404e-aaa0-20dfadc02bdf",
   "metadata": {},
   "outputs": [],
   "source": [
    "# 映射关系：索引号 到 类别\n",
    "idx_to_labels = {y:x for x,y in train_dataset.class_to_idx.items()}"
   ]
  },
  {
   "cell_type": "code",
   "execution_count": 14,
   "id": "c0ce6c26-65a2-4f49-b877-064479365487",
   "metadata": {},
   "outputs": [
    {
     "data": {
      "text/plain": [
       "{0: '哈密瓜',\n",
       " 1: '圣女果',\n",
       " 2: '山竹',\n",
       " 3: '杨梅',\n",
       " 4: '柚子',\n",
       " 5: '柠檬',\n",
       " 6: '桂圆',\n",
       " 7: '梨',\n",
       " 8: '椰子',\n",
       " 9: '榴莲',\n",
       " 10: '火龙果',\n",
       " 11: '猕猴桃',\n",
       " 12: '石榴',\n",
       " 13: '砂糖橘',\n",
       " 14: '胡萝卜',\n",
       " 15: '脐橙',\n",
       " 16: '芒果',\n",
       " 17: '苦瓜',\n",
       " 18: '苹果-红',\n",
       " 19: '苹果-青',\n",
       " 20: '草莓',\n",
       " 21: '荔枝',\n",
       " 22: '菠萝',\n",
       " 23: '葡萄-白',\n",
       " 24: '葡萄-红',\n",
       " 25: '西瓜',\n",
       " 26: '西红柿',\n",
       " 27: '车厘子',\n",
       " 28: '香蕉',\n",
       " 29: '黄瓜'}"
      ]
     },
     "execution_count": 14,
     "metadata": {},
     "output_type": "execute_result"
    }
   ],
   "source": [
    "idx_to_labels"
   ]
  },
  {
   "cell_type": "code",
   "execution_count": 15,
   "id": "9e74e138-c9bb-48f4-aed6-c5e4b4ce2b17",
   "metadata": {},
   "outputs": [],
   "source": [
    "# 保存为本地的 npy 文件\n",
    "np.save('idx_to_labels.npy', idx_to_labels)\n",
    "np.save('labels_to_idx.npy', train_dataset.class_to_idx)"
   ]
  },
  {
   "cell_type": "markdown",
   "id": "329d3824-e6bb-4f50-9802-f073d9151311",
   "metadata": {},
   "source": [
    "## 定义数据加载器DataLoader"
   ]
  },
  {
   "cell_type": "code",
   "execution_count": 16,
   "id": "300daf13-807a-4f80-a2cc-ee3675a64c90",
   "metadata": {},
   "outputs": [],
   "source": [
    "from torch.utils.data import DataLoader"
   ]
  },
  {
   "cell_type": "code",
   "execution_count": 17,
   "id": "a787702d-61c6-41af-9cbd-19bc5d3baae7",
   "metadata": {},
   "outputs": [],
   "source": [
    "BATCH_SIZE = 32\n",
    "\n",
    "# 训练集的数据加载器\n",
    "train_loader = DataLoader(train_dataset,\n",
    "                          batch_size=BATCH_SIZE,\n",
    "                          shuffle=True,\n",
    "                          num_workers=4\n",
    "                         )\n",
    "\n",
    "# 测试集的数据加载器\n",
    "test_loader = DataLoader(test_dataset,\n",
    "                         batch_size=BATCH_SIZE,\n",
    "                         shuffle=False,\n",
    "                         num_workers=4\n",
    "                        )"
   ]
  },
  {
   "cell_type": "markdown",
   "id": "8d1e837d-df50-4af8-a395-22e550b3d1f2",
   "metadata": {},
   "source": [
    "## 查看一个batch的图像和标注"
   ]
  },
  {
   "cell_type": "code",
   "execution_count": 18,
   "id": "28879d37-687b-45a8-b980-731df68dab02",
   "metadata": {},
   "outputs": [],
   "source": [
    "# DataLoader 是 python生成器，每次调用返回一个 batch 的数据\n",
    "images, labels = next(iter(train_loader))"
   ]
  },
  {
   "cell_type": "code",
   "execution_count": 19,
   "id": "8711c143-d26b-4c70-9da9-f1a78a89c65a",
   "metadata": {},
   "outputs": [
    {
     "data": {
      "text/plain": [
       "torch.Size([32, 3, 224, 224])"
      ]
     },
     "execution_count": 19,
     "metadata": {},
     "output_type": "execute_result"
    }
   ],
   "source": [
    "images.shape"
   ]
  },
  {
   "cell_type": "code",
   "execution_count": 20,
   "id": "be7305eb-e333-4325-9aa3-cc58c59a175b",
   "metadata": {},
   "outputs": [
    {
     "data": {
      "text/plain": [
       "tensor([17,  2,  3, 25,  9,  0, 17, 11,  3, 18, 20,  9, 25,  9, 15,  8, 12, 22,\n",
       "        22, 27,  6,  0, 20, 22,  7, 22, 25, 21,  3, 28, 10,  3])"
      ]
     },
     "execution_count": 20,
     "metadata": {},
     "output_type": "execute_result"
    }
   ],
   "source": [
    "labels"
   ]
  },
  {
   "cell_type": "markdown",
   "id": "147df415-b72d-4556-a75f-adb57ddbff6a",
   "metadata": {},
   "source": [
    "## 可视化一个batch的图像和标注"
   ]
  },
  {
   "cell_type": "code",
   "execution_count": 21,
   "id": "11cee8f7-9f9a-441b-9e7f-cc3ebf2b534c",
   "metadata": {},
   "outputs": [],
   "source": [
    "# 将数据集中的Tensor张量转为numpy的array数据类型\n",
    "images = images.numpy()"
   ]
  },
  {
   "cell_type": "code",
   "execution_count": 22,
   "id": "f4013567-7a8e-40fc-9ce5-435a283cacd2",
   "metadata": {},
   "outputs": [
    {
     "data": {
      "text/plain": [
       "(3, 224, 224)"
      ]
     },
     "execution_count": 22,
     "metadata": {},
     "output_type": "execute_result"
    }
   ],
   "source": [
    "images[5].shape"
   ]
  },
  {
   "cell_type": "code",
   "execution_count": 23,
   "id": "502d7d5d-3028-4d60-b2ec-172762c36688",
   "metadata": {},
   "outputs": [
    {
     "data": {
      "image/png": "[encoded data removed]",
      "text/plain": [
       "<Figure size 432x288 with 1 Axes>"
      ]
     },
     "metadata": {
      "needs_background": "light"
     },
     "output_type": "display_data"
    }
   ],
   "source": [
    "plt.hist(images[5].flatten(), bins=50)\n",
    "plt.show()"
   ]
  },
  {
   "cell_type": "code",
   "execution_count": 24,
   "id": "713484b7-cc92-4fbe-9891-6a635fca54a4",
   "metadata": {},
   "outputs": [
    {
     "name": "stderr",
     "output_type": "stream",
     "text": [
      "Clipping input data to the valid range for imshow with RGB data ([0..1] for floats or [0..255] for integers).\n"
     ]
    },
    {
     "data": {
      "text/plain": [
       "Text(0.5, 1.0, 'label:3')"
      ]
     },
     "execution_count": 24,
     "metadata": {},
     "output_type": "execute_result"
    },
    {
     "data": {
      "image/png": "[encoded data removed]",
      "text/plain": [
       "<Figure size 432x288 with 1 Axes>"
      ]
     },
     "metadata": {
      "needs_background": "light"
     },
     "output_type": "display_data"
    }
   ],
   "source": [
    "# batch 中经过预处理的图像\n",
    "idx = 2\n",
    "plt.imshow(images[idx].transpose((1,2,0))) # 转为(224, 224, 3)\n",
    "plt.title('label:'+str(labels[idx].item()))"
   ]
  },
  {
   "cell_type": "code",
   "execution_count": 25,
   "id": "488f9f7c-aba0-42a0-9520-3ba2533f9747",
   "metadata": {},
   "outputs": [],
   "source": [
    "pred_ID = labels[idx].item()"
   ]
  },
  {
   "cell_type": "code",
   "execution_count": 26,
   "id": "c6f1dd61-dd3a-4233-86ad-1d2f7cdd6f36",
   "metadata": {},
   "outputs": [
    {
     "data": {
      "text/plain": [
       "3"
      ]
     },
     "execution_count": 26,
     "metadata": {},
     "output_type": "execute_result"
    }
   ],
   "source": [
    "pred_ID"
   ]
  },
  {
   "cell_type": "code",
   "execution_count": 27,
   "id": "42fe5e73-cc5c-4ebb-b24e-0a2c785d2e65",
   "metadata": {},
   "outputs": [],
   "source": [
    "pred_classname = idx_to_labels[pred_ID]"
   ]
  },
  {
   "cell_type": "code",
   "execution_count": 28,
   "id": "fb1c0a93-c625-4f74-a8da-8b675e3d3f73",
   "metadata": {},
   "outputs": [
    {
     "data": {
      "text/plain": [
       "'杨梅'"
      ]
     },
     "execution_count": 28,
     "metadata": {},
     "output_type": "execute_result"
    }
   ],
   "source": [
    "pred_classname"
   ]
  },
  {
   "cell_type": "code",
   "execution_count": 29,
   "id": "8ccc3188-33a6-476f-928e-7abcf8f8db96",
   "metadata": {},
   "outputs": [
    {
     "data": {
      "image/png": "[encoded data removed]",
      "text/plain": [
       "<Figure size 432x288 with 1 Axes>"
      ]
     },
     "metadata": {
      "needs_background": "light"
     },
     "output_type": "display_data"
    }
   ],
   "source": [
    "# 原始图像\n",
    "idx = 2\n",
    "mean = np.array([0.485, 0.456, 0.406])\n",
    "std = np.array([0.229, 0.224, 0.225])\n",
    "plt.imshow(np.clip(images[idx].transpose((1,2,0)) * std + mean, 0, 1))\n",
    "plt.title('pred_label:'+ pred_classname)\n",
    "plt.show()"
   ]
  },
  {
   "cell_type": "markdown",
   "id": "80b52d04-a791-4feb-8b57-af98b253ebba",
   "metadata": {},
   "source": [
    "## 导入训练需使用的工具包"
   ]
  },
  {
   "cell_type": "code",
   "execution_count": 30,
   "id": "684da643-5a88-4ba2-b49c-5dc98b35100e",
   "metadata": {},
   "outputs": [],
   "source": [
    "from torchvision import models\n",
    "import torch.optim as optim"
   ]
  },
  {
   "cell_type": "markdown",
   "id": "375b9c90-160f-451f-a46b-6e846424cc0a",
   "metadata": {},
   "source": [
    "## 选择迁移学习训练方式\n",
    "\n",
    "斯坦福CS231N【迁移学习】中文精讲：https://www.bilibili.com/video/BV1K7411W7So\n",
    "\n",
    "斯坦福CS231N【迁移学习】官方笔记：https://cs231n.github.io/transfer-learning/"
   ]
  },
  {
   "cell_type": "markdown",
   "id": "c9f90378-350d-48c2-98f7-e4fb3151aeb6",
   "metadata": {},
   "source": [
    "### 选择一：只微调训练模型最后一层（全连接分类层）"
   ]
  },
  {
   "cell_type": "code",
   "execution_count": 31,
   "id": "23269f1a-ea51-4321-a1c3-20e572f4f671",
   "metadata": {},
   "outputs": [],
   "source": [
    "model = models.resnet18(pretrained=True) # 载入预训练模型\n",
    "\n",
    "# 修改全连接层，使得全连接层的输出与当前数据集类别数对应\n",
    "# 新建的层默认 requires_grad=True\n",
    "model.fc = nn.Linear(model.fc.in_features, n_class)"
   ]
  },
  {
   "cell_type": "code",
   "execution_count": 32,
   "id": "b6d39213-c7a0-456f-973d-b1fb070040d2",
   "metadata": {},
   "outputs": [
    {
     "data": {
      "text/plain": [
       "Linear(in_features=512, out_features=30, bias=True)"
      ]
     },
     "execution_count": 32,
     "metadata": {},
     "output_type": "execute_result"
    }
   ],
   "source": [
    "model.fc"
   ]
  },
  {
   "cell_type": "code",
   "execution_count": 33,
   "id": "c1c9ae51-045f-4c33-9c1e-0e5b263eb0f8",
   "metadata": {},
   "outputs": [],
   "source": [
    "# 只微调训练最后一层全连接层的参数，其它层冻结\n",
    "optimizer = optim.Adam(model.fc.parameters())"
   ]
  },
  {
   "cell_type": "markdown",
   "id": "cae51ee7-63fc-4895-ab0d-69815359032e",
   "metadata": {},
   "source": [
    "### 选择二：微调训练所有层"
   ]
  },
  {
   "cell_type": "code",
   "execution_count": 34,
   "id": "e20cdc2b-3cd2-472b-bf63-2e34a3d39a8f",
   "metadata": {},
   "outputs": [],
   "source": [
    "# model = models.resnet18(pretrained=True) # 载入预训练模型\n",
    "\n",
    "# model.fc = nn.Linear(model.fc.in_features, n_class)\n",
    "\n",
    "# optimizer = optim.Adam(model.parameters())"
   ]
  },
  {
   "cell_type": "markdown",
   "id": "99a6da8b-ab76-4568-bf3a-09c4ec3434b7",
   "metadata": {},
   "source": [
    "### 选择三：随机初始化模型全部权重，从头训练所有层"
   ]
  },
  {
   "cell_type": "code",
   "execution_count": 35,
   "id": "7c792cc4-ab64-403f-a7c9-80f3bee01c4a",
   "metadata": {},
   "outputs": [],
   "source": [
    "# model = models.resnet18(pretrained=False) # 只载入模型结构，不载入预训练权重参数\n",
    "\n",
    "# model.fc = nn.Linear(model.fc.in_features, n_class)\n",
    "\n",
    "# optimizer = optim.Adam(model.parameters())"
   ]
  },
  {
   "cell_type": "markdown",
   "id": "6e92213d-d6d9-435f-a4c0-4bcdbdf7c6b8",
   "metadata": {},
   "source": [
    "## 训练配置"
   ]
  },
  {
   "cell_type": "code",
   "execution_count": 36,
   "id": "a5146eb0-f25e-400c-bbd6-e567f8aab8c9",
   "metadata": {},
   "outputs": [],
   "source": [
    "model = model.to(device)\n",
    "\n",
    "# 交叉熵损失函数\n",
    "criterion = nn.CrossEntropyLoss() \n",
    "\n",
    "# 训练轮次 Epoch\n",
    "EPOCHS = 20"
   ]
  },
  {
   "cell_type": "markdown",
   "id": "1d188eff-603c-475f-938a-ca10aa9427cc",
   "metadata": {},
   "source": [
    "## 模拟一个batch的训练"
   ]
  },
  {
   "cell_type": "code",
   "execution_count": 37,
   "id": "c376d88f-127d-47a8-8367-2a3e4670fc40",
   "metadata": {},
   "outputs": [],
   "source": [
    "# 获得一个 batch 的数据和标注\n",
    "images, labels = next(iter(train_loader))\n",
    "images = images.to(device)\n",
    "labels = labels.to(device)"
   ]
  },
  {
   "cell_type": "code",
   "execution_count": 38,
   "id": "a4147f53-0de3-4757-b5d1-575f5ae3273d",
   "metadata": {},
   "outputs": [],
   "source": [
    "# 输入模型，执行前向预测\n",
    "outputs = model(images)"
   ]
  },
  {
   "cell_type": "code",
   "execution_count": 39,
   "id": "edc18cf4-bdf0-43ff-9d82-4de67fe4ba5f",
   "metadata": {},
   "outputs": [
    {
     "data": {
      "text/plain": [
       "torch.Size([32, 30])"
      ]
     },
     "execution_count": 39,
     "metadata": {},
     "output_type": "execute_result"
    }
   ],
   "source": [
    "# 获得当前 batch 所有图像的预测类别 logit 分数\n",
    "outputs.shape"
   ]
  },
  {
   "cell_type": "code",
   "execution_count": 40,
   "id": "1566da53-8fd3-4f70-b33c-edc40f8ea8df",
   "metadata": {},
   "outputs": [],
   "source": [
    "# 由 logit，计算当前 batch 中，每个样本的平均交叉熵损失函数值\n",
    "loss = criterion(outputs, labels)"
   ]
  },
  {
   "cell_type": "code",
   "execution_count": 41,
   "id": "98e28997-4544-4cae-8e65-92995dd9e6ce",
   "metadata": {},
   "outputs": [],
   "source": [
    "# 反向传播“三部曲”\n",
    "optimizer.zero_grad() # 清除梯度\n",
    "loss.backward() # 反向传播\n",
    "optimizer.step() # 优化更新"
   ]
  },
  {
   "cell_type": "code",
   "execution_count": 42,
   "id": "3fabd3ba-d950-4ffa-a1af-9e4cb0dc8b6e",
   "metadata": {},
   "outputs": [],
   "source": [
    "# 获得当前 batch 所有图像的预测类别\n",
    "_, preds = torch.max(outputs, 1)"
   ]
  },
  {
   "cell_type": "code",
   "execution_count": 43,
   "id": "51ac9a4f-a1be-447a-9429-17b5ef2c922a",
   "metadata": {},
   "outputs": [
    {
     "data": {
      "text/plain": [
       "tensor([22, 27, 13, 13, 23, 10, 22, 10,  3, 27, 23, 13, 27, 27, 27, 13, 13, 22,\n",
       "        27, 27,  0, 27, 27, 27, 16, 16, 27, 27, 16, 13, 16, 27],\n",
       "       device='cuda:0')"
      ]
     },
     "execution_count": 43,
     "metadata": {},
     "output_type": "execute_result"
    }
   ],
   "source": [
    "preds"
   ]
  },
  {
   "cell_type": "code",
   "execution_count": 44,
   "id": "bf11de94-c0f6-47fb-9785-0aedb0fc9134",
   "metadata": {},
   "outputs": [
    {
     "data": {
      "text/plain": [
       "tensor([28, 20,  3, 25, 26,  8, 10,  0,  5,  5,  2,  5,  6, 25,  1,  2, 22, 10,\n",
       "        26,  2, 29, 16, 25,  7, 19, 27,  8, 29, 29,  0, 26,  0],\n",
       "       device='cuda:0')"
      ]
     },
     "execution_count": 44,
     "metadata": {},
     "output_type": "execute_result"
    }
   ],
   "source": [
    "labels"
   ]
  },
  {
   "cell_type": "markdown",
   "id": "733fec36-70de-4a8a-a985-57148fd36815",
   "metadata": {},
   "source": [
    "## 运行完整训练"
   ]
  },
  {
   "cell_type": "code",
   "execution_count": 45,
   "id": "c630791f-3137-49cd-8e38-3a788f84ec54",
   "metadata": {},
   "outputs": [
    {
     "name": "stderr",
     "output_type": "stream",
     "text": [
      "100%|██████████| 20/20 [03:00<00:00,  9.01s/it]\n"
     ]
    }
   ],
   "source": [
    "# 遍历每个 EPOCH\n",
    "for epoch in tqdm(range(EPOCHS)):\n",
    "\n",
    "    model.train()\n",
    "\n",
    "    for images, labels in train_loader:  # 获得一个 batch 的数据和标注\n",
    "        images = images.to(device)\n",
    "        labels = labels.to(device)\n",
    "        \n",
    "        optimizer.zero_grad()\n",
    "\n",
    "        outputs = model(images)\n",
    "        loss = criterion(outputs, labels) # 计算当前 batch 中，每个样本的平均交叉熵损失函数值\n",
    "        \n",
    "        loss.backward()\n",
    "        optimizer.step()"
   ]
  },
  {
   "cell_type": "markdown",
   "id": "fbf71013-075b-4878-884a-c5c650772f82",
   "metadata": {},
   "source": [
    "## 在测试集上初步测试"
   ]
  },
  {
   "cell_type": "code",
   "execution_count": 46,
   "id": "c18416eb-ee78-420a-b48a-95727c992c9d",
   "metadata": {},
   "outputs": [
    {
     "name": "stderr",
     "output_type": "stream",
     "text": [
      "100%|██████████| 34/34 [00:02<00:00, 12.40it/s]"
     ]
    },
    {
     "name": "stdout",
     "output_type": "stream",
     "text": [
      "测试集上的准确率为 86.735 %\n"
     ]
    },
    {
     "name": "stderr",
     "output_type": "stream",
     "text": [
      "\n"
     ]
    }
   ],
   "source": [
    "model.eval()\n",
    "with torch.no_grad():\n",
    "    correct = 0\n",
    "    total = 0\n",
    "    for images, labels in tqdm(test_loader):\n",
    "        images = images.to(device)\n",
    "        labels = labels.to(device)\n",
    "        outputs = model(images)\n",
    "        _, preds = torch.max(outputs, 1)\n",
    "        total += labels.size(0)\n",
    "        correct += (preds == labels).sum()\n",
    "\n",
    "    print('测试集上的准确率为 {:.3f} %'.format(100 * correct / total))"
   ]
  },
  {
   "cell_type": "markdown",
   "id": "773da35f-3c61-4fbc-b00a-de7f612e3046",
   "metadata": {},
   "source": [
    "## 保存模型"
   ]
  },
  {
   "cell_type": "code",
   "execution_count": 104,
   "id": "9201086a-a2ba-48bd-839d-f044b5419a5d",
   "metadata": {},
   "outputs": [],
   "source": [
    "torch.save(model, 'checkpoints/fruit30_pytorch_20220814.pth')"
   ]
  },
  {
   "cell_type": "markdown",
   "id": "44e39fa3-29c0-489a-854e-b4df1c1bcf57",
   "metadata": {},
   "source": [
    "## 参考文档\n",
    "\n",
    "https://pytorch.org/tutorials/beginner/transfer_learning_tutorial.html\n",
    "\n",
    "https://www.bilibili.com/video/BV1qe4y1D7zD\n",
    "\n",
    "https://www.bilibili.com/video/BV14J411X7Bb\n",
    "\n",
    "https://www.bilibili.com/video/BV1w4411u7ay"
   ]
  },
  {
   "cell_type": "code",
   "execution_count": null,
   "id": "139d2504-a78a-4145-8520-5206fb51b829",
   "metadata": {},
   "outputs": [],
   "source": []
  }
 ],
 "metadata": {
  "kernelspec": {
   "display_name": "Python 3 (ipykernel)",
   "language": "python",
   "name": "python3"
  },
  "language_info": {
   "codemirror_mode": {
    "name": "ipython",
    "version": 3
   },
   "file_extension": ".py",
   "mimetype": "text/x-python",
   "name": "python",
   "nbconvert_exporter": "python",
   "pygments_lexer": "ipython3",
   "version": "3.7.10"
  }
 },
 "nbformat": 4,
 "nbformat_minor": 5
}

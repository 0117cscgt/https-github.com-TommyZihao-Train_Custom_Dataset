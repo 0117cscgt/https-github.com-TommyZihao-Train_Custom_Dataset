{
 "cells": [
  {
   "cell_type": "markdown",
   "id": "e42b288c-4a65-459c-8558-bd7bd2bfb772",
   "metadata": {},
   "source": [
    "# 总结与扩展\n",
    "\n",
    "同济子豪兄：https://space.bilibili.com/1900783"
   ]
  },
  {
   "cell_type": "markdown",
   "id": "a30202a0-ace5-4dd6-bef9-a754b4bac428",
   "metadata": {
    "jp-MarkdownHeadingCollapsed": true,
    "tags": []
   },
   "source": [
    "## 注意事项\n",
    "\n",
    "严禁把测试集图像用于训练（反向传播更新权重）\n",
    "\n",
    "抛开baseline基准模型谈性能（速度、精度），都是耍流氓\n",
    "\n",
    "测试集上的准确率越高，模型就一定越好吗？\n",
    "\n",
    "常用数据集中存在大量的错标、漏标：https://mp.weixin.qq.com/s/4NbIA4wsNdX-N2uMOUmPLA\n"
   ]
  },
  {
   "cell_type": "markdown",
   "id": "d2edcf5d-a139-40a4-8068-e43836e6676c",
   "metadata": {},
   "source": [
    "## 创新点展望\n",
    "\n",
    "更换不同预训练图像分类模型\n",
    "\n",
    "分别尝试三种不同的迁移学习训练配置：只微调训练模型最后一层（全连接分类层）、微调训练所有层、随机初始化模型全部权重，从头训练所有层\n",
    "\n",
    "更换不同的优化器、学习率"
   ]
  },
  {
   "cell_type": "markdown",
   "id": "408cd2a6-5e5a-4328-943e-7d75961d1ccb",
   "metadata": {},
   "source": [
    "## 扩展阅读\n",
    "\n",
    "同济子豪兄的论文精读视频：https://openmmlab.feishu.cn/docs/doccnWv17i1svV19T0QquS0gKFc\n",
    "\n",
    "开源图像分类算法库 MMClassificaiton：https://github.com/open-mmlab/mmclassification\n",
    "\n",
    "**机器学习分类评估指标**\n",
    "\n",
    "公众号 人工智能小技巧 回复 混淆矩阵\n",
    "\n",
    "手绘笔记讲解：https://www.bilibili.com/video/BV1iJ41127wr?p=3\n",
    "\n",
    "混淆矩阵：\n",
    "https://www.bilibili.com/video/BV1iJ41127wr?p=4\n",
    "\n",
    "https://www.bilibili.com/video/BV1iJ41127wr?p=5\n",
    "\n",
    "ROC曲线：\n",
    "https://www.bilibili.com/video/BV1iJ41127wr?p=6\n",
    "\n",
    "https://www.bilibili.com/video/BV1iJ41127wr?p=7\n",
    "\n",
    "https://www.bilibili.com/video/BV1iJ41127wr?p=8\n",
    "\n",
    "F1-score：https://www.bilibili.com/video/BV1iJ41127wr?p=9\n",
    "\n",
    "F-beta-score：https://www.bilibili.com/video/BV1iJ41127wr?p=10"
   ]
  },
  {
   "cell_type": "markdown",
   "id": "5a6c80f8-d820-458f-a7a2-2aff37e54251",
   "metadata": {},
   "source": [
    "## 训练好图像分类模型之后，做什么？\n",
    "\n",
    "在新图像、视频、摄像头实时画面预测\n",
    "\n",
    "在测试集上评估：混淆矩阵、ROC曲线、PR曲线、语义特征降维可视化\n",
    "\n",
    "可解释性分析：CAM热力图\n",
    "\n",
    "模型TensorRT部署：智能手机、开发板、浏览器、服务器\n",
    "\n",
    "转ONNX并可视化模型结构\n",
    "\n",
    "MMClassification图像分类、MMDeploy模型部署\n",
    "\n",
    "开发图像分类APP和微信小程序"
   ]
  },
  {
   "cell_type": "code",
   "execution_count": null,
   "id": "8dc26308-d867-4ca1-815c-7af76e6b83e6",
   "metadata": {},
   "outputs": [],
   "source": []
  }
 ],
 "metadata": {
  "kernelspec": {
   "display_name": "Python 3 (ipykernel)",
   "language": "python",
   "name": "python3"
  },
  "language_info": {
   "codemirror_mode": {
    "name": "ipython",
    "version": 3
   },
   "file_extension": ".py",
   "mimetype": "text/x-python",
   "name": "python",
   "nbconvert_exporter": "python",
   "pygments_lexer": "ipython3",
   "version": "3.7.10"
  }
 },
 "nbformat": 4,
 "nbformat_minor": 5
}

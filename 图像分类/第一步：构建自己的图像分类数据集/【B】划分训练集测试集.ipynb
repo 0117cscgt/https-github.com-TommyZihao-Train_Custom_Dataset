{
 "cells": [
  {
   "cell_type": "markdown",
   "id": "65f90911-c910-4cb9-ab55-ad41e3ffd568",
   "metadata": {},
   "source": [
    "# 划分训练集和测试集\n",
    "\n",
    "同济子豪兄 https://space.bilibili.com/1900783\n",
    "\n",
    "代码运行[云GPU平台](https://featurize.cn/?s=d7ce99f842414bfcaea5662a97581bd1)\n",
    "\n",
    "2022-7-22"
   ]
  },
  {
   "cell_type": "markdown",
   "id": "aa621a92-e18e-46a0-aefb-5e57d4374f7b",
   "metadata": {},
   "source": [
    "## 导入工具包"
   ]
  },
  {
   "cell_type": "code",
   "execution_count": 2,
   "id": "acfeb9c9-2a3e-45cf-bd07-3472d09519d6",
   "metadata": {},
   "outputs": [],
   "source": [
    "import os\n",
    "import shutil\n",
    "import random\n",
    "import pandas as pd"
   ]
  },
  {
   "cell_type": "markdown",
   "id": "a621202c-5651-4b2e-9a74-9e36f7e3af50",
   "metadata": {},
   "source": [
    "## 删除其它文件夹（如有）"
   ]
  },
  {
   "cell_type": "code",
   "execution_count": 1,
   "id": "3f8e1113-6bb9-41d1-a043-2f9e4d8f8598",
   "metadata": {},
   "outputs": [],
   "source": [
    "!rm -rf fruit21_full\n",
    "!rm -rf fruit21_split\n",
    "!rm -rf melon17-full\n",
    "!rm -rf __MACOSX"
   ]
  },
  {
   "cell_type": "markdown",
   "id": "6f9be2f2-7ca6-48c9-8c00-8d3eb1439e8d",
   "metadata": {},
   "source": [
    "## 下载数据集"
   ]
  },
  {
   "cell_type": "code",
   "execution_count": 10,
   "id": "d5963e72-c6cb-4465-add0-29007d91c55e",
   "metadata": {},
   "outputs": [
    {
     "name": "stdout",
     "output_type": "stream",
     "text": [
      "--2022-07-31 17:53:20--  https://zihao-openmmlab.obs.cn-east-3.myhuaweicloud.com/20220716-mmclassification/dataset/melon17/melon17_full.zip\n",
      "Connecting to 172.16.0.13:5848... connected.\n",
      "Proxy request sent, awaiting response... 200 OK\n",
      "Length: 132464836 (126M) [application/zip]\n",
      "Saving to: ‘melon17_full.zip’\n",
      "\n",
      "melon17_full.zip    100%[===================>] 126.33M  54.4MB/s    in 2.3s    \n",
      "\n",
      "2022-07-31 17:53:24 (54.4 MB/s) - ‘melon17_full.zip’ saved [132464836/132464836]\n",
      "\n"
     ]
    }
   ],
   "source": [
    "# 下载压缩包\n",
    "# 如报错 Unable to establish SSL connection. 重新运行本代码块即可\n",
    "!wget https://zihao-openmmlab.obs.cn-east-3.myhuaweicloud.com/20220716-mmclassification/dataset/melon17/melon17_full.zip"
   ]
  },
  {
   "cell_type": "code",
   "execution_count": 22,
   "id": "d8a64239-77dd-42d1-ad53-8e0453e2c157",
   "metadata": {},
   "outputs": [],
   "source": [
    "# 解压\n",
    "!unzip melon17_full.zip >> /dev/null\n",
    "# !unzip melon17_full.zip"
   ]
  },
  {
   "cell_type": "markdown",
   "id": "ea237880-2fa1-4aff-a1d3-56e616f6a897",
   "metadata": {},
   "source": [
    "## 获得所有类别名称"
   ]
  },
  {
   "cell_type": "code",
   "execution_count": 23,
   "id": "e27d9cc4-838c-4553-8933-a7f5d5e57c5e",
   "metadata": {},
   "outputs": [],
   "source": [
    "# 指定数据集路径\n",
    "dataset_path = 'melon17_full'"
   ]
  },
  {
   "cell_type": "code",
   "execution_count": 24,
   "id": "a59265d8-848b-45d4-9cb1-5d43c81f8e6a",
   "metadata": {},
   "outputs": [
    {
     "name": "stdout",
     "output_type": "stream",
     "text": [
      "数据集 melon17\n"
     ]
    }
   ],
   "source": [
    "dataset_name = dataset_path.split('_')[0]\n",
    "print('数据集', dataset_name)"
   ]
  },
  {
   "cell_type": "code",
   "execution_count": 25,
   "id": "3b62be1b-f42a-4477-8b44-2dd12817e44f",
   "metadata": {},
   "outputs": [],
   "source": [
    "classes = os.listdir(dataset_path)"
   ]
  },
  {
   "cell_type": "code",
   "execution_count": 26,
   "id": "af01e960-d178-4cff-bc8b-ce1520d642c1",
   "metadata": {},
   "outputs": [
    {
     "data": {
      "text/plain": [
       "['苦瓜',\n",
       " '冬瓜',\n",
       " '南瓜',\n",
       " '人参果',\n",
       " '羊角蜜',\n",
       " '哈密瓜',\n",
       " '白兰瓜',\n",
       " '西瓜',\n",
       " '佛手瓜',\n",
       " '丝瓜',\n",
       " '西葫芦',\n",
       " '甜瓜-白',\n",
       " '甜瓜-伊丽莎白',\n",
       " '黄瓜',\n",
       " '甜瓜-金',\n",
       " '甜瓜-绿',\n",
       " '木瓜']"
      ]
     },
     "execution_count": 26,
     "metadata": {},
     "output_type": "execute_result"
    }
   ],
   "source": [
    "classes"
   ]
  },
  {
   "cell_type": "markdown",
   "id": "a6b4d257-5bdc-4830-bb34-6936e04916ad",
   "metadata": {},
   "source": [
    "## 创建训练集文件夹和测试集文件夹"
   ]
  },
  {
   "cell_type": "code",
   "execution_count": 27,
   "id": "522222b5-9128-420d-a134-fb0b4cdc38ca",
   "metadata": {},
   "outputs": [],
   "source": [
    "# 创建 train 文件夹\n",
    "os.mkdir(os.path.join(dataset_path, 'train'))\n",
    "\n",
    "# 创建 test 文件夹\n",
    "os.mkdir(os.path.join(dataset_path, 'val'))\n",
    "\n",
    "# 在 train 和 test 文件夹中创建各类别子文件夹\n",
    "for fruit in classes:\n",
    "    os.mkdir(os.path.join(dataset_path, 'train', fruit))\n",
    "    os.mkdir(os.path.join(dataset_path, 'val', fruit))"
   ]
  },
  {
   "cell_type": "markdown",
   "id": "b890d0aa-4563-4f92-ac35-771acb588604",
   "metadata": {},
   "source": [
    "## 划分训练集、测试集，移动文件"
   ]
  },
  {
   "cell_type": "code",
   "execution_count": 28,
   "id": "eb2ad0c2-e3c6-481c-8589-51cdd2aeb516",
   "metadata": {},
   "outputs": [],
   "source": [
    "test_frac = 0.2  # 测试集比例\n",
    "random.seed(123) # 随机数种子"
   ]
  },
  {
   "cell_type": "code",
   "execution_count": 29,
   "id": "3ef9944c-a36d-4d62-a38b-78faa33fb9f1",
   "metadata": {},
   "outputs": [
    {
     "name": "stdout",
     "output_type": "stream",
     "text": [
      "        类别              训练集数据个数            测试集数据个数      \n",
      "        苦瓜                152                 37        \n",
      "        冬瓜                124                 31        \n",
      "        南瓜                148                 37        \n",
      "       人参果                147                 36        \n",
      "       羊角蜜                158                 39        \n",
      "       哈密瓜                158                 39        \n",
      "       白兰瓜                104                 25        \n",
      "        西瓜                159                 39        \n",
      "       佛手瓜                130                 32        \n",
      "        丝瓜                152                 38        \n",
      "       西葫芦                137                 34        \n",
      "       甜瓜-白                69                 17        \n",
      "     甜瓜-伊丽莎白               77                 19        \n",
      "        黄瓜                145                 36        \n",
      "       甜瓜-金                43                 10        \n",
      "       甜瓜-绿                36                 8         \n",
      "        木瓜                156                 39        \n"
     ]
    }
   ],
   "source": [
    "df = pd.DataFrame()\n",
    "\n",
    "print('{:^18} {:^18} {:^18}'.format('类别', '训练集数据个数', '测试集数据个数'))\n",
    "\n",
    "for fruit in classes: # 遍历每个类别\n",
    "\n",
    "    # 读取该类别的所有图像文件名\n",
    "    old_dir = os.path.join(dataset_path, fruit)\n",
    "    images_filename = os.listdir(old_dir)\n",
    "    random.shuffle(images_filename) # 随机打乱\n",
    "\n",
    "    # 划分训练集和测试集\n",
    "    testset_numer = int(len(images_filename) * test_frac) # 测试集图像个数\n",
    "    testset_images = images_filename[:testset_numer]      # 获取拟移动至 test 目录的测试集图像文件名\n",
    "    trainset_images = images_filename[testset_numer:]     # 获取拟移动至 train 目录的训练集图像文件名\n",
    "\n",
    "    # 移动图像至 test 目录\n",
    "    for image in testset_images:\n",
    "        old_img_path = os.path.join(dataset_path, fruit, image)         # 获取原始文件路径\n",
    "        new_test_path = os.path.join(dataset_path, 'val', fruit, image) # 获取 test 目录的新文件路径\n",
    "        shutil.move(old_img_path, new_test_path) # 移动文件\n",
    "\n",
    "    # 移动图像至 train 目录\n",
    "    for image in trainset_images:\n",
    "        old_img_path = os.path.join(dataset_path, fruit, image)           # 获取原始文件路径\n",
    "        new_train_path = os.path.join(dataset_path, 'train', fruit, image) # 获取 train 目录的新文件路径\n",
    "        shutil.move(old_img_path, new_train_path) # 移动文件\n",
    "    \n",
    "    # 删除旧文件夹\n",
    "    assert len(os.listdir(old_dir)) == 0 # 确保旧文件夹中的所有图像都被移动走\n",
    "    shutil.rmtree(old_dir) # 删除文件夹\n",
    "    \n",
    "    # 工整地输出每一类别的数据个数\n",
    "    print('{:^18} {:^18} {:^18}'.format(fruit, len(trainset_images), len(testset_images)))\n",
    "    \n",
    "    # 保存到表格中\n",
    "    df = df.append({'class':fruit, 'trainset':len(trainset_images), 'testset':len(testset_images)}, ignore_index=True)\n",
    "\n",
    "# 重命名数据集文件夹\n",
    "shutil.move(dataset_path, dataset_name+'_split')\n",
    "\n",
    "# 数据集各类别数量统计表格，导出为 csv 文件\n",
    "df['total'] = df['trainset'] + df['testset']\n",
    "df.to_csv('数据量统计.csv', index=False)"
   ]
  },
  {
   "cell_type": "code",
   "execution_count": 30,
   "id": "2ca80db6-9537-4203-9e1c-8873c473a95c",
   "metadata": {},
   "outputs": [
    {
     "data": {
      "text/html": [
       "<div>\n",
       "<style scoped>\n",
       "    .dataframe tbody tr th:only-of-type {\n",
       "        vertical-align: middle;\n",
       "    }\n",
       "\n",
       "    .dataframe tbody tr th {\n",
       "        vertical-align: top;\n",
       "    }\n",
       "\n",
       "    .dataframe thead th {\n",
       "        text-align: right;\n",
       "    }\n",
       "</style>\n",
       "<table border=\"1\" class=\"dataframe\">\n",
       "  <thead>\n",
       "    <tr style=\"text-align: right;\">\n",
       "      <th></th>\n",
       "      <th>class</th>\n",
       "      <th>trainset</th>\n",
       "      <th>testset</th>\n",
       "      <th>total</th>\n",
       "    </tr>\n",
       "  </thead>\n",
       "  <tbody>\n",
       "    <tr>\n",
       "      <th>0</th>\n",
       "      <td>苦瓜</td>\n",
       "      <td>152.0</td>\n",
       "      <td>37.0</td>\n",
       "      <td>189.0</td>\n",
       "    </tr>\n",
       "    <tr>\n",
       "      <th>1</th>\n",
       "      <td>冬瓜</td>\n",
       "      <td>124.0</td>\n",
       "      <td>31.0</td>\n",
       "      <td>155.0</td>\n",
       "    </tr>\n",
       "    <tr>\n",
       "      <th>2</th>\n",
       "      <td>南瓜</td>\n",
       "      <td>148.0</td>\n",
       "      <td>37.0</td>\n",
       "      <td>185.0</td>\n",
       "    </tr>\n",
       "    <tr>\n",
       "      <th>3</th>\n",
       "      <td>人参果</td>\n",
       "      <td>147.0</td>\n",
       "      <td>36.0</td>\n",
       "      <td>183.0</td>\n",
       "    </tr>\n",
       "    <tr>\n",
       "      <th>4</th>\n",
       "      <td>羊角蜜</td>\n",
       "      <td>158.0</td>\n",
       "      <td>39.0</td>\n",
       "      <td>197.0</td>\n",
       "    </tr>\n",
       "    <tr>\n",
       "      <th>5</th>\n",
       "      <td>哈密瓜</td>\n",
       "      <td>158.0</td>\n",
       "      <td>39.0</td>\n",
       "      <td>197.0</td>\n",
       "    </tr>\n",
       "    <tr>\n",
       "      <th>6</th>\n",
       "      <td>白兰瓜</td>\n",
       "      <td>104.0</td>\n",
       "      <td>25.0</td>\n",
       "      <td>129.0</td>\n",
       "    </tr>\n",
       "    <tr>\n",
       "      <th>7</th>\n",
       "      <td>西瓜</td>\n",
       "      <td>159.0</td>\n",
       "      <td>39.0</td>\n",
       "      <td>198.0</td>\n",
       "    </tr>\n",
       "    <tr>\n",
       "      <th>8</th>\n",
       "      <td>佛手瓜</td>\n",
       "      <td>130.0</td>\n",
       "      <td>32.0</td>\n",
       "      <td>162.0</td>\n",
       "    </tr>\n",
       "    <tr>\n",
       "      <th>9</th>\n",
       "      <td>丝瓜</td>\n",
       "      <td>152.0</td>\n",
       "      <td>38.0</td>\n",
       "      <td>190.0</td>\n",
       "    </tr>\n",
       "    <tr>\n",
       "      <th>10</th>\n",
       "      <td>西葫芦</td>\n",
       "      <td>137.0</td>\n",
       "      <td>34.0</td>\n",
       "      <td>171.0</td>\n",
       "    </tr>\n",
       "    <tr>\n",
       "      <th>11</th>\n",
       "      <td>甜瓜-白</td>\n",
       "      <td>69.0</td>\n",
       "      <td>17.0</td>\n",
       "      <td>86.0</td>\n",
       "    </tr>\n",
       "    <tr>\n",
       "      <th>12</th>\n",
       "      <td>甜瓜-伊丽莎白</td>\n",
       "      <td>77.0</td>\n",
       "      <td>19.0</td>\n",
       "      <td>96.0</td>\n",
       "    </tr>\n",
       "    <tr>\n",
       "      <th>13</th>\n",
       "      <td>黄瓜</td>\n",
       "      <td>145.0</td>\n",
       "      <td>36.0</td>\n",
       "      <td>181.0</td>\n",
       "    </tr>\n",
       "    <tr>\n",
       "      <th>14</th>\n",
       "      <td>甜瓜-金</td>\n",
       "      <td>43.0</td>\n",
       "      <td>10.0</td>\n",
       "      <td>53.0</td>\n",
       "    </tr>\n",
       "    <tr>\n",
       "      <th>15</th>\n",
       "      <td>甜瓜-绿</td>\n",
       "      <td>36.0</td>\n",
       "      <td>8.0</td>\n",
       "      <td>44.0</td>\n",
       "    </tr>\n",
       "    <tr>\n",
       "      <th>16</th>\n",
       "      <td>木瓜</td>\n",
       "      <td>156.0</td>\n",
       "      <td>39.0</td>\n",
       "      <td>195.0</td>\n",
       "    </tr>\n",
       "  </tbody>\n",
       "</table>\n",
       "</div>"
      ],
      "text/plain": [
       "      class  trainset  testset  total\n",
       "0        苦瓜     152.0     37.0  189.0\n",
       "1        冬瓜     124.0     31.0  155.0\n",
       "2        南瓜     148.0     37.0  185.0\n",
       "3       人参果     147.0     36.0  183.0\n",
       "4       羊角蜜     158.0     39.0  197.0\n",
       "5       哈密瓜     158.0     39.0  197.0\n",
       "6       白兰瓜     104.0     25.0  129.0\n",
       "7        西瓜     159.0     39.0  198.0\n",
       "8       佛手瓜     130.0     32.0  162.0\n",
       "9        丝瓜     152.0     38.0  190.0\n",
       "10      西葫芦     137.0     34.0  171.0\n",
       "11     甜瓜-白      69.0     17.0   86.0\n",
       "12  甜瓜-伊丽莎白      77.0     19.0   96.0\n",
       "13       黄瓜     145.0     36.0  181.0\n",
       "14     甜瓜-金      43.0     10.0   53.0\n",
       "15     甜瓜-绿      36.0      8.0   44.0\n",
       "16       木瓜     156.0     39.0  195.0"
      ]
     },
     "execution_count": 30,
     "metadata": {},
     "output_type": "execute_result"
    }
   ],
   "source": [
    "df"
   ]
  },
  {
   "cell_type": "markdown",
   "id": "a7f90207-20e0-4de0-a916-73422856b095",
   "metadata": {},
   "source": [
    "## 查看文件目录结构"
   ]
  },
  {
   "cell_type": "code",
   "execution_count": null,
   "id": "e435f029-f876-4423-841c-ecb4fd34ee09",
   "metadata": {},
   "outputs": [],
   "source": [
    "!sudo snap install tree"
   ]
  },
  {
   "cell_type": "code",
   "execution_count": 31,
   "id": "00bb2504-b4f5-40c9-9572-7c9123d3b38d",
   "metadata": {},
   "outputs": [
    {
     "name": "stdout",
     "output_type": "stream",
     "text": [
      "\u001b[01;34mmelon17_split\u001b[00m\n",
      "├── \u001b[01;34mtrain\u001b[00m\n",
      "│   ├── \u001b[01;34m丝瓜\u001b[00m\n",
      "│   ├── \u001b[01;34m人参果\u001b[00m\n",
      "│   ├── \u001b[01;34m佛手瓜\u001b[00m\n",
      "│   ├── \u001b[01;34m冬瓜\u001b[00m\n",
      "│   ├── \u001b[01;34m南瓜\u001b[00m\n",
      "│   ├── \u001b[01;34m哈密瓜\u001b[00m\n",
      "│   ├── \u001b[01;34m木瓜\u001b[00m\n",
      "│   ├── \u001b[01;34m甜瓜-伊丽莎白\u001b[00m\n",
      "│   ├── \u001b[01;34m甜瓜-白\u001b[00m\n",
      "│   ├── \u001b[01;34m甜瓜-绿\u001b[00m\n",
      "│   ├── \u001b[01;34m甜瓜-金\u001b[00m\n",
      "│   ├── \u001b[01;34m白兰瓜\u001b[00m\n",
      "│   ├── \u001b[01;34m羊角蜜\u001b[00m\n",
      "│   ├── \u001b[01;34m苦瓜\u001b[00m\n",
      "│   ├── \u001b[01;34m西瓜\u001b[00m\n",
      "│   ├── \u001b[01;34m西葫芦\u001b[00m\n",
      "│   └── \u001b[01;34m黄瓜\u001b[00m\n",
      "└── \u001b[01;34mval\u001b[00m\n",
      "    ├── \u001b[01;34m丝瓜\u001b[00m\n",
      "    ├── \u001b[01;34m人参果\u001b[00m\n",
      "    ├── \u001b[01;34m佛手瓜\u001b[00m\n",
      "    ├── \u001b[01;34m冬瓜\u001b[00m\n",
      "    ├── \u001b[01;34m南瓜\u001b[00m\n",
      "    ├── \u001b[01;34m哈密瓜\u001b[00m\n",
      "    ├── \u001b[01;34m木瓜\u001b[00m\n",
      "    ├── \u001b[01;34m甜瓜-伊丽莎白\u001b[00m\n",
      "    ├── \u001b[01;34m甜瓜-白\u001b[00m\n",
      "    ├── \u001b[01;34m甜瓜-绿\u001b[00m\n",
      "    ├── \u001b[01;34m甜瓜-金\u001b[00m\n",
      "    ├── \u001b[01;34m白兰瓜\u001b[00m\n",
      "    ├── \u001b[01;34m羊角蜜\u001b[00m\n",
      "    ├── \u001b[01;34m苦瓜\u001b[00m\n",
      "    ├── \u001b[01;34m西瓜\u001b[00m\n",
      "    ├── \u001b[01;34m西葫芦\u001b[00m\n",
      "    └── \u001b[01;34m黄瓜\u001b[00m\n",
      "\n",
      "36 directories, 0 files\n"
     ]
    }
   ],
   "source": [
    "!tree melon17_split -L 2"
   ]
  },
  {
   "cell_type": "code",
   "execution_count": null,
   "id": "4f3febba-135e-4502-b83c-0d377a517713",
   "metadata": {},
   "outputs": [],
   "source": []
  }
 ],
 "metadata": {
  "kernelspec": {
   "display_name": "Python 3 (ipykernel)",
   "language": "python",
   "name": "python3"
  },
  "language_info": {
   "codemirror_mode": {
    "name": "ipython",
    "version": 3
   },
   "file_extension": ".py",
   "mimetype": "text/x-python",
   "name": "python",
   "nbconvert_exporter": "python",
   "pygments_lexer": "ipython3",
   "version": "3.7.10"
  }
 },
 "nbformat": 4,
 "nbformat_minor": 5
}

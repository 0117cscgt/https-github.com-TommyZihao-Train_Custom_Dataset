{
 "cells": [
  {
   "cell_type": "markdown",
   "id": "68aa2c39-1a4b-4d3c-ab35-3d44896f2f67",
   "metadata": {},
   "source": [
    "# 安装配置环境\n",
    "\n",
    "同济子豪兄 https://space.bilibili.com/1900783\n",
    "\n",
    "代码运行云GPU平台：https://featurize.cn/?s=d7ce99f842414bfcaea5662a97581bd1\n",
    "\n",
    "2022-8-19"
   ]
  },
  {
   "cell_type": "markdown",
   "id": "d56b4a5f-8ec2-4493-8344-580ed67d3d25",
   "metadata": {},
   "source": [
    "## 安装基础工具包"
   ]
  },
  {
   "cell_type": "code",
   "execution_count": 1,
   "id": "83c98888-79c0-4f4c-8e64-b9cc65ac797e",
   "metadata": {},
   "outputs": [
    {
     "name": "stdout",
     "output_type": "stream",
     "text": [
      "Looking in indexes: https://pypi.tuna.tsinghua.edu.cn/simple\n",
      "Requirement already satisfied: numpy in /environment/miniconda3/lib/python3.7/site-packages (1.21.4)\n",
      "Requirement already satisfied: pandas in /environment/miniconda3/lib/python3.7/site-packages (1.3.4)\n",
      "Requirement already satisfied: matplotlib in /environment/miniconda3/lib/python3.7/site-packages (3.5.0)\n",
      "Requirement already satisfied: tqdm in /environment/miniconda3/lib/python3.7/site-packages (4.61.2)\n",
      "Requirement already satisfied: opencv-python in /environment/miniconda3/lib/python3.7/site-packages (4.5.4.60)\n",
      "Requirement already satisfied: pillow in /environment/miniconda3/lib/python3.7/site-packages (8.4.0)\n",
      "Collecting onnx\n",
      "  Downloading https://pypi.tuna.tsinghua.edu.cn/packages/bf/c5/e8edd9bc58192ef964270e2f4600a02cd5e5d0958b81f7abe2ee0a604478/onnx-1.12.0-cp37-cp37m-manylinux_2_17_x86_64.manylinux2014_x86_64.whl (13.1 MB)\n",
      "\u001b[K     |████████████████████████████████| 13.1 MB 100.7 MB/s eta 0:00:01\n",
      "\u001b[?25hCollecting onnxruntime\n",
      "  Downloading https://pypi.tuna.tsinghua.edu.cn/packages/f2/e4/fbf0af5a2b925da5538b0dd7cd0bdbbb250a1ebed7006b1917580838b8e7/onnxruntime-1.12.1-cp37-cp37m-manylinux_2_27_x86_64.whl (4.9 MB)\n",
      "\u001b[K     |████████████████████████████████| 4.9 MB 93.7 MB/s eta 0:00:01\n",
      "\u001b[?25hRequirement already satisfied: python-dateutil>=2.7.3 in /environment/miniconda3/lib/python3.7/site-packages (from pandas) (2.8.2)\n",
      "Requirement already satisfied: pytz>=2017.3 in /environment/miniconda3/lib/python3.7/site-packages (from pandas) (2021.3)\n",
      "Requirement already satisfied: six>=1.5 in /environment/miniconda3/lib/python3.7/site-packages (from python-dateutil>=2.7.3->pandas) (1.16.0)\n",
      "Requirement already satisfied: pyparsing>=2.2.1 in /environment/miniconda3/lib/python3.7/site-packages (from matplotlib) (3.0.6)\n",
      "Requirement already satisfied: setuptools-scm>=4 in /environment/miniconda3/lib/python3.7/site-packages (from matplotlib) (6.3.2)\n",
      "Requirement already satisfied: packaging>=20.0 in /environment/miniconda3/lib/python3.7/site-packages (from matplotlib) (21.3)\n",
      "Requirement already satisfied: fonttools>=4.22.0 in /environment/miniconda3/lib/python3.7/site-packages (from matplotlib) (4.28.3)\n",
      "Requirement already satisfied: cycler>=0.10 in /environment/miniconda3/lib/python3.7/site-packages (from matplotlib) (0.11.0)\n",
      "Requirement already satisfied: kiwisolver>=1.0.1 in /environment/miniconda3/lib/python3.7/site-packages (from matplotlib) (1.3.2)\n",
      "Requirement already satisfied: tomli>=1.0.0 in /environment/miniconda3/lib/python3.7/site-packages (from setuptools-scm>=4->matplotlib) (1.2.2)\n",
      "Requirement already satisfied: setuptools in /environment/miniconda3/lib/python3.7/site-packages (from setuptools-scm>=4->matplotlib) (52.0.0.post20210125)\n",
      "Requirement already satisfied: protobuf<=3.20.1,>=3.12.2 in /environment/miniconda3/lib/python3.7/site-packages (from onnx) (3.19.1)\n",
      "Requirement already satisfied: typing-extensions>=3.6.2.1 in /environment/miniconda3/lib/python3.7/site-packages (from onnx) (4.0.1)\n",
      "Requirement already satisfied: flatbuffers in /environment/miniconda3/lib/python3.7/site-packages (from onnxruntime) (2.0)\n",
      "Collecting coloredlogs\n",
      "  Downloading https://pypi.tuna.tsinghua.edu.cn/packages/a7/06/3d6badcf13db419e25b07041d9c7b4a2c331d3f4e7134445ec5df57714cd/coloredlogs-15.0.1-py2.py3-none-any.whl (46 kB)\n",
      "\u001b[K     |████████████████████████████████| 46 kB 68.1 MB/s eta 0:00:01\n",
      "\u001b[?25hCollecting sympy\n",
      "  Downloading https://pypi.tuna.tsinghua.edu.cn/packages/d0/04/66be21ceb305c66a4b326b0ae44cc4f027a43bc08cac204b48fb45bb3653/sympy-1.10.1-py3-none-any.whl (6.4 MB)\n",
      "\u001b[K     |████████████████████████████████| 6.4 MB 63.2 MB/s eta 0:00:01\n",
      "\u001b[?25hCollecting humanfriendly>=9.1\n",
      "  Downloading https://pypi.tuna.tsinghua.edu.cn/packages/f0/0f/310fb31e39e2d734ccaa2c0fb981ee41f7bd5056ce9bc29b2248bd569169/humanfriendly-10.0-py2.py3-none-any.whl (86 kB)\n",
      "\u001b[K     |████████████████████████████████| 86 kB 86.7 MB/s  eta 0:00:01\n",
      "\u001b[?25hCollecting mpmath>=0.19\n",
      "  Downloading https://pypi.tuna.tsinghua.edu.cn/packages/d4/cf/3965bddbb4f1a61c49aacae0e78fd1fe36b5dc36c797b31f30cf07dcbbb7/mpmath-1.2.1-py3-none-any.whl (532 kB)\n",
      "\u001b[K     |████████████████████████████████| 532 kB 105.5 MB/s eta 0:00:01\n",
      "\u001b[?25hInstalling collected packages: mpmath, humanfriendly, sympy, coloredlogs, onnxruntime, onnx\n",
      "Successfully installed coloredlogs-15.0.1 humanfriendly-10.0 mpmath-1.2.1 onnx-1.12.0 onnxruntime-1.12.1 sympy-1.10.1\n"
     ]
    }
   ],
   "source": [
    "!pip install numpy pandas matplotlib tqdm opencv-python pillow onnx onnxruntime -i https://pypi.tuna.tsinghua.edu.cn/simple\n"
   ]
  },
  {
   "cell_type": "markdown",
   "id": "f34acebb-ad33-4775-a842-3df6e4cce3fb",
   "metadata": {},
   "source": [
    "## 安装Pytorch"
   ]
  },
  {
   "cell_type": "code",
   "execution_count": 2,
   "id": "f9c9f8de-2c5e-477e-8893-f1435e3ff331",
   "metadata": {},
   "outputs": [
    {
     "name": "stdout",
     "output_type": "stream",
     "text": [
      "Looking in indexes: https://pypi.tuna.tsinghua.edu.cn/simple, https://download.pytorch.org/whl/cu113\n",
      "Requirement already satisfied: torch in /environment/miniconda3/lib/python3.7/site-packages (1.10.0+cu113)\n",
      "Requirement already satisfied: torchvision in /environment/miniconda3/lib/python3.7/site-packages (0.11.1+cu113)\n",
      "Requirement already satisfied: typing-extensions in /environment/miniconda3/lib/python3.7/site-packages (from torch) (4.0.1)\n",
      "Requirement already satisfied: pillow!=8.3.0,>=5.3.0 in /environment/miniconda3/lib/python3.7/site-packages (from torchvision) (8.4.0)\n",
      "Requirement already satisfied: numpy in /home/featurize/work/.local/lib/python3.7/site-packages (from torchvision) (1.19.3)\n"
     ]
    }
   ],
   "source": [
    "!pip3 install torch torchvision --extra-index-url https://download.pytorch.org/whl/cu113"
   ]
  },
  {
   "cell_type": "markdown",
   "id": "5628a6f7-e356-4d45-95ee-17fcb316b3c7",
   "metadata": {},
   "source": [
    "## 创建目录"
   ]
  },
  {
   "cell_type": "code",
   "execution_count": 1,
   "id": "d149db7a-5f6e-4513-b5c2-72fdf3eb3e2a",
   "metadata": {},
   "outputs": [],
   "source": [
    "import os"
   ]
  },
  {
   "cell_type": "code",
   "execution_count": 2,
   "id": "97a32738-da46-4b63-8b37-8a37dbf79602",
   "metadata": {},
   "outputs": [],
   "source": [
    "# 存放测试图片\n",
    "os.mkdir('test_img')\n",
    "\n",
    "# 存放结果文件\n",
    "os.mkdir('output')\n",
    "\n",
    "# 存放训练得到的模型权重\n",
    "os.mkdir('checkpoints')"
   ]
  },
  {
   "cell_type": "code",
   "execution_count": 3,
   "id": "31061098-afd0-4170-8e9a-f62a5b1de1cf",
   "metadata": {},
   "outputs": [
    {
     "name": "stdout",
     "output_type": "stream",
     "text": [
      "--2022-08-22 19:30:42--  https://zihao-openmmlab.obs.cn-east-3.myhuaweicloud.com/20220716-mmclassification/test/0818/test_%E8%8D%89%E8%8E%93.jpg\n",
      "Connecting to 172.16.0.13:5848... connected.\n",
      "Proxy request sent, awaiting response... 200 OK\n",
      "Length: 193879 (189K) [image/jpeg]\n",
      "Saving to: ‘test_img/test_草莓.jpg’\n",
      "\n",
      "test_草莓.jpg       100%[===================>] 189.33K  1.16MB/s    in 0.2s    \n",
      "\n",
      "2022-08-22 19:30:42 (1.16 MB/s) - ‘test_img/test_草莓.jpg’ saved [193879/193879]\n",
      "\n",
      "--2022-08-22 19:30:43--  https://zihao-openmmlab.obs.myhuaweicloud.com/20220716-mmclassification/test/0818/test_fruits.jpg\n",
      "Connecting to 172.16.0.13:5848... connected.\n",
      "Proxy request sent, awaiting response... 200 OK\n",
      "Length: 2579427 (2.5M) [image/jpeg]\n",
      "Saving to: ‘test_img/test_fruits.jpg’\n",
      "\n",
      "test_fruits.jpg     100%[===================>]   2.46M  7.64MB/s    in 0.3s    \n",
      "\n",
      "2022-08-22 19:30:49 (7.64 MB/s) - ‘test_img/test_fruits.jpg’ saved [2579427/2579427]\n",
      "\n",
      "--2022-08-22 19:30:50--  https://zihao-openmmlab.obs.myhuaweicloud.com/20220716-mmclassification/test/0818/test_orange_2.jpg\n",
      "Connecting to 172.16.0.13:5848... connected.\n",
      "Proxy request sent, awaiting response... 200 OK\n",
      "Length: 1771019 (1.7M) [image/jpeg]\n",
      "Saving to: ‘test_img/test_orange_2.jpg’\n",
      "\n",
      "test_orange_2.jpg   100%[===================>]   1.69M  5.48MB/s    in 0.3s    \n",
      "\n",
      "2022-08-22 19:30:50 (5.48 MB/s) - ‘test_img/test_orange_2.jpg’ saved [1771019/1771019]\n",
      "\n",
      "--2022-08-22 19:30:50--  https://zihao-openmmlab.obs.myhuaweicloud.com/20220716-mmclassification/test/0818/test_bananan.jpg\n",
      "Connecting to 172.16.0.13:5848... connected.\n",
      "Proxy request sent, awaiting response... 200 OK\n",
      "Length: 1116714 (1.1M) [image/jpeg]\n",
      "Saving to: ‘test_img/test_bananan.jpg’\n",
      "\n",
      "test_bananan.jpg    100%[===================>]   1.06M  4.01MB/s    in 0.3s    \n",
      "\n",
      "2022-08-22 19:30:51 (4.01 MB/s) - ‘test_img/test_bananan.jpg’ saved [1116714/1116714]\n",
      "\n",
      "--2022-08-22 19:30:51--  https://zihao-openmmlab.obs.myhuaweicloud.com/20220716-mmclassification/test/0818/test_kiwi.jpg\n",
      "Connecting to 172.16.0.13:5848... connected.\n",
      "Proxy request sent, awaiting response... 200 OK\n",
      "Length: 1555297 (1.5M) [image/jpeg]\n",
      "Saving to: ‘test_img/test_kiwi.jpg’\n",
      "\n",
      "test_kiwi.jpg       100%[===================>]   1.48M  4.98MB/s    in 0.3s    \n",
      "\n",
      "2022-08-22 19:30:52 (4.98 MB/s) - ‘test_img/test_kiwi.jpg’ saved [1555297/1555297]\n",
      "\n",
      "--2022-08-22 19:30:52--  https://zihao-openmmlab.obs.myhuaweicloud.com/20220716-mmclassification/test/0818/test_%E7%9F%B3%E6%A6%B4.jpg\n",
      "Connecting to 172.16.0.13:5848... connected.\n",
      "Proxy request sent, awaiting response... 200 OK\n",
      "Length: 1326649 (1.3M) [image/jpeg]\n",
      "Saving to: ‘test_img/test_石榴.jpg’\n",
      "\n",
      "test_石榴.jpg       100%[===================>]   1.26M  4.52MB/s    in 0.3s    \n",
      "\n",
      "2022-08-22 19:30:52 (4.52 MB/s) - ‘test_img/test_石榴.jpg’ saved [1326649/1326649]\n",
      "\n",
      "--2022-08-22 19:30:52--  https://zihao-openmmlab.obs.myhuaweicloud.com/20220716-mmclassification/test/0818/test_orange.jpg\n",
      "Connecting to 172.16.0.13:5848... connected.\n",
      "Proxy request sent, awaiting response... 200 OK\n",
      "Length: 1283008 (1.2M) [image/jpeg]\n",
      "Saving to: ‘test_img/test_orange.jpg’\n",
      "\n",
      "test_orange.jpg     100%[===================>]   1.22M  4.41MB/s    in 0.3s    \n",
      "\n",
      "2022-08-22 19:30:53 (4.41 MB/s) - ‘test_img/test_orange.jpg’ saved [1283008/1283008]\n",
      "\n",
      "--2022-08-22 19:30:53--  https://zihao-openmmlab.obs.myhuaweicloud.com/20220716-mmclassification/test/0818/test_lemon.jpg\n",
      "Connecting to 172.16.0.13:5848... connected.\n",
      "Proxy request sent, awaiting response... 200 OK\n",
      "Length: 983324 (960K) [image/jpeg]\n",
      "Saving to: ‘test_img/test_lemon.jpg’\n",
      "\n",
      "test_lemon.jpg      100%[===================>] 960.28K  3.59MB/s    in 0.3s    \n",
      "\n",
      "2022-08-22 19:30:53 (3.59 MB/s) - ‘test_img/test_lemon.jpg’ saved [983324/983324]\n",
      "\n",
      "--2022-08-22 19:30:54--  https://zihao-openmmlab.obs.myhuaweicloud.com/20220716-mmclassification/test/0818/test_%E7%81%AB%E9%BE%99%E6%9E%9C.jpg\n",
      "Connecting to 172.16.0.13:5848... connected.\n",
      "Proxy request sent, awaiting response... 200 OK\n",
      "Length: 1385692 (1.3M) [image/jpeg]\n",
      "Saving to: ‘test_img/test_火龙果.jpg’\n",
      "\n",
      "test_火龙果.jpg     100%[===================>]   1.32M  4.48MB/s    in 0.3s    \n",
      "\n",
      "2022-08-22 19:30:54 (4.48 MB/s) - ‘test_img/test_火龙果.jpg’ saved [1385692/1385692]\n",
      "\n",
      "--2022-08-22 19:30:54--  https://zihao-openmmlab.obs.cn-east-3.myhuaweicloud.com/20220716-mmclassification/test/watermelon1.jpg\n",
      "Connecting to 172.16.0.13:5848... connected.\n",
      "Proxy request sent, awaiting response... 200 OK\n",
      "Length: 429666 (420K) [image/jpeg]\n",
      "Saving to: ‘test_img/watermelon1.jpg’\n",
      "\n",
      "watermelon1.jpg     100%[===================>] 419.60K  1.96MB/s    in 0.2s    \n",
      "\n",
      "2022-08-22 19:30:55 (1.96 MB/s) - ‘test_img/watermelon1.jpg’ saved [429666/429666]\n",
      "\n",
      "--2022-08-22 19:30:55--  https://zihao-openmmlab.obs.cn-east-3.myhuaweicloud.com/20220716-mmclassification/test/banana1.jpg\n",
      "Connecting to 172.16.0.13:5848... connected.\n",
      "Proxy request sent, awaiting response... 200 OK\n",
      "Length: 463879 (453K) [image/jpeg]\n",
      "Saving to: ‘test_img/banana1.jpg’\n",
      "\n",
      "banana1.jpg         100%[===================>] 453.01K  2.12MB/s    in 0.2s    \n",
      "\n",
      "2022-08-22 19:30:55 (2.12 MB/s) - ‘test_img/banana1.jpg’ saved [463879/463879]\n",
      "\n"
     ]
    }
   ],
   "source": [
    "# 下载测试图像文件 至 test_img 文件夹\n",
    "\n",
    "# 草莓图像，来源：https://www.pexels.com/zh-cn/photo/4828489/\n",
    "!wget https://zihao-openmmlab.obs.cn-east-3.myhuaweicloud.com/20220716-mmclassification/test/0818/test_草莓.jpg -P test_img\n",
    "\n",
    "!wget https://zihao-openmmlab.obs.myhuaweicloud.com/20220716-mmclassification/test/0818/test_fruits.jpg -P test_img\n",
    "\n",
    "!wget https://zihao-openmmlab.obs.myhuaweicloud.com/20220716-mmclassification/test/0818/test_orange_2.jpg -P test_img \n",
    "\n",
    "!wget https://zihao-openmmlab.obs.myhuaweicloud.com/20220716-mmclassification/test/0818/test_bananan.jpg -P test_img\n",
    "\n",
    "!wget https://zihao-openmmlab.obs.myhuaweicloud.com/20220716-mmclassification/test/0818/test_kiwi.jpg -P test_img\n",
    "\n",
    "!wget https://zihao-openmmlab.obs.myhuaweicloud.com/20220716-mmclassification/test/0818/test_石榴.jpg -P test_img\n",
    "\n",
    "!wget https://zihao-openmmlab.obs.myhuaweicloud.com/20220716-mmclassification/test/0818/test_orange.jpg -P test_img\n",
    "\n",
    "!wget https://zihao-openmmlab.obs.myhuaweicloud.com/20220716-mmclassification/test/0818/test_lemon.jpg -P test_img\n",
    "\n",
    "!wget https://zihao-openmmlab.obs.myhuaweicloud.com/20220716-mmclassification/test/0818/test_火龙果.jpg -P test_img\n",
    "\n",
    "!wget https://zihao-openmmlab.obs.cn-east-3.myhuaweicloud.com/20220716-mmclassification/test/watermelon1.jpg -P test_img\n",
    "\n",
    "!wget https://zihao-openmmlab.obs.cn-east-3.myhuaweicloud.com/20220716-mmclassification/test/banana1.jpg -P test_img\n"
   ]
  },
  {
   "cell_type": "markdown",
   "id": "e629c072-4e42-499c-8046-40c4a5b8b39e",
   "metadata": {},
   "source": [
    "## 下载中文字体文件"
   ]
  },
  {
   "cell_type": "code",
   "execution_count": 9,
   "id": "a18e57f9-0ece-4d34-a0fd-0642a778a3b6",
   "metadata": {},
   "outputs": [
    {
     "name": "stdout",
     "output_type": "stream",
     "text": [
      "--2022-08-22 19:31:28--  https://zihao-openmmlab.obs.cn-east-3.myhuaweicloud.com/20220716-mmclassification/dataset/SimHei.ttf\n",
      "Connecting to 172.16.0.13:5848... connected.\n",
      "Proxy request sent, awaiting response... 200 OK\n",
      "Length: 10050868 (9.6M) [application/x-font-ttf]\n",
      "Saving to: ‘SimHei.ttf’\n",
      "\n",
      "SimHei.ttf          100%[===================>]   9.58M  21.8MB/s    in 0.4s    \n",
      "\n",
      "2022-08-22 19:31:29 (21.8 MB/s) - ‘SimHei.ttf’ saved [10050868/10050868]\n",
      "\n"
     ]
    }
   ],
   "source": [
    "!wget https://zihao-openmmlab.obs.cn-east-3.myhuaweicloud.com/20220716-mmclassification/dataset/SimHei.ttf\n"
   ]
  },
  {
   "cell_type": "markdown",
   "id": "684a5da0-89c9-44e4-abfe-d1b96a92b2ef",
   "metadata": {},
   "source": [
    "## 下载训练好的模型文件"
   ]
  },
  {
   "cell_type": "code",
   "execution_count": 10,
   "id": "bab445d3-f861-4bcb-a52e-b01fdb2eca3a",
   "metadata": {},
   "outputs": [
    {
     "name": "stdout",
     "output_type": "stream",
     "text": [
      "--2022-08-22 19:36:45--  https://zihao-openmmlab.obs.cn-east-3.myhuaweicloud.com/20220716-mmclassification/checkpoints/fruit30_pytorch_20220814.pth\n",
      "Connecting to 172.16.0.13:5848... connected.\n",
      "Proxy request sent, awaiting response... 200 OK\n",
      "Length: 44854477 (43M) [binary/octet-stream]\n",
      "Saving to: ‘checkpoints/fruit30_pytorch_20220814.pth’\n",
      "\n",
      "fruit30_pytorch_202 100%[===================>]  42.78M  39.1MB/s    in 1.1s    \n",
      "\n",
      "2022-08-22 19:36:46 (39.1 MB/s) - ‘checkpoints/fruit30_pytorch_20220814.pth’ saved [44854477/44854477]\n",
      "\n"
     ]
    }
   ],
   "source": [
    "# 下载样例模型文件\n",
    "!wget https://zihao-openmmlab.obs.cn-east-3.myhuaweicloud.com/20220716-mmclassification/checkpoints/fruit30_pytorch_20220814.pth -P checkpoints\n"
   ]
  },
  {
   "cell_type": "code",
   "execution_count": null,
   "id": "9fab243e-f84f-4305-9c05-448e16807d95",
   "metadata": {},
   "outputs": [],
   "source": []
  }
 ],
 "metadata": {
  "kernelspec": {
   "display_name": "Python 3 (ipykernel)",
   "language": "python",
   "name": "python3"
  },
  "language_info": {
   "codemirror_mode": {
    "name": "ipython",
    "version": 3
   },
   "file_extension": ".py",
   "mimetype": "text/x-python",
   "name": "python",
   "nbconvert_exporter": "python",
   "pygments_lexer": "ipython3",
   "version": "3.7.10"
  }
 },
 "nbformat": 4,
 "nbformat_minor": 5
}

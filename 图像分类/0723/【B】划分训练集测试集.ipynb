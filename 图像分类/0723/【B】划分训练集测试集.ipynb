{
 "cells": [
  {
   "cell_type": "markdown",
   "id": "65f90911-c910-4cb9-ab55-ad41e3ffd568",
   "metadata": {},
   "source": [
    "# 划分训练集和测试集\n",
    "\n",
    "同济子豪兄 https://space.bilibili.com/1900783\n",
    "\n",
    "2022-7-22"
   ]
  },
  {
   "cell_type": "markdown",
   "id": "aa621a92-e18e-46a0-aefb-5e57d4374f7b",
   "metadata": {},
   "source": [
    "## 导入工具包"
   ]
  },
  {
   "cell_type": "code",
   "execution_count": 1,
   "id": "acfeb9c9-2a3e-45cf-bd07-3472d09519d6",
   "metadata": {},
   "outputs": [],
   "source": [
    "import os\n",
    "import shutil\n",
    "import random\n",
    "import pandas as pd"
   ]
  },
  {
   "cell_type": "markdown",
   "id": "a621202c-5651-4b2e-9a74-9e36f7e3af50",
   "metadata": {},
   "source": [
    "## 删除其它文件夹（如有）"
   ]
  },
  {
   "cell_type": "code",
   "execution_count": 2,
   "id": "3f8e1113-6bb9-41d1-a043-2f9e4d8f8598",
   "metadata": {},
   "outputs": [],
   "source": [
    "!rm -rf fruit21_full\n",
    "!rm -rf fruit21_split"
   ]
  },
  {
   "cell_type": "markdown",
   "id": "6f9be2f2-7ca6-48c9-8c00-8d3eb1439e8d",
   "metadata": {},
   "source": [
    "## 下载数据集"
   ]
  },
  {
   "cell_type": "code",
   "execution_count": 3,
   "id": "d5963e72-c6cb-4465-add0-29007d91c55e",
   "metadata": {},
   "outputs": [
    {
     "name": "stdout",
     "output_type": "stream",
     "text": [
      "--2022-07-23 10:46:38--  https://zihao-openmmlab.obs.cn-east-3.myhuaweicloud.com/20220716-mmclassification/dataset/fruit21_full.zip\n",
      "Connecting to 172.16.0.13:5848... connected.\n",
      "Proxy request sent, awaiting response... 200 OK\n",
      "Length: 206385999 (197M) [application/zip]\n",
      "Saving to: ‘fruit21_full.zip’\n",
      "\n",
      "fruit21_full.zip    100%[===================>] 196.82M  35.9MB/s    in 5.8s    \n",
      "\n",
      "2022-07-23 10:46:44 (33.7 MB/s) - ‘fruit21_full.zip’ saved [206385999/206385999]\n",
      "\n"
     ]
    }
   ],
   "source": [
    "# 下载压缩包\n",
    "!wget https://zihao-openmmlab.obs.cn-east-3.myhuaweicloud.com/20220716-mmclassification/dataset/fruit21_full.zip -O fruit21_full.zip"
   ]
  },
  {
   "cell_type": "code",
   "execution_count": 4,
   "id": "d8a64239-77dd-42d1-ad53-8e0453e2c157",
   "metadata": {},
   "outputs": [],
   "source": [
    "# 解压\n",
    "!unzip fruit21_full.zip >> /dev/null\n",
    "# !unzip fruit21_full.zip"
   ]
  },
  {
   "cell_type": "markdown",
   "id": "ea237880-2fa1-4aff-a1d3-56e616f6a897",
   "metadata": {},
   "source": [
    "## 获得所有类别名称"
   ]
  },
  {
   "cell_type": "code",
   "execution_count": 5,
   "id": "e27d9cc4-838c-4553-8933-a7f5d5e57c5e",
   "metadata": {},
   "outputs": [],
   "source": [
    "# 指定数据集路径\n",
    "dataset_path = 'fruit21_full'"
   ]
  },
  {
   "cell_type": "code",
   "execution_count": 6,
   "id": "3b62be1b-f42a-4477-8b44-2dd12817e44f",
   "metadata": {},
   "outputs": [],
   "source": [
    "classes = os.listdir(dataset_path)"
   ]
  },
  {
   "cell_type": "code",
   "execution_count": 7,
   "id": "af01e960-d178-4cff-bc8b-ce1520d642c1",
   "metadata": {},
   "outputs": [
    {
     "data": {
      "text/plain": [
       "['圣女果',\n",
       " '芒果',\n",
       " '菠萝',\n",
       " '猕猴桃',\n",
       " '哈密瓜',\n",
       " '山楂',\n",
       " '脐橙',\n",
       " '杨梅',\n",
       " '草莓',\n",
       " '椰子',\n",
       " '西瓜',\n",
       " '桂圆',\n",
       " '荔枝',\n",
       " '香蕉',\n",
       " '水蜜桃',\n",
       " '柠檬',\n",
       " '砂糖橘',\n",
       " '樱桃',\n",
       " '榴莲',\n",
       " '西红柿',\n",
       " '油桃']"
      ]
     },
     "execution_count": 7,
     "metadata": {},
     "output_type": "execute_result"
    }
   ],
   "source": [
    "classes"
   ]
  },
  {
   "cell_type": "markdown",
   "id": "a6b4d257-5bdc-4830-bb34-6936e04916ad",
   "metadata": {},
   "source": [
    "## 创建训练集文件夹和测试集文件夹"
   ]
  },
  {
   "cell_type": "code",
   "execution_count": 8,
   "id": "522222b5-9128-420d-a134-fb0b4cdc38ca",
   "metadata": {},
   "outputs": [],
   "source": [
    "# 创建 train 文件夹\n",
    "os.mkdir(os.path.join(dataset_path, 'train'))\n",
    "\n",
    "# 创建 test 文件夹\n",
    "os.mkdir(os.path.join(dataset_path, 'test'))\n",
    "\n",
    "# 在 train 和 test 文件夹中创建各类别子文件夹\n",
    "for fruit in classes:\n",
    "    os.mkdir(os.path.join(dataset_path, 'train', fruit))\n",
    "    os.mkdir(os.path.join(dataset_path, 'test', fruit))"
   ]
  },
  {
   "cell_type": "markdown",
   "id": "b890d0aa-4563-4f92-ac35-771acb588604",
   "metadata": {},
   "source": [
    "## 划分训练集、测试集，移动文件"
   ]
  },
  {
   "cell_type": "code",
   "execution_count": 9,
   "id": "eb2ad0c2-e3c6-481c-8589-51cdd2aeb516",
   "metadata": {},
   "outputs": [],
   "source": [
    "test_frac = 0.2  # 测试集比例\n",
    "random.seed(123) # 随机数种子"
   ]
  },
  {
   "cell_type": "code",
   "execution_count": 10,
   "id": "3ef9944c-a36d-4d62-a38b-78faa33fb9f1",
   "metadata": {},
   "outputs": [
    {
     "name": "stdout",
     "output_type": "stream",
     "text": [
      "        类别              训练集数据个数            测试集数据个数      \n",
      "       圣女果                160                 39        \n",
      "        芒果                119                 29        \n",
      "        菠萝                160                 40        \n",
      "       猕猴桃                161                 40        \n",
      "       哈密瓜                160                 39        \n",
      "        山楂                159                 39        \n",
      "        脐橙                148                 37        \n",
      "        杨梅                152                 38        \n",
      "        草莓                160                 40        \n",
      "        椰子                160                 40        \n",
      "        西瓜                156                 39        \n",
      "        桂圆                160                 40        \n",
      "        荔枝                141                 35        \n",
      "        香蕉                161                 40        \n",
      "       水蜜桃                153                 38        \n",
      "        柠檬                149                 37        \n",
      "       砂糖橘                148                 36        \n",
      "        樱桃                157                 39        \n",
      "        榴莲                128                 32        \n",
      "       西红柿                151                 37        \n",
      "        油桃                160                 39        \n"
     ]
    }
   ],
   "source": [
    "df = pd.DataFrame()\n",
    "\n",
    "print('{:^18} {:^18} {:^18}'.format('类别', '训练集数据个数', '测试集数据个数'))\n",
    "\n",
    "for fruit in classes: # 遍历每个类别\n",
    "\n",
    "    # 读取该类别的所有图像文件名\n",
    "    old_dir = os.path.join(dataset_path, fruit)\n",
    "    images_filename = os.listdir(old_dir)\n",
    "    random.shuffle(images_filename) # 随机打乱\n",
    "\n",
    "    # 划分训练集和测试集\n",
    "    testset_numer = int(len(images_filename) * test_frac) # 测试集图像个数\n",
    "    testset_images = images_filename[:testset_numer]      # 获取拟移动至 test 目录的测试集图像文件名\n",
    "    trainset_images = images_filename[testset_numer:]     # 获取拟移动至 train 目录的训练集图像文件名\n",
    "\n",
    "    # 移动图像至 test 目录\n",
    "    for image in testset_images:\n",
    "        old_img_path = os.path.join(dataset_path, fruit, image)         # 获取原始文件路径\n",
    "        new_test_path = os.path.join(dataset_path, 'test', fruit, image) # 获取 test 目录的新文件路径\n",
    "        shutil.move(old_img_path, new_test_path) # 移动文件\n",
    "\n",
    "    # 移动图像至 train 目录\n",
    "    for image in trainset_images:\n",
    "        old_img_path = os.path.join(dataset_path, fruit, image)           # 获取原始文件路径\n",
    "        new_train_path = os.path.join(dataset_path, 'train', fruit, image) # 获取 train 目录的新文件路径\n",
    "        shutil.move(old_img_path, new_train_path) # 移动文件\n",
    "    \n",
    "    # 删除旧文件夹\n",
    "    assert len(os.listdir(old_dir)) == 0 # 确保旧文件夹中的所有图像都被移动走\n",
    "    shutil.rmtree(old_dir) # 删除文件夹\n",
    "    \n",
    "    print('{:^18} {:^18} {:^18}'.format(fruit, len(trainset_images), len(testset_images)))\n",
    "    df = df.append({'class':fruit, 'trainset':len(trainset_images), 'testset':len(testset_images)}, ignore_index=True)\n",
    "\n",
    "# 重命名数据集文件夹\n",
    "shutil.move(dataset_path, 'fruit21_split')\n",
    "\n",
    "# 数据集各类别数量统计表格，导出为 csv 文件\n",
    "df['total'] = df['trainset'] + df['testset']\n",
    "df.to_csv('数据集统计.csv', index=False)"
   ]
  },
  {
   "cell_type": "code",
   "execution_count": 11,
   "id": "2ca80db6-9537-4203-9e1c-8873c473a95c",
   "metadata": {},
   "outputs": [
    {
     "data": {
      "text/html": [
       "<div>\n",
       "<style scoped>\n",
       "    .dataframe tbody tr th:only-of-type {\n",
       "        vertical-align: middle;\n",
       "    }\n",
       "\n",
       "    .dataframe tbody tr th {\n",
       "        vertical-align: top;\n",
       "    }\n",
       "\n",
       "    .dataframe thead th {\n",
       "        text-align: right;\n",
       "    }\n",
       "</style>\n",
       "<table border=\"1\" class=\"dataframe\">\n",
       "  <thead>\n",
       "    <tr style=\"text-align: right;\">\n",
       "      <th></th>\n",
       "      <th>class</th>\n",
       "      <th>trainset</th>\n",
       "      <th>testset</th>\n",
       "      <th>total</th>\n",
       "    </tr>\n",
       "  </thead>\n",
       "  <tbody>\n",
       "    <tr>\n",
       "      <th>0</th>\n",
       "      <td>圣女果</td>\n",
       "      <td>160.0</td>\n",
       "      <td>39.0</td>\n",
       "      <td>199.0</td>\n",
       "    </tr>\n",
       "    <tr>\n",
       "      <th>1</th>\n",
       "      <td>芒果</td>\n",
       "      <td>119.0</td>\n",
       "      <td>29.0</td>\n",
       "      <td>148.0</td>\n",
       "    </tr>\n",
       "    <tr>\n",
       "      <th>2</th>\n",
       "      <td>菠萝</td>\n",
       "      <td>160.0</td>\n",
       "      <td>40.0</td>\n",
       "      <td>200.0</td>\n",
       "    </tr>\n",
       "    <tr>\n",
       "      <th>3</th>\n",
       "      <td>猕猴桃</td>\n",
       "      <td>161.0</td>\n",
       "      <td>40.0</td>\n",
       "      <td>201.0</td>\n",
       "    </tr>\n",
       "    <tr>\n",
       "      <th>4</th>\n",
       "      <td>哈密瓜</td>\n",
       "      <td>160.0</td>\n",
       "      <td>39.0</td>\n",
       "      <td>199.0</td>\n",
       "    </tr>\n",
       "    <tr>\n",
       "      <th>5</th>\n",
       "      <td>山楂</td>\n",
       "      <td>159.0</td>\n",
       "      <td>39.0</td>\n",
       "      <td>198.0</td>\n",
       "    </tr>\n",
       "    <tr>\n",
       "      <th>6</th>\n",
       "      <td>脐橙</td>\n",
       "      <td>148.0</td>\n",
       "      <td>37.0</td>\n",
       "      <td>185.0</td>\n",
       "    </tr>\n",
       "    <tr>\n",
       "      <th>7</th>\n",
       "      <td>杨梅</td>\n",
       "      <td>152.0</td>\n",
       "      <td>38.0</td>\n",
       "      <td>190.0</td>\n",
       "    </tr>\n",
       "    <tr>\n",
       "      <th>8</th>\n",
       "      <td>草莓</td>\n",
       "      <td>160.0</td>\n",
       "      <td>40.0</td>\n",
       "      <td>200.0</td>\n",
       "    </tr>\n",
       "    <tr>\n",
       "      <th>9</th>\n",
       "      <td>椰子</td>\n",
       "      <td>160.0</td>\n",
       "      <td>40.0</td>\n",
       "      <td>200.0</td>\n",
       "    </tr>\n",
       "    <tr>\n",
       "      <th>10</th>\n",
       "      <td>西瓜</td>\n",
       "      <td>156.0</td>\n",
       "      <td>39.0</td>\n",
       "      <td>195.0</td>\n",
       "    </tr>\n",
       "    <tr>\n",
       "      <th>11</th>\n",
       "      <td>桂圆</td>\n",
       "      <td>160.0</td>\n",
       "      <td>40.0</td>\n",
       "      <td>200.0</td>\n",
       "    </tr>\n",
       "    <tr>\n",
       "      <th>12</th>\n",
       "      <td>荔枝</td>\n",
       "      <td>141.0</td>\n",
       "      <td>35.0</td>\n",
       "      <td>176.0</td>\n",
       "    </tr>\n",
       "    <tr>\n",
       "      <th>13</th>\n",
       "      <td>香蕉</td>\n",
       "      <td>161.0</td>\n",
       "      <td>40.0</td>\n",
       "      <td>201.0</td>\n",
       "    </tr>\n",
       "    <tr>\n",
       "      <th>14</th>\n",
       "      <td>水蜜桃</td>\n",
       "      <td>153.0</td>\n",
       "      <td>38.0</td>\n",
       "      <td>191.0</td>\n",
       "    </tr>\n",
       "    <tr>\n",
       "      <th>15</th>\n",
       "      <td>柠檬</td>\n",
       "      <td>149.0</td>\n",
       "      <td>37.0</td>\n",
       "      <td>186.0</td>\n",
       "    </tr>\n",
       "    <tr>\n",
       "      <th>16</th>\n",
       "      <td>砂糖橘</td>\n",
       "      <td>148.0</td>\n",
       "      <td>36.0</td>\n",
       "      <td>184.0</td>\n",
       "    </tr>\n",
       "    <tr>\n",
       "      <th>17</th>\n",
       "      <td>樱桃</td>\n",
       "      <td>157.0</td>\n",
       "      <td>39.0</td>\n",
       "      <td>196.0</td>\n",
       "    </tr>\n",
       "    <tr>\n",
       "      <th>18</th>\n",
       "      <td>榴莲</td>\n",
       "      <td>128.0</td>\n",
       "      <td>32.0</td>\n",
       "      <td>160.0</td>\n",
       "    </tr>\n",
       "    <tr>\n",
       "      <th>19</th>\n",
       "      <td>西红柿</td>\n",
       "      <td>151.0</td>\n",
       "      <td>37.0</td>\n",
       "      <td>188.0</td>\n",
       "    </tr>\n",
       "    <tr>\n",
       "      <th>20</th>\n",
       "      <td>油桃</td>\n",
       "      <td>160.0</td>\n",
       "      <td>39.0</td>\n",
       "      <td>199.0</td>\n",
       "    </tr>\n",
       "  </tbody>\n",
       "</table>\n",
       "</div>"
      ],
      "text/plain": [
       "   class  trainset  testset  total\n",
       "0    圣女果     160.0     39.0  199.0\n",
       "1     芒果     119.0     29.0  148.0\n",
       "2     菠萝     160.0     40.0  200.0\n",
       "3    猕猴桃     161.0     40.0  201.0\n",
       "4    哈密瓜     160.0     39.0  199.0\n",
       "5     山楂     159.0     39.0  198.0\n",
       "6     脐橙     148.0     37.0  185.0\n",
       "7     杨梅     152.0     38.0  190.0\n",
       "8     草莓     160.0     40.0  200.0\n",
       "9     椰子     160.0     40.0  200.0\n",
       "10    西瓜     156.0     39.0  195.0\n",
       "11    桂圆     160.0     40.0  200.0\n",
       "12    荔枝     141.0     35.0  176.0\n",
       "13    香蕉     161.0     40.0  201.0\n",
       "14   水蜜桃     153.0     38.0  191.0\n",
       "15    柠檬     149.0     37.0  186.0\n",
       "16   砂糖橘     148.0     36.0  184.0\n",
       "17    樱桃     157.0     39.0  196.0\n",
       "18    榴莲     128.0     32.0  160.0\n",
       "19   西红柿     151.0     37.0  188.0\n",
       "20    油桃     160.0     39.0  199.0"
      ]
     },
     "execution_count": 11,
     "metadata": {},
     "output_type": "execute_result"
    }
   ],
   "source": [
    "df"
   ]
  },
  {
   "cell_type": "code",
   "execution_count": 12,
   "id": "d822609b-461d-44df-8579-46f1fcee93b6",
   "metadata": {},
   "outputs": [],
   "source": [
    "df.to_csv('数据集统计.csv', index=False)"
   ]
  },
  {
   "cell_type": "markdown",
   "id": "a7f90207-20e0-4de0-a916-73422856b095",
   "metadata": {},
   "source": [
    "## 查看文件目录结构"
   ]
  },
  {
   "cell_type": "code",
   "execution_count": null,
   "id": "e435f029-f876-4423-841c-ecb4fd34ee09",
   "metadata": {},
   "outputs": [],
   "source": [
    "!sudo snap install tree"
   ]
  },
  {
   "cell_type": "code",
   "execution_count": 14,
   "id": "00bb2504-b4f5-40c9-9572-7c9123d3b38d",
   "metadata": {},
   "outputs": [
    {
     "name": "stdout",
     "output_type": "stream",
     "text": [
      "\u001b[01;34mfruit21_split\u001b[00m\n",
      "├── \u001b[01;34mtest\u001b[00m\n",
      "│   ├── \u001b[01;34m哈密瓜\u001b[00m\n",
      "│   ├── \u001b[01;34m圣女果\u001b[00m\n",
      "│   ├── \u001b[01;34m山楂\u001b[00m\n",
      "│   ├── \u001b[01;34m杨梅\u001b[00m\n",
      "│   ├── \u001b[01;34m柠檬\u001b[00m\n",
      "│   ├── \u001b[01;34m桂圆\u001b[00m\n",
      "│   ├── \u001b[01;34m椰子\u001b[00m\n",
      "│   ├── \u001b[01;34m榴莲\u001b[00m\n",
      "│   ├── \u001b[01;34m樱桃\u001b[00m\n",
      "│   ├── \u001b[01;34m水蜜桃\u001b[00m\n",
      "│   ├── \u001b[01;34m油桃\u001b[00m\n",
      "│   ├── \u001b[01;34m猕猴桃\u001b[00m\n",
      "│   ├── \u001b[01;34m砂糖橘\u001b[00m\n",
      "│   ├── \u001b[01;34m脐橙\u001b[00m\n",
      "│   ├── \u001b[01;34m芒果\u001b[00m\n",
      "│   ├── \u001b[01;34m草莓\u001b[00m\n",
      "│   ├── \u001b[01;34m荔枝\u001b[00m\n",
      "│   ├── \u001b[01;34m菠萝\u001b[00m\n",
      "│   ├── \u001b[01;34m西瓜\u001b[00m\n",
      "│   ├── \u001b[01;34m西红柿\u001b[00m\n",
      "│   └── \u001b[01;34m香蕉\u001b[00m\n",
      "└── \u001b[01;34mtrain\u001b[00m\n",
      "    ├── \u001b[01;34m哈密瓜\u001b[00m\n",
      "    ├── \u001b[01;34m圣女果\u001b[00m\n",
      "    ├── \u001b[01;34m山楂\u001b[00m\n",
      "    ├── \u001b[01;34m杨梅\u001b[00m\n",
      "    ├── \u001b[01;34m柠檬\u001b[00m\n",
      "    ├── \u001b[01;34m桂圆\u001b[00m\n",
      "    ├── \u001b[01;34m椰子\u001b[00m\n",
      "    ├── \u001b[01;34m榴莲\u001b[00m\n",
      "    ├── \u001b[01;34m樱桃\u001b[00m\n",
      "    ├── \u001b[01;34m水蜜桃\u001b[00m\n",
      "    ├── \u001b[01;34m油桃\u001b[00m\n",
      "    ├── \u001b[01;34m猕猴桃\u001b[00m\n",
      "    ├── \u001b[01;34m砂糖橘\u001b[00m\n",
      "    ├── \u001b[01;34m脐橙\u001b[00m\n",
      "    ├── \u001b[01;34m芒果\u001b[00m\n",
      "    ├── \u001b[01;34m草莓\u001b[00m\n",
      "    ├── \u001b[01;34m荔枝\u001b[00m\n",
      "    ├── \u001b[01;34m菠萝\u001b[00m\n",
      "    ├── \u001b[01;34m西瓜\u001b[00m\n",
      "    ├── \u001b[01;34m西红柿\u001b[00m\n",
      "    └── \u001b[01;34m香蕉\u001b[00m\n",
      "\n",
      "44 directories, 0 files\n"
     ]
    }
   ],
   "source": [
    "!tree fruit21_split -L 2"
   ]
  },
  {
   "cell_type": "code",
   "execution_count": null,
   "id": "7459e090-9abd-4ace-8c57-e8b8c2191d2c",
   "metadata": {},
   "outputs": [],
   "source": []
  }
 ],
 "metadata": {
  "kernelspec": {
   "display_name": "Python 3 (ipykernel)",
   "language": "python",
   "name": "python3"
  },
  "language_info": {
   "codemirror_mode": {
    "name": "ipython",
    "version": 3
   },
   "file_extension": ".py",
   "mimetype": "text/x-python",
   "name": "python",
   "nbconvert_exporter": "python",
   "pygments_lexer": "ipython3",
   "version": "3.7.10"
  }
 },
 "nbformat": 4,
 "nbformat_minor": 5
}

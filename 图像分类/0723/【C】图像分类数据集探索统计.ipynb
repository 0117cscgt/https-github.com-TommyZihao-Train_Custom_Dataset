{
 "cells": [
  {
   "cell_type": "markdown",
   "id": "bb693caa-b9d5-47e1-951e-acc1a02dd05a",
   "metadata": {},
   "source": [
    "# 图像分类数据集探索统计\n",
    "\n",
    "同济子豪兄 https://space.bilibili.com/1900783\n",
    "\n",
    "2022-7-23"
   ]
  },
  {
   "cell_type": "markdown",
   "id": "972976fa",
   "metadata": {},
   "source": [
    "## 各类别数据个数柱状图"
   ]
  },
  {
   "cell_type": "markdown",
   "id": "87004a92",
   "metadata": {},
   "source": [
    "### 导入工具包"
   ]
  },
  {
   "cell_type": "code",
   "execution_count": 1,
   "id": "7f62ed0d",
   "metadata": {},
   "outputs": [],
   "source": [
    "import numpy as np\n",
    "import pandas as pd\n",
    "import matplotlib.pyplot as plt\n",
    "%matplotlib inline"
   ]
  },
  {
   "cell_type": "markdown",
   "id": "7bf014d5",
   "metadata": {},
   "source": [
    "### 设置中文字体"
   ]
  },
  {
   "cell_type": "code",
   "execution_count": 22,
   "id": "a2dfd133",
   "metadata": {},
   "outputs": [],
   "source": [
    "# # windows操作系统\n",
    "# plt.rcParams['font.sans-serif']=['SimHei']  # 用来正常显示中文标签 \n",
    "# plt.rcParams['axes.unicode_minus']=False  # 用来正常显示负号"
   ]
  },
  {
   "cell_type": "code",
   "execution_count": 2,
   "id": "9dc70d25",
   "metadata": {},
   "outputs": [],
   "source": [
    "# Mac操作系统，参考 https://www.ngui.cc/51cto/show-727683.html\n",
    "# 下载 simhei.ttf 字体文件\n",
    "# !wget https://zihao-openmmlab.obs.cn-east-3.myhuaweicloud.com/20220716-mmclassification/dataset/SimHei.ttf"
   ]
  },
  {
   "cell_type": "code",
   "execution_count": 4,
   "id": "c0280a49-afee-4853-83f8-da4a4260ca77",
   "metadata": {},
   "outputs": [
    {
     "name": "stdout",
     "output_type": "stream",
     "text": [
      "--2022-07-23 14:42:35--  https://zihao-openmmlab.obs.cn-east-3.myhuaweicloud.com/20220716-mmclassification/dataset/SimHei.ttf\n",
      "Connecting to 172.16.0.13:5848... connected.\n",
      "Proxy request sent, awaiting response... 200 OK\n",
      "Length: 10050868 (9.6M) [application/x-font-ttf]\n",
      "Saving to: ‘/environment/miniconda3/lib/python3.7/site-packages/matplotlib/mpl-data/fonts/ttf/SimHei.ttf’\n",
      "\n",
      "/environment/minico 100%[===================>]   9.58M  17.3MB/s    in 0.6s    \n",
      "\n",
      "2022-07-23 14:42:36 (17.3 MB/s) - ‘/environment/miniconda3/lib/python3.7/site-packages/matplotlib/mpl-data/fonts/ttf/SimHei.ttf’ saved [10050868/10050868]\n",
      "\n"
     ]
    }
   ],
   "source": [
    "# Linux操作系统，例如 云GPU平台：https://featurize.cn/?s=d7ce99f842414bfcaea5662a97581bd1\n",
    "!wget https://zihao-openmmlab.obs.cn-east-3.myhuaweicloud.com/20220716-mmclassification/dataset/SimHei.ttf -O /environment/miniconda3/lib/python3.7/site-packages/matplotlib/mpl-data/fonts/ttf/SimHei.ttf\n",
    "!rm -rf /home/featurize/.cache/matplotlib\n",
    "\n",
    "import matplotlib\n",
    "matplotlib.rc(\"font\",family='SimHei') # 中文字体\n",
    "plt.rcParams['axes.unicode_minus']=False  # 用来正常显示负号"
   ]
  },
  {
   "cell_type": "markdown",
   "id": "dc1c56ab",
   "metadata": {},
   "source": [
    "### 导入数据集统计表格"
   ]
  },
  {
   "cell_type": "code",
   "execution_count": 5,
   "id": "c873089b",
   "metadata": {},
   "outputs": [],
   "source": [
    "df = pd.read_csv('数据集统计.csv')"
   ]
  },
  {
   "cell_type": "code",
   "execution_count": 6,
   "id": "c7424f6c",
   "metadata": {},
   "outputs": [
    {
     "data": {
      "text/plain": [
       "(21, 4)"
      ]
     },
     "execution_count": 6,
     "metadata": {},
     "output_type": "execute_result"
    }
   ],
   "source": [
    "df.shape"
   ]
  },
  {
   "cell_type": "code",
   "execution_count": 7,
   "id": "138e7c7e",
   "metadata": {},
   "outputs": [
    {
     "data": {
      "text/html": [
       "<div>\n",
       "<style scoped>\n",
       "    .dataframe tbody tr th:only-of-type {\n",
       "        vertical-align: middle;\n",
       "    }\n",
       "\n",
       "    .dataframe tbody tr th {\n",
       "        vertical-align: top;\n",
       "    }\n",
       "\n",
       "    .dataframe thead th {\n",
       "        text-align: right;\n",
       "    }\n",
       "</style>\n",
       "<table border=\"1\" class=\"dataframe\">\n",
       "  <thead>\n",
       "    <tr style=\"text-align: right;\">\n",
       "      <th></th>\n",
       "      <th>class</th>\n",
       "      <th>trainset</th>\n",
       "      <th>testset</th>\n",
       "      <th>total</th>\n",
       "    </tr>\n",
       "  </thead>\n",
       "  <tbody>\n",
       "    <tr>\n",
       "      <th>0</th>\n",
       "      <td>圣女果</td>\n",
       "      <td>160.0</td>\n",
       "      <td>39.0</td>\n",
       "      <td>199.0</td>\n",
       "    </tr>\n",
       "    <tr>\n",
       "      <th>1</th>\n",
       "      <td>芒果</td>\n",
       "      <td>119.0</td>\n",
       "      <td>29.0</td>\n",
       "      <td>148.0</td>\n",
       "    </tr>\n",
       "    <tr>\n",
       "      <th>2</th>\n",
       "      <td>菠萝</td>\n",
       "      <td>160.0</td>\n",
       "      <td>40.0</td>\n",
       "      <td>200.0</td>\n",
       "    </tr>\n",
       "    <tr>\n",
       "      <th>3</th>\n",
       "      <td>猕猴桃</td>\n",
       "      <td>161.0</td>\n",
       "      <td>40.0</td>\n",
       "      <td>201.0</td>\n",
       "    </tr>\n",
       "    <tr>\n",
       "      <th>4</th>\n",
       "      <td>哈密瓜</td>\n",
       "      <td>160.0</td>\n",
       "      <td>39.0</td>\n",
       "      <td>199.0</td>\n",
       "    </tr>\n",
       "  </tbody>\n",
       "</table>\n",
       "</div>"
      ],
      "text/plain": [
       "  class  trainset  testset  total\n",
       "0   圣女果     160.0     39.0  199.0\n",
       "1    芒果     119.0     29.0  148.0\n",
       "2    菠萝     160.0     40.0  200.0\n",
       "3   猕猴桃     161.0     40.0  201.0\n",
       "4   哈密瓜     160.0     39.0  199.0"
      ]
     },
     "execution_count": 7,
     "metadata": {},
     "output_type": "execute_result"
    }
   ],
   "source": [
    "df.head()"
   ]
  },
  {
   "cell_type": "markdown",
   "id": "4f111353",
   "metadata": {},
   "source": [
    "### 图像数量柱状图可视化"
   ]
  },
  {
   "cell_type": "code",
   "execution_count": 8,
   "id": "03ad8e11",
   "metadata": {},
   "outputs": [],
   "source": [
    "# 指定可视化的特征\n",
    "feature = 'total'\n",
    "# feature = 'trainset'\n",
    "# feature = 'testset'"
   ]
  },
  {
   "cell_type": "code",
   "execution_count": 9,
   "id": "fa0e683d",
   "metadata": {},
   "outputs": [],
   "source": [
    "df = df.sort_values(by=feature,ascending=False)"
   ]
  },
  {
   "cell_type": "code",
   "execution_count": 10,
   "id": "88679081",
   "metadata": {},
   "outputs": [
    {
     "data": {
      "text/html": [
       "<div>\n",
       "<style scoped>\n",
       "    .dataframe tbody tr th:only-of-type {\n",
       "        vertical-align: middle;\n",
       "    }\n",
       "\n",
       "    .dataframe tbody tr th {\n",
       "        vertical-align: top;\n",
       "    }\n",
       "\n",
       "    .dataframe thead th {\n",
       "        text-align: right;\n",
       "    }\n",
       "</style>\n",
       "<table border=\"1\" class=\"dataframe\">\n",
       "  <thead>\n",
       "    <tr style=\"text-align: right;\">\n",
       "      <th></th>\n",
       "      <th>class</th>\n",
       "      <th>trainset</th>\n",
       "      <th>testset</th>\n",
       "      <th>total</th>\n",
       "    </tr>\n",
       "  </thead>\n",
       "  <tbody>\n",
       "    <tr>\n",
       "      <th>3</th>\n",
       "      <td>猕猴桃</td>\n",
       "      <td>161.0</td>\n",
       "      <td>40.0</td>\n",
       "      <td>201.0</td>\n",
       "    </tr>\n",
       "    <tr>\n",
       "      <th>13</th>\n",
       "      <td>香蕉</td>\n",
       "      <td>161.0</td>\n",
       "      <td>40.0</td>\n",
       "      <td>201.0</td>\n",
       "    </tr>\n",
       "    <tr>\n",
       "      <th>8</th>\n",
       "      <td>草莓</td>\n",
       "      <td>160.0</td>\n",
       "      <td>40.0</td>\n",
       "      <td>200.0</td>\n",
       "    </tr>\n",
       "    <tr>\n",
       "      <th>2</th>\n",
       "      <td>菠萝</td>\n",
       "      <td>160.0</td>\n",
       "      <td>40.0</td>\n",
       "      <td>200.0</td>\n",
       "    </tr>\n",
       "    <tr>\n",
       "      <th>11</th>\n",
       "      <td>桂圆</td>\n",
       "      <td>160.0</td>\n",
       "      <td>40.0</td>\n",
       "      <td>200.0</td>\n",
       "    </tr>\n",
       "  </tbody>\n",
       "</table>\n",
       "</div>"
      ],
      "text/plain": [
       "   class  trainset  testset  total\n",
       "3    猕猴桃     161.0     40.0  201.0\n",
       "13    香蕉     161.0     40.0  201.0\n",
       "8     草莓     160.0     40.0  200.0\n",
       "2     菠萝     160.0     40.0  200.0\n",
       "11    桂圆     160.0     40.0  200.0"
      ]
     },
     "execution_count": 10,
     "metadata": {},
     "output_type": "execute_result"
    }
   ],
   "source": [
    "df.head()"
   ]
  },
  {
   "cell_type": "code",
   "execution_count": 11,
   "id": "dad6d1d0",
   "metadata": {},
   "outputs": [
    {
     "data": {
      "image/png": "[encoded data removed]",
      "text/plain": [
       "<Figure size 1080x504 with 1 Axes>"
      ]
     },
     "metadata": {
      "needs_background": "light"
     },
     "output_type": "display_data"
    }
   ],
   "source": [
    "plt.figure(figsize=(15,7))\n",
    "x = df['class']\n",
    "y = df[feature]\n",
    "plt.bar(x, y, facecolor='#1f77b4',edgecolor='k')\n",
    "\n",
    "plt.xticks(rotation=90)\n",
    "plt.tick_params(labelsize=15)\n",
    "plt.xlabel('类别', fontsize=20)\n",
    "plt.ylabel('图像数量', fontsize=20)\n",
    "\n",
    "# plt.savefig('各类别图片数量.pdf', dpi=120, bbox_inches='tight')\n",
    "\n",
    "plt.show()"
   ]
  },
  {
   "cell_type": "code",
   "execution_count": 14,
   "id": "db9b24c5",
   "metadata": {},
   "outputs": [
    {
     "data": {
      "image/png": "[encoded data removed]",
      "text/plain": [
       "<Figure size 1080x576 with 1 Axes>"
      ]
     },
     "metadata": {
      "needs_background": "light"
     },
     "output_type": "display_data"
    }
   ],
   "source": [
    "plt.figure(figsize=(15,8))\n",
    "x = df['class']\n",
    "y1 = df['trainset']\n",
    "y2 = df['testset']\n",
    "\n",
    "width = 0.35 # 柱状图宽度\n",
    "\n",
    "plt.bar(x, y1, width, label='训练集')\n",
    "plt.bar(x, y2, width, label='测试集')\n",
    "\n",
    "plt.xlabel('类别', fontsize=20)\n",
    "plt.ylabel('图像数量', fontsize=20)\n",
    "plt.tick_params(labelsize=13) # 设置坐标文字大小\n",
    "\n",
    "# 保存为高清的 pdf 文件\n",
    "plt.savefig('各类别图片数量.pdf', dpi=120, bbox_inches='tight')\n",
    "\n",
    "plt.legend(fontsize=16)\n",
    "\n",
    "plt.show()"
   ]
  },
  {
   "cell_type": "code",
   "execution_count": null,
   "id": "d0bb45a9-6b1e-4ece-a606-efeb6953db0d",
   "metadata": {},
   "outputs": [],
   "source": []
  }
 ],
 "metadata": {
  "kernelspec": {
   "display_name": "Python 3 (ipykernel)",
   "language": "python",
   "name": "python3"
  },
  "language_info": {
   "codemirror_mode": {
    "name": "ipython",
    "version": 3
   },
   "file_extension": ".py",
   "mimetype": "text/x-python",
   "name": "python",
   "nbconvert_exporter": "python",
   "pygments_lexer": "ipython3",
   "version": "3.7.10"
  }
 },
 "nbformat": 4,
 "nbformat_minor": 5
}

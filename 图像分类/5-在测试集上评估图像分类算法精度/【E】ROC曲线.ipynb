{
 "cells": [
  {
   "cell_type": "markdown",
   "id": "07828ece-a925-4b15-90a4-463c9f20a6e9",
   "metadata": {},
   "source": [
    "# ROC曲线\n",
    "\n",
    "绘制每个类别的ROC曲线，计算AUC值。\n",
    "\n",
    "同济子豪兄：https://space.bilibili.com/1900783"
   ]
  },
  {
   "cell_type": "markdown",
   "id": "ac088d1e-91be-41c5-942f-ddaa57bf6951",
   "metadata": {
    "tags": []
   },
   "source": [
    "## 设置Matplotlib中文字体"
   ]
  },
  {
   "cell_type": "code",
   "execution_count": 1,
   "id": "edd66105-2eb7-4d7f-940b-2886b2f040b9",
   "metadata": {},
   "outputs": [],
   "source": [
    "# # windows操作系统\n",
    "# plt.rcParams['font.sans-serif']=['SimHei']  # 用来正常显示中文标签 \n",
    "# plt.rcParams['axes.unicode_minus']=False  # 用来正常显示负号"
   ]
  },
  {
   "cell_type": "code",
   "execution_count": 2,
   "id": "2af8e027-b2f1-43ec-913b-a2e067c98f7f",
   "metadata": {},
   "outputs": [],
   "source": [
    "# Mac操作系统，参考 https://www.ngui.cc/51cto/show-727683.html\n",
    "# 下载 simhei.ttf 字体文件\n",
    "# !wget https://zihao-openmmlab.obs.cn-east-3.myhuaweicloud.com/20220716-mmclassification/dataset/SimHei.ttf"
   ]
  },
  {
   "cell_type": "code",
   "execution_count": 3,
   "id": "b2b4469a-fb29-43c4-9c55-c9e784a5e003",
   "metadata": {},
   "outputs": [
    {
     "name": "stdout",
     "output_type": "stream",
     "text": [
      "--2022-08-12 22:41:04--  https://zihao-openmmlab.obs.cn-east-3.myhuaweicloud.com/20220716-mmclassification/dataset/SimHei.ttf\n",
      "Connecting to 172.16.0.13:5848... connected.\n",
      "Proxy request sent, awaiting response... 200 OK\n",
      "Length: 10050868 (9.6M) [application/x-font-ttf]\n",
      "Saving to: ‘/environment/miniconda3/lib/python3.7/site-packages/matplotlib/mpl-data/fonts/ttf/SimHei.ttf’\n",
      "\n",
      "/environment/minico 100%[===================>]   9.58M  21.5MB/s    in 0.4s    \n",
      "\n",
      "2022-08-12 22:41:05 (21.5 MB/s) - ‘/environment/miniconda3/lib/python3.7/site-packages/matplotlib/mpl-data/fonts/ttf/SimHei.ttf’ saved [10050868/10050868]\n",
      "\n"
     ]
    }
   ],
   "source": [
    "# Linux操作系统，例如 云GPU平台：https://featurize.cn/?s=d7ce99f842414bfcaea5662a97581bd1\n",
    "# 如果遇到 SSL 相关报错，重新运行本代码块即可\n",
    "!wget https://zihao-openmmlab.obs.cn-east-3.myhuaweicloud.com/20220716-mmclassification/dataset/SimHei.ttf -O /environment/miniconda3/lib/python3.7/site-packages/matplotlib/mpl-data/fonts/ttf/SimHei.ttf\n",
    "!rm -rf /home/featurize/.cache/matplotlib\n",
    "\n",
    "import matplotlib\n",
    "matplotlib.rc(\"font\",family='SimHei') # 中文字体"
   ]
  },
  {
   "cell_type": "markdown",
   "id": "a9d9eb4d-c647-4861-b129-04522e65787d",
   "metadata": {},
   "source": [
    "## 导入工具包"
   ]
  },
  {
   "cell_type": "code",
   "execution_count": 4,
   "id": "fb20250c-a251-4ab0-9036-9880e7157a60",
   "metadata": {},
   "outputs": [],
   "source": [
    "import pandas as pd\n",
    "import numpy as np\n",
    "\n",
    "import matplotlib.pyplot as plt\n",
    "%matplotlib inline"
   ]
  },
  {
   "cell_type": "markdown",
   "id": "7190f713-522f-42ca-a3ff-c5f63aa26ffa",
   "metadata": {},
   "source": [
    "## 载入类别名称和ID"
   ]
  },
  {
   "cell_type": "code",
   "execution_count": 5,
   "id": "05eca3be-df80-405b-b9a0-94d73e3b0be9",
   "metadata": {},
   "outputs": [
    {
     "name": "stdout",
     "output_type": "stream",
     "text": [
      "['丝瓜', '人参果', '佛手瓜', '冬瓜', '南瓜', '哈密瓜', '木瓜', '甜瓜-伊丽莎白', '甜瓜-白', '甜瓜-绿', '甜瓜-金', '白兰瓜', '羊角蜜', '苦瓜', '西瓜', '西葫芦', '黄瓜']\n"
     ]
    }
   ],
   "source": [
    "idx_to_labels = np.load('idx_to_labels.npy', allow_pickle=True).item()\n",
    "# 获得类别名称\n",
    "classes = list(idx_to_labels.values())\n",
    "print(classes)"
   ]
  },
  {
   "cell_type": "markdown",
   "id": "639f560d-e43b-4ced-8cc4-220db13f1efd",
   "metadata": {},
   "source": [
    "## 载入测试集预测结果表格"
   ]
  },
  {
   "cell_type": "code",
   "execution_count": 6,
   "id": "37971908-361d-49f3-bd6c-e06eb01da58c",
   "metadata": {},
   "outputs": [],
   "source": [
    "df = pd.read_csv('测试集预测结果.csv')"
   ]
  },
  {
   "cell_type": "code",
   "execution_count": 7,
   "id": "1f641133-b9aa-495d-a995-6235dd116600",
   "metadata": {},
   "outputs": [
    {
     "data": {
      "text/html": [
       "<div>\n",
       "<style scoped>\n",
       "    .dataframe tbody tr th:only-of-type {\n",
       "        vertical-align: middle;\n",
       "    }\n",
       "\n",
       "    .dataframe tbody tr th {\n",
       "        vertical-align: top;\n",
       "    }\n",
       "\n",
       "    .dataframe thead th {\n",
       "        text-align: right;\n",
       "    }\n",
       "</style>\n",
       "<table border=\"1\" class=\"dataframe\">\n",
       "  <thead>\n",
       "    <tr style=\"text-align: right;\">\n",
       "      <th></th>\n",
       "      <th>图像路径</th>\n",
       "      <th>标注类别ID</th>\n",
       "      <th>标注类别名称</th>\n",
       "      <th>top-1-预测ID</th>\n",
       "      <th>top-1-预测名称</th>\n",
       "      <th>top-2-预测ID</th>\n",
       "      <th>top-2-预测名称</th>\n",
       "      <th>top-3-预测ID</th>\n",
       "      <th>top-3-预测名称</th>\n",
       "      <th>top-n预测正确</th>\n",
       "      <th>...</th>\n",
       "      <th>甜瓜-伊丽莎白-预测置信度</th>\n",
       "      <th>甜瓜-白-预测置信度</th>\n",
       "      <th>甜瓜-绿-预测置信度</th>\n",
       "      <th>甜瓜-金-预测置信度</th>\n",
       "      <th>白兰瓜-预测置信度</th>\n",
       "      <th>羊角蜜-预测置信度</th>\n",
       "      <th>苦瓜-预测置信度</th>\n",
       "      <th>西瓜-预测置信度</th>\n",
       "      <th>西葫芦-预测置信度</th>\n",
       "      <th>黄瓜-预测置信度</th>\n",
       "    </tr>\n",
       "  </thead>\n",
       "  <tbody>\n",
       "    <tr>\n",
       "      <th>0</th>\n",
       "      <td>melon17_split/val/丝瓜/109.jpg</td>\n",
       "      <td>0</td>\n",
       "      <td>丝瓜</td>\n",
       "      <td>0.0</td>\n",
       "      <td>丝瓜</td>\n",
       "      <td>2.0</td>\n",
       "      <td>佛手瓜</td>\n",
       "      <td>12.0</td>\n",
       "      <td>羊角蜜</td>\n",
       "      <td>1.0</td>\n",
       "      <td>...</td>\n",
       "      <td>0.002193</td>\n",
       "      <td>0.014018</td>\n",
       "      <td>0.014891</td>\n",
       "      <td>0.003501</td>\n",
       "      <td>0.006260</td>\n",
       "      <td>0.092346</td>\n",
       "      <td>0.001454</td>\n",
       "      <td>0.003925</td>\n",
       "      <td>0.006661</td>\n",
       "      <td>0.001151</td>\n",
       "    </tr>\n",
       "    <tr>\n",
       "      <th>1</th>\n",
       "      <td>melon17_split/val/丝瓜/111.jpg</td>\n",
       "      <td>0</td>\n",
       "      <td>丝瓜</td>\n",
       "      <td>0.0</td>\n",
       "      <td>丝瓜</td>\n",
       "      <td>13.0</td>\n",
       "      <td>苦瓜</td>\n",
       "      <td>15.0</td>\n",
       "      <td>西葫芦</td>\n",
       "      <td>1.0</td>\n",
       "      <td>...</td>\n",
       "      <td>0.000567</td>\n",
       "      <td>0.000372</td>\n",
       "      <td>0.000705</td>\n",
       "      <td>0.002064</td>\n",
       "      <td>0.000421</td>\n",
       "      <td>0.072553</td>\n",
       "      <td>0.195918</td>\n",
       "      <td>0.000510</td>\n",
       "      <td>0.144077</td>\n",
       "      <td>0.048166</td>\n",
       "    </tr>\n",
       "    <tr>\n",
       "      <th>2</th>\n",
       "      <td>melon17_split/val/丝瓜/113.jpg</td>\n",
       "      <td>0</td>\n",
       "      <td>丝瓜</td>\n",
       "      <td>0.0</td>\n",
       "      <td>丝瓜</td>\n",
       "      <td>5.0</td>\n",
       "      <td>哈密瓜</td>\n",
       "      <td>11.0</td>\n",
       "      <td>白兰瓜</td>\n",
       "      <td>1.0</td>\n",
       "      <td>...</td>\n",
       "      <td>0.022293</td>\n",
       "      <td>0.033744</td>\n",
       "      <td>0.002499</td>\n",
       "      <td>0.009714</td>\n",
       "      <td>0.108798</td>\n",
       "      <td>0.044752</td>\n",
       "      <td>0.009132</td>\n",
       "      <td>0.011167</td>\n",
       "      <td>0.098024</td>\n",
       "      <td>0.035007</td>\n",
       "    </tr>\n",
       "    <tr>\n",
       "      <th>3</th>\n",
       "      <td>melon17_split/val/丝瓜/115.jpg</td>\n",
       "      <td>0</td>\n",
       "      <td>丝瓜</td>\n",
       "      <td>3.0</td>\n",
       "      <td>冬瓜</td>\n",
       "      <td>0.0</td>\n",
       "      <td>丝瓜</td>\n",
       "      <td>15.0</td>\n",
       "      <td>西葫芦</td>\n",
       "      <td>1.0</td>\n",
       "      <td>...</td>\n",
       "      <td>0.000888</td>\n",
       "      <td>0.003155</td>\n",
       "      <td>0.003725</td>\n",
       "      <td>0.001007</td>\n",
       "      <td>0.006776</td>\n",
       "      <td>0.002390</td>\n",
       "      <td>0.007951</td>\n",
       "      <td>0.001781</td>\n",
       "      <td>0.100773</td>\n",
       "      <td>0.006788</td>\n",
       "    </tr>\n",
       "    <tr>\n",
       "      <th>4</th>\n",
       "      <td>melon17_split/val/丝瓜/120.jpg</td>\n",
       "      <td>0</td>\n",
       "      <td>丝瓜</td>\n",
       "      <td>0.0</td>\n",
       "      <td>丝瓜</td>\n",
       "      <td>15.0</td>\n",
       "      <td>西葫芦</td>\n",
       "      <td>16.0</td>\n",
       "      <td>黄瓜</td>\n",
       "      <td>1.0</td>\n",
       "      <td>...</td>\n",
       "      <td>0.001660</td>\n",
       "      <td>0.000126</td>\n",
       "      <td>0.000372</td>\n",
       "      <td>0.003168</td>\n",
       "      <td>0.000812</td>\n",
       "      <td>0.015668</td>\n",
       "      <td>0.047193</td>\n",
       "      <td>0.000766</td>\n",
       "      <td>0.142601</td>\n",
       "      <td>0.080202</td>\n",
       "    </tr>\n",
       "  </tbody>\n",
       "</table>\n",
       "<p>5 rows × 27 columns</p>\n",
       "</div>"
      ],
      "text/plain": [
       "                           图像路径  标注类别ID 标注类别名称  top-1-预测ID top-1-预测名称  \\\n",
       "0  melon17_split/val/丝瓜/109.jpg       0     丝瓜         0.0         丝瓜   \n",
       "1  melon17_split/val/丝瓜/111.jpg       0     丝瓜         0.0         丝瓜   \n",
       "2  melon17_split/val/丝瓜/113.jpg       0     丝瓜         0.0         丝瓜   \n",
       "3  melon17_split/val/丝瓜/115.jpg       0     丝瓜         3.0         冬瓜   \n",
       "4  melon17_split/val/丝瓜/120.jpg       0     丝瓜         0.0         丝瓜   \n",
       "\n",
       "   top-2-预测ID top-2-预测名称  top-3-预测ID top-3-预测名称  top-n预测正确  ...  \\\n",
       "0         2.0        佛手瓜        12.0        羊角蜜        1.0  ...   \n",
       "1        13.0         苦瓜        15.0        西葫芦        1.0  ...   \n",
       "2         5.0        哈密瓜        11.0        白兰瓜        1.0  ...   \n",
       "3         0.0         丝瓜        15.0        西葫芦        1.0  ...   \n",
       "4        15.0        西葫芦        16.0         黄瓜        1.0  ...   \n",
       "\n",
       "   甜瓜-伊丽莎白-预测置信度  甜瓜-白-预测置信度  甜瓜-绿-预测置信度  甜瓜-金-预测置信度  白兰瓜-预测置信度  羊角蜜-预测置信度  \\\n",
       "0       0.002193    0.014018    0.014891    0.003501   0.006260   0.092346   \n",
       "1       0.000567    0.000372    0.000705    0.002064   0.000421   0.072553   \n",
       "2       0.022293    0.033744    0.002499    0.009714   0.108798   0.044752   \n",
       "3       0.000888    0.003155    0.003725    0.001007   0.006776   0.002390   \n",
       "4       0.001660    0.000126    0.000372    0.003168   0.000812   0.015668   \n",
       "\n",
       "   苦瓜-预测置信度  西瓜-预测置信度  西葫芦-预测置信度  黄瓜-预测置信度  \n",
       "0  0.001454  0.003925   0.006661  0.001151  \n",
       "1  0.195918  0.000510   0.144077  0.048166  \n",
       "2  0.009132  0.011167   0.098024  0.035007  \n",
       "3  0.007951  0.001781   0.100773  0.006788  \n",
       "4  0.047193  0.000766   0.142601  0.080202  \n",
       "\n",
       "[5 rows x 27 columns]"
      ]
     },
     "execution_count": 7,
     "metadata": {},
     "output_type": "execute_result"
    }
   ],
   "source": [
    "df.head()"
   ]
  },
  {
   "cell_type": "markdown",
   "id": "94b476e9-798c-4a20-9094-b47b07aad7ec",
   "metadata": {
    "tags": []
   },
   "source": [
    "## 绘制某一类别的ROC曲线"
   ]
  },
  {
   "cell_type": "code",
   "execution_count": 8,
   "id": "91ee6bbb-a403-443d-a290-467c03b92f57",
   "metadata": {},
   "outputs": [],
   "source": [
    "specific_class = '冬瓜'"
   ]
  },
  {
   "cell_type": "code",
   "execution_count": 9,
   "id": "ad90c989-c6ff-48b5-ac49-67e53f355126",
   "metadata": {},
   "outputs": [],
   "source": [
    "# 二分类标注\n",
    "y_test = (df['标注类别名称'] == specific_class)"
   ]
  },
  {
   "cell_type": "code",
   "execution_count": 10,
   "id": "a1b0531a-d2cc-41fd-b3fb-7ddcdae54bb2",
   "metadata": {},
   "outputs": [
    {
     "data": {
      "text/plain": [
       "0      False\n",
       "1      False\n",
       "2      False\n",
       "3      False\n",
       "4      False\n",
       "       ...  \n",
       "504    False\n",
       "505    False\n",
       "506    False\n",
       "507    False\n",
       "508    False\n",
       "Name: 标注类别名称, Length: 509, dtype: bool"
      ]
     },
     "execution_count": 10,
     "metadata": {},
     "output_type": "execute_result"
    }
   ],
   "source": [
    "y_test"
   ]
  },
  {
   "cell_type": "code",
   "execution_count": 11,
   "id": "67cb0ce7-3370-4a9e-832d-dd0edc025921",
   "metadata": {},
   "outputs": [],
   "source": [
    "# 二分类置信度\n",
    "y_score = df['冬瓜-预测置信度']"
   ]
  },
  {
   "cell_type": "code",
   "execution_count": 12,
   "id": "5b3977a2-692f-46b2-8260-ccb0fdb965d0",
   "metadata": {},
   "outputs": [
    {
     "data": {
      "text/plain": [
       "0      0.073995\n",
       "1      0.111391\n",
       "2      0.107504\n",
       "3      0.750537\n",
       "4      0.044603\n",
       "         ...   \n",
       "504    0.042980\n",
       "505    0.005824\n",
       "506    0.046543\n",
       "507    0.001666\n",
       "508    0.006476\n",
       "Name: 冬瓜-预测置信度, Length: 509, dtype: float64"
      ]
     },
     "execution_count": 12,
     "metadata": {},
     "output_type": "execute_result"
    }
   ],
   "source": [
    "y_score"
   ]
  },
  {
   "cell_type": "code",
   "execution_count": 13,
   "id": "be7dde5b-34b4-4606-91eb-626b22f4054f",
   "metadata": {},
   "outputs": [],
   "source": [
    "from sklearn.metrics import roc_curve, auc\n",
    "fpr, tpr, threshold = roc_curve(y_test, y_score)"
   ]
  },
  {
   "cell_type": "code",
   "execution_count": 14,
   "id": "6a57ace9-8f10-4068-a43a-479504368bef",
   "metadata": {},
   "outputs": [
    {
     "data": {
      "image/png": "[encoded data removed]",
      "text/plain": [
       "<Figure size 864x576 with 1 Axes>"
      ]
     },
     "metadata": {
      "needs_background": "light"
     },
     "output_type": "display_data"
    }
   ],
   "source": [
    "plt.figure(figsize=(12, 8))\n",
    "plt.plot(fpr, tpr, linewidth=5, label=specific_class)\n",
    "plt.plot([0, 1], [0, 1],ls=\"--\", c='.3', linewidth=3, label='随机模型')\n",
    "plt.xlim([-0.01, 1.0])\n",
    "plt.ylim([0.0, 1.01])\n",
    "plt.rcParams['font.size'] = 22\n",
    "plt.title('{} ROC曲线  AUC:{:.3f}'.format(specific_class, auc(fpr, tpr)))\n",
    "plt.xlabel('False Positive Rate (1 - Specificity)')\n",
    "plt.ylabel('True Positive Rate (Sensitivity)')\n",
    "plt.legend()\n",
    "plt.grid(True)\n",
    "plt.show()"
   ]
  },
  {
   "cell_type": "code",
   "execution_count": 15,
   "id": "9ee53771-35ea-4877-a2eb-eee39528417a",
   "metadata": {},
   "outputs": [
    {
     "data": {
      "text/plain": [
       "0.9791927627000696"
      ]
     },
     "execution_count": 15,
     "metadata": {},
     "output_type": "execute_result"
    }
   ],
   "source": [
    "auc(fpr, tpr)"
   ]
  },
  {
   "cell_type": "markdown",
   "id": "32dc7160-b42c-4a67-b8b0-47da4ecf7081",
   "metadata": {},
   "source": [
    "## 绘制所有类别的ROC曲线"
   ]
  },
  {
   "cell_type": "code",
   "execution_count": 25,
   "id": "d9330f60-616f-4540-823b-c09c2342141a",
   "metadata": {},
   "outputs": [],
   "source": [
    "from matplotlib import colors as mcolors\n",
    "import random\n",
    "random.seed(124)\n",
    "colors = ['b', 'g', 'r', 'c', 'm', 'y', 'k', 'tab:blue', 'tab:orange', 'tab:green', 'tab:red', 'tab:purple', 'tab:brown', 'tab:pink', 'tab:gray', 'tab:olive', 'tab:cyan', 'black', 'dimgray', 'dimgrey', 'gray', 'rosybrown', 'lightcoral', 'indianred', 'brown', 'firebrick', 'maroon', 'darkred', 'red', 'salmon', 'tomato', 'darksalmon', 'coral', 'orangered', 'lightsalmon', 'sienna', 'chocolate', 'saddlebrown', 'sandybrown', 'peachpuff', 'peru', 'darkorange', 'burlywood', 'tan', 'orange', 'wheat', 'darkgoldenrod', 'goldenrod', 'gold', 'khaki', 'palegoldenrod', 'darkkhaki', 'olive', 'yellow', 'olivedrab', 'yellowgreen', 'darkolivegreen', 'greenyellow', 'chartreuse', 'lawngreen', 'darkseagreen', 'palegreen', 'lightgreen', 'forestgreen', 'limegreen', 'darkgreen', 'green', 'lime', 'seagreen', 'mediumseagreen', 'springgreen', 'mediumspringgreen', 'mediumaquamarine', 'aquamarine', 'turquoise', 'lightseagreen', 'mediumturquoise', 'paleturquoise', 'darkslategray', 'darkslategrey', 'teal', 'darkcyan', 'aqua', 'cyan', 'darkturquoise', 'cadetblue', 'powderblue', 'lightblue', 'deepskyblue', 'skyblue', 'lightskyblue', 'steelblue', 'dodgerblue', 'lightslategray', 'lightslategrey', 'slategray', 'slategrey', 'lightsteelblue', 'cornflowerblue', 'royalblue', 'midnightblue', 'navy', 'darkblue', 'mediumblue', 'blue', 'slateblue', 'darkslateblue', 'mediumslateblue', 'mediumpurple', 'rebeccapurple', 'blueviolet', 'indigo', 'darkorchid', 'darkviolet', 'mediumorchid', 'thistle', 'plum', 'violet', 'purple', 'darkmagenta', 'fuchsia', 'magenta', 'orchid', 'mediumvioletred', 'deeppink', 'hotpink', 'lavenderblush', 'palevioletred', 'crimson', 'pink', 'lightpink']\n",
    "markers = [\".\",\",\",\"o\",\"v\",\"^\",\"<\",\">\",\"1\",\"2\",\"3\",\"4\",\"8\",\"s\",\"p\",\"P\",\"*\",\"h\",\"H\",\"+\",\"x\",\"X\",\"D\",\"d\",\"|\",\"_\",0,1,2,3,4,5,6,7,8,9,10,11]\n",
    "linestyle = ['--', '-.', '-']"
   ]
  },
  {
   "cell_type": "code",
   "execution_count": 26,
   "id": "eb2c245b-8bf0-4396-8b49-2f859b2983da",
   "metadata": {},
   "outputs": [],
   "source": [
    "def get_line_arg():\n",
    "    '''\n",
    "    随机产生一种绘图线型\n",
    "    '''\n",
    "    line_arg = {}\n",
    "    line_arg['color'] = random.choice(colors)\n",
    "    # line_arg['marker'] = random.choice(markers)\n",
    "    line_arg['linestyle'] = random.choice(linestyle)\n",
    "    line_arg['linewidth'] = random.randint(2, 6)\n",
    "    # line_arg['markersize'] = random.randint(3, 5)\n",
    "    return line_arg"
   ]
  },
  {
   "cell_type": "code",
   "execution_count": 27,
   "id": "b89e1747-0f80-4a12-a7af-029d487d1a1c",
   "metadata": {},
   "outputs": [
    {
     "data": {
      "text/plain": [
       "{'color': 'mediumspringgreen', 'linestyle': '-', 'linewidth': 2}"
      ]
     },
     "execution_count": 27,
     "metadata": {},
     "output_type": "execute_result"
    }
   ],
   "source": [
    "get_line_arg()"
   ]
  },
  {
   "cell_type": "code",
   "execution_count": 28,
   "id": "278c2dcb-f3cc-4990-a87a-560dca4e4cbf",
   "metadata": {},
   "outputs": [
    {
     "data": {
      "image/png": "[encoded data removed]",
      "text/plain": [
       "<Figure size 1008x720 with 1 Axes>"
      ]
     },
     "metadata": {
      "needs_background": "light"
     },
     "output_type": "display_data"
    }
   ],
   "source": [
    "plt.figure(figsize=(14, 10))\n",
    "plt.xlim([-0.01, 1.0])\n",
    "plt.ylim([0.0, 1.01])\n",
    "plt.plot([0, 1], [0, 1],ls=\"--\", c='.3', linewidth=3, label='随机模型')\n",
    "plt.xlabel('False Positive Rate (1 - Specificity)')\n",
    "plt.ylabel('True Positive Rate (Sensitivity)')\n",
    "plt.rcParams['font.size'] = 22\n",
    "plt.grid(True)\n",
    "\n",
    "auc_list = []\n",
    "for each_class in classes:\n",
    "    y_test = list((df['标注类别名称'] == each_class))\n",
    "    y_score = list(df['{}-预测置信度'.format(each_class)])\n",
    "    fpr, tpr, threshold = roc_curve(y_test, y_score)\n",
    "    plt.plot(fpr, tpr, **get_line_arg(), label=each_class)\n",
    "    plt.legend()\n",
    "    auc_list.append(auc(fpr, tpr))\n",
    "\n",
    "plt.legend(loc='best', fontsize=20)\n",
    "plt.show()"
   ]
  },
  {
   "cell_type": "markdown",
   "id": "2289236e-64b3-4e5c-9b5c-e01671d64c11",
   "metadata": {},
   "source": [
    "## 将AUC增加至`各类别准确率评估指标`表格中"
   ]
  },
  {
   "cell_type": "code",
   "execution_count": 29,
   "id": "7d0a0009-ea52-41c9-a26a-f68328d87a6c",
   "metadata": {},
   "outputs": [],
   "source": [
    "df_report = pd.read_csv('各类别准确率评估指标.csv')"
   ]
  },
  {
   "cell_type": "code",
   "execution_count": 30,
   "id": "9bc60ce0-8634-4484-bbbf-e2fc1aefaddf",
   "metadata": {},
   "outputs": [
    {
     "data": {
      "text/html": [
       "<div>\n",
       "<style scoped>\n",
       "    .dataframe tbody tr th:only-of-type {\n",
       "        vertical-align: middle;\n",
       "    }\n",
       "\n",
       "    .dataframe tbody tr th {\n",
       "        vertical-align: top;\n",
       "    }\n",
       "\n",
       "    .dataframe thead th {\n",
       "        text-align: right;\n",
       "    }\n",
       "</style>\n",
       "<table border=\"1\" class=\"dataframe\">\n",
       "  <thead>\n",
       "    <tr style=\"text-align: right;\">\n",
       "      <th></th>\n",
       "      <th>类别</th>\n",
       "      <th>precision</th>\n",
       "      <th>recall</th>\n",
       "      <th>f1-score</th>\n",
       "      <th>support</th>\n",
       "    </tr>\n",
       "  </thead>\n",
       "  <tbody>\n",
       "    <tr>\n",
       "      <th>0</th>\n",
       "      <td>丝瓜</td>\n",
       "      <td>0.681818</td>\n",
       "      <td>0.810811</td>\n",
       "      <td>0.740741</td>\n",
       "      <td>37.0</td>\n",
       "    </tr>\n",
       "    <tr>\n",
       "      <th>1</th>\n",
       "      <td>人参果</td>\n",
       "      <td>0.846154</td>\n",
       "      <td>0.916667</td>\n",
       "      <td>0.880000</td>\n",
       "      <td>36.0</td>\n",
       "    </tr>\n",
       "    <tr>\n",
       "      <th>2</th>\n",
       "      <td>佛手瓜</td>\n",
       "      <td>0.961538</td>\n",
       "      <td>0.781250</td>\n",
       "      <td>0.862069</td>\n",
       "      <td>32.0</td>\n",
       "    </tr>\n",
       "    <tr>\n",
       "      <th>3</th>\n",
       "      <td>冬瓜</td>\n",
       "      <td>0.740741</td>\n",
       "      <td>0.666667</td>\n",
       "      <td>0.701754</td>\n",
       "      <td>30.0</td>\n",
       "    </tr>\n",
       "    <tr>\n",
       "      <th>4</th>\n",
       "      <td>南瓜</td>\n",
       "      <td>0.885714</td>\n",
       "      <td>0.861111</td>\n",
       "      <td>0.873239</td>\n",
       "      <td>36.0</td>\n",
       "    </tr>\n",
       "    <tr>\n",
       "      <th>5</th>\n",
       "      <td>哈密瓜</td>\n",
       "      <td>0.795455</td>\n",
       "      <td>0.897436</td>\n",
       "      <td>0.843373</td>\n",
       "      <td>39.0</td>\n",
       "    </tr>\n",
       "    <tr>\n",
       "      <th>6</th>\n",
       "      <td>木瓜</td>\n",
       "      <td>0.888889</td>\n",
       "      <td>0.842105</td>\n",
       "      <td>0.864865</td>\n",
       "      <td>38.0</td>\n",
       "    </tr>\n",
       "    <tr>\n",
       "      <th>7</th>\n",
       "      <td>甜瓜-伊丽莎白</td>\n",
       "      <td>0.500000</td>\n",
       "      <td>0.444444</td>\n",
       "      <td>0.470588</td>\n",
       "      <td>18.0</td>\n",
       "    </tr>\n",
       "    <tr>\n",
       "      <th>8</th>\n",
       "      <td>甜瓜-白</td>\n",
       "      <td>0.500000</td>\n",
       "      <td>0.647059</td>\n",
       "      <td>0.564103</td>\n",
       "      <td>17.0</td>\n",
       "    </tr>\n",
       "    <tr>\n",
       "      <th>9</th>\n",
       "      <td>甜瓜-绿</td>\n",
       "      <td>0.571429</td>\n",
       "      <td>0.500000</td>\n",
       "      <td>0.533333</td>\n",
       "      <td>8.0</td>\n",
       "    </tr>\n",
       "    <tr>\n",
       "      <th>10</th>\n",
       "      <td>甜瓜-金</td>\n",
       "      <td>0.777778</td>\n",
       "      <td>0.700000</td>\n",
       "      <td>0.736842</td>\n",
       "      <td>10.0</td>\n",
       "    </tr>\n",
       "    <tr>\n",
       "      <th>11</th>\n",
       "      <td>白兰瓜</td>\n",
       "      <td>0.600000</td>\n",
       "      <td>0.480000</td>\n",
       "      <td>0.533333</td>\n",
       "      <td>25.0</td>\n",
       "    </tr>\n",
       "    <tr>\n",
       "      <th>12</th>\n",
       "      <td>羊角蜜</td>\n",
       "      <td>0.925000</td>\n",
       "      <td>0.948718</td>\n",
       "      <td>0.936709</td>\n",
       "      <td>39.0</td>\n",
       "    </tr>\n",
       "    <tr>\n",
       "      <th>13</th>\n",
       "      <td>苦瓜</td>\n",
       "      <td>0.916667</td>\n",
       "      <td>0.891892</td>\n",
       "      <td>0.904110</td>\n",
       "      <td>37.0</td>\n",
       "    </tr>\n",
       "    <tr>\n",
       "      <th>14</th>\n",
       "      <td>西瓜</td>\n",
       "      <td>0.795455</td>\n",
       "      <td>0.921053</td>\n",
       "      <td>0.853659</td>\n",
       "      <td>38.0</td>\n",
       "    </tr>\n",
       "    <tr>\n",
       "      <th>15</th>\n",
       "      <td>西葫芦</td>\n",
       "      <td>0.702703</td>\n",
       "      <td>0.787879</td>\n",
       "      <td>0.742857</td>\n",
       "      <td>33.0</td>\n",
       "    </tr>\n",
       "    <tr>\n",
       "      <th>16</th>\n",
       "      <td>黄瓜</td>\n",
       "      <td>0.777778</td>\n",
       "      <td>0.583333</td>\n",
       "      <td>0.666667</td>\n",
       "      <td>36.0</td>\n",
       "    </tr>\n",
       "    <tr>\n",
       "      <th>17</th>\n",
       "      <td>macro avg</td>\n",
       "      <td>0.756889</td>\n",
       "      <td>0.745907</td>\n",
       "      <td>0.747544</td>\n",
       "      <td>509.0</td>\n",
       "    </tr>\n",
       "    <tr>\n",
       "      <th>18</th>\n",
       "      <td>weighted avg</td>\n",
       "      <td>0.789045</td>\n",
       "      <td>0.785855</td>\n",
       "      <td>0.783664</td>\n",
       "      <td>509.0</td>\n",
       "    </tr>\n",
       "  </tbody>\n",
       "</table>\n",
       "</div>"
      ],
      "text/plain": [
       "              类别  precision    recall  f1-score  support\n",
       "0             丝瓜   0.681818  0.810811  0.740741     37.0\n",
       "1            人参果   0.846154  0.916667  0.880000     36.0\n",
       "2            佛手瓜   0.961538  0.781250  0.862069     32.0\n",
       "3             冬瓜   0.740741  0.666667  0.701754     30.0\n",
       "4             南瓜   0.885714  0.861111  0.873239     36.0\n",
       "5            哈密瓜   0.795455  0.897436  0.843373     39.0\n",
       "6             木瓜   0.888889  0.842105  0.864865     38.0\n",
       "7        甜瓜-伊丽莎白   0.500000  0.444444  0.470588     18.0\n",
       "8           甜瓜-白   0.500000  0.647059  0.564103     17.0\n",
       "9           甜瓜-绿   0.571429  0.500000  0.533333      8.0\n",
       "10          甜瓜-金   0.777778  0.700000  0.736842     10.0\n",
       "11           白兰瓜   0.600000  0.480000  0.533333     25.0\n",
       "12           羊角蜜   0.925000  0.948718  0.936709     39.0\n",
       "13            苦瓜   0.916667  0.891892  0.904110     37.0\n",
       "14            西瓜   0.795455  0.921053  0.853659     38.0\n",
       "15           西葫芦   0.702703  0.787879  0.742857     33.0\n",
       "16            黄瓜   0.777778  0.583333  0.666667     36.0\n",
       "17     macro avg   0.756889  0.745907  0.747544    509.0\n",
       "18  weighted avg   0.789045  0.785855  0.783664    509.0"
      ]
     },
     "execution_count": 30,
     "metadata": {},
     "output_type": "execute_result"
    }
   ],
   "source": [
    "df_report"
   ]
  },
  {
   "cell_type": "code",
   "execution_count": 31,
   "id": "17c00bf3-2ade-41e1-a147-55dbdab82169",
   "metadata": {},
   "outputs": [],
   "source": [
    "# 计算 AUC值 的 宏平均 和 加权平均\n",
    "macro_avg_auc = np.mean(auc_list)\n",
    "weighted_avg_auc = sum(auc_list * df_report.iloc[:-2]['support'] / len(df))"
   ]
  },
  {
   "cell_type": "code",
   "execution_count": 32,
   "id": "637cd797-18e3-470f-917a-5b38819eb601",
   "metadata": {},
   "outputs": [],
   "source": [
    "auc_list.append(macro_avg_auc)\n",
    "auc_list.append(weighted_avg_auc)"
   ]
  },
  {
   "cell_type": "code",
   "execution_count": 33,
   "id": "ac7cac95-53ef-4ffc-8ba6-073f8a5bae99",
   "metadata": {},
   "outputs": [],
   "source": [
    "df_report['AUC'] = auc_list"
   ]
  },
  {
   "cell_type": "code",
   "execution_count": 34,
   "id": "888c6ecc-4c6b-4734-9938-a377e9c744fc",
   "metadata": {},
   "outputs": [
    {
     "data": {
      "text/html": [
       "<div>\n",
       "<style scoped>\n",
       "    .dataframe tbody tr th:only-of-type {\n",
       "        vertical-align: middle;\n",
       "    }\n",
       "\n",
       "    .dataframe tbody tr th {\n",
       "        vertical-align: top;\n",
       "    }\n",
       "\n",
       "    .dataframe thead th {\n",
       "        text-align: right;\n",
       "    }\n",
       "</style>\n",
       "<table border=\"1\" class=\"dataframe\">\n",
       "  <thead>\n",
       "    <tr style=\"text-align: right;\">\n",
       "      <th></th>\n",
       "      <th>类别</th>\n",
       "      <th>precision</th>\n",
       "      <th>recall</th>\n",
       "      <th>f1-score</th>\n",
       "      <th>support</th>\n",
       "      <th>AUC</th>\n",
       "    </tr>\n",
       "  </thead>\n",
       "  <tbody>\n",
       "    <tr>\n",
       "      <th>0</th>\n",
       "      <td>丝瓜</td>\n",
       "      <td>0.681818</td>\n",
       "      <td>0.810811</td>\n",
       "      <td>0.740741</td>\n",
       "      <td>37.0</td>\n",
       "      <td>0.971656</td>\n",
       "    </tr>\n",
       "    <tr>\n",
       "      <th>1</th>\n",
       "      <td>人参果</td>\n",
       "      <td>0.846154</td>\n",
       "      <td>0.916667</td>\n",
       "      <td>0.880000</td>\n",
       "      <td>36.0</td>\n",
       "      <td>0.993599</td>\n",
       "    </tr>\n",
       "    <tr>\n",
       "      <th>2</th>\n",
       "      <td>佛手瓜</td>\n",
       "      <td>0.961538</td>\n",
       "      <td>0.781250</td>\n",
       "      <td>0.862069</td>\n",
       "      <td>32.0</td>\n",
       "      <td>0.989845</td>\n",
       "    </tr>\n",
       "    <tr>\n",
       "      <th>3</th>\n",
       "      <td>冬瓜</td>\n",
       "      <td>0.740741</td>\n",
       "      <td>0.666667</td>\n",
       "      <td>0.701754</td>\n",
       "      <td>30.0</td>\n",
       "      <td>0.979193</td>\n",
       "    </tr>\n",
       "    <tr>\n",
       "      <th>4</th>\n",
       "      <td>南瓜</td>\n",
       "      <td>0.885714</td>\n",
       "      <td>0.861111</td>\n",
       "      <td>0.873239</td>\n",
       "      <td>36.0</td>\n",
       "      <td>0.994538</td>\n",
       "    </tr>\n",
       "    <tr>\n",
       "      <th>5</th>\n",
       "      <td>哈密瓜</td>\n",
       "      <td>0.795455</td>\n",
       "      <td>0.897436</td>\n",
       "      <td>0.843373</td>\n",
       "      <td>39.0</td>\n",
       "      <td>0.988925</td>\n",
       "    </tr>\n",
       "    <tr>\n",
       "      <th>6</th>\n",
       "      <td>木瓜</td>\n",
       "      <td>0.888889</td>\n",
       "      <td>0.842105</td>\n",
       "      <td>0.864865</td>\n",
       "      <td>38.0</td>\n",
       "      <td>0.973517</td>\n",
       "    </tr>\n",
       "    <tr>\n",
       "      <th>7</th>\n",
       "      <td>甜瓜-伊丽莎白</td>\n",
       "      <td>0.500000</td>\n",
       "      <td>0.444444</td>\n",
       "      <td>0.470588</td>\n",
       "      <td>18.0</td>\n",
       "      <td>0.953949</td>\n",
       "    </tr>\n",
       "    <tr>\n",
       "      <th>8</th>\n",
       "      <td>甜瓜-白</td>\n",
       "      <td>0.500000</td>\n",
       "      <td>0.647059</td>\n",
       "      <td>0.564103</td>\n",
       "      <td>17.0</td>\n",
       "      <td>0.983620</td>\n",
       "    </tr>\n",
       "    <tr>\n",
       "      <th>9</th>\n",
       "      <td>甜瓜-绿</td>\n",
       "      <td>0.571429</td>\n",
       "      <td>0.500000</td>\n",
       "      <td>0.533333</td>\n",
       "      <td>8.0</td>\n",
       "      <td>0.947355</td>\n",
       "    </tr>\n",
       "    <tr>\n",
       "      <th>10</th>\n",
       "      <td>甜瓜-金</td>\n",
       "      <td>0.777778</td>\n",
       "      <td>0.700000</td>\n",
       "      <td>0.736842</td>\n",
       "      <td>10.0</td>\n",
       "      <td>0.996393</td>\n",
       "    </tr>\n",
       "    <tr>\n",
       "      <th>11</th>\n",
       "      <td>白兰瓜</td>\n",
       "      <td>0.600000</td>\n",
       "      <td>0.480000</td>\n",
       "      <td>0.533333</td>\n",
       "      <td>25.0</td>\n",
       "      <td>0.971818</td>\n",
       "    </tr>\n",
       "    <tr>\n",
       "      <th>12</th>\n",
       "      <td>羊角蜜</td>\n",
       "      <td>0.925000</td>\n",
       "      <td>0.948718</td>\n",
       "      <td>0.936709</td>\n",
       "      <td>39.0</td>\n",
       "      <td>0.999127</td>\n",
       "    </tr>\n",
       "    <tr>\n",
       "      <th>13</th>\n",
       "      <td>苦瓜</td>\n",
       "      <td>0.916667</td>\n",
       "      <td>0.891892</td>\n",
       "      <td>0.904110</td>\n",
       "      <td>37.0</td>\n",
       "      <td>0.997538</td>\n",
       "    </tr>\n",
       "    <tr>\n",
       "      <th>14</th>\n",
       "      <td>西瓜</td>\n",
       "      <td>0.795455</td>\n",
       "      <td>0.921053</td>\n",
       "      <td>0.853659</td>\n",
       "      <td>38.0</td>\n",
       "      <td>0.997653</td>\n",
       "    </tr>\n",
       "    <tr>\n",
       "      <th>15</th>\n",
       "      <td>西葫芦</td>\n",
       "      <td>0.702703</td>\n",
       "      <td>0.787879</td>\n",
       "      <td>0.742857</td>\n",
       "      <td>33.0</td>\n",
       "      <td>0.982875</td>\n",
       "    </tr>\n",
       "    <tr>\n",
       "      <th>16</th>\n",
       "      <td>黄瓜</td>\n",
       "      <td>0.777778</td>\n",
       "      <td>0.583333</td>\n",
       "      <td>0.666667</td>\n",
       "      <td>36.0</td>\n",
       "      <td>0.951315</td>\n",
       "    </tr>\n",
       "    <tr>\n",
       "      <th>17</th>\n",
       "      <td>macro avg</td>\n",
       "      <td>0.756889</td>\n",
       "      <td>0.745907</td>\n",
       "      <td>0.747544</td>\n",
       "      <td>509.0</td>\n",
       "      <td>0.980760</td>\n",
       "    </tr>\n",
       "    <tr>\n",
       "      <th>18</th>\n",
       "      <td>weighted avg</td>\n",
       "      <td>0.789045</td>\n",
       "      <td>0.785855</td>\n",
       "      <td>0.783664</td>\n",
       "      <td>509.0</td>\n",
       "      <td>0.982977</td>\n",
       "    </tr>\n",
       "  </tbody>\n",
       "</table>\n",
       "</div>"
      ],
      "text/plain": [
       "              类别  precision    recall  f1-score  support       AUC\n",
       "0             丝瓜   0.681818  0.810811  0.740741     37.0  0.971656\n",
       "1            人参果   0.846154  0.916667  0.880000     36.0  0.993599\n",
       "2            佛手瓜   0.961538  0.781250  0.862069     32.0  0.989845\n",
       "3             冬瓜   0.740741  0.666667  0.701754     30.0  0.979193\n",
       "4             南瓜   0.885714  0.861111  0.873239     36.0  0.994538\n",
       "5            哈密瓜   0.795455  0.897436  0.843373     39.0  0.988925\n",
       "6             木瓜   0.888889  0.842105  0.864865     38.0  0.973517\n",
       "7        甜瓜-伊丽莎白   0.500000  0.444444  0.470588     18.0  0.953949\n",
       "8           甜瓜-白   0.500000  0.647059  0.564103     17.0  0.983620\n",
       "9           甜瓜-绿   0.571429  0.500000  0.533333      8.0  0.947355\n",
       "10          甜瓜-金   0.777778  0.700000  0.736842     10.0  0.996393\n",
       "11           白兰瓜   0.600000  0.480000  0.533333     25.0  0.971818\n",
       "12           羊角蜜   0.925000  0.948718  0.936709     39.0  0.999127\n",
       "13            苦瓜   0.916667  0.891892  0.904110     37.0  0.997538\n",
       "14            西瓜   0.795455  0.921053  0.853659     38.0  0.997653\n",
       "15           西葫芦   0.702703  0.787879  0.742857     33.0  0.982875\n",
       "16            黄瓜   0.777778  0.583333  0.666667     36.0  0.951315\n",
       "17     macro avg   0.756889  0.745907  0.747544    509.0  0.980760\n",
       "18  weighted avg   0.789045  0.785855  0.783664    509.0  0.982977"
      ]
     },
     "execution_count": 34,
     "metadata": {},
     "output_type": "execute_result"
    }
   ],
   "source": [
    "df_report"
   ]
  },
  {
   "cell_type": "code",
   "execution_count": 35,
   "id": "c547501e-9d4b-494b-ba60-92081aac6d48",
   "metadata": {},
   "outputs": [],
   "source": [
    "df_report.to_csv('各类别准确率评估指标.csv', index=False)"
   ]
  },
  {
   "cell_type": "code",
   "execution_count": null,
   "id": "bc7f245e-75bd-457f-ad77-f13a398b2def",
   "metadata": {},
   "outputs": [],
   "source": []
  }
 ],
 "metadata": {
  "kernelspec": {
   "display_name": "Python 3 (ipykernel)",
   "language": "python",
   "name": "python3"
  },
  "language_info": {
   "codemirror_mode": {
    "name": "ipython",
    "version": 3
   },
   "file_extension": ".py",
   "mimetype": "text/x-python",
   "name": "python",
   "nbconvert_exporter": "python",
   "pygments_lexer": "ipython3",
   "version": "3.7.10"
  }
 },
 "nbformat": 4,
 "nbformat_minor": 5
}

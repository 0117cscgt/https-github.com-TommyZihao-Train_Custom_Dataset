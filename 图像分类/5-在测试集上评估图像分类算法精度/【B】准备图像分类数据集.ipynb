{
 "cells": [
  {
   "cell_type": "markdown",
   "id": "4a36abc9-47b6-4e9a-8d2c-330e64012db2",
   "metadata": {},
   "source": [
    "# 准备图像分类数据集\n",
    "\n",
    "同济子豪兄：https://space.bilibili.com/1900783\n",
    "\n",
    "[代码运行云GPU环境](https://featurize.cn/?s=d7ce99f842414bfcaea5662a97581bd1)：GPU RTX 3060、CUDA v11.2\n",
    "\n",
    "## 构建自己的图像分类数据集\n",
    "\n",
    "https://www.bilibili.com/video/BV1Jd4y1T7rw"
   ]
  },
  {
   "cell_type": "markdown",
   "id": "e0f48f3b-5137-4b11-a529-4ae41c8806e4",
   "metadata": {},
   "source": [
    "## 下载样例数据集"
   ]
  },
  {
   "cell_type": "code",
   "execution_count": 1,
   "id": "70a97135-b7a8-4817-a43d-742171ac5978",
   "metadata": {},
   "outputs": [
    {
     "name": "stdout",
     "output_type": "stream",
     "text": [
      "--2022-08-12 17:23:19--  https://zihao-openmmlab.obs.cn-east-3.myhuaweicloud.com/20220716-mmclassification/dataset/melon17/melon17_split.zip\n",
      "Connecting to 172.16.0.13:5848... connected.\n",
      "Proxy request sent, awaiting response... 200 OK\n",
      "Length: 131340912 (125M) [application/zip]\n",
      "Saving to: ‘melon17_split.zip’\n",
      "\n",
      "melon17_split.zip   100%[===================>] 125.26M  56.8MB/s    in 2.2s    \n",
      "\n",
      "2022-08-12 17:23:21 (56.8 MB/s) - ‘melon17_split.zip’ saved [131340912/131340912]\n",
      "\n"
     ]
    }
   ],
   "source": [
    "# 下载数据集压缩包\n",
    "!wget https://zihao-openmmlab.obs.cn-east-3.myhuaweicloud.com/20220716-mmclassification/dataset/melon17/melon17_split.zip\n"
   ]
  },
  {
   "cell_type": "code",
   "execution_count": 4,
   "id": "21711cbb-685d-40ff-9ec9-2348d8d1a1a1",
   "metadata": {},
   "outputs": [],
   "source": [
    "# 解压\n",
    "!unzip melon17_split.zip >> /dev/null\n",
    "# 删除压缩包\n",
    "!rm melon17_split.zip"
   ]
  },
  {
   "cell_type": "code",
   "execution_count": null,
   "id": "c3a11dea-10e5-427a-aef4-b0e00b06d4a1",
   "metadata": {},
   "outputs": [],
   "source": [
    "# 下载数据集 类别名称 和 ID索引号 的映射字典\n",
    "!wget https://zihao-openmmlab.obs.cn-east-3.myhuaweicloud.com/20220716-mmclassification/dataset/melon17/idx_to_labels.npy"
   ]
  },
  {
   "cell_type": "markdown",
   "id": "55155fe0-2d99-458e-bdb2-ac894d7a6046",
   "metadata": {},
   "source": [
    "## 查看数据集目录结构"
   ]
  },
  {
   "cell_type": "code",
   "execution_count": 6,
   "id": "f06d00df-aa4f-41fe-a2be-50a677bb5a3f",
   "metadata": {},
   "outputs": [],
   "source": [
    "!sudo snap install tree"
   ]
  },
  {
   "cell_type": "code",
   "execution_count": 5,
   "id": "8f9f463f-ea2e-4d7b-b7b2-9f528afe987c",
   "metadata": {},
   "outputs": [
    {
     "name": "stdout",
     "output_type": "stream",
     "text": [
      "\u001b[01;34mmelon17_split\u001b[00m\n",
      "├── \u001b[01;34mtrain\u001b[00m\n",
      "│   ├── \u001b[01;34m丝瓜\u001b[00m\n",
      "│   ├── \u001b[01;34m人参果\u001b[00m\n",
      "│   ├── \u001b[01;34m佛手瓜\u001b[00m\n",
      "│   ├── \u001b[01;34m冬瓜\u001b[00m\n",
      "│   ├── \u001b[01;34m南瓜\u001b[00m\n",
      "│   ├── \u001b[01;34m哈密瓜\u001b[00m\n",
      "│   ├── \u001b[01;34m木瓜\u001b[00m\n",
      "│   ├── \u001b[01;34m甜瓜-伊丽莎白\u001b[00m\n",
      "│   ├── \u001b[01;34m甜瓜-白\u001b[00m\n",
      "│   ├── \u001b[01;34m甜瓜-绿\u001b[00m\n",
      "│   ├── \u001b[01;34m甜瓜-金\u001b[00m\n",
      "│   ├── \u001b[01;34m白兰瓜\u001b[00m\n",
      "│   ├── \u001b[01;34m羊角蜜\u001b[00m\n",
      "│   ├── \u001b[01;34m苦瓜\u001b[00m\n",
      "│   ├── \u001b[01;34m西瓜\u001b[00m\n",
      "│   ├── \u001b[01;34m西葫芦\u001b[00m\n",
      "│   └── \u001b[01;34m黄瓜\u001b[00m\n",
      "└── \u001b[01;34mval\u001b[00m\n",
      "    ├── \u001b[01;34m丝瓜\u001b[00m\n",
      "    ├── \u001b[01;34m人参果\u001b[00m\n",
      "    ├── \u001b[01;34m佛手瓜\u001b[00m\n",
      "    ├── \u001b[01;34m冬瓜\u001b[00m\n",
      "    ├── \u001b[01;34m南瓜\u001b[00m\n",
      "    ├── \u001b[01;34m哈密瓜\u001b[00m\n",
      "    ├── \u001b[01;34m木瓜\u001b[00m\n",
      "    ├── \u001b[01;34m甜瓜-伊丽莎白\u001b[00m\n",
      "    ├── \u001b[01;34m甜瓜-白\u001b[00m\n",
      "    ├── \u001b[01;34m甜瓜-绿\u001b[00m\n",
      "    ├── \u001b[01;34m甜瓜-金\u001b[00m\n",
      "    ├── \u001b[01;34m白兰瓜\u001b[00m\n",
      "    ├── \u001b[01;34m羊角蜜\u001b[00m\n",
      "    ├── \u001b[01;34m苦瓜\u001b[00m\n",
      "    ├── \u001b[01;34m西瓜\u001b[00m\n",
      "    ├── \u001b[01;34m西葫芦\u001b[00m\n",
      "    └── \u001b[01;34m黄瓜\u001b[00m\n",
      "\n",
      "36 directories, 0 files\n"
     ]
    }
   ],
   "source": [
    "!tree melon17_split -L 2"
   ]
  },
  {
   "cell_type": "markdown",
   "id": "b70c0fc7-a464-4e77-8c97-28cba7974ea2",
   "metadata": {},
   "source": [
    "## 下载表格：训练好的模型在测试集所有图像上的预测结果"
   ]
  },
  {
   "cell_type": "code",
   "execution_count": 5,
   "id": "0aded3dc-6049-4d05-91d9-bb5353feac4d",
   "metadata": {},
   "outputs": [
    {
     "name": "stdout",
     "output_type": "stream",
     "text": [
      "--2022-08-12 22:37:59--  https://zihao-openmmlab.obs.cn-east-3.myhuaweicloud.com/20220716-mmclassification/dataset/melon17/%E6%B5%8B%E8%AF%95%E9%9B%86%E9%A2%84%E6%B5%8B%E7%BB%93%E6%9E%9C.csv\n",
      "Connecting to 172.16.0.13:5848... connected.\n",
      "Proxy request sent, awaiting response... 200 OK\n",
      "Length: 154654 (151K) [text/csv]\n",
      "Saving to: ‘测试集预测结果.csv’\n",
      "\n",
      "测试集预测结果.csv  100%[===================>] 151.03K  --.-KB/s    in 0.1s    \n",
      "\n",
      "2022-08-12 22:37:59 (1.03 MB/s) - ‘测试集预测结果.csv’ saved [154654/154654]\n",
      "\n"
     ]
    }
   ],
   "source": [
    "# !wget https://zihao-openmmlab.obs.cn-east-3.myhuaweicloud.com/20220716-mmclassification/dataset/melon17/测试集预测结果.csv\n"
   ]
  },
  {
   "cell_type": "code",
   "execution_count": null,
   "id": "aa8c32ee-5fea-4d76-bc33-1e7efdfc20b0",
   "metadata": {},
   "outputs": [],
   "source": []
  }
 ],
 "metadata": {
  "kernelspec": {
   "display_name": "Python 3 (ipykernel)",
   "language": "python",
   "name": "python3"
  },
  "language_info": {
   "codemirror_mode": {
    "name": "ipython",
    "version": 3
   },
   "file_extension": ".py",
   "mimetype": "text/x-python",
   "name": "python",
   "nbconvert_exporter": "python",
   "pygments_lexer": "ipython3",
   "version": "3.7.10"
  }
 },
 "nbformat": 4,
 "nbformat_minor": 5
}

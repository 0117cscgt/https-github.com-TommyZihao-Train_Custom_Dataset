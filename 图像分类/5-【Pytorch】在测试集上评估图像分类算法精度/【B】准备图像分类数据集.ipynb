{
 "cells": [
  {
   "cell_type": "markdown",
   "id": "4a36abc9-47b6-4e9a-8d2c-330e64012db2",
   "metadata": {},
   "source": [
    "# 准备图像分类数据集\n",
    "\n",
    "同济子豪兄：https://space.bilibili.com/1900783\n",
    "\n",
    "[代码运行云GPU环境](https://featurize.cn/?s=d7ce99f842414bfcaea5662a97581bd1)：GPU RTX 3060、CUDA v11.2\n",
    "\n",
    "## 构建自己的图像分类数据集\n",
    "\n",
    "https://www.bilibili.com/video/BV1Jd4y1T7rw"
   ]
  },
  {
   "cell_type": "markdown",
   "id": "e0f48f3b-5137-4b11-a529-4ae41c8806e4",
   "metadata": {},
   "source": [
    "## 下载样例数据集"
   ]
  },
  {
   "cell_type": "code",
   "execution_count": 1,
   "id": "70a97135-b7a8-4817-a43d-742171ac5978",
   "metadata": {},
   "outputs": [
    {
     "name": "stdout",
     "output_type": "stream",
     "text": [
      "--2022-08-14 15:13:09--  https://zihao-openmmlab.obs.cn-east-3.myhuaweicloud.com/20220716-mmclassification/dataset/fruit30/fruit30_split.zip\n",
      "Connecting to 172.16.0.13:5848... connected.\n",
      "Proxy request sent, awaiting response... 200 OK\n",
      "Length: 226278151 (216M) [application/zip]\n",
      "Saving to: ‘fruit30_split.zip’\n",
      "\n",
      "fruit30_split.zip   100%[===================>] 215.79M  33.4MB/s    in 7.3s    \n",
      "\n",
      "2022-08-14 15:13:17 (29.6 MB/s) - ‘fruit30_split.zip’ saved [226278151/226278151]\n",
      "\n"
     ]
    }
   ],
   "source": [
    "# 下载数据集压缩包\n",
    "!wget https://zihao-openmmlab.obs.cn-east-3.myhuaweicloud.com/20220716-mmclassification/dataset/fruit30/fruit30_split.zip"
   ]
  },
  {
   "cell_type": "code",
   "execution_count": 2,
   "id": "0263626b-53b2-47c4-aefa-1298c26869c9",
   "metadata": {},
   "outputs": [],
   "source": [
    "# 解压\n",
    "!unzip fruit30_split.zip >> /dev/null\n",
    "# 删除压缩包\n",
    "!rm fruit30_split.zip"
   ]
  },
  {
   "cell_type": "code",
   "execution_count": 3,
   "id": "44f40ac2-6dd4-4975-bf84-ac5792f0b711",
   "metadata": {},
   "outputs": [
    {
     "name": "stdout",
     "output_type": "stream",
     "text": [
      "--2022-08-14 15:14:03--  https://zihao-openmmlab.obs.cn-east-3.myhuaweicloud.com/20220716-mmclassification/dataset/fruit30/idx_to_labels.npy\n",
      "Connecting to 172.16.0.13:5848... connected.\n",
      "Proxy request sent, awaiting response... 200 OK\n",
      "Length: 769 [binary/octet-stream]\n",
      "Saving to: ‘idx_to_labels.npy.1’\n",
      "\n",
      "idx_to_labels.npy.1 100%[===================>]     769  --.-KB/s    in 0s      \n",
      "\n",
      "2022-08-14 15:14:03 (28.9 MB/s) - ‘idx_to_labels.npy.1’ saved [769/769]\n",
      "\n"
     ]
    }
   ],
   "source": [
    "# 下载 类别名称 和 ID索引号 的映射字典\n",
    "!wget https://zihao-openmmlab.obs.cn-east-3.myhuaweicloud.com/20220716-mmclassification/dataset/fruit30/idx_to_labels.npy"
   ]
  },
  {
   "cell_type": "markdown",
   "id": "55155fe0-2d99-458e-bdb2-ac894d7a6046",
   "metadata": {},
   "source": [
    "## 查看数据集目录结构"
   ]
  },
  {
   "cell_type": "code",
   "execution_count": 4,
   "id": "f06d00df-aa4f-41fe-a2be-50a677bb5a3f",
   "metadata": {},
   "outputs": [
    {
     "name": "stdout",
     "output_type": "stream",
     "text": [
      "\u001b[0m\u001b[?25h\u001b[Ktree 1.8.0+pkg-3fd6 from 林博仁(Buo-ren, Lin) (brlin\u001b[32m\u001b[0m) installedns\u001b[0m\u001b[?25l\n"
     ]
    }
   ],
   "source": [
    "!sudo snap install tree"
   ]
  },
  {
   "cell_type": "code",
   "execution_count": 7,
   "id": "8f9f463f-ea2e-4d7b-b7b2-9f528afe987c",
   "metadata": {},
   "outputs": [
    {
     "name": "stdout",
     "output_type": "stream",
     "text": [
      "\u001b[01;34mfruit30_split\u001b[00m\n",
      "├── \u001b[01;34mtrain\u001b[00m\n",
      "│   ├── \u001b[01;34m哈密瓜\u001b[00m\n",
      "│   ├── \u001b[01;34m圣女果\u001b[00m\n",
      "│   ├── \u001b[01;34m山竹\u001b[00m\n",
      "│   ├── \u001b[01;34m杨梅\u001b[00m\n",
      "│   ├── \u001b[01;34m柚子\u001b[00m\n",
      "│   ├── \u001b[01;34m柠檬\u001b[00m\n",
      "│   ├── \u001b[01;34m桂圆\u001b[00m\n",
      "│   ├── \u001b[01;34m梨\u001b[00m\n",
      "│   ├── \u001b[01;34m椰子\u001b[00m\n",
      "│   ├── \u001b[01;34m榴莲\u001b[00m\n",
      "│   ├── \u001b[01;34m火龙果\u001b[00m\n",
      "│   ├── \u001b[01;34m猕猴桃\u001b[00m\n",
      "│   ├── \u001b[01;34m石榴\u001b[00m\n",
      "│   ├── \u001b[01;34m砂糖橘\u001b[00m\n",
      "│   ├── \u001b[01;34m胡萝卜\u001b[00m\n",
      "│   ├── \u001b[01;34m脐橙\u001b[00m\n",
      "│   ├── \u001b[01;34m芒果\u001b[00m\n",
      "│   ├── \u001b[01;34m苦瓜\u001b[00m\n",
      "│   ├── \u001b[01;34m苹果-红\u001b[00m\n",
      "│   ├── \u001b[01;34m苹果-青\u001b[00m\n",
      "│   ├── \u001b[01;34m草莓\u001b[00m\n",
      "│   ├── \u001b[01;34m荔枝\u001b[00m\n",
      "│   ├── \u001b[01;34m菠萝\u001b[00m\n",
      "│   ├── \u001b[01;34m葡萄-白\u001b[00m\n",
      "│   ├── \u001b[01;34m葡萄-红\u001b[00m\n",
      "│   ├── \u001b[01;34m西瓜\u001b[00m\n",
      "│   ├── \u001b[01;34m西红柿\u001b[00m\n",
      "│   ├── \u001b[01;34m车厘子\u001b[00m\n",
      "│   ├── \u001b[01;34m香蕉\u001b[00m\n",
      "│   └── \u001b[01;34m黄瓜\u001b[00m\n",
      "└── \u001b[01;34mval\u001b[00m\n",
      "    ├── \u001b[01;34m哈密瓜\u001b[00m\n",
      "    ├── \u001b[01;34m圣女果\u001b[00m\n",
      "    ├── \u001b[01;34m山竹\u001b[00m\n",
      "    ├── \u001b[01;34m杨梅\u001b[00m\n",
      "    ├── \u001b[01;34m柚子\u001b[00m\n",
      "    ├── \u001b[01;34m柠檬\u001b[00m\n",
      "    ├── \u001b[01;34m桂圆\u001b[00m\n",
      "    ├── \u001b[01;34m梨\u001b[00m\n",
      "    ├── \u001b[01;34m椰子\u001b[00m\n",
      "    ├── \u001b[01;34m榴莲\u001b[00m\n",
      "    ├── \u001b[01;34m火龙果\u001b[00m\n",
      "    ├── \u001b[01;34m猕猴桃\u001b[00m\n",
      "    ├── \u001b[01;34m石榴\u001b[00m\n",
      "    ├── \u001b[01;34m砂糖橘\u001b[00m\n",
      "    ├── \u001b[01;34m胡萝卜\u001b[00m\n",
      "    ├── \u001b[01;34m脐橙\u001b[00m\n",
      "    ├── \u001b[01;34m芒果\u001b[00m\n",
      "    ├── \u001b[01;34m苦瓜\u001b[00m\n",
      "    ├── \u001b[01;34m苹果-红\u001b[00m\n",
      "    ├── \u001b[01;34m苹果-青\u001b[00m\n",
      "    ├── \u001b[01;34m草莓\u001b[00m\n",
      "    ├── \u001b[01;34m荔枝\u001b[00m\n",
      "    ├── \u001b[01;34m菠萝\u001b[00m\n",
      "    ├── \u001b[01;34m葡萄-白\u001b[00m\n",
      "    ├── \u001b[01;34m葡萄-红\u001b[00m\n",
      "    ├── \u001b[01;34m西瓜\u001b[00m\n",
      "    ├── \u001b[01;34m西红柿\u001b[00m\n",
      "    ├── \u001b[01;34m车厘子\u001b[00m\n",
      "    ├── \u001b[01;34m香蕉\u001b[00m\n",
      "    └── \u001b[01;34m黄瓜\u001b[00m\n",
      "\n",
      "62 directories, 0 files\n"
     ]
    }
   ],
   "source": [
    "!tree fruit30_split -L 2"
   ]
  },
  {
   "cell_type": "code",
   "execution_count": 8,
   "id": "9bed2674-c592-4e2d-b696-8ffb537bc2cf",
   "metadata": {},
   "outputs": [
    {
     "name": "stdout",
     "output_type": "stream",
     "text": [
      "checkpoints/fruit30_pytorch_20220814.pth: No such file or directory\n",
      "--2022-08-14 18:14:45--  https://zihao-openmmlab.obs.cn-east-3.myhuaweicloud.com/20220716-mmclassification/dataset/fruit30/idx_to_labels.npy\n",
      "Connecting to 172.16.0.13:5848... connected.\n",
      "Proxy request sent, awaiting response... 200 OK\n",
      "Length: 769 [binary/octet-stream]\n",
      "Saving to: ‘idx_to_labels.npy.1’\n",
      "\n",
      "idx_to_labels.npy.1 100%[===================>]     769  --.-KB/s    in 0s      \n",
      "\n",
      "2022-08-14 18:14:46 (20.4 MB/s) - ‘idx_to_labels.npy.1’ saved [769/769]\n",
      "\n"
     ]
    }
   ],
   "source": [
    "# 下载样例模型文件\n",
    "!wget https://zihao-openmmlab.obs.cn-east-3.myhuaweicloud.com/20220716-mmclassification/checkpoints/fruit30_pytorch_20220814.pth -O checkpoints/fruit30_pytorch_20220814.pth\n",
    "# 下载 类别名称 和 ID索引号 的映射字典\n",
    "!wget https://zihao-openmmlab.obs.cn-east-3.myhuaweicloud.com/20220716-mmclassification/dataset/fruit30/idx_to_labels.npy"
   ]
  },
  {
   "cell_type": "code",
   "execution_count": null,
   "id": "9f3c65a7-1eea-43db-ba8e-02d8030933d4",
   "metadata": {},
   "outputs": [],
   "source": []
  },
  {
   "cell_type": "code",
   "execution_count": null,
   "id": "091724c0-8edf-43a2-a2b1-f7ae4cdd200c",
   "metadata": {},
   "outputs": [],
   "source": []
  },
  {
   "cell_type": "markdown",
   "id": "b70c0fc7-a464-4e77-8c97-28cba7974ea2",
   "metadata": {},
   "source": [
    "## 下载表格：训练好的模型在测试集所有图像上的预测结果"
   ]
  },
  {
   "cell_type": "code",
   "execution_count": 6,
   "id": "0aded3dc-6049-4d05-91d9-bb5353feac4d",
   "metadata": {},
   "outputs": [
    {
     "name": "stdout",
     "output_type": "stream",
     "text": [
      "--2022-08-14 15:16:00--  https://zihao-openmmlab.obs.cn-east-3.myhuaweicloud.com/20220716-mmclassification/dataset/fruit30/%E6%B5%8B%E8%AF%95%E9%9B%86%E9%A2%84%E6%B5%8B%E7%BB%93%E6%9E%9C.csv\n",
      "Connecting to 172.16.0.13:5848... connected.\n",
      "Proxy request sent, awaiting response... 200 OK\n",
      "Length: 524677 (512K) [text/csv]\n",
      "Saving to: ‘测试集预测结果.csv’\n",
      "\n",
      "测试集预测结果.csv  100%[===================>] 512.38K  2.26MB/s    in 0.2s    \n",
      "\n",
      "2022-08-14 15:16:00 (2.26 MB/s) - ‘测试集预测结果.csv’ saved [524677/524677]\n",
      "\n"
     ]
    }
   ],
   "source": [
    "!wget https://zihao-openmmlab.obs.cn-east-3.myhuaweicloud.com/20220716-mmclassification/dataset/fruit30/测试集预测结果.csv\n"
   ]
  },
  {
   "cell_type": "code",
   "execution_count": null,
   "id": "aa8c32ee-5fea-4d76-bc33-1e7efdfc20b0",
   "metadata": {},
   "outputs": [],
   "source": []
  }
 ],
 "metadata": {
  "kernelspec": {
   "display_name": "Python 3 (ipykernel)",
   "language": "python",
   "name": "python3"
  },
  "language_info": {
   "codemirror_mode": {
    "name": "ipython",
    "version": 3
   },
   "file_extension": ".py",
   "mimetype": "text/x-python",
   "name": "python",
   "nbconvert_exporter": "python",
   "pygments_lexer": "ipython3",
   "version": "3.7.10"
  }
 },
 "nbformat": 4,
 "nbformat_minor": 5
}

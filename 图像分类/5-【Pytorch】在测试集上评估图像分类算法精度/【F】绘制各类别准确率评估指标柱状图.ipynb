{
 "cells": [
  {
   "cell_type": "markdown",
   "id": "e68afc83-5163-425a-98ee-747770f750bb",
   "metadata": {},
   "source": [
    "# 绘制各类别准确率评估指标柱状图\n",
    "\n",
    "同济子豪兄：https://space.bilibili.com/1900783"
   ]
  },
  {
   "cell_type": "markdown",
   "id": "603d7570-cb15-4f37-b650-c9af759ebb50",
   "metadata": {
    "tags": []
   },
   "source": [
    "## 设置Matplotlib中文字体"
   ]
  },
  {
   "cell_type": "code",
   "execution_count": 1,
   "id": "edd66105-2eb7-4d7f-940b-2886b2f040b9",
   "metadata": {},
   "outputs": [],
   "source": [
    "# # windows操作系统\n",
    "# plt.rcParams['font.sans-serif']=['SimHei']  # 用来正常显示中文标签 \n",
    "# plt.rcParams['axes.unicode_minus']=False  # 用来正常显示负号"
   ]
  },
  {
   "cell_type": "code",
   "execution_count": 2,
   "id": "2af8e027-b2f1-43ec-913b-a2e067c98f7f",
   "metadata": {},
   "outputs": [],
   "source": [
    "# Mac操作系统，参考 https://www.ngui.cc/51cto/show-727683.html\n",
    "# 下载 simhei.ttf 字体文件\n",
    "# !wget https://zihao-openmmlab.obs.cn-east-3.myhuaweicloud.com/20220716-mmclassification/dataset/SimHei.ttf"
   ]
  },
  {
   "cell_type": "code",
   "execution_count": 1,
   "id": "b2b4469a-fb29-43c4-9c55-c9e784a5e003",
   "metadata": {},
   "outputs": [
    {
     "name": "stdout",
     "output_type": "stream",
     "text": [
      "--2022-08-12 22:43:41--  https://zihao-openmmlab.obs.cn-east-3.myhuaweicloud.com/20220716-mmclassification/dataset/SimHei.ttf\n",
      "Connecting to 172.16.0.13:5848... connected.\n",
      "Proxy request sent, awaiting response... 200 OK\n",
      "Length: 10050868 (9.6M) [application/x-font-ttf]\n",
      "Saving to: ‘/environment/miniconda3/lib/python3.7/site-packages/matplotlib/mpl-data/fonts/ttf/SimHei.ttf’\n",
      "\n",
      "/environment/minico 100%[===================>]   9.58M  21.7MB/s    in 0.4s    \n",
      "\n",
      "2022-08-12 22:43:42 (21.7 MB/s) - ‘/environment/miniconda3/lib/python3.7/site-packages/matplotlib/mpl-data/fonts/ttf/SimHei.ttf’ saved [10050868/10050868]\n",
      "\n"
     ]
    }
   ],
   "source": [
    "# Linux操作系统，例如 云GPU平台：https://featurize.cn/?s=d7ce99f842414bfcaea5662a97581bd1\n",
    "# 如果遇到 SSL 相关报错，重新运行本代码块即可\n",
    "!wget https://zihao-openmmlab.obs.cn-east-3.myhuaweicloud.com/20220716-mmclassification/dataset/SimHei.ttf -O /environment/miniconda3/lib/python3.7/site-packages/matplotlib/mpl-data/fonts/ttf/SimHei.ttf\n",
    "!rm -rf /home/featurize/.cache/matplotlib\n",
    "\n",
    "import matplotlib\n",
    "matplotlib.rc(\"font\",family='SimHei') # 中文字体"
   ]
  },
  {
   "cell_type": "markdown",
   "id": "a9bc0f9e-4aec-4a4b-b6b1-f0b9ab727127",
   "metadata": {},
   "source": [
    "## 导入工具包"
   ]
  },
  {
   "cell_type": "code",
   "execution_count": 2,
   "id": "72dd3e36-ebd2-499e-b8aa-4e0466b0238c",
   "metadata": {},
   "outputs": [],
   "source": [
    "import pandas as pd\n",
    "import matplotlib.pyplot as plt\n",
    "%matplotlib inline"
   ]
  },
  {
   "cell_type": "markdown",
   "id": "a4a53a2b-c6e4-437c-bfc8-3255a7495237",
   "metadata": {},
   "source": [
    "## 导入各类别准确率评估指标表格"
   ]
  },
  {
   "cell_type": "code",
   "execution_count": 3,
   "id": "a52380bb-0a36-4a1e-a698-64f833473921",
   "metadata": {},
   "outputs": [],
   "source": [
    "df = pd.read_csv('各类别准确率评估指标.csv')"
   ]
  },
  {
   "cell_type": "code",
   "execution_count": 4,
   "id": "b6052183-e8c8-4bb4-a527-90608d10de84",
   "metadata": {},
   "outputs": [
    {
     "data": {
      "text/html": [
       "<div>\n",
       "<style scoped>\n",
       "    .dataframe tbody tr th:only-of-type {\n",
       "        vertical-align: middle;\n",
       "    }\n",
       "\n",
       "    .dataframe tbody tr th {\n",
       "        vertical-align: top;\n",
       "    }\n",
       "\n",
       "    .dataframe thead th {\n",
       "        text-align: right;\n",
       "    }\n",
       "</style>\n",
       "<table border=\"1\" class=\"dataframe\">\n",
       "  <thead>\n",
       "    <tr style=\"text-align: right;\">\n",
       "      <th></th>\n",
       "      <th>类别</th>\n",
       "      <th>precision</th>\n",
       "      <th>recall</th>\n",
       "      <th>f1-score</th>\n",
       "      <th>support</th>\n",
       "      <th>AUC</th>\n",
       "    </tr>\n",
       "  </thead>\n",
       "  <tbody>\n",
       "    <tr>\n",
       "      <th>0</th>\n",
       "      <td>丝瓜</td>\n",
       "      <td>0.681818</td>\n",
       "      <td>0.810811</td>\n",
       "      <td>0.740741</td>\n",
       "      <td>37.0</td>\n",
       "      <td>0.971656</td>\n",
       "    </tr>\n",
       "    <tr>\n",
       "      <th>1</th>\n",
       "      <td>人参果</td>\n",
       "      <td>0.846154</td>\n",
       "      <td>0.916667</td>\n",
       "      <td>0.880000</td>\n",
       "      <td>36.0</td>\n",
       "      <td>0.993599</td>\n",
       "    </tr>\n",
       "    <tr>\n",
       "      <th>2</th>\n",
       "      <td>佛手瓜</td>\n",
       "      <td>0.961538</td>\n",
       "      <td>0.781250</td>\n",
       "      <td>0.862069</td>\n",
       "      <td>32.0</td>\n",
       "      <td>0.989845</td>\n",
       "    </tr>\n",
       "    <tr>\n",
       "      <th>3</th>\n",
       "      <td>冬瓜</td>\n",
       "      <td>0.740741</td>\n",
       "      <td>0.666667</td>\n",
       "      <td>0.701754</td>\n",
       "      <td>30.0</td>\n",
       "      <td>0.979193</td>\n",
       "    </tr>\n",
       "    <tr>\n",
       "      <th>4</th>\n",
       "      <td>南瓜</td>\n",
       "      <td>0.885714</td>\n",
       "      <td>0.861111</td>\n",
       "      <td>0.873239</td>\n",
       "      <td>36.0</td>\n",
       "      <td>0.994538</td>\n",
       "    </tr>\n",
       "    <tr>\n",
       "      <th>5</th>\n",
       "      <td>哈密瓜</td>\n",
       "      <td>0.795455</td>\n",
       "      <td>0.897436</td>\n",
       "      <td>0.843373</td>\n",
       "      <td>39.0</td>\n",
       "      <td>0.988925</td>\n",
       "    </tr>\n",
       "    <tr>\n",
       "      <th>6</th>\n",
       "      <td>木瓜</td>\n",
       "      <td>0.888889</td>\n",
       "      <td>0.842105</td>\n",
       "      <td>0.864865</td>\n",
       "      <td>38.0</td>\n",
       "      <td>0.973517</td>\n",
       "    </tr>\n",
       "    <tr>\n",
       "      <th>7</th>\n",
       "      <td>甜瓜-伊丽莎白</td>\n",
       "      <td>0.500000</td>\n",
       "      <td>0.444444</td>\n",
       "      <td>0.470588</td>\n",
       "      <td>18.0</td>\n",
       "      <td>0.953949</td>\n",
       "    </tr>\n",
       "    <tr>\n",
       "      <th>8</th>\n",
       "      <td>甜瓜-白</td>\n",
       "      <td>0.500000</td>\n",
       "      <td>0.647059</td>\n",
       "      <td>0.564103</td>\n",
       "      <td>17.0</td>\n",
       "      <td>0.983620</td>\n",
       "    </tr>\n",
       "    <tr>\n",
       "      <th>9</th>\n",
       "      <td>甜瓜-绿</td>\n",
       "      <td>0.571429</td>\n",
       "      <td>0.500000</td>\n",
       "      <td>0.533333</td>\n",
       "      <td>8.0</td>\n",
       "      <td>0.947355</td>\n",
       "    </tr>\n",
       "    <tr>\n",
       "      <th>10</th>\n",
       "      <td>甜瓜-金</td>\n",
       "      <td>0.777778</td>\n",
       "      <td>0.700000</td>\n",
       "      <td>0.736842</td>\n",
       "      <td>10.0</td>\n",
       "      <td>0.996393</td>\n",
       "    </tr>\n",
       "    <tr>\n",
       "      <th>11</th>\n",
       "      <td>白兰瓜</td>\n",
       "      <td>0.600000</td>\n",
       "      <td>0.480000</td>\n",
       "      <td>0.533333</td>\n",
       "      <td>25.0</td>\n",
       "      <td>0.971818</td>\n",
       "    </tr>\n",
       "    <tr>\n",
       "      <th>12</th>\n",
       "      <td>羊角蜜</td>\n",
       "      <td>0.925000</td>\n",
       "      <td>0.948718</td>\n",
       "      <td>0.936709</td>\n",
       "      <td>39.0</td>\n",
       "      <td>0.999127</td>\n",
       "    </tr>\n",
       "    <tr>\n",
       "      <th>13</th>\n",
       "      <td>苦瓜</td>\n",
       "      <td>0.916667</td>\n",
       "      <td>0.891892</td>\n",
       "      <td>0.904110</td>\n",
       "      <td>37.0</td>\n",
       "      <td>0.997538</td>\n",
       "    </tr>\n",
       "    <tr>\n",
       "      <th>14</th>\n",
       "      <td>西瓜</td>\n",
       "      <td>0.795455</td>\n",
       "      <td>0.921053</td>\n",
       "      <td>0.853659</td>\n",
       "      <td>38.0</td>\n",
       "      <td>0.997653</td>\n",
       "    </tr>\n",
       "    <tr>\n",
       "      <th>15</th>\n",
       "      <td>西葫芦</td>\n",
       "      <td>0.702703</td>\n",
       "      <td>0.787879</td>\n",
       "      <td>0.742857</td>\n",
       "      <td>33.0</td>\n",
       "      <td>0.982875</td>\n",
       "    </tr>\n",
       "    <tr>\n",
       "      <th>16</th>\n",
       "      <td>黄瓜</td>\n",
       "      <td>0.777778</td>\n",
       "      <td>0.583333</td>\n",
       "      <td>0.666667</td>\n",
       "      <td>36.0</td>\n",
       "      <td>0.951315</td>\n",
       "    </tr>\n",
       "    <tr>\n",
       "      <th>17</th>\n",
       "      <td>macro avg</td>\n",
       "      <td>0.756889</td>\n",
       "      <td>0.745907</td>\n",
       "      <td>0.747544</td>\n",
       "      <td>509.0</td>\n",
       "      <td>0.980760</td>\n",
       "    </tr>\n",
       "    <tr>\n",
       "      <th>18</th>\n",
       "      <td>weighted avg</td>\n",
       "      <td>0.789045</td>\n",
       "      <td>0.785855</td>\n",
       "      <td>0.783664</td>\n",
       "      <td>509.0</td>\n",
       "      <td>0.982977</td>\n",
       "    </tr>\n",
       "  </tbody>\n",
       "</table>\n",
       "</div>"
      ],
      "text/plain": [
       "              类别  precision    recall  f1-score  support       AUC\n",
       "0             丝瓜   0.681818  0.810811  0.740741     37.0  0.971656\n",
       "1            人参果   0.846154  0.916667  0.880000     36.0  0.993599\n",
       "2            佛手瓜   0.961538  0.781250  0.862069     32.0  0.989845\n",
       "3             冬瓜   0.740741  0.666667  0.701754     30.0  0.979193\n",
       "4             南瓜   0.885714  0.861111  0.873239     36.0  0.994538\n",
       "5            哈密瓜   0.795455  0.897436  0.843373     39.0  0.988925\n",
       "6             木瓜   0.888889  0.842105  0.864865     38.0  0.973517\n",
       "7        甜瓜-伊丽莎白   0.500000  0.444444  0.470588     18.0  0.953949\n",
       "8           甜瓜-白   0.500000  0.647059  0.564103     17.0  0.983620\n",
       "9           甜瓜-绿   0.571429  0.500000  0.533333      8.0  0.947355\n",
       "10          甜瓜-金   0.777778  0.700000  0.736842     10.0  0.996393\n",
       "11           白兰瓜   0.600000  0.480000  0.533333     25.0  0.971818\n",
       "12           羊角蜜   0.925000  0.948718  0.936709     39.0  0.999127\n",
       "13            苦瓜   0.916667  0.891892  0.904110     37.0  0.997538\n",
       "14            西瓜   0.795455  0.921053  0.853659     38.0  0.997653\n",
       "15           西葫芦   0.702703  0.787879  0.742857     33.0  0.982875\n",
       "16            黄瓜   0.777778  0.583333  0.666667     36.0  0.951315\n",
       "17     macro avg   0.756889  0.745907  0.747544    509.0  0.980760\n",
       "18  weighted avg   0.789045  0.785855  0.783664    509.0  0.982977"
      ]
     },
     "execution_count": 4,
     "metadata": {},
     "output_type": "execute_result"
    }
   ],
   "source": [
    "df"
   ]
  },
  {
   "cell_type": "markdown",
   "id": "fdccd569-ff35-4a1b-9d41-a0c65ba034b5",
   "metadata": {},
   "source": [
    "## 选择评估指标"
   ]
  },
  {
   "cell_type": "code",
   "execution_count": 5,
   "id": "f6194b8c-0c54-4974-86da-539e24070686",
   "metadata": {},
   "outputs": [],
   "source": [
    "feature = 'precision'\n",
    "# feature = 'recall'\n",
    "# feature = 'f1-score'\n",
    "# feature = 'AUC'"
   ]
  },
  {
   "cell_type": "markdown",
   "id": "6deac8a5-92f0-484a-9b00-8d73f3f8f498",
   "metadata": {},
   "source": [
    "## 绘制柱状图"
   ]
  },
  {
   "cell_type": "code",
   "execution_count": 6,
   "id": "41db6a03-c847-4682-82e9-91fda9779bed",
   "metadata": {},
   "outputs": [
    {
     "data": {
      "image/png": "[encoded data removed]",
      "text/plain": [
       "<Figure size 1584x504 with 1 Axes>"
      ]
     },
     "metadata": {
      "needs_background": "light"
     },
     "output_type": "display_data"
    }
   ],
   "source": [
    "df_plot = df.sort_values(by=feature, ascending=False)\n",
    "\n",
    "plt.figure(figsize=(22, 7))\n",
    "\n",
    "x = df_plot['类别']\n",
    "y = df_plot[feature]\n",
    "\n",
    "ax = plt.bar(x, y, width=0.6, facecolor='#1f77b4', edgecolor='k')\n",
    "plt.bar_label(ax, fmt='%.2f', fontsize=15) # 置信度数值\n",
    "\n",
    "plt.xticks(rotation=45)\n",
    "plt.tick_params(labelsize=15)\n",
    "# plt.xlabel('类别', fontsize=20)\n",
    "plt.ylabel(feature, fontsize=20)\n",
    "plt.title('准确率评估指标 {}'.format(feature), fontsize=25)\n",
    "\n",
    "plt.savefig('各类别准确率评估指标柱状图.pdf', dpi=120, bbox_inches='tight')\n",
    "\n",
    "plt.show()"
   ]
  },
  {
   "cell_type": "code",
   "execution_count": null,
   "id": "d80a8d5d-8e6f-46ab-8300-0a872b7d4c71",
   "metadata": {},
   "outputs": [],
   "source": []
  }
 ],
 "metadata": {
  "kernelspec": {
   "display_name": "Python 3 (ipykernel)",
   "language": "python",
   "name": "python3"
  },
  "language_info": {
   "codemirror_mode": {
    "name": "ipython",
    "version": 3
   },
   "file_extension": ".py",
   "mimetype": "text/x-python",
   "name": "python",
   "nbconvert_exporter": "python",
   "pygments_lexer": "ipython3",
   "version": "3.7.10"
  }
 },
 "nbformat": 4,
 "nbformat_minor": 5
}

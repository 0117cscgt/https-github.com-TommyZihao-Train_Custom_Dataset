{
 "cells": [
  {
   "cell_type": "markdown",
   "id": "7840f34d-4fac-4a33-ab43-55b8f631981e",
   "metadata": {},
   "source": [
    "# 总结与扩展\n",
    "\n",
    "同济子豪兄 https://space.bilibili.com/1900783\n",
    "\n",
    "## 机器学习分类评估指标\n",
    "\n",
    "公众号 人工智能小技巧 回复 混淆矩阵\n",
    "\n",
    "手绘笔记讲解：https://www.bilibili.com/video/BV1iJ41127wr?p=3\n",
    "\n",
    "混淆矩阵：\n",
    "https://www.bilibili.com/video/BV1iJ41127wr?p=4\n",
    "\n",
    "https://www.bilibili.com/video/BV1iJ41127wr?p=5\n",
    "\n",
    "ROC曲线：\n",
    "https://www.bilibili.com/video/BV1iJ41127wr?p=6\n",
    "\n",
    "https://www.bilibili.com/video/BV1iJ41127wr?p=7\n",
    "\n",
    "https://www.bilibili.com/video/BV1iJ41127wr?p=8\n",
    "\n",
    "F1-score：https://www.bilibili.com/video/BV1iJ41127wr?p=9\n",
    "\n",
    "F-beta-score：https://www.bilibili.com/video/BV1iJ41127wr?p=10\n",
    "\n",
    "## 语义特征降维可视化\n",
    "\n",
    "【斯坦福CS231N】可视化卷积神经网络：https://www.bilibili.com/video/BV1K7411W7So\n",
    "\n",
    "五万张ImageNet 验证集图像的语义特征降维可视化：https://cs.stanford.edu/people/karpathy/cnnembed/\n",
    "\n",
    "谷歌可视化降维工具Embedding Projector https://www.bilibili.com/video/BV1iJ41127wr?p=11\n",
    "\n",
    "## 思考题\n",
    "\n",
    "- 语义特征图的符号，应该显示标注类别，还是预测类别？\n",
    "\n",
    "- 如果同一个类别，语义特征降维可视化后却有两个或多个聚类簇，可能原因是什么？（胡萝卜、胡萝卜片、胡萝卜丝）\n",
    "\n",
    "- 如果一个类别里混入了另一个类别的图像，可能原因是什么？（标注错误、图像中包含多类、太像、细粒度分类）\n",
    "\n",
    "- 语义特征可以取训练集图像计算得到吗？为什么？\n",
    "\n",
    "- 取由浅至深不同中间层的输出结果作为语义特征，效果会有何不同？\n",
    "\n",
    "- ”神经网络的强大之处，就在于，输入无比复杂的图像像素分布，输出在高维度线性可分的语义特征分布，最后一层分类层就是线性分类器\"。如何理解这句话？\n",
    "\n",
    "- 如何进一步改进语义特征的可视化？（交互点击显示图片）\n",
    "\n",
    "- 如何做出扩展阅读里第二个链接的效果？\n",
    "\n",
    "- 对视频或者摄像头实时画面，绘制语义特征降维点的轨迹"
   ]
  },
  {
   "cell_type": "code",
   "execution_count": null,
   "id": "2760b916-2b45-4900-890a-390f170c6cd1",
   "metadata": {},
   "outputs": [],
   "source": []
  }
 ],
 "metadata": {
  "kernelspec": {
   "display_name": "Python 3 (ipykernel)",
   "language": "python",
   "name": "python3"
  },
  "language_info": {
   "codemirror_mode": {
    "name": "ipython",
    "version": 3
   },
   "file_extension": ".py",
   "mimetype": "text/x-python",
   "name": "python",
   "nbconvert_exporter": "python",
   "pygments_lexer": "ipython3",
   "version": "3.7.10"
  }
 },
 "nbformat": 4,
 "nbformat_minor": 5
}

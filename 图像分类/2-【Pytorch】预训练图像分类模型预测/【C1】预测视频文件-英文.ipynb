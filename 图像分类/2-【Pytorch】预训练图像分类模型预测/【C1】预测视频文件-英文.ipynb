{
 "cells": [
  {
   "cell_type": "markdown",
   "id": "4a36abc9-47b6-4e9a-8d2c-330e64012db2",
   "metadata": {},
   "source": [
    "# ImageNet预训练图像分类模型预测视频文件\n",
    "\n",
    "使用 ImageNet 预训练图像分类模型，对视频文件执行预测。\n",
    "\n",
    "同济子豪兄：https://space.bilibili.com/1900783\n",
    "\n",
    "[代码运行云GPU环境](https://featurize.cn/?s=d7ce99f842414bfcaea5662a97581bd1)：GPU RTX 3060、CUDA v11.2"
   ]
  },
  {
   "cell_type": "markdown",
   "id": "b8353a13-df79-456d-bd86-4efbc31b6e7a",
   "metadata": {
    "tags": []
   },
   "source": [
    "## 导入工具包"
   ]
  },
  {
   "cell_type": "code",
   "execution_count": 28,
   "id": "2773900f-d618-4a10-aaf8-32021231e326",
   "metadata": {},
   "outputs": [
    {
     "name": "stdout",
     "output_type": "stream",
     "text": [
      "device: cuda:0\n"
     ]
    }
   ],
   "source": [
    "import os\n",
    "import time\n",
    "import shutil\n",
    "import tempfile\n",
    "from tqdm import tqdm\n",
    "\n",
    "import cv2\n",
    "from PIL import Image\n",
    "\n",
    "import numpy as np\n",
    "import pandas as pd\n",
    "import matplotlib.pyplot as plt\n",
    "%matplotlib inline\n",
    "plt.rcParams['axes.unicode_minus']=False  # 用来正常显示负号\n",
    "plt.rcParams['font.sans-serif']=['SimHei']  # 用来正常显示中文标签\n",
    "import gc\n",
    "\n",
    "import torch\n",
    "import torch.nn.functional as F\n",
    "from torchvision import models\n",
    "\n",
    "import mmcv\n",
    "\n",
    "# 有 GPU 就用 GPU，没有就用 CPU\n",
    "device = torch.device('cuda:0' if torch.cuda.is_available() else 'cpu')\n",
    "print('device:', device)"
   ]
  },
  {
   "cell_type": "code",
   "execution_count": 29,
   "id": "7bbd1246-21ef-4890-9df7-0955f07d8fe8",
   "metadata": {},
   "outputs": [],
   "source": [
    "# 后端绘图，不显示，只保存\n",
    "import matplotlib\n",
    "matplotlib.use('Agg')"
   ]
  },
  {
   "cell_type": "markdown",
   "id": "c7c5aebe-d0b6-462b-9bc0-267379497b5c",
   "metadata": {},
   "source": [
    "## 载入预训练图像分类模型"
   ]
  },
  {
   "cell_type": "code",
   "execution_count": 30,
   "id": "89ad8421-bc5a-4817-b182-4a01581de032",
   "metadata": {},
   "outputs": [],
   "source": [
    "model = models.resnet18(pretrained=True)\n",
    "model = model.eval()\n",
    "model = model.to(device)"
   ]
  },
  {
   "cell_type": "markdown",
   "id": "f5813ef6-0731-405e-943c-e5da1ab822ce",
   "metadata": {},
   "source": [
    "## 载入ImageNet 1000图像分类标签"
   ]
  },
  {
   "cell_type": "code",
   "execution_count": 31,
   "id": "c13fb4a4-c662-4314-8a1e-9653c0266c9c",
   "metadata": {},
   "outputs": [],
   "source": [
    "df = pd.read_csv('imagenet_class_index.csv')\n",
    "idx_to_labels = {}\n",
    "for idx, row in df.iterrows():\n",
    "    idx_to_labels[row['ID']] = [row['wordnet'], row['class']]"
   ]
  },
  {
   "cell_type": "code",
   "execution_count": 32,
   "id": "db2106fa-4499-4378-8676-ffb98759688d",
   "metadata": {},
   "outputs": [],
   "source": [
    "# idx_to_labels"
   ]
  },
  {
   "cell_type": "markdown",
   "id": "bb86c3f8-1dde-45a7-852b-ebd2f1ff0e0d",
   "metadata": {},
   "source": [
    "## 图像预处理"
   ]
  },
  {
   "cell_type": "code",
   "execution_count": 33,
   "id": "0e465576-c34a-4d12-874b-55bcf27de443",
   "metadata": {},
   "outputs": [],
   "source": [
    "from torchvision import transforms\n",
    "\n",
    "# 测试集图像预处理-RCTN：缩放裁剪、转 Tensor、归一化\n",
    "test_transform = transforms.Compose([transforms.Resize(256),\n",
    "                                     transforms.CenterCrop(224),\n",
    "                                     transforms.ToTensor(),\n",
    "                                     transforms.Normalize(\n",
    "                                         mean=[0.485, 0.456, 0.406], \n",
    "                                         std=[0.229, 0.224, 0.225])\n",
    "                                    ])"
   ]
  },
  {
   "cell_type": "markdown",
   "id": "2eb43857-3d47-4bae-97ac-a0e458cf82c2",
   "metadata": {},
   "source": [
    "## 图像分类预测函数（同上个代码教程）"
   ]
  },
  {
   "cell_type": "code",
   "execution_count": 35,
   "id": "911460a8-dd8b-4468-9a25-b0c97b819b05",
   "metadata": {},
   "outputs": [],
   "source": [
    "def pred_single_frame(img, n=5):\n",
    "    '''\n",
    "    输入摄像头画面bgr-array，输出前n个图像分类预测结果的图像bgr-array\n",
    "    '''\n",
    "    img_bgr = img\n",
    "    img_rgb = cv2.cvtColor(img, cv2.COLOR_BGR2RGB) # BGR 转 RGB\n",
    "    img_pil = Image.fromarray(img_rgb) # array 转 pil\n",
    "    input_img = test_transform(img_pil).unsqueeze(0).to(device) # 预处理\n",
    "    pred_logits = model(input_img) # 执行前向预测，得到所有类别的 logit 预测分数\n",
    "    pred_softmax = F.softmax(pred_logits, dim=1) # 对 logit 分数做 softmax 运算\n",
    "    \n",
    "    top_n = torch.topk(pred_softmax, n) # 取置信度最大的 n 个结果\n",
    "    pred_ids = top_n[1].cpu().detach().numpy().squeeze() # 解析出类别\n",
    "    confs = top_n[0].cpu().detach().numpy().squeeze() # 解析出置信度\n",
    "    \n",
    "    # 在图像上写字\n",
    "    for i in range(n):\n",
    "        class_name = idx_to_labels[pred_ids[i]][1] # 获取类别名称\n",
    "        confidence = confs[i] * 100 # 获取置信度\n",
    "        text = '{:<15} {:>.4f}'.format(class_name, confidence)\n",
    "\n",
    "        # !图片，添加的文字，左上角坐标，字体，字号，bgr颜色，线宽\n",
    "        img_bgr = cv2.putText(img_bgr, text, (25, 50 + 40 * i), cv2.FONT_HERSHEY_SIMPLEX, 1.25, (0, 0, 255), 3)\n",
    "        \n",
    "    return img_bgr, pred_softmax"
   ]
  },
  {
   "cell_type": "markdown",
   "id": "dfaebb30-7e8f-47e8-a508-78438a4d31b7",
   "metadata": {},
   "source": [
    "## 视频预测"
   ]
  },
  {
   "cell_type": "markdown",
   "id": "55344eb0-8516-48a5-9c64-a9dbbf861fbb",
   "metadata": {},
   "source": [
    "### 输入输出视频路径"
   ]
  },
  {
   "cell_type": "code",
   "execution_count": 36,
   "id": "a0ae61f8-23ec-4f99-8951-ebc1522280b7",
   "metadata": {},
   "outputs": [],
   "source": [
    "input_video = 'test_img/video_3.mp4'"
   ]
  },
  {
   "cell_type": "markdown",
   "id": "3841b860-72a0-473a-af17-77ee559c994d",
   "metadata": {},
   "source": [
    "### 可视化方案一：原始图像+预测结果文字"
   ]
  },
  {
   "cell_type": "code",
   "execution_count": 37,
   "id": "9d92a9e1-040d-4c4b-881d-f16053086db0",
   "metadata": {},
   "outputs": [
    {
     "name": "stdout",
     "output_type": "stream",
     "text": [
      "创建文件夹 20220805154901 用于存放每帧预测结果\n"
     ]
    }
   ],
   "source": [
    "# 创建临时文件夹，存放每帧结果\n",
    "temp_out_dir = time.strftime('%Y%m%d%H%M%S')\n",
    "os.mkdir(temp_out_dir)\n",
    "print('创建文件夹 {} 用于存放每帧预测结果'.format(temp_out_dir))"
   ]
  },
  {
   "cell_type": "code",
   "execution_count": 38,
   "id": "4b53cf47-d1eb-4b77-97bd-8ce01dc3cbc4",
   "metadata": {},
   "outputs": [
    {
     "name": "stdout",
     "output_type": "stream",
     "text": [
      "[>>>>>>>>>>>>>>>>>>>>>>>>>>>>>>] 132/132, 24.7 task/s, elapsed: 5s, ETA:     0s[                                                  ] 0/132, elapsed: 0s, ETA:\n",
      "删除临时文件夹 20220805154901\n"
     ]
    }
   ],
   "source": [
    "# 读入待预测视频\n",
    "imgs = mmcv.VideoReader(input_video)\n",
    "\n",
    "prog_bar = mmcv.ProgressBar(len(imgs))\n",
    "\n",
    "# 对视频逐帧处理\n",
    "for frame_id, img in enumerate(imgs):\n",
    "    \n",
    "    ## 处理单帧画面\n",
    "    img, pred_softmax = pred_single_frame(img, n=5)\n",
    "\n",
    "    # 将处理后的该帧画面图像文件，保存至 /tmp 目录下\n",
    "    cv2.imwrite(f'{temp_out_dir}/{frame_id:06d}.jpg', img)\n",
    "    \n",
    "    prog_bar.update() # 更新进度条\n",
    "\n",
    "# 把每一帧串成视频文件\n",
    "mmcv.frames2video(temp_out_dir, 'output/output_pred.mp4', fps=imgs.fps, fourcc='mp4v')\n",
    "\n",
    "shutil.rmtree(temp_out_dir) # 删除存放每帧画面的临时文件夹\n",
    "print('删除临时文件夹', temp_out_dir)"
   ]
  },
  {
   "cell_type": "markdown",
   "id": "c1dcc3e2-f1e3-4dab-941c-786050cbb64e",
   "metadata": {},
   "source": [
    "### 可视化方案二：原始图像+预测结果文字+各类别置信度柱状图"
   ]
  },
  {
   "cell_type": "code",
   "execution_count": 39,
   "id": "865ca789-fb8c-4cc6-99c0-179f5b254e56",
   "metadata": {},
   "outputs": [],
   "source": [
    "def pred_single_frame_bar(img):\n",
    "    '''\n",
    "    输入pred_single_frame函数输出的bgr-array，加柱状图，保存\n",
    "    '''\n",
    "    img = cv2.cvtColor(img, cv2.COLOR_BGR2RGB) # BGR 转 RGB\n",
    "    fig = plt.figure(figsize=(18,6))\n",
    "    # 绘制左图-视频图\n",
    "    ax1 = plt.subplot(1,2,1)\n",
    "    ax1.imshow(img)\n",
    "    ax1.axis('off')\n",
    "    # 绘制右图-柱状图\n",
    "    ax2 = plt.subplot(1,2,2)\n",
    "    x = range(1000)\n",
    "    y = pred_softmax.cpu().detach().numpy()[0]\n",
    "    ax2.bar(x, y, alpha=0.5, width=0.3, color='yellow', edgecolor='red', lw=3)\n",
    "    plt.xlabel('类别', fontsize=20)\n",
    "    plt.ylabel('置信度', fontsize=20)\n",
    "    ax2.tick_params(labelsize=16) # 坐标文字大小\n",
    "    plt.ylim([0, 1.0]) # y轴取值范围\n",
    "    plt.xlabel('类别',fontsize=25)\n",
    "    plt.ylabel('置信度',fontsize=25)\n",
    "    plt.title('图像分类预测结果', fontsize=30)\n",
    "    \n",
    "    plt.tight_layout()\n",
    "    fig.savefig(f'{temp_out_dir}/{frame_id:06d}.jpg')\n",
    "    # 释放内存\n",
    "    fig.clf()\n",
    "    plt.close()\n",
    "    gc.collect()"
   ]
  },
  {
   "cell_type": "code",
   "execution_count": 40,
   "id": "d72d0cd5-fa63-40ff-b9b3-9bef6f54d567",
   "metadata": {},
   "outputs": [
    {
     "name": "stdout",
     "output_type": "stream",
     "text": [
      "创建文件夹 20220805155041 用于存放每帧预测结果\n"
     ]
    }
   ],
   "source": [
    "# 创建临时文件夹，存放每帧结果\n",
    "temp_out_dir = time.strftime('%Y%m%d%H%M%S')\n",
    "os.mkdir(temp_out_dir)\n",
    "print('创建文件夹 {} 用于存放每帧预测结果'.format(temp_out_dir))"
   ]
  },
  {
   "cell_type": "code",
   "execution_count": 41,
   "id": "fd210d37-7f1d-46f4-a405-c00248f08670",
   "metadata": {},
   "outputs": [
    {
     "name": "stdout",
     "output_type": "stream",
     "text": [
      "[>>>>>>>>>>>>>>>>>>>>>>>>>>>>>>] 132/132, 98.9 task/s, elapsed: 1s, ETA:     0s[                                                  ] 0/132, elapsed: 0s, ETA:\n",
      "删除临时文件夹 20220805155041\n"
     ]
    }
   ],
   "source": [
    "# 读入待预测视频\n",
    "imgs = mmcv.VideoReader(input_video)\n",
    "\n",
    "prog_bar = mmcv.ProgressBar(len(imgs))\n",
    "\n",
    "# 对视频逐帧处理\n",
    "for frame_id, img in enumerate(imgs):\n",
    "    \n",
    "    ## 处理单帧画面\n",
    "    img, pred_softmax = pred_single_frame(img, n=5)\n",
    "    img = pred_single_frame_bar(img)\n",
    "    \n",
    "    prog_bar.update() # 更新进度条\n",
    "\n",
    "# 把每一帧串成视频文件\n",
    "mmcv.frames2video(temp_out_dir, 'output/output_bar.mp4', fps=imgs.fps, fourcc='mp4v')\n",
    "\n",
    "shutil.rmtree(temp_out_dir) # 删除存放每帧画面的临时文件夹\n",
    "print('删除临时文件夹', temp_out_dir)"
   ]
  },
  {
   "cell_type": "code",
   "execution_count": null,
   "id": "75a7c2bb-a2c3-4026-b858-be8b18cd0b81",
   "metadata": {},
   "outputs": [],
   "source": []
  }
 ],
 "metadata": {
  "kernelspec": {
   "display_name": "Python 3 (ipykernel)",
   "language": "python",
   "name": "python3"
  },
  "language_info": {
   "codemirror_mode": {
    "name": "ipython",
    "version": 3
   },
   "file_extension": ".py",
   "mimetype": "text/x-python",
   "name": "python",
   "nbconvert_exporter": "python",
   "pygments_lexer": "ipython3",
   "version": "3.7.10"
  }
 },
 "nbformat": 4,
 "nbformat_minor": 5
}

{
 "cells": [
  {
   "cell_type": "markdown",
   "id": "4a36abc9-47b6-4e9a-8d2c-330e64012db2",
   "metadata": {},
   "source": [
    "# 准备图像分类数据集\n",
    "\n",
    "同济子豪兄：https://space.bilibili.com/1900783\n",
    "\n",
    "[代码运行云GPU环境](https://featurize.cn/?s=d7ce99f842414bfcaea5662a97581bd1)：GPU RTX 3060、CUDA v11.2\n",
    "\n",
    "## 构建自己的图像分类数据集\n",
    "\n",
    "https://www.bilibili.com/video/BV1Jd4y1T7rw"
   ]
  },
  {
   "cell_type": "markdown",
   "id": "e0f48f3b-5137-4b11-a529-4ae41c8806e4",
   "metadata": {},
   "source": [
    "## 下载样例数据集"
   ]
  },
  {
   "cell_type": "code",
   "execution_count": 1,
   "id": "70a97135-b7a8-4817-a43d-742171ac5978",
   "metadata": {},
   "outputs": [
    {
     "name": "stdout",
     "output_type": "stream",
     "text": [
      "--2022-08-08 15:30:10--  https://zihao-openmmlab.obs.cn-east-3.myhuaweicloud.com/20220716-mmclassification/dataset/melon17/melon17_split.zip\n",
      "Connecting to 172.16.0.13:5848... connected.\n",
      "Proxy request sent, awaiting response... 200 OK\n",
      "Length: 131340912 (125M) [application/zip]\n",
      "Saving to: ‘melon17_split.zip’\n",
      "\n",
      "melon17_split.zip   100%[===================>] 125.26M  35.5MB/s    in 3.9s    \n",
      "\n",
      "2022-08-08 15:30:14 (32.4 MB/s) - ‘melon17_split.zip’ saved [131340912/131340912]\n",
      "\n"
     ]
    }
   ],
   "source": [
    "# 下载数据集压缩包\n",
    "!wget https://zihao-openmmlab.obs.cn-east-3.myhuaweicloud.com/20220716-mmclassification/dataset/melon17/melon17_split.zip"
   ]
  },
  {
   "cell_type": "code",
   "execution_count": 2,
   "id": "21711cbb-685d-40ff-9ec9-2348d8d1a1a1",
   "metadata": {},
   "outputs": [],
   "source": [
    "# 解压\n",
    "!unzip melon17_split.zip >> /dev/null"
   ]
  },
  {
   "cell_type": "code",
   "execution_count": 3,
   "id": "b9324762-352f-4b9c-b9e8-2b299c0ef2fc",
   "metadata": {},
   "outputs": [],
   "source": [
    "# 删除压缩包\n",
    "!rm melon17_split.zip"
   ]
  },
  {
   "cell_type": "markdown",
   "id": "3ef777be-569d-4c38-a345-c2cf9acf4f12",
   "metadata": {},
   "source": [
    "## 下载类别和ID的映射"
   ]
  },
  {
   "cell_type": "code",
   "execution_count": 3,
   "id": "5be6a9f1-51e0-4a07-9a7c-5241d5952506",
   "metadata": {},
   "outputs": [
    {
     "name": "stdout",
     "output_type": "stream",
     "text": [
      "--2022-08-12 17:26:30--  https://zihao-openmmlab.obs.cn-east-3.myhuaweicloud.com/20220716-mmclassification/dataset/melon17/idx_to_labels.npy\n",
      "Connecting to 172.16.0.13:5848... connected.\n",
      "Proxy request sent, awaiting response... 200 OK\n",
      "Length: 580 [binary/octet-stream]\n",
      "Saving to: ‘idx_to_labels.npy.2’\n",
      "\n",
      "idx_to_labels.npy.2 100%[===================>]     580  --.-KB/s    in 0s      \n",
      "\n",
      "2022-08-12 17:26:30 (12.6 MB/s) - ‘idx_to_labels.npy.2’ saved [580/580]\n",
      "\n"
     ]
    }
   ],
   "source": [
    "!wget https://zihao-openmmlab.obs.cn-east-3.myhuaweicloud.com/20220716-mmclassification/dataset/melon17/idx_to_labels.npy"
   ]
  },
  {
   "cell_type": "markdown",
   "id": "55155fe0-2d99-458e-bdb2-ac894d7a6046",
   "metadata": {},
   "source": [
    "## 查看数据集目录结构"
   ]
  },
  {
   "cell_type": "code",
   "execution_count": 8,
   "id": "f06d00df-aa4f-41fe-a2be-50a677bb5a3f",
   "metadata": {},
   "outputs": [],
   "source": [
    "!sudo snap install tree"
   ]
  },
  {
   "cell_type": "code",
   "execution_count": 7,
   "id": "8f9f463f-ea2e-4d7b-b7b2-9f528afe987c",
   "metadata": {},
   "outputs": [
    {
     "name": "stdout",
     "output_type": "stream",
     "text": [
      "\u001b[01;34mmelon17_split\u001b[00m\n",
      "├── \u001b[01;34mtrain\u001b[00m\n",
      "│   ├── \u001b[01;34m丝瓜\u001b[00m\n",
      "│   ├── \u001b[01;34m人参果\u001b[00m\n",
      "│   ├── \u001b[01;34m佛手瓜\u001b[00m\n",
      "│   ├── \u001b[01;34m冬瓜\u001b[00m\n",
      "│   ├── \u001b[01;34m南瓜\u001b[00m\n",
      "│   ├── \u001b[01;34m哈密瓜\u001b[00m\n",
      "│   ├── \u001b[01;34m木瓜\u001b[00m\n",
      "│   ├── \u001b[01;34m甜瓜-伊丽莎白\u001b[00m\n",
      "│   ├── \u001b[01;34m甜瓜-白\u001b[00m\n",
      "│   ├── \u001b[01;34m甜瓜-绿\u001b[00m\n",
      "│   ├── \u001b[01;34m甜瓜-金\u001b[00m\n",
      "│   ├── \u001b[01;34m白兰瓜\u001b[00m\n",
      "│   ├── \u001b[01;34m羊角蜜\u001b[00m\n",
      "│   ├── \u001b[01;34m苦瓜\u001b[00m\n",
      "│   ├── \u001b[01;34m西瓜\u001b[00m\n",
      "│   ├── \u001b[01;34m西葫芦\u001b[00m\n",
      "│   └── \u001b[01;34m黄瓜\u001b[00m\n",
      "└── \u001b[01;34mval\u001b[00m\n",
      "    ├── \u001b[01;34m丝瓜\u001b[00m\n",
      "    ├── \u001b[01;34m人参果\u001b[00m\n",
      "    ├── \u001b[01;34m佛手瓜\u001b[00m\n",
      "    ├── \u001b[01;34m冬瓜\u001b[00m\n",
      "    ├── \u001b[01;34m南瓜\u001b[00m\n",
      "    ├── \u001b[01;34m哈密瓜\u001b[00m\n",
      "    ├── \u001b[01;34m木瓜\u001b[00m\n",
      "    ├── \u001b[01;34m甜瓜-伊丽莎白\u001b[00m\n",
      "    ├── \u001b[01;34m甜瓜-白\u001b[00m\n",
      "    ├── \u001b[01;34m甜瓜-绿\u001b[00m\n",
      "    ├── \u001b[01;34m甜瓜-金\u001b[00m\n",
      "    ├── \u001b[01;34m白兰瓜\u001b[00m\n",
      "    ├── \u001b[01;34m羊角蜜\u001b[00m\n",
      "    ├── \u001b[01;34m苦瓜\u001b[00m\n",
      "    ├── \u001b[01;34m西瓜\u001b[00m\n",
      "    ├── \u001b[01;34m西葫芦\u001b[00m\n",
      "    └── \u001b[01;34m黄瓜\u001b[00m\n",
      "\n",
      "36 directories, 0 files\n"
     ]
    }
   ],
   "source": [
    "!tree melon17_split -L 2"
   ]
  },
  {
   "cell_type": "code",
   "execution_count": null,
   "id": "139d2504-a78a-4145-8520-5206fb51b829",
   "metadata": {},
   "outputs": [],
   "source": []
  }
 ],
 "metadata": {
  "kernelspec": {
   "display_name": "Python 3 (ipykernel)",
   "language": "python",
   "name": "python3"
  },
  "language_info": {
   "codemirror_mode": {
    "name": "ipython",
    "version": 3
   },
   "file_extension": ".py",
   "mimetype": "text/x-python",
   "name": "python",
   "nbconvert_exporter": "python",
   "pygments_lexer": "ipython3",
   "version": "3.7.10"
  }
 },
 "nbformat": 4,
 "nbformat_minor": 5
}

{
 "cells": [
  {
   "cell_type": "markdown",
   "id": "4a36abc9-47b6-4e9a-8d2c-330e64012db2",
   "metadata": {},
   "source": [
    "# ImageNet预训练图像分类模型预测视频文件\n",
    "\n",
    "使用 ImageNet 预训练图像分类模型，对视频文件执行预测。\n",
    "\n",
    "同济子豪兄：https://space.bilibili.com/1900783\n",
    "\n",
    "[代码运行云GPU环境](https://featurize.cn/?s=d7ce99f842414bfcaea5662a97581bd1)：GPU RTX 3060、CUDA v11.2"
   ]
  },
  {
   "cell_type": "markdown",
   "id": "a25de876-859f-4543-b674-00708ee307a6",
   "metadata": {},
   "source": [
    "## 设置中文字体"
   ]
  },
  {
   "cell_type": "code",
   "execution_count": 1,
   "id": "875f443b-c943-42fe-bb3b-9dfbf01f28f8",
   "metadata": {},
   "outputs": [],
   "source": [
    "# # windows操作系统\n",
    "# plt.rcParams['font.sans-serif']=['SimHei']  # 用来正常显示中文标签 \n",
    "# plt.rcParams['axes.unicode_minus']=False  # 用来正常显示负号"
   ]
  },
  {
   "cell_type": "code",
   "execution_count": 2,
   "id": "b693a006-5a40-49b7-b1da-a2f4e822f140",
   "metadata": {},
   "outputs": [],
   "source": [
    "# Mac操作系统，参考 https://www.ngui.cc/51cto/show-727683.html\n",
    "# 下载 simhei.ttf 字体文件\n",
    "# !wget https://zihao-openmmlab.obs.cn-east-3.myhuaweicloud.com/20220716-mmclassification/dataset/SimHei.ttf"
   ]
  },
  {
   "cell_type": "code",
   "execution_count": 1,
   "id": "ec933a1e-fb24-48ac-a945-69f2149c5301",
   "metadata": {},
   "outputs": [
    {
     "name": "stdout",
     "output_type": "stream",
     "text": [
      "--2022-07-24 22:32:47--  https://zihao-openmmlab.obs.cn-east-3.myhuaweicloud.com/20220716-mmclassification/dataset/SimHei.ttf\n",
      "Connecting to 172.16.0.13:5848... connected.\n",
      "Proxy request sent, awaiting response... 200 OK\n",
      "Length: 10050868 (9.6M) [application/x-font-ttf]\n",
      "Saving to: ‘/environment/miniconda3/lib/python3.7/site-packages/matplotlib/mpl-data/fonts/ttf/SimHei.ttf’\n",
      "\n",
      "/environment/minico 100%[===================>]   9.58M  21.8MB/s    in 0.4s    \n",
      "\n",
      "2022-07-24 22:32:53 (21.8 MB/s) - ‘/environment/miniconda3/lib/python3.7/site-packages/matplotlib/mpl-data/fonts/ttf/SimHei.ttf’ saved [10050868/10050868]\n",
      "\n"
     ]
    }
   ],
   "source": [
    "# Linux操作系统，例如 云GPU平台：https://featurize.cn/?s=d7ce99f842414bfcaea5662a97581bd1\n",
    "# 如果遇到 SSL 相关报错，重新运行本代码块即可\n",
    "!wget https://zihao-openmmlab.obs.cn-east-3.myhuaweicloud.com/20220716-mmclassification/dataset/SimHei.ttf -O /environment/miniconda3/lib/python3.7/site-packages/matplotlib/mpl-data/fonts/ttf/SimHei.ttf\n",
    "!rm -rf /home/featurize/.cache/matplotlib\n",
    "\n",
    "import matplotlib\n",
    "matplotlib.rc(\"font\",family='SimHei') # 中文字体\n"
   ]
  },
  {
   "cell_type": "markdown",
   "id": "bc0771ac-3f1e-4430-ba29-b31b5ea2a28c",
   "metadata": {},
   "source": [
    "## 导入中文字体"
   ]
  },
  {
   "cell_type": "code",
   "execution_count": 14,
   "id": "41442956-98b9-4438-81db-4609c7b18b7a",
   "metadata": {},
   "outputs": [],
   "source": [
    "from PIL import ImageFont, ImageDraw\n",
    "# 导入中文字体，指定字号\n",
    "font = ImageFont.truetype('SimHei.ttf', 32)"
   ]
  },
  {
   "cell_type": "markdown",
   "id": "b8353a13-df79-456d-bd86-4efbc31b6e7a",
   "metadata": {
    "tags": []
   },
   "source": [
    "## 导入工具包"
   ]
  },
  {
   "cell_type": "code",
   "execution_count": 12,
   "id": "2773900f-d618-4a10-aaf8-32021231e326",
   "metadata": {},
   "outputs": [
    {
     "name": "stdout",
     "output_type": "stream",
     "text": [
      "device: cuda:0\n"
     ]
    }
   ],
   "source": [
    "import os\n",
    "import cv2 # opencv-python\n",
    "from PIL import Image, ImageFont, ImageDraw\n",
    "from tqdm import tqdm # 进度条\n",
    "\n",
    "import pandas as pd\n",
    "import numpy as np\n",
    "\n",
    "import torch\n",
    "import torch.nn.functional as F\n",
    "from torchvision import models\n",
    "\n",
    "import matplotlib.pyplot as plt\n",
    "%matplotlib inline\n",
    "plt.rcParams['axes.unicode_minus']=False  # 用来正常显示负号\n",
    "plt.rcParams['font.sans-serif']=['SimHei']  # 用来正常显示中文标签\n",
    "import gc\n",
    "\n",
    "import mmcv\n",
    "import tempfile\n",
    "import shutil\n",
    "import time\n",
    "\n",
    "# 有 GPU 就用 GPU，没有就用 CPU\n",
    "device = torch.device(\"cuda:0\" if torch.cuda.is_available() else \"cpu\")\n",
    "print('device:', device)"
   ]
  },
  {
   "cell_type": "code",
   "execution_count": 2,
   "id": "7bbd1246-21ef-4890-9df7-0955f07d8fe8",
   "metadata": {},
   "outputs": [],
   "source": [
    "# 后端绘图，不显示，只保存\n",
    "import matplotlib\n",
    "matplotlib.use('Agg')"
   ]
  },
  {
   "cell_type": "markdown",
   "id": "c7c5aebe-d0b6-462b-9bc0-267379497b5c",
   "metadata": {},
   "source": [
    "## 载入模型"
   ]
  },
  {
   "cell_type": "code",
   "execution_count": 3,
   "id": "89ad8421-bc5a-4817-b182-4a01581de032",
   "metadata": {},
   "outputs": [],
   "source": [
    "# 载入预训练图像分类模型\n",
    "model = models.resnet18(pretrained=True)\n",
    "model = model.eval()\n",
    "model = model.to(device)"
   ]
  },
  {
   "cell_type": "code",
   "execution_count": 4,
   "id": "6915f52b-2d08-48b4-bfec-6a9b2eaeca70",
   "metadata": {},
   "outputs": [],
   "source": [
    "# 载入ImageNet 1000图像分类标签\n",
    "df = pd.read_csv('imagenet_class_index.csv')"
   ]
  },
  {
   "cell_type": "code",
   "execution_count": 5,
   "id": "c13fb4a4-c662-4314-8a1e-9653c0266c9c",
   "metadata": {},
   "outputs": [],
   "source": [
    "idx_to_labels = {}\n",
    "for idx, row in df.iterrows():\n",
    "    idx_to_labels[row['ID']] = [row['wordnet'], row['Chinese']]"
   ]
  },
  {
   "cell_type": "code",
   "execution_count": 6,
   "id": "db2106fa-4499-4378-8676-ffb98759688d",
   "metadata": {},
   "outputs": [],
   "source": [
    "# idx_to_labels"
   ]
  },
  {
   "cell_type": "markdown",
   "id": "bb86c3f8-1dde-45a7-852b-ebd2f1ff0e0d",
   "metadata": {},
   "source": [
    "## 图像预处理"
   ]
  },
  {
   "cell_type": "code",
   "execution_count": 7,
   "id": "0e465576-c34a-4d12-874b-55bcf27de443",
   "metadata": {},
   "outputs": [],
   "source": [
    "from torchvision import transforms\n",
    "\n",
    "# 测试集图像预处理-RCTN：缩放裁剪、转 Tensor、归一化\n",
    "test_transform = transforms.Compose([transforms.Resize(256),\n",
    "                                     transforms.CenterCrop(224),\n",
    "                                     transforms.ToTensor(),\n",
    "                                     transforms.Normalize(\n",
    "                                         mean=[0.485, 0.456, 0.406], \n",
    "                                         std=[0.229, 0.224, 0.225])\n",
    "                                    ])"
   ]
  },
  {
   "cell_type": "markdown",
   "id": "a30e940f-a998-4013-aae5-17366240fc61",
   "metadata": {},
   "source": [
    "## 视频预测"
   ]
  },
  {
   "cell_type": "markdown",
   "id": "6c852ca3-18f2-4439-bfd9-3f79397431d7",
   "metadata": {},
   "source": [
    "### 输入输出视频路径"
   ]
  },
  {
   "cell_type": "code",
   "execution_count": 8,
   "id": "a0ae61f8-23ec-4f99-8951-ebc1522280b7",
   "metadata": {},
   "outputs": [],
   "source": [
    "input_video = 'test_img/video_3.mp4'"
   ]
  },
  {
   "cell_type": "markdown",
   "id": "b69d59dc-9402-4985-a22c-f2969104a1cb",
   "metadata": {},
   "source": [
    "### 可视化方案一：原始图像+预测结果文字"
   ]
  },
  {
   "cell_type": "code",
   "execution_count": 15,
   "id": "c68cbba1-a777-45ec-98a3-3874eec8c93d",
   "metadata": {},
   "outputs": [],
   "source": [
    "def classify_single_img(img_path, n=5):\n",
    "    '''\n",
    "    输入图像文件路径，输出图像分类前 n 个预测结果，保存输出图像\n",
    "    '''\n",
    "    img_bgr = cv2.imread(img_path)\n",
    "    img_pil = Image.open(img_path)\n",
    "    input_img = test_transform(img_pil).unsqueeze(0).to(device) # 预处理\n",
    "    pred_logits = model(input_img) # 执行前向预测，得到所有类别的 logit 预测分数\n",
    "    pred_softmax = F.softmax(pred_logits, dim=1) # 对 logit 分数做 softmax 运算\n",
    "\n",
    "    # 取置信度最大的 n 个结果\n",
    "    top_n = torch.topk(pred_softmax, n) \n",
    "    confs = top_n[0].cpu().detach().numpy().squeeze()\n",
    "    pred_ids = top_n[1].cpu().detach().numpy().squeeze()\n",
    "\n",
    "    pred_df = pd.DataFrame() # 预测结果表格\n",
    "    for i in range(n):\n",
    "        class_name = idx_to_labels[pred_ids[i]][1] # 获取类别名称\n",
    "        label_idx = int(pred_ids[i]) # 获取类别号\n",
    "        wordnet = idx_to_labels[pred_ids[i]][0] # 获取 WordNet\n",
    "        confidence = confs[i] * 100 # 获取置信度\n",
    "        pred_df = pred_df.append({'Class':class_name, 'Class_ID':label_idx, 'Confidence(%)':confidence, 'WordNet':wordnet}, ignore_index=True) # 预测结果表格添加一行\n",
    "\n",
    "    top_n = torch.topk(pred_softmax, n) \n",
    "    confs = top_n[0].cpu().detach().numpy().squeeze()\n",
    "    pred_ids = top_n[1].cpu().detach().numpy().squeeze()\n",
    "    pred_df = pd.DataFrame() # 预测结果表格\n",
    "    for i in range(n):\n",
    "        class_name = idx_to_labels[pred_ids[i]][1] # 获取类别名称\n",
    "        label_idx = int(pred_ids[i]) # 获取类别号\n",
    "        wordnet = idx_to_labels[pred_ids[i]][0] # 获取 WordNet\n",
    "        confidence = confs[i] * 100 # 获取置信度\n",
    "        pred_df = pred_df.append({'Class':class_name, 'Class_ID':label_idx, 'Confidence(%)':confidence, 'WordNet':wordnet}, ignore_index=True) # 预测结果表格添加一行\n",
    "    \n",
    "    draw = ImageDraw.Draw(img_pil) \n",
    "    # 在图像上写字\n",
    "    for i in range(len(confs)):\n",
    "        pred_class = idx_to_labels[pred_ids[i]][1]\n",
    "        text = '{:<15} {:>.3f}'.format(pred_class, confs[i])\n",
    "        # 文字坐标，中文字符串，字体，rgba颜色\n",
    "        draw.text((50, 100 + 50 * i), text, font=font, fill=(255, 0, 0, 1))\n",
    "    img_pred_1 = np.array(img_pil) # PIL 转 array\n",
    "    \n",
    "    # 保存图像\n",
    "    img_pred_rgb = cv2.cvtColor(img_pred_1, cv2.COLOR_RGB2BGR) # RGB转BGR\n",
    "    cv2.imwrite('temp/视频单帧预测结果.jpg', img_pred_rgb)\n",
    "    "
   ]
  },
  {
   "cell_type": "code",
   "execution_count": 16,
   "id": "9d92a9e1-040d-4c4b-881d-f16053086db0",
   "metadata": {},
   "outputs": [
    {
     "name": "stdout",
     "output_type": "stream",
     "text": [
      "创建文件夹 20220803194809 用于存放每帧预测结果\n"
     ]
    }
   ],
   "source": [
    "# 创建临时文件夹，存放每帧结果\n",
    "temp_out_dir = time.strftime('%Y%m%d%H%M%S')\n",
    "os.mkdir(temp_out_dir)\n",
    "print('创建文件夹 {} 用于存放每帧预测结果'.format(temp_out_dir))"
   ]
  },
  {
   "cell_type": "code",
   "execution_count": 17,
   "id": "4b53cf47-d1eb-4b77-97bd-8ce01dc3cbc4",
   "metadata": {},
   "outputs": [
    {
     "name": "stdout",
     "output_type": "stream",
     "text": [
      "[>>>>>>>>>>>>>>>>>>>>>>>>>>>>>>] 132/132, 24.1 task/s, elapsed: 5s, ETA:     0s[                                                  ] 0/132, elapsed: 0s, ETA:\n"
     ]
    }
   ],
   "source": [
    "# 读入待预测视频\n",
    "imgs = mmcv.VideoReader(input_video)\n",
    "\n",
    "prog_bar = mmcv.ProgressBar(len(imgs))\n",
    "\n",
    "# 对视频逐帧处理\n",
    "for frame_id, img in enumerate(imgs):\n",
    "    \n",
    "    cv2.imwrite('temp/视频单帧画面.jpg', img)\n",
    "    classify_single_img('temp/视频单帧画面.jpg', n=5)\n",
    "    img = cv2.imread('temp/视频单帧预测结果.jpg')\n",
    "\n",
    "    # 将处理后的该帧画面图像文件，保存至 /tmp 目录下\n",
    "    cv2.imwrite(f'{temp_out_dir}/{frame_id:06d}.jpg', img)\n",
    "    \n",
    "    prog_bar.update() # 更新进度条\n",
    "\n",
    "# 把每一帧串成视频文件\n",
    "mmcv.frames2video(temp_out_dir, 'output/output_pred.mp4', fps=imgs.fps, fourcc='mp4v')\n",
    "\n",
    "shutil.rmtree(temp_out_dir) # 删除存放每帧画面的临时文件夹"
   ]
  },
  {
   "cell_type": "markdown",
   "id": "f6643932-db67-4f14-8e0e-7f331cc6f154",
   "metadata": {},
   "source": [
    "### 可视化方案二：原始图像+预测结果文字+各类别置信度柱状图"
   ]
  },
  {
   "cell_type": "code",
   "execution_count": 18,
   "id": "246ffd84-709c-488d-944f-d45b3f422a52",
   "metadata": {},
   "outputs": [],
   "source": [
    "def classify_single_img(img_path, n=5):\n",
    "    '''\n",
    "    输入图像文件路径，输出图像分类前 n 个预测结果，保存输出图像\n",
    "    '''\n",
    "    img_bgr = cv2.imread(img_path)\n",
    "    img_pil = Image.open(img_path)\n",
    "    input_img = test_transform(img_pil).unsqueeze(0).to(device) # 预处理\n",
    "    pred_logits = model(input_img) # 执行前向预测，得到所有类别的 logit 预测分数\n",
    "    pred_softmax = F.softmax(pred_logits, dim=1) # 对 logit 分数做 softmax 运算\n",
    "\n",
    "    # 取置信度最大的 n 个结果\n",
    "    top_n = torch.topk(pred_softmax, n) \n",
    "    confs = top_n[0].cpu().detach().numpy().squeeze()\n",
    "    pred_ids = top_n[1].cpu().detach().numpy().squeeze()\n",
    "\n",
    "    pred_df = pd.DataFrame() # 预测结果表格\n",
    "    for i in range(n):\n",
    "        class_name = idx_to_labels[pred_ids[i]][1] # 获取类别名称\n",
    "        label_idx = int(pred_ids[i]) # 获取类别号\n",
    "        wordnet = idx_to_labels[pred_ids[i]][0] # 获取 WordNet\n",
    "        confidence = confs[i] * 100 # 获取置信度\n",
    "        pred_df = pred_df.append({'Class':class_name, 'Class_ID':label_idx, 'Confidence(%)':confidence, 'WordNet':wordnet}, ignore_index=True) # 预测结果表格添加一行\n",
    "\n",
    "    top_n = torch.topk(pred_softmax, n) \n",
    "    confs = top_n[0].cpu().detach().numpy().squeeze()\n",
    "    pred_ids = top_n[1].cpu().detach().numpy().squeeze()\n",
    "    pred_df = pd.DataFrame() # 预测结果表格\n",
    "    for i in range(n):\n",
    "        class_name = idx_to_labels[pred_ids[i]][1] # 获取类别名称\n",
    "        label_idx = int(pred_ids[i]) # 获取类别号\n",
    "        wordnet = idx_to_labels[pred_ids[i]][0] # 获取 WordNet\n",
    "        confidence = confs[i] * 100 # 获取置信度\n",
    "        pred_df = pred_df.append({'Class':class_name, 'Class_ID':label_idx, 'Confidence(%)':confidence, 'WordNet':wordnet}, ignore_index=True) # 预测结果表格添加一行\n",
    "    \n",
    "    draw = ImageDraw.Draw(img_pil) \n",
    "    # 在图像上写字\n",
    "    for i in range(len(confs)):\n",
    "        pred_class = idx_to_labels[pred_ids[i]][1]\n",
    "        text = '{:<15} {:>.3f}'.format(pred_class, confs[i])\n",
    "        # 文字坐标，中文字符串，字体，rgba颜色\n",
    "        draw.text((50, 100 + 50 * i), text, font=font, fill=(255, 0, 0, 1))\n",
    "    img_pred_1 = np.array(img_pil) # PIL 转 array\n",
    "    \n",
    "    # 保存图像\n",
    "    img_pred_rgb = cv2.cvtColor(img_pred_1, cv2.COLOR_RGB2BGR) # RGB转BGR\n",
    "    cv2.imwrite('output/pred_result_1.jpg', img_pred_rgb)\n",
    "    \n",
    "    ## 图像和柱状图一起显示\n",
    "    # 载入原始图像\n",
    "    img = cv2.imread('temp/pred_result_1.jpg')\n",
    "    img = cv2.cvtColor(img, cv2.COLOR_BGR2RGB) # BGR 转 RGB\n",
    "    fig = plt.figure(figsize=(18,6))\n",
    "    # 绘制左图-视频图\n",
    "    ax1 = plt.subplot(1,2,1)\n",
    "    ax1.imshow(img_pred_1)\n",
    "    ax1.axis('off')\n",
    "    # 绘制右图-柱状图\n",
    "    ax2 = plt.subplot(1,2,2)\n",
    "    x = df['ID']\n",
    "    y = pred_softmax.cpu().detach().numpy()[0]\n",
    "    ax2.bar(x, y, alpha=0.5, width=0.3, color='yellow', edgecolor='red', lw=3)\n",
    "    plt.xlabel('类别', fontsize=20)\n",
    "    plt.ylabel('置信度', fontsize=20)\n",
    "    ax2.tick_params(labelsize=16) # 坐标文字大小\n",
    "    plt.ylim([0, 1.0]) # y轴取值范围\n",
    "    plt.xlabel('类别',fontsize=25)\n",
    "    plt.ylabel('置信度',fontsize=25)\n",
    "    plt.title('图像分类预测结果', fontsize=30)\n",
    "    plt.tight_layout()\n",
    "    fig.savefig('temp/视频单帧预测结果.jpg')\n",
    "    # 释放内存\n",
    "    fig.clf()\n",
    "    plt.close()\n",
    "    gc.collect()"
   ]
  },
  {
   "cell_type": "code",
   "execution_count": 19,
   "id": "d72d0cd5-fa63-40ff-b9b3-9bef6f54d567",
   "metadata": {},
   "outputs": [
    {
     "name": "stdout",
     "output_type": "stream",
     "text": [
      "创建文件夹 20220803195013 用于存放每帧预测结果\n"
     ]
    }
   ],
   "source": [
    "# 创建临时文件夹，存放每帧结果\n",
    "temp_out_dir = time.strftime('%Y%m%d%H%M%S')\n",
    "os.mkdir(temp_out_dir)\n",
    "print('创建文件夹 {} 用于存放每帧预测结果'.format(temp_out_dir))"
   ]
  },
  {
   "cell_type": "code",
   "execution_count": 20,
   "id": "e6a2ad40-d8c5-4753-8c10-c0274fdec13e",
   "metadata": {},
   "outputs": [
    {
     "name": "stdout",
     "output_type": "stream",
     "text": [
      "[>>>>>>>>>>>>>>>>>>>>>>>>>>>>>>] 132/132, 93.6 task/s, elapsed: 1s, ETA:     0s[                                                  ] 0/132, elapsed: 0s, ETA:\n"
     ]
    }
   ],
   "source": [
    "# 读入待预测视频\n",
    "imgs = mmcv.VideoReader(input_video)\n",
    "\n",
    "prog_bar = mmcv.ProgressBar(len(imgs))\n",
    "\n",
    "# 对视频逐帧处理\n",
    "for frame_id, img in enumerate(imgs):\n",
    "    \n",
    "    cv2.imwrite('temp/视频单帧画面.jpg', img)\n",
    "    classify_single_img('temp/视频单帧画面.jpg', n=5)\n",
    "    img = cv2.imread('temp/视频单帧预测结果.jpg')\n",
    "\n",
    "    # 将处理后的该帧画面图像文件，保存至 /tmp 目录下\n",
    "    cv2.imwrite(f'{temp_out_dir}/{frame_id:06d}.jpg', img)\n",
    "    \n",
    "    prog_bar.update() # 更新进度条\n",
    "\n",
    "# 把每一帧串成视频文件\n",
    "mmcv.frames2video(temp_out_dir, 'output/output_bar.mp4', fps=imgs.fps, fourcc='mp4v')\n",
    "\n",
    "shutil.rmtree(temp_out_dir) # 删除存放每帧画面的临时文件夹"
   ]
  },
  {
   "cell_type": "code",
   "execution_count": null,
   "id": "75a7c2bb-a2c3-4026-b858-be8b18cd0b81",
   "metadata": {},
   "outputs": [],
   "source": []
  }
 ],
 "metadata": {
  "kernelspec": {
   "display_name": "Python 3 (ipykernel)",
   "language": "python",
   "name": "python3"
  },
  "language_info": {
   "codemirror_mode": {
    "name": "ipython",
    "version": 3
   },
   "file_extension": ".py",
   "mimetype": "text/x-python",
   "name": "python",
   "nbconvert_exporter": "python",
   "pygments_lexer": "ipython3",
   "version": "3.7.10"
  }
 },
 "nbformat": 4,
 "nbformat_minor": 5
}

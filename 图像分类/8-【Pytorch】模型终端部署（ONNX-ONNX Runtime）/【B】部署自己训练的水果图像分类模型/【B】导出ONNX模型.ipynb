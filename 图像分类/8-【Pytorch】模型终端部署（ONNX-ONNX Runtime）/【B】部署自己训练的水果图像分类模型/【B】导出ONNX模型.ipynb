{
 "cells": [
  {
   "cell_type": "markdown",
   "id": "1c02c91b-e604-4778-b626-b06b350891de",
   "metadata": {},
   "source": [
    "# 导出ONNX模型\n",
    "\n",
    "同济子豪兄 https://space.bilibili.com/1900783\n",
    "\n",
    "代码运行云GPU平台：https://featurize.cn/?s=d7ce99f842414bfcaea5662a97581bd1\n",
    "\n",
    "2022-8-22"
   ]
  },
  {
   "cell_type": "markdown",
   "id": "aab08f57-14e2-44bc-8562-51c7be68f074",
   "metadata": {},
   "source": [
    "## 导入工具包"
   ]
  },
  {
   "cell_type": "code",
   "execution_count": 1,
   "id": "f9baf99e-744e-462d-94b4-f3653cb743ca",
   "metadata": {},
   "outputs": [
    {
     "name": "stdout",
     "output_type": "stream",
     "text": [
      "device cuda:0\n"
     ]
    }
   ],
   "source": [
    "import torch\n",
    "from torchvision import models\n",
    "\n",
    "# 有 GPU 就用 GPU，没有就用 CPU\n",
    "device = torch.device('cuda:0' if torch.cuda.is_available() else 'cpu')\n",
    "print('device', device)"
   ]
  },
  {
   "cell_type": "markdown",
   "id": "83ca3195-6800-4c89-98a7-3fb0c44ec329",
   "metadata": {},
   "source": [
    "## 导入训练好的模型"
   ]
  },
  {
   "cell_type": "code",
   "execution_count": 3,
   "id": "04824a4e-29ef-4048-af6e-e2442e388b69",
   "metadata": {},
   "outputs": [],
   "source": [
    "model = torch.load('checkpoints/fruit30_pytorch_20220814.pth')\n",
    "model = model.eval().to(device)"
   ]
  },
  {
   "cell_type": "code",
   "execution_count": 4,
   "id": "f3e41561-1d86-4f1d-b98d-c19373635bd8",
   "metadata": {},
   "outputs": [],
   "source": [
    "x = torch.randn(1, 3, 256, 256).to(device)"
   ]
  },
  {
   "cell_type": "code",
   "execution_count": 5,
   "id": "6fa9b2ec-ec96-419e-a289-5615ea57b00b",
   "metadata": {},
   "outputs": [],
   "source": [
    "output = model(x)"
   ]
  },
  {
   "cell_type": "code",
   "execution_count": 6,
   "id": "bb5ffda8-26af-4d9b-8770-3de9de27958c",
   "metadata": {},
   "outputs": [
    {
     "data": {
      "text/plain": [
       "torch.Size([1, 30])"
      ]
     },
     "execution_count": 6,
     "metadata": {},
     "output_type": "execute_result"
    }
   ],
   "source": [
    "output.shape"
   ]
  },
  {
   "cell_type": "markdown",
   "id": "8b8bb112-e3d4-4abe-ab51-b09ed29ef682",
   "metadata": {},
   "source": [
    "## Pytorch模型转ONNX模型"
   ]
  },
  {
   "cell_type": "code",
   "execution_count": 8,
   "id": "4adf4e24-93f5-4467-b011-e69c45d45bd3",
   "metadata": {},
   "outputs": [],
   "source": [
    "x = torch.randn(1, 3, 256, 256).to(device)\n",
    "\n",
    "with torch.no_grad():\n",
    "    torch.onnx.export(\n",
    "        model,                   # 要转换的模型\n",
    "        x,                       # 模型的任意一组输入\n",
    "        'fruit30_resnet18.onnx', # 导出的 ONNX 文件名\n",
    "        opset_version=11,        # ONNX 算子集版本\n",
    "        input_names=['input'],   # 输入 Tensor 的名称（自己起名字）\n",
    "        output_names=['output']  # 输出 Tensor 的名称（自己起名字）\n",
    "    ) "
   ]
  },
  {
   "cell_type": "markdown",
   "id": "9f30be68-1c30-43cd-be36-541b3035d933",
   "metadata": {},
   "source": [
    "## 验证onnx模型导出成功"
   ]
  },
  {
   "cell_type": "code",
   "execution_count": 9,
   "id": "067ce090-879a-4b05-af90-c7da47d84cc2",
   "metadata": {},
   "outputs": [
    {
     "name": "stdout",
     "output_type": "stream",
     "text": [
      "无报错，onnx模型载入成功\n"
     ]
    }
   ],
   "source": [
    "import onnx\n",
    "\n",
    "# 读取 ONNX 模型\n",
    "onnx_model = onnx.load('fruit30_resnet18.onnx')\n",
    "\n",
    "# 检查模型格式是否正确\n",
    "onnx.checker.check_model(onnx_model)\n",
    "\n",
    "print('无报错，onnx模型载入成功')"
   ]
  },
  {
   "cell_type": "markdown",
   "id": "9fa98064-6ac5-4072-a331-8513b3e29a03",
   "metadata": {},
   "source": [
    "## 以可读的形式打印计算图"
   ]
  },
  {
   "cell_type": "code",
   "execution_count": 10,
   "id": "333c59c1-6118-44e1-b892-e0a58d47cff1",
   "metadata": {},
   "outputs": [
    {
     "name": "stdout",
     "output_type": "stream",
     "text": [
      "graph torch-jit-export (\n",
      "  %input[FLOAT, 1x3x256x256]\n",
      ") initializers (\n",
      "  %fc.weight[FLOAT, 30x512]\n",
      "  %fc.bias[FLOAT, 30]\n",
      "  %193[FLOAT, 64x3x7x7]\n",
      "  %194[FLOAT, 64]\n",
      "  %196[FLOAT, 64x64x3x3]\n",
      "  %197[FLOAT, 64]\n",
      "  %199[FLOAT, 64x64x3x3]\n",
      "  %200[FLOAT, 64]\n",
      "  %202[FLOAT, 64x64x3x3]\n",
      "  %203[FLOAT, 64]\n",
      "  %205[FLOAT, 64x64x3x3]\n",
      "  %206[FLOAT, 64]\n",
      "  %208[FLOAT, 128x64x3x3]\n",
      "  %209[FLOAT, 128]\n",
      "  %211[FLOAT, 128x128x3x3]\n",
      "  %212[FLOAT, 128]\n",
      "  %214[FLOAT, 128x64x1x1]\n",
      "  %215[FLOAT, 128]\n",
      "  %217[FLOAT, 128x128x3x3]\n",
      "  %218[FLOAT, 128]\n",
      "  %220[FLOAT, 128x128x3x3]\n",
      "  %221[FLOAT, 128]\n",
      "  %223[FLOAT, 256x128x3x3]\n",
      "  %224[FLOAT, 256]\n",
      "  %226[FLOAT, 256x256x3x3]\n",
      "  %227[FLOAT, 256]\n",
      "  %229[FLOAT, 256x128x1x1]\n",
      "  %230[FLOAT, 256]\n",
      "  %232[FLOAT, 256x256x3x3]\n",
      "  %233[FLOAT, 256]\n",
      "  %235[FLOAT, 256x256x3x3]\n",
      "  %236[FLOAT, 256]\n",
      "  %238[FLOAT, 512x256x3x3]\n",
      "  %239[FLOAT, 512]\n",
      "  %241[FLOAT, 512x512x3x3]\n",
      "  %242[FLOAT, 512]\n",
      "  %244[FLOAT, 512x256x1x1]\n",
      "  %245[FLOAT, 512]\n",
      "  %247[FLOAT, 512x512x3x3]\n",
      "  %248[FLOAT, 512]\n",
      "  %250[FLOAT, 512x512x3x3]\n",
      "  %251[FLOAT, 512]\n",
      ") {\n",
      "  %192 = Conv[dilations = [1, 1], group = 1, kernel_shape = [7, 7], pads = [3, 3, 3, 3], strides = [2, 2]](%input, %193, %194)\n",
      "  %125 = Relu(%192)\n",
      "  %126 = MaxPool[ceil_mode = 0, kernel_shape = [3, 3], pads = [1, 1, 1, 1], strides = [2, 2]](%125)\n",
      "  %195 = Conv[dilations = [1, 1], group = 1, kernel_shape = [3, 3], pads = [1, 1, 1, 1], strides = [1, 1]](%126, %196, %197)\n",
      "  %129 = Relu(%195)\n",
      "  %198 = Conv[dilations = [1, 1], group = 1, kernel_shape = [3, 3], pads = [1, 1, 1, 1], strides = [1, 1]](%129, %199, %200)\n",
      "  %132 = Add(%198, %126)\n",
      "  %133 = Relu(%132)\n",
      "  %201 = Conv[dilations = [1, 1], group = 1, kernel_shape = [3, 3], pads = [1, 1, 1, 1], strides = [1, 1]](%133, %202, %203)\n",
      "  %136 = Relu(%201)\n",
      "  %204 = Conv[dilations = [1, 1], group = 1, kernel_shape = [3, 3], pads = [1, 1, 1, 1], strides = [1, 1]](%136, %205, %206)\n",
      "  %139 = Add(%204, %133)\n",
      "  %140 = Relu(%139)\n",
      "  %207 = Conv[dilations = [1, 1], group = 1, kernel_shape = [3, 3], pads = [1, 1, 1, 1], strides = [2, 2]](%140, %208, %209)\n",
      "  %143 = Relu(%207)\n",
      "  %210 = Conv[dilations = [1, 1], group = 1, kernel_shape = [3, 3], pads = [1, 1, 1, 1], strides = [1, 1]](%143, %211, %212)\n",
      "  %213 = Conv[dilations = [1, 1], group = 1, kernel_shape = [1, 1], pads = [0, 0, 0, 0], strides = [2, 2]](%140, %214, %215)\n",
      "  %148 = Add(%210, %213)\n",
      "  %149 = Relu(%148)\n",
      "  %216 = Conv[dilations = [1, 1], group = 1, kernel_shape = [3, 3], pads = [1, 1, 1, 1], strides = [1, 1]](%149, %217, %218)\n",
      "  %152 = Relu(%216)\n",
      "  %219 = Conv[dilations = [1, 1], group = 1, kernel_shape = [3, 3], pads = [1, 1, 1, 1], strides = [1, 1]](%152, %220, %221)\n",
      "  %155 = Add(%219, %149)\n",
      "  %156 = Relu(%155)\n",
      "  %222 = Conv[dilations = [1, 1], group = 1, kernel_shape = [3, 3], pads = [1, 1, 1, 1], strides = [2, 2]](%156, %223, %224)\n",
      "  %159 = Relu(%222)\n",
      "  %225 = Conv[dilations = [1, 1], group = 1, kernel_shape = [3, 3], pads = [1, 1, 1, 1], strides = [1, 1]](%159, %226, %227)\n",
      "  %228 = Conv[dilations = [1, 1], group = 1, kernel_shape = [1, 1], pads = [0, 0, 0, 0], strides = [2, 2]](%156, %229, %230)\n",
      "  %164 = Add(%225, %228)\n",
      "  %165 = Relu(%164)\n",
      "  %231 = Conv[dilations = [1, 1], group = 1, kernel_shape = [3, 3], pads = [1, 1, 1, 1], strides = [1, 1]](%165, %232, %233)\n",
      "  %168 = Relu(%231)\n",
      "  %234 = Conv[dilations = [1, 1], group = 1, kernel_shape = [3, 3], pads = [1, 1, 1, 1], strides = [1, 1]](%168, %235, %236)\n",
      "  %171 = Add(%234, %165)\n",
      "  %172 = Relu(%171)\n",
      "  %237 = Conv[dilations = [1, 1], group = 1, kernel_shape = [3, 3], pads = [1, 1, 1, 1], strides = [2, 2]](%172, %238, %239)\n",
      "  %175 = Relu(%237)\n",
      "  %240 = Conv[dilations = [1, 1], group = 1, kernel_shape = [3, 3], pads = [1, 1, 1, 1], strides = [1, 1]](%175, %241, %242)\n",
      "  %243 = Conv[dilations = [1, 1], group = 1, kernel_shape = [1, 1], pads = [0, 0, 0, 0], strides = [2, 2]](%172, %244, %245)\n",
      "  %180 = Add(%240, %243)\n",
      "  %181 = Relu(%180)\n",
      "  %246 = Conv[dilations = [1, 1], group = 1, kernel_shape = [3, 3], pads = [1, 1, 1, 1], strides = [1, 1]](%181, %247, %248)\n",
      "  %184 = Relu(%246)\n",
      "  %249 = Conv[dilations = [1, 1], group = 1, kernel_shape = [3, 3], pads = [1, 1, 1, 1], strides = [1, 1]](%184, %250, %251)\n",
      "  %187 = Add(%249, %181)\n",
      "  %188 = Relu(%187)\n",
      "  %189 = GlobalAveragePool(%188)\n",
      "  %190 = Flatten[axis = 1](%189)\n",
      "  %output = Gemm[alpha = 1, beta = 1, transB = 1](%190, %fc.weight, %fc.bias)\n",
      "  return %output\n",
      "}\n"
     ]
    }
   ],
   "source": [
    "print(onnx.helper.printable_graph(onnx_model.graph))"
   ]
  },
  {
   "cell_type": "markdown",
   "id": "a989bf23-0d3a-4427-bf18-5b8a08a8dd64",
   "metadata": {},
   "source": [
    "## 使用Netron对onnx模型可视化\n",
    "\n",
    "https://netron.app"
   ]
  },
  {
   "cell_type": "code",
   "execution_count": null,
   "id": "0c424032-6fe5-4e78-b118-1fd993d6ebb4",
   "metadata": {},
   "outputs": [],
   "source": []
  }
 ],
 "metadata": {
  "kernelspec": {
   "display_name": "Python 3 (ipykernel)",
   "language": "python",
   "name": "python3"
  },
  "language_info": {
   "codemirror_mode": {
    "name": "ipython",
    "version": 3
   },
   "file_extension": ".py",
   "mimetype": "text/x-python",
   "name": "python",
   "nbconvert_exporter": "python",
   "pygments_lexer": "ipython3",
   "version": "3.7.10"
  }
 },
 "nbformat": 4,
 "nbformat_minor": 5
}

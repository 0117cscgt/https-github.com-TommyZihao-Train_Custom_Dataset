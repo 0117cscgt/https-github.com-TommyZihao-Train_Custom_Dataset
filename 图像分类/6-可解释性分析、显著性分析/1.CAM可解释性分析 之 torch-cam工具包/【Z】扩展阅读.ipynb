{
 "cells": [
  {
   "cell_type": "markdown",
   "id": "d1915644-e770-409f-becf-d7f8830fbf3c",
   "metadata": {},
   "source": [
    "# 扩展阅读\n",
    "\n",
    "同济子豪兄 https://space.bilibili.com/1900783\n",
    "\n",
    "2022-9-20\n",
    "\n",
    "## 代码库\n",
    "\n",
    "torch-cam：https://github.com/frgfm/torch-cam\n",
    "\n",
    "pytorch-grad-cam：https://github.com/jacobgil/pytorch-grad-cam\n",
    "\n",
    "可视化卷积神经网络pytorch-cnn-visualizations：https://github.com/utkuozbulak/pytorch-cnn-visualizations\n",
    "\n",
    "## 同济子豪兄可解释人工智能公开课\n",
    "\n",
    "包含人工智能可解释性、显著性分析领域的导论、算法综述、经典论文精读、代码实战、前沿讲座。\n",
    "\n",
    "视频合集：https://space.bilibili.com/1900783/channel/collectiondetail?sid=713364\n",
    "\n",
    "ReadPaper可解释机器学习论文集：https://readpaper.com/user/collect/638623946528292864\n",
    "\n",
    "## 卷积神经网络基础知识\n",
    "\n",
    "https://www.bilibili.com/video/BV1sb411P7pQ\n",
    "\n",
    "https://www.bilibili.com/video/BV1qb411P7JD\n",
    "\n",
    "https://www.bilibili.com/video/BV1K7411W7So?p=5 \n",
    "\n",
    "https://www.bilibili.com/video/BV1K7411W7So?p=6\n",
    "\n",
    "https://www.bilibili.com/video/BV1K7411W7So?p=11\n",
    "\n",
    "## CAM可解释性分析论文精读\n",
    "\n",
    "CAM算法讲解：https://www.bilibili.com/video/BV1Ke411g7gm\n",
    "\n",
    "CAM论文逐句精读：https://www.bilibili.com/video/BV1fe4y1C7mN\n",
    "\n",
    "Grad-CAM算法精讲：https://www.bilibili.com/video/BV1PD4y1B77q\n",
    "\n",
    "Grad-CAM论文逐句精读：https://www.bilibili.com/video/BV1id4y167FF\n",
    "\n",
    "## 其它基于CAM的可解释性分析方法\n",
    "\n",
    "Grad-CAM++论文：https://arxiv.org/abs/1710.11063\n",
    "\n",
    "Score-CAM论文：https://openaccess.thecvf.com/content_CVPRW_2020/html/w1/Wang_Score-CAM_Score-Weighted_Visual_Explanations_for_Convolutional_Neural_Networks_CVPRW_2020_paper.html\n",
    "\n",
    "LayerCAM主页：https://mmcheng.net/layercam\n",
    "\n",
    "LayerCAM中文论文：https://mftp.mmcheng.net/Papers/21TIP-LayerCAM-cn.pdf\n",
    "\n",
    "OpenMMLab公众号，回复 CAM 查看推送：类别激活热力图可视化工具介绍"
   ]
  },
  {
   "cell_type": "code",
   "execution_count": null,
   "id": "826f0b69-856a-414b-b563-6cfadf39c9ec",
   "metadata": {},
   "outputs": [],
   "source": []
  }
 ],
 "metadata": {
  "kernelspec": {
   "display_name": "Python 3 (ipykernel)",
   "language": "python",
   "name": "python3"
  },
  "language_info": {
   "codemirror_mode": {
    "name": "ipython",
    "version": 3
   },
   "file_extension": ".py",
   "mimetype": "text/x-python",
   "name": "python",
   "nbconvert_exporter": "python",
   "pygments_lexer": "ipython3",
   "version": "3.7.10"
  }
 },
 "nbformat": 4,
 "nbformat_minor": 5
}

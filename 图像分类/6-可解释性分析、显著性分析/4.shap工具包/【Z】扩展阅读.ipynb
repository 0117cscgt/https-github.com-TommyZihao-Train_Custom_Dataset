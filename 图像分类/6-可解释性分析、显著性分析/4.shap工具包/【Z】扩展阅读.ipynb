{
 "cells": [
  {
   "cell_type": "markdown",
   "id": "27e4366f-efcd-472b-9ef0-d6044b5105bc",
   "metadata": {},
   "source": [
    "# 扩展阅读\n",
    "\n",
    "## 预备知识\n",
    "\n",
    "图像分类全流程：构建数据集、训练模型、预测新图、测试集评估、可解释性分析、终端部署\n",
    "\n",
    "视频教程：https://www.bilibili.com/video/BV1Jd4y1T7rw\n",
    "\n",
    "代码教程：https://github.com/TommyZihao/Train_Custom_Dataset\n",
    "\n",
    "UCI心脏病二分类+可解释性分析：https://www.bilibili.com/video/BV1Wf4y1U7EL\n",
    "\n",
    "## shap工具包相关\n",
    "\n",
    "shap工具包：https://github.com/slundberg/shap\n",
    "\n",
    "shap工具包论文：https://proceedings.neurips.cc/paper/2017/file/8a20a8621978632d76c43dfd28b67767-Paper.pdf\n",
    "\n",
    "DataWhale公众号推送【6个机器学习可解释性框架！】：https://mp.weixin.qq.com/s/GpdOQChETqh9-q0SvP6I0A"
   ]
  },
  {
   "cell_type": "code",
   "execution_count": null,
   "id": "fa74ebc7-9ecb-4e5d-8fbd-39fd4ecef701",
   "metadata": {},
   "outputs": [],
   "source": []
  }
 ],
 "metadata": {
  "kernelspec": {
   "display_name": "Python 3 (ipykernel)",
   "language": "python",
   "name": "python3"
  },
  "language_info": {
   "codemirror_mode": {
    "name": "ipython",
    "version": 3
   },
   "file_extension": ".py",
   "mimetype": "text/x-python",
   "name": "python",
   "nbconvert_exporter": "python",
   "pygments_lexer": "ipython3",
   "version": "3.7.10"
  }
 },
 "nbformat": 4,
 "nbformat_minor": 5
}

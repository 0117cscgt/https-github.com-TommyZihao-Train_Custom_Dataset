{
 "cells": [
  {
   "cell_type": "markdown",
   "id": "5814bb11-8636-4b28-b31f-18cc87b8e8cf",
   "metadata": {},
   "source": [
    "# 安装配置环境\n",
    "\n",
    "安装配置 pytorch-grad-cam 环境\n",
    "\n",
    "同济子豪兄 https://space.bilibili.com/1900783\n",
    "\n",
    "代码运行云GPU平台：https://featurize.cn/?s=d7ce99f842414bfcaea5662a97581bd1\n",
    "\n",
    "2022-9-20"
   ]
  },
  {
   "cell_type": "markdown",
   "id": "07c87ee2-5dbf-4f19-9e32-20c8445e2981",
   "metadata": {},
   "source": [
    "## 安装两个代码包"
   ]
  },
  {
   "cell_type": "code",
   "execution_count": 1,
   "id": "33526466-1db0-4032-a1dc-1cbc5bcb0f21",
   "metadata": {},
   "outputs": [
    {
     "name": "stdout",
     "output_type": "stream",
     "text": [
      "Looking in indexes: https://pypi.tuna.tsinghua.edu.cn/simple\n",
      "Collecting grad-cam\n",
      "  Downloading https://pypi.tuna.tsinghua.edu.cn/packages/42/4d/f3b45824fa23f3e17ddc16f54a1dd966ce1f0722177f56fbf8d689b98752/grad-cam-1.4.5.tar.gz (7.8 MB)\n",
      "\u001b[K     |████████████████████████████████| 7.8 MB 86.7 MB/s eta 0:00:01\n",
      "\u001b[?25h  Installing build dependencies ... \u001b[?25ldone\n",
      "\u001b[?25h  Getting requirements to build wheel ... \u001b[?25ldone\n",
      "\u001b[?25h    Preparing wheel metadata ... \u001b[?25ldone\n",
      "\u001b[?25hCollecting torchcam\n",
      "  Downloading https://pypi.tuna.tsinghua.edu.cn/packages/b4/47/6140c642058689095d15a2d0169263c87ea47a5c02b7264f60acfff88eb5/torchcam-0.3.2-py3-none-any.whl (28 kB)\n",
      "Requirement already satisfied: numpy in /environment/miniconda3/lib/python3.7/site-packages (from grad-cam) (1.21.4)\n",
      "Requirement already satisfied: matplotlib in /environment/miniconda3/lib/python3.7/site-packages (from grad-cam) (3.5.0)\n",
      "Requirement already satisfied: Pillow in /environment/miniconda3/lib/python3.7/site-packages (from grad-cam) (8.4.0)\n",
      "Requirement already satisfied: torch>=1.7.1 in /environment/miniconda3/lib/python3.7/site-packages (from grad-cam) (1.10.0+cu113)\n",
      "Requirement already satisfied: opencv-python in /environment/miniconda3/lib/python3.7/site-packages (from grad-cam) (4.5.4.60)\n",
      "Requirement already satisfied: scikit-learn in /environment/miniconda3/lib/python3.7/site-packages (from grad-cam) (1.0.1)\n",
      "Requirement already satisfied: tqdm in /environment/miniconda3/lib/python3.7/site-packages (from grad-cam) (4.61.2)\n",
      "Collecting ttach\n",
      "  Downloading https://pypi.tuna.tsinghua.edu.cn/packages/8d/a3/ee48a184a185c1897c582c72240c2c8a0d0aeb5f8051a71d4e4cd930c52d/ttach-0.0.3-py3-none-any.whl (9.8 kB)\n",
      "Requirement already satisfied: torchvision>=0.8.2 in /environment/miniconda3/lib/python3.7/site-packages (from grad-cam) (0.11.1+cu113)\n",
      "Requirement already satisfied: typing-extensions in /environment/miniconda3/lib/python3.7/site-packages (from torch>=1.7.1->grad-cam) (4.0.1)\n",
      "Requirement already satisfied: pyparsing>=2.2.1 in /environment/miniconda3/lib/python3.7/site-packages (from matplotlib->grad-cam) (3.0.6)\n",
      "Requirement already satisfied: packaging>=20.0 in /environment/miniconda3/lib/python3.7/site-packages (from matplotlib->grad-cam) (21.3)\n",
      "Requirement already satisfied: setuptools-scm>=4 in /environment/miniconda3/lib/python3.7/site-packages (from matplotlib->grad-cam) (6.3.2)\n",
      "Requirement already satisfied: kiwisolver>=1.0.1 in /environment/miniconda3/lib/python3.7/site-packages (from matplotlib->grad-cam) (1.3.2)\n",
      "Requirement already satisfied: cycler>=0.10 in /environment/miniconda3/lib/python3.7/site-packages (from matplotlib->grad-cam) (0.11.0)\n",
      "Requirement already satisfied: python-dateutil>=2.7 in /environment/miniconda3/lib/python3.7/site-packages (from matplotlib->grad-cam) (2.8.2)\n",
      "Requirement already satisfied: fonttools>=4.22.0 in /environment/miniconda3/lib/python3.7/site-packages (from matplotlib->grad-cam) (4.28.3)\n",
      "Requirement already satisfied: six>=1.5 in /environment/miniconda3/lib/python3.7/site-packages (from python-dateutil>=2.7->matplotlib->grad-cam) (1.16.0)\n",
      "Requirement already satisfied: tomli>=1.0.0 in /environment/miniconda3/lib/python3.7/site-packages (from setuptools-scm>=4->matplotlib->grad-cam) (1.2.2)\n",
      "Requirement already satisfied: setuptools in /environment/miniconda3/lib/python3.7/site-packages (from setuptools-scm>=4->matplotlib->grad-cam) (52.0.0.post20210125)\n",
      "Requirement already satisfied: scipy>=1.1.0 in /environment/miniconda3/lib/python3.7/site-packages (from scikit-learn->grad-cam) (1.7.3)\n",
      "Requirement already satisfied: threadpoolctl>=2.0.0 in /environment/miniconda3/lib/python3.7/site-packages (from scikit-learn->grad-cam) (3.0.0)\n",
      "Requirement already satisfied: joblib>=0.11 in /environment/miniconda3/lib/python3.7/site-packages (from scikit-learn->grad-cam) (1.1.0)\n",
      "Building wheels for collected packages: grad-cam\n",
      "  Building wheel for grad-cam (PEP 517) ... \u001b[?25ldone\n",
      "\u001b[?25h  Created wheel for grad-cam: filename=grad_cam-1.4.5-py3-none-any.whl size=37008 sha256=ed01b155296ac352311388b54248c98d8ec47aa3c764cc9f502b561632c807fc\n",
      "  Stored in directory: /home/featurize/.cache/pip/wheels/ba/ef/51/e07892330ac9c035ab9bc828930763b470859f1415031426b1\n",
      "Successfully built grad-cam\n",
      "Installing collected packages: ttach, torchcam, grad-cam\n",
      "Successfully installed grad-cam-1.4.5 torchcam-0.3.2 ttach-0.0.3\n"
     ]
    }
   ],
   "source": [
    "!pip install grad-cam torchcam"
   ]
  },
  {
   "cell_type": "markdown",
   "id": "59278d0a-f23a-4110-8b12-00262fd03090",
   "metadata": {},
   "source": [
    "## 下载 pytorch-grad-cam"
   ]
  },
  {
   "cell_type": "code",
   "execution_count": 14,
   "id": "895f1c12-4079-4960-92e2-b307be623989",
   "metadata": {},
   "outputs": [
    {
     "name": "stdout",
     "output_type": "stream",
     "text": [
      "正克隆到 'pytorch-grad-cam'...\n",
      "remote: Enumerating objects: 1057, done.\u001b[K\n",
      "remote: Counting objects: 100% (1057/1057), done.\u001b[K\n",
      "remote: Compressing objects: 100% (449/449), done.\u001b[K\n",
      "remote: Total 1057 (delta 588), reused 1050 (delta 586), pack-reused 0\u001b[K\n",
      "接收对象中: 100% (1057/1057), 96.85 MiB | 8.88 MiB/s, 完成.\n",
      "处理 delta 中: 100% (588/588), 完成.\n"
     ]
    }
   ],
   "source": [
    "!git clone https://github.com/jacobgil/pytorch-grad-cam.git"
   ]
  },
  {
   "cell_type": "markdown",
   "id": "d328b8cf-56e4-423f-b9f0-9293f8087d1e",
   "metadata": {},
   "source": [
    "## 创建目录"
   ]
  },
  {
   "cell_type": "code",
   "execution_count": 8,
   "id": "5eeff82a-1a2b-4ce3-b3e9-e0a084d5f7e1",
   "metadata": {},
   "outputs": [],
   "source": [
    "import os"
   ]
  },
  {
   "cell_type": "code",
   "execution_count": 9,
   "id": "46f77937-5b98-45c9-9205-11cab744e786",
   "metadata": {},
   "outputs": [],
   "source": [
    "# 存放测试图片\n",
    "os.mkdir('test_img')\n",
    "\n",
    "# 存放结果文件\n",
    "os.mkdir('output')\n",
    "\n",
    "# 存放模型权重文件\n",
    "os.mkdir('checkpoint')"
   ]
  },
  {
   "cell_type": "markdown",
   "id": "6ff7549d-530d-42a8-af3d-8573ddc6fa0e",
   "metadata": {},
   "source": [
    "## 下载动物测试图片至`test_img`目录"
   ]
  },
  {
   "cell_type": "code",
   "execution_count": 10,
   "id": "9a98df91-87c2-46cd-bd80-0de948907dcd",
   "metadata": {},
   "outputs": [
    {
     "name": "stdout",
     "output_type": "stream",
     "text": [
      "--2022-09-20 22:51:30--  https://zihao-openmmlab.obs.cn-east-3.myhuaweicloud.com/20220919-explain/test_img/puppies.jpg\n",
      "正在连接 172.16.0.13:5848... 已连接。\n",
      "已发出 Proxy 请求，正在等待回应... 200 OK\n",
      "长度： 410751 (401K) [image/jpeg]\n",
      "正在保存至: “test_img/puppies.jpg”\n",
      "\n",
      "puppies.jpg         100%[===================>] 401.12K  1.96MB/s    用时 0.2s    \n",
      "\n",
      "2022-09-20 22:51:31 (1.96 MB/s) - 已保存 “test_img/puppies.jpg” [410751/410751])\n",
      "\n",
      "--2022-09-20 22:51:31--  https://zihao-openmmlab.obs.cn-east-3.myhuaweicloud.com/20220919-explain/test_img/bear.jpeg\n",
      "正在连接 172.16.0.13:5848... 已连接。\n",
      "已发出 Proxy 请求，正在等待回应... 200 OK\n",
      "长度： 337749 (330K) [image/jpeg]\n",
      "正在保存至: “test_img/bear.jpeg”\n",
      "\n",
      "bear.jpeg           100%[===================>] 329.83K  1.72MB/s    用时 0.2s    \n",
      "\n",
      "2022-09-20 22:51:31 (1.72 MB/s) - 已保存 “test_img/bear.jpeg” [337749/337749])\n",
      "\n",
      "--2022-09-20 22:51:32--  https://zihao-openmmlab.obs.cn-east-3.myhuaweicloud.com/20220919-explain/test_img/box_tabby.png\n",
      "正在连接 172.16.0.13:5848... 已连接。\n",
      "已发出 Proxy 请求，正在等待回应... 200 OK\n",
      "长度： 90226 (88K) [image/png]\n",
      "正在保存至: “test_img/box_tabby.png”\n",
      "\n",
      "box_tabby.png       100%[===================>]  88.11K  --.-KB/s    用时 0.1s    \n",
      "\n",
      "2022-09-20 22:51:32 (778 KB/s) - 已保存 “test_img/box_tabby.png” [90226/90226])\n",
      "\n",
      "--2022-09-20 22:51:32--  https://zihao-openmmlab.obs.cn-east-3.myhuaweicloud.com/20220919-explain/test_img/giraffe_zebra.jpg\n",
      "正在连接 172.16.0.13:5848... 已连接。\n",
      "已发出 Proxy 请求，正在等待回应... 200 OK\n",
      "长度： 3960317 (3.8M) [image/jpeg]\n",
      "正在保存至: “test_img/giraffe_zebra.jpg”\n",
      "\n",
      "giraffe_zebra.jpg   100%[===================>]   3.78M  9.63MB/s    用时 0.4s    \n",
      "\n",
      "2022-09-20 22:51:33 (9.63 MB/s) - 已保存 “test_img/giraffe_zebra.jpg” [3960317/3960317])\n",
      "\n",
      "--2022-09-20 22:51:33--  https://zihao-openmmlab.obs.cn-east-3.myhuaweicloud.com/20220919-explain/test_img/africa.jpg\n",
      "正在连接 172.16.0.13:5848... 已连接。\n",
      "已发出 Proxy 请求，正在等待回应... 200 OK\n",
      "长度： 12754940 (12M) [image/jpeg]\n",
      "正在保存至: “test_img/africa.jpg”\n",
      "\n",
      "africa.jpg          100%[===================>]  12.16M  25.3MB/s    用时 0.5s    \n",
      "\n",
      "2022-09-20 22:51:34 (25.3 MB/s) - 已保存 “test_img/africa.jpg” [12754940/12754940])\n",
      "\n",
      "--2022-09-20 22:51:34--  https://zihao-openmmlab.obs.cn-east-3.myhuaweicloud.com/20220716-mmclassification/test/border-collie.jpg\n",
      "正在连接 172.16.0.13:5848... 已连接。\n",
      "已发出 Proxy 请求，正在等待回应... 200 OK\n",
      "长度： 312888 (306K) [image/jpeg]\n",
      "正在保存至: “test_img/border-collie.jpg”\n",
      "\n",
      "border-collie.jpg   100%[===================>] 305.55K  1.55MB/s    用时 0.2s    \n",
      "\n",
      "2022-09-20 22:51:34 (1.55 MB/s) - 已保存 “test_img/border-collie.jpg” [312888/312888])\n",
      "\n",
      "--2022-09-20 22:51:34--  https://zihao-openmmlab.obs.cn-east-3.myhuaweicloud.com/20220716-mmclassification/test/cat_dog.jpg\n",
      "正在连接 172.16.0.13:5848... 已连接。\n",
      "已发出 Proxy 请求，正在等待回应... 200 OK\n",
      "长度： 817995 (799K) [image/jpeg]\n",
      "正在保存至: “test_img/cat_dog.jpg”\n",
      "\n",
      "cat_dog.jpg         100%[===================>] 798.82K  3.12MB/s    用时 0.3s    \n",
      "\n",
      "2022-09-20 22:51:35 (3.12 MB/s) - 已保存 “test_img/cat_dog.jpg” [817995/817995])\n",
      "\n"
     ]
    }
   ],
   "source": [
    "!wget https://zihao-openmmlab.obs.cn-east-3.myhuaweicloud.com/20220919-explain/test_img/puppies.jpg -P test_img\n",
    "\n",
    "!wget https://zihao-openmmlab.obs.cn-east-3.myhuaweicloud.com/20220919-explain/test_img/bear.jpeg -P test_img\n",
    "\n",
    "!wget https://zihao-openmmlab.obs.cn-east-3.myhuaweicloud.com/20220919-explain/test_img/box_tabby.png -P test_img\n",
    "\n",
    "# 蛇，来源：https://www.pexels.com/zh-cn/photo/80474/\n",
    "!wget https://zihao-openmmlab.obs.cn-east-3.myhuaweicloud.com/20220919-explain/test_img/snake.jpg -P test_img\n",
    "\n",
    "# 长颈鹿和斑马，来源：https://www.istockphoto.com/hk/%E7%85%A7%E7%89%87/giraffes-and-zebras-at-waterhole-gm503592172-82598465\n",
    "!wget https://zihao-openmmlab.obs.cn-east-3.myhuaweicloud.com/20220919-explain/test_img/giraffe_zebra.jpg -P test_img\n",
    "\n",
    "# 大象、狮子、羚羊，来源：https://www.istockphoto.com/hk/%E7%85%A7%E7%89%87/%E5%A4%A7%E8%B1%A1%E5%92%8C%E7%8D%85%E5%AD%90-gm1136053333-30244130\n",
    "!wget https://zihao-openmmlab.obs.cn-east-3.myhuaweicloud.com/20220919-explain/test_img/africa.jpg -P test_img\n",
    "\n",
    "# 边牧犬，来源：https://www.woopets.fr/assets/races/000/066/big-portrait/border-collie.jpg\n",
    "!wget https://zihao-openmmlab.obs.cn-east-3.myhuaweicloud.com/20220716-mmclassification/test/border-collie.jpg -P test_img\n",
    "\n",
    "!wget https://zihao-openmmlab.obs.cn-east-3.myhuaweicloud.com/20220716-mmclassification/test/cat_dog.jpg -P test_img\n"
   ]
  },
  {
   "cell_type": "markdown",
   "id": "fcfe399f-88db-4541-99d9-61a0f61aa276",
   "metadata": {},
   "source": [
    "## 下载水果测试图片至`test_img`目录"
   ]
  },
  {
   "cell_type": "code",
   "execution_count": 11,
   "id": "94c167d8-4416-4b85-a1e9-22fbd6cdb98e",
   "metadata": {},
   "outputs": [
    {
     "name": "stdout",
     "output_type": "stream",
     "text": [
      "--2022-09-20 22:51:38--  https://zihao-openmmlab.obs.myhuaweicloud.com/20220716-mmclassification/test/0818/test_fruits.jpg\n",
      "正在连接 172.16.0.13:5848... 已连接。\n",
      "已发出 Proxy 请求，正在等待回应... 200 OK\n",
      "长度： 2579427 (2.5M) [image/jpeg]\n",
      "正在保存至: “test_img/test_fruits.jpg”\n",
      "\n",
      "test_fruits.jpg     100%[===================>]   2.46M  7.77MB/s    用时 0.3s    \n",
      "\n",
      "2022-09-20 22:51:44 (7.77 MB/s) - 已保存 “test_img/test_fruits.jpg” [2579427/2579427])\n",
      "\n",
      "--2022-09-20 22:51:44--  https://zihao-openmmlab.obs.myhuaweicloud.com/20220716-mmclassification/test/0818/test_fruits.jpg\n",
      "正在连接 172.16.0.13:5848... 已连接。\n",
      "已发出 Proxy 请求，正在等待回应... 200 OK\n",
      "长度： 2579427 (2.5M) [image/jpeg]\n",
      "正在保存至: “test_img/test_fruits.jpg.1”\n",
      "\n",
      "test_fruits.jpg.1   100%[===================>]   2.46M  7.81MB/s    用时 0.3s    \n",
      "\n",
      "2022-09-20 22:51:44 (7.81 MB/s) - 已保存 “test_img/test_fruits.jpg.1” [2579427/2579427])\n",
      "\n",
      "--2022-09-20 22:51:44--  https://zihao-openmmlab.obs.myhuaweicloud.com/20220716-mmclassification/test/0818/test_orange_2.jpg\n",
      "正在连接 172.16.0.13:5848... 已连接。\n",
      "已发出 Proxy 请求，正在等待回应... 200 OK\n",
      "长度： 1771019 (1.7M) [image/jpeg]\n",
      "正在保存至: “test_img/test_orange_2.jpg”\n",
      "\n",
      "test_orange_2.jpg   100%[===================>]   1.69M  5.70MB/s    用时 0.3s    \n",
      "\n",
      "2022-09-20 22:51:45 (5.70 MB/s) - 已保存 “test_img/test_orange_2.jpg” [1771019/1771019])\n",
      "\n",
      "--2022-09-20 22:51:45--  https://zihao-openmmlab.obs.myhuaweicloud.com/20220716-mmclassification/test/0818/test_bananan.jpg\n",
      "正在连接 172.16.0.13:5848... 已连接。\n",
      "已发出 Proxy 请求，正在等待回应... 200 OK\n",
      "长度： 1116714 (1.1M) [image/jpeg]\n",
      "正在保存至: “test_img/test_bananan.jpg”\n",
      "\n",
      "test_bananan.jpg    100%[===================>]   1.06M  3.79MB/s    用时 0.3s    \n",
      "\n",
      "2022-09-20 22:51:46 (3.79 MB/s) - 已保存 “test_img/test_bananan.jpg” [1116714/1116714])\n",
      "\n",
      "--2022-09-20 22:51:46--  https://zihao-openmmlab.obs.myhuaweicloud.com/20220716-mmclassification/test/0818/test_kiwi.jpg\n",
      "正在连接 172.16.0.13:5848... 已连接。\n",
      "已发出 Proxy 请求，正在等待回应... 200 OK\n",
      "长度： 1555297 (1.5M) [image/jpeg]\n",
      "正在保存至: “test_img/test_kiwi.jpg”\n",
      "\n",
      "test_kiwi.jpg       100%[===================>]   1.48M  5.29MB/s    用时 0.3s    \n",
      "\n",
      "2022-09-20 22:51:46 (5.29 MB/s) - 已保存 “test_img/test_kiwi.jpg” [1555297/1555297])\n",
      "\n",
      "--2022-09-20 22:51:46--  https://zihao-openmmlab.obs.cn-east-3.myhuaweicloud.com/20220716-mmclassification/test/0818/test_%E8%8D%89%E8%8E%93.jpg\n",
      "正在连接 172.16.0.13:5848... 已连接。\n",
      "已发出 Proxy 请求，正在等待回应... 200 OK\n",
      "长度： 193879 (189K) [image/jpeg]\n",
      "正在保存至: “test_img/test_草莓.jpg”\n",
      "\n",
      "test_草莓.jpg       100%[===================>] 189.33K  1.17MB/s    用时 0.2s    \n",
      "\n",
      "2022-09-20 22:51:47 (1.17 MB/s) - 已保存 “test_img/test_草莓.jpg” [193879/193879])\n",
      "\n",
      "--2022-09-20 22:51:47--  https://zihao-openmmlab.obs.myhuaweicloud.com/20220716-mmclassification/test/0818/test_%E7%9F%B3%E6%A6%B4.jpg\n",
      "正在连接 172.16.0.13:5848... 已连接。\n",
      "已发出 Proxy 请求，正在等待回应... 200 OK\n",
      "长度： 1326649 (1.3M) [image/jpeg]\n",
      "正在保存至: “test_img/test_石榴.jpg”\n",
      "\n",
      "test_石榴.jpg       100%[===================>]   1.26M  4.57MB/s    用时 0.3s    \n",
      "\n",
      "2022-09-20 22:51:48 (4.57 MB/s) - 已保存 “test_img/test_石榴.jpg” [1326649/1326649])\n",
      "\n",
      "--2022-09-20 22:51:48--  https://zihao-openmmlab.obs.myhuaweicloud.com/20220716-mmclassification/test/0818/test_orange.jpg\n",
      "正在连接 172.16.0.13:5848... 已连接。\n",
      "已发出 Proxy 请求，正在等待回应... 200 OK\n",
      "长度： 1283008 (1.2M) [image/jpeg]\n",
      "正在保存至: “test_img/test_orange.jpg”\n",
      "\n",
      "test_orange.jpg     100%[===================>]   1.22M  4.46MB/s    用时 0.3s    \n",
      "\n",
      "2022-09-20 22:51:48 (4.46 MB/s) - 已保存 “test_img/test_orange.jpg” [1283008/1283008])\n",
      "\n",
      "--2022-09-20 22:51:48--  https://zihao-openmmlab.obs.myhuaweicloud.com/20220716-mmclassification/test/0818/test_lemon.jpg\n",
      "正在连接 172.16.0.13:5848... 已连接。\n",
      "已发出 Proxy 请求，正在等待回应... 200 OK\n",
      "长度： 983324 (960K) [image/jpeg]\n",
      "正在保存至: “test_img/test_lemon.jpg”\n",
      "\n",
      "test_lemon.jpg      100%[===================>] 960.28K  3.65MB/s    用时 0.3s    \n",
      "\n",
      "2022-09-20 22:51:49 (3.65 MB/s) - 已保存 “test_img/test_lemon.jpg” [983324/983324])\n",
      "\n",
      "--2022-09-20 22:51:49--  https://zihao-openmmlab.obs.myhuaweicloud.com/20220716-mmclassification/test/0818/test_%E7%81%AB%E9%BE%99%E6%9E%9C.jpg\n",
      "正在连接 172.16.0.13:5848... 已连接。\n",
      "已发出 Proxy 请求，正在等待回应... 200 OK\n",
      "长度： 1385692 (1.3M) [image/jpeg]\n",
      "正在保存至: “test_img/test_火龙果.jpg”\n",
      "\n",
      "test_火龙果.jpg     100%[===================>]   1.32M  4.64MB/s    用时 0.3s    \n",
      "\n",
      "2022-09-20 22:51:50 (4.64 MB/s) - 已保存 “test_img/test_火龙果.jpg” [1385692/1385692])\n",
      "\n",
      "--2022-09-20 22:51:50--  https://zihao-openmmlab.obs.cn-east-3.myhuaweicloud.com/20220716-mmclassification/test/watermelon1.jpg\n",
      "正在连接 172.16.0.13:5848... 已连接。\n",
      "已发出 Proxy 请求，正在等待回应... 200 OK\n",
      "长度： 429666 (420K) [image/jpeg]\n",
      "正在保存至: “test_img/watermelon1.jpg”\n",
      "\n",
      "watermelon1.jpg     100%[===================>] 419.60K  1.94MB/s    用时 0.2s    \n",
      "\n",
      "2022-09-20 22:51:50 (1.94 MB/s) - 已保存 “test_img/watermelon1.jpg” [429666/429666])\n",
      "\n",
      "--2022-09-20 22:51:50--  https://zihao-openmmlab.obs.cn-east-3.myhuaweicloud.com/20220716-mmclassification/test/banana1.jpg\n",
      "正在连接 172.16.0.13:5848... 已连接。\n",
      "已发出 Proxy 请求，正在等待回应... 200 OK\n",
      "长度： 463879 (453K) [image/jpeg]\n",
      "正在保存至: “test_img/banana1.jpg”\n",
      "\n",
      "banana1.jpg         100%[===================>] 453.01K  2.09MB/s    用时 0.2s    \n",
      "\n",
      "2022-09-20 22:51:51 (2.09 MB/s) - 已保存 “test_img/banana1.jpg” [463879/463879])\n",
      "\n"
     ]
    }
   ],
   "source": [
    "!wget https://zihao-openmmlab.obs.myhuaweicloud.com/20220716-mmclassification/test/0818/test_fruits.jpg -P test_img\n",
    "\n",
    "!wget https://zihao-openmmlab.obs.myhuaweicloud.com/20220716-mmclassification/test/0818/test_orange_2.jpg -P test_img \n",
    "\n",
    "!wget https://zihao-openmmlab.obs.myhuaweicloud.com/20220716-mmclassification/test/0818/test_bananan.jpg -P test_img\n",
    "\n",
    "!wget https://zihao-openmmlab.obs.myhuaweicloud.com/20220716-mmclassification/test/0818/test_kiwi.jpg -P test_img\n",
    "\n",
    "# 草莓图像，来源：https://www.pexels.com/zh-cn/photo/4828489/\n",
    "!wget https://zihao-openmmlab.obs.cn-east-3.myhuaweicloud.com/20220716-mmclassification/test/0818/test_草莓.jpg -P test_img\n",
    "\n",
    "!wget https://zihao-openmmlab.obs.myhuaweicloud.com/20220716-mmclassification/test/0818/test_石榴.jpg -P test_img\n",
    "\n",
    "!wget https://zihao-openmmlab.obs.myhuaweicloud.com/20220716-mmclassification/test/0818/test_orange.jpg -P test_img\n",
    "\n",
    "!wget https://zihao-openmmlab.obs.myhuaweicloud.com/20220716-mmclassification/test/0818/test_lemon.jpg -P test_img\n",
    "\n",
    "!wget https://zihao-openmmlab.obs.myhuaweicloud.com/20220716-mmclassification/test/0818/test_火龙果.jpg -P test_img\n",
    "\n",
    "!wget https://zihao-openmmlab.obs.cn-east-3.myhuaweicloud.com/20220716-mmclassification/test/watermelon1.jpg -P test_img\n",
    "\n",
    "!wget https://zihao-openmmlab.obs.cn-east-3.myhuaweicloud.com/20220716-mmclassification/test/banana1.jpg -P test_img"
   ]
  },
  {
   "cell_type": "markdown",
   "id": "7225c9fb-a2d9-4917-a370-2365e2a3df79",
   "metadata": {},
   "source": [
    "## 下载 ImageNet 1000类别信息"
   ]
  },
  {
   "cell_type": "code",
   "execution_count": 12,
   "id": "99dd5d25-feb6-4750-94f2-a12c4aad481a",
   "metadata": {},
   "outputs": [
    {
     "name": "stdout",
     "output_type": "stream",
     "text": [
      "--2022-09-20 23:11:10--  https://zihao-openmmlab.obs.cn-east-3.myhuaweicloud.com/20220716-mmclassification/dataset/meta_data/imagenet_class_index.csv\n",
      "正在连接 172.16.0.13:5848... 已连接。\n",
      "已发出 Proxy 请求，正在等待回应... 200 OK\n",
      "长度： 37074 (36K) [text/csv]\n",
      "正在保存至: “imagenet_class_index.csv.1”\n",
      "\n",
      "imagenet_class_inde 100%[===================>]  36.21K  --.-KB/s    用时 0.06s   \n",
      "\n",
      "2022-09-20 23:11:10 (601 KB/s) - 已保存 “imagenet_class_index.csv.1” [37074/37074])\n",
      "\n"
     ]
    }
   ],
   "source": [
    "!wget https://zihao-openmmlab.obs.cn-east-3.myhuaweicloud.com/20220716-mmclassification/dataset/meta_data/imagenet_class_index.csv\n"
   ]
  },
  {
   "cell_type": "markdown",
   "id": "a8da4bb9-0598-4898-93f7-5d6c0652c7a2",
   "metadata": {},
   "source": [
    "## 自己训练得到的30类水果图像分类模型"
   ]
  },
  {
   "cell_type": "code",
   "execution_count": 13,
   "id": "4e50e3c8-05da-4abf-bf44-549e629ed41f",
   "metadata": {},
   "outputs": [
    {
     "name": "stdout",
     "output_type": "stream",
     "text": [
      "--2022-09-20 23:11:15--  https://zihao-openmmlab.obs.cn-east-3.myhuaweicloud.com/20220716-mmclassification/checkpoints/fruit30_pytorch_20220814.pth\n",
      "正在连接 172.16.0.13:5848... 已连接。\n",
      "已发出 Proxy 请求，正在等待回应... 200 OK\n",
      "长度： 44854477 (43M) [binary/octet-stream]\n",
      "正在保存至: “checkpoint/fruit30_pytorch_20220814.pth”\n",
      "\n",
      "fruit30_pytorch_202 100%[===================>]  42.78M  43.9MB/s    用时 1.0s    \n",
      "\n",
      "2022-09-20 23:11:17 (43.9 MB/s) - 已保存 “checkpoint/fruit30_pytorch_20220814.pth” [44854477/44854477])\n",
      "\n",
      "--2022-09-20 23:11:17--  https://zihao-openmmlab.obs.cn-east-3.myhuaweicloud.com/20220716-mmclassification/dataset/fruit30/labels_to_idx.npy\n",
      "正在连接 172.16.0.13:5848... 已连接。\n",
      "已发出 Proxy 请求，正在等待回应... 200 OK\n",
      "长度： 769 [binary/octet-stream]\n",
      "正在保存至: “labels_to_idx.npy.1”\n",
      "\n",
      "labels_to_idx.npy.1 100%[===================>]     769  --.-KB/s    用时 0s      \n",
      "\n",
      "2022-09-20 23:11:17 (19.4 MB/s) - 已保存 “labels_to_idx.npy.1” [769/769])\n",
      "\n",
      "--2022-09-20 23:11:17--  https://zihao-openmmlab.obs.cn-east-3.myhuaweicloud.com/20220716-mmclassification/dataset/fruit30/idx_to_labels.npy\n",
      "正在连接 172.16.0.13:5848... 已连接。\n",
      "已发出 Proxy 请求，正在等待回应... 200 OK\n",
      "长度： 769 [binary/octet-stream]\n",
      "正在保存至: “idx_to_labels.npy.1”\n",
      "\n",
      "idx_to_labels.npy.1 100%[===================>]     769  --.-KB/s    用时 0s      \n",
      "\n",
      "2022-09-20 23:11:18 (15.5 MB/s) - 已保存 “idx_to_labels.npy.1” [769/769])\n",
      "\n"
     ]
    }
   ],
   "source": [
    "# 下载样例模型文件\n",
    "!wget https://zihao-openmmlab.obs.cn-east-3.myhuaweicloud.com/20220716-mmclassification/checkpoints/fruit30_pytorch_20220814.pth -P checkpoint\n",
    "\n",
    "# 下载 类别名称 和 ID索引号 的映射字典\n",
    "!wget https://zihao-openmmlab.obs.cn-east-3.myhuaweicloud.com/20220716-mmclassification/dataset/fruit30/labels_to_idx.npy\n",
    "!wget https://zihao-openmmlab.obs.cn-east-3.myhuaweicloud.com/20220716-mmclassification/dataset/fruit30/idx_to_labels.npy\n"
   ]
  },
  {
   "cell_type": "markdown",
   "id": "f22f7530-b030-46a3-b1ac-ed0f97629e5a",
   "metadata": {},
   "source": [
    "## 验证安装配置成功"
   ]
  },
  {
   "cell_type": "code",
   "execution_count": 15,
   "id": "6bc6bca9-59cf-49d5-98bf-25b156a41ecb",
   "metadata": {},
   "outputs": [],
   "source": [
    "import pytorch_grad_cam"
   ]
  },
  {
   "cell_type": "code",
   "execution_count": null,
   "id": "ff00a4db-9636-412d-af60-6189b6801e5c",
   "metadata": {},
   "outputs": [],
   "source": []
  }
 ],
 "metadata": {
  "kernelspec": {
   "display_name": "Python 3 (ipykernel)",
   "language": "python",
   "name": "python3"
  },
  "language_info": {
   "codemirror_mode": {
    "name": "ipython",
    "version": 3
   },
   "file_extension": ".py",
   "mimetype": "text/x-python",
   "name": "python",
   "nbconvert_exporter": "python",
   "pygments_lexer": "ipython3",
   "version": "3.7.10"
  }
 },
 "nbformat": 4,
 "nbformat_minor": 5
}

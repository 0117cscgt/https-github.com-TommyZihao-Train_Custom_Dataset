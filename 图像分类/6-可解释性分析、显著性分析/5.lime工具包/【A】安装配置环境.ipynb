{
 "cells": [
  {
   "cell_type": "markdown",
   "id": "833c25f5-7c6e-414e-b065-a17d8a828793",
   "metadata": {},
   "source": [
    "# 安装配置环境\n",
    "\n",
    "安装配置 lime 环境\n",
    "\n",
    "同济子豪兄 https://space.bilibili.com/1900783\n",
    "\n",
    "代码运行云GPU平台：https://featurize.cn/?s=d7ce99f842414bfcaea5662a97581bd1\n",
    "\n",
    "2022-9-20"
   ]
  },
  {
   "cell_type": "markdown",
   "id": "c7d70997-e353-420d-a7e6-450aeb9be118",
   "metadata": {},
   "source": [
    "## 安装工具包"
   ]
  },
  {
   "cell_type": "code",
   "execution_count": 1,
   "id": "69149837-5c34-435f-bb8c-7b4d4b8083b1",
   "metadata": {},
   "outputs": [
    {
     "name": "stdout",
     "output_type": "stream",
     "text": [
      "Looking in indexes: https://pypi.tuna.tsinghua.edu.cn/simple\n",
      "Collecting lime\n",
      "  Downloading https://pypi.tuna.tsinghua.edu.cn/packages/f5/86/91a13127d83d793ecb50eb75e716f76e6eda809b6803c5a4ff462339789e/lime-0.2.0.1.tar.gz (275 kB)\n",
      "\u001b[K     |████████████████████████████████| 275 kB 63.7 MB/s eta 0:00:01\n",
      "\u001b[?25hRequirement already satisfied: scikit-learn in /environment/miniconda3/lib/python3.7/site-packages (1.0.1)\n",
      "Requirement already satisfied: numpy in /environment/miniconda3/lib/python3.7/site-packages (1.21.4)\n",
      "Requirement already satisfied: pandas in /environment/miniconda3/lib/python3.7/site-packages (1.3.4)\n",
      "Requirement already satisfied: matplotlib in /environment/miniconda3/lib/python3.7/site-packages (3.5.0)\n",
      "Requirement already satisfied: pillow in /environment/miniconda3/lib/python3.7/site-packages (8.4.0)\n",
      "Requirement already satisfied: scipy in /environment/miniconda3/lib/python3.7/site-packages (from lime) (1.7.3)\n",
      "Requirement already satisfied: tqdm in /environment/miniconda3/lib/python3.7/site-packages (from lime) (4.61.2)\n",
      "Requirement already satisfied: scikit-image>=0.12 in /environment/miniconda3/lib/python3.7/site-packages (from lime) (0.19.0)\n",
      "Requirement already satisfied: joblib>=0.11 in /environment/miniconda3/lib/python3.7/site-packages (from scikit-learn) (1.1.0)\n",
      "Requirement already satisfied: threadpoolctl>=2.0.0 in /environment/miniconda3/lib/python3.7/site-packages (from scikit-learn) (3.0.0)\n",
      "Requirement already satisfied: PyWavelets>=1.1.1 in /environment/miniconda3/lib/python3.7/site-packages (from scikit-image>=0.12->lime) (1.2.0)\n",
      "Requirement already satisfied: networkx>=2.2 in /environment/miniconda3/lib/python3.7/site-packages (from scikit-image>=0.12->lime) (2.6.3)\n",
      "Requirement already satisfied: packaging>=20.0 in /environment/miniconda3/lib/python3.7/site-packages (from scikit-image>=0.12->lime) (21.3)\n",
      "Requirement already satisfied: tifffile>=2019.7.26 in /environment/miniconda3/lib/python3.7/site-packages (from scikit-image>=0.12->lime) (2021.11.2)\n",
      "Requirement already satisfied: imageio>=2.4.1 in /environment/miniconda3/lib/python3.7/site-packages (from scikit-image>=0.12->lime) (2.13.3)\n",
      "Requirement already satisfied: pyparsing!=3.0.5,>=2.0.2 in /environment/miniconda3/lib/python3.7/site-packages (from packaging>=20.0->scikit-image>=0.12->lime) (3.0.6)\n",
      "Requirement already satisfied: pytz>=2017.3 in /environment/miniconda3/lib/python3.7/site-packages (from pandas) (2021.3)\n",
      "Requirement already satisfied: python-dateutil>=2.7.3 in /environment/miniconda3/lib/python3.7/site-packages (from pandas) (2.8.2)\n",
      "Requirement already satisfied: six>=1.5 in /environment/miniconda3/lib/python3.7/site-packages (from python-dateutil>=2.7.3->pandas) (1.16.0)\n",
      "Requirement already satisfied: kiwisolver>=1.0.1 in /environment/miniconda3/lib/python3.7/site-packages (from matplotlib) (1.3.2)\n",
      "Requirement already satisfied: fonttools>=4.22.0 in /environment/miniconda3/lib/python3.7/site-packages (from matplotlib) (4.28.3)\n",
      "Requirement already satisfied: cycler>=0.10 in /environment/miniconda3/lib/python3.7/site-packages (from matplotlib) (0.11.0)\n",
      "Requirement already satisfied: setuptools-scm>=4 in /environment/miniconda3/lib/python3.7/site-packages (from matplotlib) (6.3.2)\n",
      "Requirement already satisfied: tomli>=1.0.0 in /environment/miniconda3/lib/python3.7/site-packages (from setuptools-scm>=4->matplotlib) (1.2.2)\n",
      "Requirement already satisfied: setuptools in /environment/miniconda3/lib/python3.7/site-packages (from setuptools-scm>=4->matplotlib) (52.0.0.post20210125)\n",
      "Building wheels for collected packages: lime\n",
      "  Building wheel for lime (setup.py) ... \u001b[?25ldone\n",
      "\u001b[?25h  Created wheel for lime: filename=lime-0.2.0.1-py3-none-any.whl size=283845 sha256=fa5ebc99442b54bec5000e47cd0238dceda8d9a3b961fe1fab0f2ecb15d8b387\n",
      "  Stored in directory: /home/featurize/.cache/pip/wheels/ac/73/24/9ac8ba4ea83fbd11b0af3085c34d08a47459428b4682ad27b5\n",
      "Successfully built lime\n",
      "Installing collected packages: lime\n",
      "Successfully installed lime-0.2.0.1\n"
     ]
    }
   ],
   "source": [
    "!pip install lime scikit-learn numpy pandas matplotlib pillow"
   ]
  },
  {
   "cell_type": "markdown",
   "id": "eade174f-3011-45ef-90c8-394e8f47b98e",
   "metadata": {},
   "source": [
    "## 创建目录"
   ]
  },
  {
   "cell_type": "code",
   "execution_count": 2,
   "id": "e72b927c-4db0-41bd-8b80-9e9a515c5716",
   "metadata": {},
   "outputs": [],
   "source": [
    "import os"
   ]
  },
  {
   "cell_type": "code",
   "execution_count": 2,
   "id": "25c14e61-2883-4ab4-a8ca-abca8eeeeae6",
   "metadata": {},
   "outputs": [],
   "source": [
    "# 存放测试图片\n",
    "os.mkdir('test_img')\n",
    "\n",
    "# 存放模型权重文件\n",
    "os.mkdir('checkpoint')"
   ]
  },
  {
   "cell_type": "markdown",
   "id": "f1e5aa68-c05a-4116-872e-c8be93206d74",
   "metadata": {},
   "source": [
    "## 自己训练得到的30类水果图像分类模型"
   ]
  },
  {
   "cell_type": "code",
   "execution_count": 3,
   "id": "cf61e2ba-7aa3-407f-8640-85271b8346a3",
   "metadata": {},
   "outputs": [
    {
     "name": "stdout",
     "output_type": "stream",
     "text": [
      "--2022-09-21 13:13:30--  https://zihao-openmmlab.obs.cn-east-3.myhuaweicloud.com/20220716-mmclassification/checkpoints/fruit30_pytorch_20220814.pth\n",
      "正在连接 172.16.0.13:5848... 已连接。\n",
      "已发出 Proxy 请求，正在等待回应... 200 OK\n",
      "长度： 44854477 (43M) [binary/octet-stream]\n",
      "正在保存至: “checkpoint/fruit30_pytorch_20220814.pth”\n",
      "\n",
      "fruit30_pytorch_202 100%[===================>]  42.78M  45.2MB/s    用时 0.9s    \n",
      "\n",
      "2022-09-21 13:13:31 (45.2 MB/s) - 已保存 “checkpoint/fruit30_pytorch_20220814.pth” [44854477/44854477])\n",
      "\n",
      "--2022-09-21 13:13:32--  https://zihao-openmmlab.obs.cn-east-3.myhuaweicloud.com/20220716-mmclassification/dataset/fruit30/labels_to_idx.npy\n",
      "正在连接 172.16.0.13:5848... 已连接。\n",
      "已发出 Proxy 请求，正在等待回应... 200 OK\n",
      "长度： 769 [binary/octet-stream]\n",
      "正在保存至: “labels_to_idx.npy”\n",
      "\n",
      "labels_to_idx.npy   100%[===================>]     769  --.-KB/s    用时 0s      \n",
      "\n",
      "2022-09-21 13:13:32 (20.8 MB/s) - 已保存 “labels_to_idx.npy” [769/769])\n",
      "\n",
      "--2022-09-21 13:13:32--  https://zihao-openmmlab.obs.cn-east-3.myhuaweicloud.com/20220716-mmclassification/dataset/fruit30/idx_to_labels.npy\n",
      "正在连接 172.16.0.13:5848... 已连接。\n",
      "已发出 Proxy 请求，正在等待回应... 200 OK\n",
      "长度： 769 [binary/octet-stream]\n",
      "正在保存至: “idx_to_labels.npy”\n",
      "\n",
      "idx_to_labels.npy   100%[===================>]     769  --.-KB/s    用时 0s      \n",
      "\n",
      "2022-09-21 13:13:32 (19.8 MB/s) - 已保存 “idx_to_labels.npy” [769/769])\n",
      "\n"
     ]
    }
   ],
   "source": [
    "# 下载样例模型文件\n",
    "!wget https://zihao-openmmlab.obs.cn-east-3.myhuaweicloud.com/20220716-mmclassification/checkpoints/fruit30_pytorch_20220814.pth -P checkpoint\n",
    "\n",
    "# 下载 类别名称 和 ID索引号 的映射字典\n",
    "!wget https://zihao-openmmlab.obs.cn-east-3.myhuaweicloud.com/20220716-mmclassification/dataset/fruit30/labels_to_idx.npy\n",
    "!wget https://zihao-openmmlab.obs.cn-east-3.myhuaweicloud.com/20220716-mmclassification/dataset/fruit30/idx_to_labels.npy\n"
   ]
  },
  {
   "cell_type": "markdown",
   "id": "74d67cc4-7aef-4aae-9179-80997ac3b291",
   "metadata": {},
   "source": [
    "## 下载测试图片至`test_img`目录"
   ]
  },
  {
   "cell_type": "code",
   "execution_count": 4,
   "id": "4651b651-406e-44bb-973e-ea567a1dcece",
   "metadata": {},
   "outputs": [
    {
     "name": "stdout",
     "output_type": "stream",
     "text": [
      "--2022-09-21 13:14:12--  https://zihao-openmmlab.obs.myhuaweicloud.com/20220716-mmclassification/test/0818/test_fruits.jpg\n",
      "正在连接 172.16.0.13:5848... 已连接。\n",
      "已发出 Proxy 请求，正在等待回应... 200 OK\n",
      "长度： 2579427 (2.5M) [image/jpeg]\n",
      "正在保存至: “test_img/test_fruits.jpg”\n",
      "\n",
      "test_fruits.jpg     100%[===================>]   2.46M  7.37MB/s    用时 0.3s    \n",
      "\n",
      "2022-09-21 13:14:13 (7.37 MB/s) - 已保存 “test_img/test_fruits.jpg” [2579427/2579427])\n",
      "\n",
      "--2022-09-21 13:14:13--  https://zihao-openmmlab.obs.myhuaweicloud.com/20220716-mmclassification/test/0818/test_orange_2.jpg\n",
      "正在连接 172.16.0.13:5848... 已连接。\n",
      "已发出 Proxy 请求，正在等待回应... 200 OK\n",
      "长度： 1771019 (1.7M) [image/jpeg]\n",
      "正在保存至: “test_img/test_orange_2.jpg”\n",
      "\n",
      "test_orange_2.jpg   100%[===================>]   1.69M  5.55MB/s    用时 0.3s    \n",
      "\n",
      "2022-09-21 13:14:13 (5.55 MB/s) - 已保存 “test_img/test_orange_2.jpg” [1771019/1771019])\n",
      "\n",
      "--2022-09-21 13:14:13--  https://zihao-openmmlab.obs.myhuaweicloud.com/20220716-mmclassification/test/0818/test_bananan.jpg\n",
      "正在连接 172.16.0.13:5848... 已连接。\n",
      "已发出 Proxy 请求，正在等待回应... 200 OK\n",
      "长度： 1116714 (1.1M) [image/jpeg]\n",
      "正在保存至: “test_img/test_bananan.jpg”\n",
      "\n",
      "test_bananan.jpg    100%[===================>]   1.06M  4.06MB/s    用时 0.3s    \n",
      "\n",
      "2022-09-21 13:14:14 (4.06 MB/s) - 已保存 “test_img/test_bananan.jpg” [1116714/1116714])\n",
      "\n",
      "--2022-09-21 13:14:14--  https://zihao-openmmlab.obs.myhuaweicloud.com/20220716-mmclassification/test/0818/test_kiwi.jpg\n",
      "正在连接 172.16.0.13:5848... 已连接。\n",
      "已发出 Proxy 请求，正在等待回应... 200 OK\n",
      "长度： 1555297 (1.5M) [image/jpeg]\n",
      "正在保存至: “test_img/test_kiwi.jpg”\n",
      "\n",
      "test_kiwi.jpg       100%[===================>]   1.48M  4.95MB/s    用时 0.3s    \n",
      "\n",
      "2022-09-21 13:14:15 (4.95 MB/s) - 已保存 “test_img/test_kiwi.jpg” [1555297/1555297])\n",
      "\n",
      "--2022-09-21 13:14:15--  https://zihao-openmmlab.obs.cn-east-3.myhuaweicloud.com/20220716-mmclassification/test/0818/test_%E8%8D%89%E8%8E%93.jpg\n",
      "正在连接 172.16.0.13:5848... 已连接。\n",
      "已发出 Proxy 请求，正在等待回应... 200 OK\n",
      "长度： 193879 (189K) [image/jpeg]\n",
      "正在保存至: “test_img/test_草莓.jpg”\n",
      "\n",
      "test_草莓.jpg       100%[===================>] 189.33K  1.16MB/s    用时 0.2s    \n",
      "\n",
      "2022-09-21 13:14:15 (1.16 MB/s) - 已保存 “test_img/test_草莓.jpg” [193879/193879])\n",
      "\n",
      "--2022-09-21 13:14:15--  https://zihao-openmmlab.obs.myhuaweicloud.com/20220716-mmclassification/test/0818/test_%E7%9F%B3%E6%A6%B4.jpg\n",
      "正在连接 172.16.0.13:5848... 已连接。\n",
      "已发出 Proxy 请求，正在等待回应... 200 OK\n",
      "长度： 1326649 (1.3M) [image/jpeg]\n",
      "正在保存至: “test_img/test_石榴.jpg”\n",
      "\n",
      "test_石榴.jpg       100%[===================>]   1.26M  4.62MB/s    用时 0.3s    \n",
      "\n",
      "2022-09-21 13:14:16 (4.62 MB/s) - 已保存 “test_img/test_石榴.jpg” [1326649/1326649])\n",
      "\n",
      "--2022-09-21 13:14:16--  https://zihao-openmmlab.obs.myhuaweicloud.com/20220716-mmclassification/test/0818/test_orange.jpg\n",
      "正在连接 172.16.0.13:5848... 已连接。\n",
      "已发出 Proxy 请求，正在等待回应... 200 OK\n",
      "长度： 1283008 (1.2M) [image/jpeg]\n",
      "正在保存至: “test_img/test_orange.jpg”\n",
      "\n",
      "test_orange.jpg     100%[===================>]   1.22M  4.18MB/s    用时 0.3s    \n",
      "\n",
      "2022-09-21 13:14:17 (4.18 MB/s) - 已保存 “test_img/test_orange.jpg” [1283008/1283008])\n",
      "\n",
      "--2022-09-21 13:14:17--  https://zihao-openmmlab.obs.myhuaweicloud.com/20220716-mmclassification/test/0818/test_lemon.jpg\n",
      "正在连接 172.16.0.13:5848... 已连接。\n",
      "已发出 Proxy 请求，正在等待回应... 200 OK\n",
      "长度： 983324 (960K) [image/jpeg]\n",
      "正在保存至: “test_img/test_lemon.jpg”\n",
      "\n",
      "test_lemon.jpg      100%[===================>] 960.28K  3.60MB/s    用时 0.3s    \n",
      "\n",
      "2022-09-21 13:14:17 (3.60 MB/s) - 已保存 “test_img/test_lemon.jpg” [983324/983324])\n",
      "\n",
      "--2022-09-21 13:14:17--  https://zihao-openmmlab.obs.myhuaweicloud.com/20220716-mmclassification/test/0818/test_%E7%81%AB%E9%BE%99%E6%9E%9C.jpg\n",
      "正在连接 172.16.0.13:5848... 已连接。\n",
      "已发出 Proxy 请求，正在等待回应... 200 OK\n",
      "长度： 1385692 (1.3M) [image/jpeg]\n",
      "正在保存至: “test_img/test_火龙果.jpg”\n",
      "\n",
      "test_火龙果.jpg     100%[===================>]   1.32M  4.53MB/s    用时 0.3s    \n",
      "\n",
      "2022-09-21 13:14:18 (4.53 MB/s) - 已保存 “test_img/test_火龙果.jpg” [1385692/1385692])\n",
      "\n",
      "--2022-09-21 13:14:18--  https://zihao-openmmlab.obs.cn-east-3.myhuaweicloud.com/20220716-mmclassification/test/watermelon1.jpg\n",
      "正在连接 172.16.0.13:5848... 已连接。\n",
      "已发出 Proxy 请求，正在等待回应... 200 OK\n",
      "长度： 429666 (420K) [image/jpeg]\n",
      "正在保存至: “test_img/watermelon1.jpg”\n",
      "\n",
      "watermelon1.jpg     100%[===================>] 419.60K  1.91MB/s    用时 0.2s    \n",
      "\n",
      "2022-09-21 13:14:19 (1.91 MB/s) - 已保存 “test_img/watermelon1.jpg” [429666/429666])\n",
      "\n",
      "--2022-09-21 13:14:19--  https://zihao-openmmlab.obs.cn-east-3.myhuaweicloud.com/20220716-mmclassification/test/banana1.jpg\n",
      "正在连接 172.16.0.13:5848... 已连接。\n",
      "已发出 Proxy 请求，正在等待回应... 200 OK\n",
      "长度： 463879 (453K) [image/jpeg]\n",
      "正在保存至: “test_img/banana1.jpg”\n",
      "\n",
      "banana1.jpg         100%[===================>] 453.01K  2.11MB/s    用时 0.2s    \n",
      "\n",
      "2022-09-21 13:14:19 (2.11 MB/s) - 已保存 “test_img/banana1.jpg” [463879/463879])\n",
      "\n"
     ]
    }
   ],
   "source": [
    "!wget https://zihao-openmmlab.obs.cn-east-3.myhuaweicloud.com/20220716-mmclassification/test/cat_dog.jpg -P test_img\n",
    "\n",
    "!wget https://zihao-openmmlab.obs.myhuaweicloud.com/20220716-mmclassification/test/0818/test_fruits.jpg -P test_img\n",
    "\n",
    "!wget https://zihao-openmmlab.obs.myhuaweicloud.com/20220716-mmclassification/test/0818/test_orange_2.jpg -P test_img \n",
    "\n",
    "!wget https://zihao-openmmlab.obs.myhuaweicloud.com/20220716-mmclassification/test/0818/test_bananan.jpg -P test_img\n",
    "\n",
    "!wget https://zihao-openmmlab.obs.myhuaweicloud.com/20220716-mmclassification/test/0818/test_kiwi.jpg -P test_img\n",
    "\n",
    "# 草莓图像，来源：https://www.pexels.com/zh-cn/photo/4828489/\n",
    "!wget https://zihao-openmmlab.obs.cn-east-3.myhuaweicloud.com/20220716-mmclassification/test/0818/test_草莓.jpg -P test_img\n",
    "\n",
    "!wget https://zihao-openmmlab.obs.myhuaweicloud.com/20220716-mmclassification/test/0818/test_石榴.jpg -P test_img\n",
    "\n",
    "!wget https://zihao-openmmlab.obs.myhuaweicloud.com/20220716-mmclassification/test/0818/test_orange.jpg -P test_img\n",
    "\n",
    "!wget https://zihao-openmmlab.obs.myhuaweicloud.com/20220716-mmclassification/test/0818/test_lemon.jpg -P test_img\n",
    "\n",
    "!wget https://zihao-openmmlab.obs.myhuaweicloud.com/20220716-mmclassification/test/0818/test_火龙果.jpg -P test_img\n",
    "\n",
    "!wget https://zihao-openmmlab.obs.cn-east-3.myhuaweicloud.com/20220716-mmclassification/test/watermelon1.jpg -P test_img\n",
    "\n",
    "!wget https://zihao-openmmlab.obs.cn-east-3.myhuaweicloud.com/20220716-mmclassification/test/banana1.jpg -P test_img"
   ]
  },
  {
   "cell_type": "markdown",
   "id": "b90e1354-3fce-46e5-b447-90909521de20",
   "metadata": {},
   "source": [
    "## 验证安装成功"
   ]
  },
  {
   "cell_type": "code",
   "execution_count": 2,
   "id": "bae92bf7-9106-4a34-a0ef-d4131b1fc37f",
   "metadata": {},
   "outputs": [],
   "source": [
    "import lime\n",
    "import sklearn"
   ]
  },
  {
   "cell_type": "code",
   "execution_count": null,
   "id": "62093f61-5f91-41ed-98b0-9aefff382bfc",
   "metadata": {},
   "outputs": [],
   "source": []
  }
 ],
 "metadata": {
  "kernelspec": {
   "display_name": "Python 3 (ipykernel)",
   "language": "python",
   "name": "python3"
  },
  "language_info": {
   "codemirror_mode": {
    "name": "ipython",
    "version": 3
   },
   "file_extension": ".py",
   "mimetype": "text/x-python",
   "name": "python",
   "nbconvert_exporter": "python",
   "pygments_lexer": "ipython3",
   "version": "3.7.10"
  }
 },
 "nbformat": 4,
 "nbformat_minor": 5
}

{
 "cells": [
  {
   "cell_type": "markdown",
   "id": "baf8f2dc-e2fe-451c-8ce8-b3878e7dee13",
   "metadata": {
    "tags": []
   },
   "source": [
    "# 扩展阅读\n",
    "\n",
    "\n",
    "## 推荐视频\n",
    "\n",
    "LIME论文逐句精读：https://space.bilibili.com/1900783\n",
    "\n",
    "图像分类可解释性分析实战-shap工具包：https://www.bilibili.com/video/BV1vP4y1S7Xu\n",
    "\n",
    "UCI心脏病二分类+可解释性分析：https://www.bilibili.com/video/BV1Wf4y1U7EL\n",
    "\n",
    "## 公开课\n",
    "\n",
    "【同济子豪兄“两天搞定AI毕业设计之【图像分类】”公开课】\n",
    "\n",
    "图像分类全流程：构建数据集、训练模型、预测新图、测试集评估、可解释性分析、终端部署\n",
    "\n",
    "视频合集：https://space.bilibili.com/1900783/channel/collectiondetail?sid=606800\n",
    "\n",
    "代码：https://github.com/TommyZihao/Train_Custom_Dataset\n",
    "\n",
    "【同济子豪兄可解释机器学习公开课】\n",
    "\n",
    "包含人工智能可解释性、显著性分析领域的导论、算法综述、经典论文精读、代码实战、前沿讲座。\n",
    "\n",
    "课程主页：https://github.com/TommyZihao/zihao_course/tree/main/XAI\n",
    "\n",
    "## 博客链接\n",
    "\n",
    "lime工具包：https://github.com/marcotcr/lime\n",
    "\n",
    "DataWhale公众号推送【6个机器学习可解释性框架！】：https://mp.weixin.qq.com/s/GpdOQChETqh9-q0SvP6I0A\n",
    "\n",
    "https://towardsdatascience.com/lime-how-to-interpret-machine-learning-models-with-python-94b0e7e4432e\n",
    "\n",
    "代码运行云GPU平台：https://featurize.cn/?s=d7ce99f842414bfcaea5662a97581bd1\n"
   ]
  },
  {
   "cell_type": "code",
   "execution_count": null,
   "id": "65fae24f-7e22-4dc5-93b6-0158f5c39d93",
   "metadata": {},
   "outputs": [],
   "source": []
  }
 ],
 "metadata": {
  "kernelspec": {
   "display_name": "Python 3 (ipykernel)",
   "language": "python",
   "name": "python3"
  },
  "language_info": {
   "codemirror_mode": {
    "name": "ipython",
    "version": 3
   },
   "file_extension": ".py",
   "mimetype": "text/x-python",
   "name": "python",
   "nbconvert_exporter": "python",
   "pygments_lexer": "ipython3",
   "version": "3.7.10"
  }
 },
 "nbformat": 4,
 "nbformat_minor": 5
}

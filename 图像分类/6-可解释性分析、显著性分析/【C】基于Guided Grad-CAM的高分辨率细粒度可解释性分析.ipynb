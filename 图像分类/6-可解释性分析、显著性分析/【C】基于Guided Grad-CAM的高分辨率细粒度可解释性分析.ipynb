{
 "cells": [
  {
   "cell_type": "markdown",
   "id": "3df26fd5-bcdc-4d28-8b01-a404276d6812",
   "metadata": {},
   "source": [
    "# 基于Guided Grad-CAM的高分辨率细粒度可解释性分析"
   ]
  },
  {
   "cell_type": "markdown",
   "id": "ba71a03f-72cb-4e2f-aee2-abcaf1861b08",
   "metadata": {},
   "source": [
    "在`pytorch-grad-cam/cam.py`中指定：\n",
    "\n",
    "`target_layers`：待分析的层\n",
    "\n",
    "`target_layers = [model.layer4[-1]]`\n",
    "\n",
    "`targets`：类别，边牧犬\n",
    "\n",
    "`targets = [ClassifierOutputTarget(232)]`"
   ]
  },
  {
   "cell_type": "code",
   "execution_count": null,
   "id": "572986c2-c6fb-4f02-8947-1e8584aa3eb5",
   "metadata": {},
   "outputs": [],
   "source": [
    "!python pytorch-grad-cam/cam.py \\\n",
    "        --image-path test_img/cat_dog.jpg \\\n",
    "        --method gradcam \\\n",
    "        --aug_smooth \\\n",
    "        --use-cuda"
   ]
  },
  {
   "cell_type": "markdown",
   "id": "baa72391-717e-4c2d-8c85-ffbe086741f8",
   "metadata": {},
   "source": [
    "## 原图"
   ]
  },
  {
   "cell_type": "code",
   "execution_count": null,
   "id": "1e77e12a-6e86-44af-a045-63a24e71fad3",
   "metadata": {},
   "outputs": [],
   "source": [
    "from PIL import Image"
   ]
  },
  {
   "cell_type": "code",
   "execution_count": null,
   "id": "e442d400-05bd-4246-a823-b640c640c42a",
   "metadata": {},
   "outputs": [],
   "source": [
    "Image.open('test_img/cat_dog.jpg')"
   ]
  },
  {
   "cell_type": "markdown",
   "id": "448a7d5b-37fe-49e3-baaf-4e7e86348802",
   "metadata": {},
   "source": [
    "## Grad-CAM"
   ]
  },
  {
   "cell_type": "code",
   "execution_count": null,
   "id": "15298714-9622-4fb0-b1c4-4626229b95d7",
   "metadata": {},
   "outputs": [],
   "source": [
    "Image.open('gradcam_cam.jpg')"
   ]
  },
  {
   "cell_type": "markdown",
   "id": "6c93910c-889a-4618-bcd8-732834b488d3",
   "metadata": {},
   "source": [
    "## Guided Backpropagation"
   ]
  },
  {
   "cell_type": "code",
   "execution_count": null,
   "id": "d2b19fd3-9ca8-4eee-a18e-cde616598858",
   "metadata": {},
   "outputs": [],
   "source": [
    "Image.open('gradcam_gb.jpg')"
   ]
  },
  {
   "cell_type": "markdown",
   "id": "b2357663-d532-429b-9a54-fbcdea4efb55",
   "metadata": {},
   "source": [
    "## Guided Grad-CAM"
   ]
  },
  {
   "cell_type": "code",
   "execution_count": null,
   "id": "8af502d2-0667-4e62-9ae9-8f23f535d671",
   "metadata": {},
   "outputs": [],
   "source": [
    "Image.open('gradcam_cam_gb.jpg')"
   ]
  },
  {
   "cell_type": "code",
   "execution_count": null,
   "id": "c6e7627e-c29b-4058-922f-b55adb74ed57",
   "metadata": {},
   "outputs": [],
   "source": []
  }
 ],
 "metadata": {
  "kernelspec": {
   "display_name": "Python 3 (ipykernel)",
   "language": "python",
   "name": "python3"
  },
  "language_info": {
   "codemirror_mode": {
    "name": "ipython",
    "version": 3
   },
   "file_extension": ".py",
   "mimetype": "text/x-python",
   "name": "python",
   "nbconvert_exporter": "python",
   "pygments_lexer": "ipython3",
   "version": "3.7.10"
  }
 },
 "nbformat": 4,
 "nbformat_minor": 5
}

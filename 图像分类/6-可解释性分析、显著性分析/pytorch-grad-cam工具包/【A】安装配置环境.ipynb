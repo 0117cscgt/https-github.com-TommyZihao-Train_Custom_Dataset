{
 "cells": [
  {
   "cell_type": "code",
   "execution_count": 1,
   "id": "33526466-1db0-4032-a1dc-1cbc5bcb0f21",
   "metadata": {},
   "outputs": [
    {
     "name": "stdout",
     "output_type": "stream",
     "text": [
      "Looking in indexes: https://pypi.tuna.tsinghua.edu.cn/simple\n",
      "Collecting grad-cam\n",
      "  Downloading https://pypi.tuna.tsinghua.edu.cn/packages/42/4d/f3b45824fa23f3e17ddc16f54a1dd966ce1f0722177f56fbf8d689b98752/grad-cam-1.4.5.tar.gz (7.8 MB)\n",
      "\u001b[K     |████████████████████████████████| 7.8 MB 77.7 MB/s eta 0:00:01\n",
      "\u001b[?25h  Installing build dependencies ... \u001b[?25ldone\n",
      "\u001b[?25h  Getting requirements to build wheel ... \u001b[?25ldone\n",
      "\u001b[?25h    Preparing wheel metadata ... \u001b[?25ldone\n",
      "\u001b[?25hRequirement already satisfied: torchvision>=0.8.2 in /environment/miniconda3/lib/python3.7/site-packages (from grad-cam) (0.11.1+cu113)\n",
      "Requirement already satisfied: Pillow in /environment/miniconda3/lib/python3.7/site-packages (from grad-cam) (8.4.0)\n",
      "Requirement already satisfied: torch>=1.7.1 in /environment/miniconda3/lib/python3.7/site-packages (from grad-cam) (1.10.0+cu113)\n",
      "Requirement already satisfied: numpy in /environment/miniconda3/lib/python3.7/site-packages (from grad-cam) (1.21.4)\n",
      "Requirement already satisfied: opencv-python in /environment/miniconda3/lib/python3.7/site-packages (from grad-cam) (4.5.4.60)\n",
      "Collecting ttach\n",
      "  Downloading https://pypi.tuna.tsinghua.edu.cn/packages/8d/a3/ee48a184a185c1897c582c72240c2c8a0d0aeb5f8051a71d4e4cd930c52d/ttach-0.0.3-py3-none-any.whl (9.8 kB)\n",
      "Requirement already satisfied: matplotlib in /environment/miniconda3/lib/python3.7/site-packages (from grad-cam) (3.5.0)\n",
      "Requirement already satisfied: tqdm in /environment/miniconda3/lib/python3.7/site-packages (from grad-cam) (4.61.2)\n",
      "Requirement already satisfied: scikit-learn in /environment/miniconda3/lib/python3.7/site-packages (from grad-cam) (1.0.1)\n",
      "Requirement already satisfied: typing-extensions in /environment/miniconda3/lib/python3.7/site-packages (from torch>=1.7.1->grad-cam) (4.0.1)\n",
      "Requirement already satisfied: cycler>=0.10 in /environment/miniconda3/lib/python3.7/site-packages (from matplotlib->grad-cam) (0.11.0)\n",
      "Requirement already satisfied: pyparsing>=2.2.1 in /environment/miniconda3/lib/python3.7/site-packages (from matplotlib->grad-cam) (3.0.6)\n",
      "Requirement already satisfied: python-dateutil>=2.7 in /environment/miniconda3/lib/python3.7/site-packages (from matplotlib->grad-cam) (2.8.2)\n",
      "Requirement already satisfied: setuptools-scm>=4 in /environment/miniconda3/lib/python3.7/site-packages (from matplotlib->grad-cam) (6.3.2)\n",
      "Requirement already satisfied: kiwisolver>=1.0.1 in /environment/miniconda3/lib/python3.7/site-packages (from matplotlib->grad-cam) (1.3.2)\n",
      "Requirement already satisfied: fonttools>=4.22.0 in /environment/miniconda3/lib/python3.7/site-packages (from matplotlib->grad-cam) (4.28.3)\n",
      "Requirement already satisfied: packaging>=20.0 in /environment/miniconda3/lib/python3.7/site-packages (from matplotlib->grad-cam) (21.3)\n",
      "Requirement already satisfied: six>=1.5 in /environment/miniconda3/lib/python3.7/site-packages (from python-dateutil>=2.7->matplotlib->grad-cam) (1.16.0)\n",
      "Requirement already satisfied: setuptools in /environment/miniconda3/lib/python3.7/site-packages (from setuptools-scm>=4->matplotlib->grad-cam) (52.0.0.post20210125)\n",
      "Requirement already satisfied: tomli>=1.0.0 in /environment/miniconda3/lib/python3.7/site-packages (from setuptools-scm>=4->matplotlib->grad-cam) (1.2.2)\n",
      "Requirement already satisfied: threadpoolctl>=2.0.0 in /environment/miniconda3/lib/python3.7/site-packages (from scikit-learn->grad-cam) (3.0.0)\n",
      "Requirement already satisfied: joblib>=0.11 in /environment/miniconda3/lib/python3.7/site-packages (from scikit-learn->grad-cam) (1.1.0)\n",
      "Requirement already satisfied: scipy>=1.1.0 in /environment/miniconda3/lib/python3.7/site-packages (from scikit-learn->grad-cam) (1.7.3)\n",
      "Building wheels for collected packages: grad-cam\n",
      "  Building wheel for grad-cam (PEP 517) ... \u001b[?25ldone\n",
      "\u001b[?25h  Created wheel for grad-cam: filename=grad_cam-1.4.5-py3-none-any.whl size=37008 sha256=eb39dd2d648863d23aa829cd4602e6774a99a806f204e9bd5f8e589befc763b0\n",
      "  Stored in directory: /home/featurize/.cache/pip/wheels/ba/ef/51/e07892330ac9c035ab9bc828930763b470859f1415031426b1\n",
      "Successfully built grad-cam\n",
      "Installing collected packages: ttach, grad-cam\n",
      "Successfully installed grad-cam-1.4.5 ttach-0.0.3\n"
     ]
    }
   ],
   "source": [
    "!pip install grad-cam torch-cam"
   ]
  },
  {
   "cell_type": "code",
   "execution_count": 5,
   "id": "5eeff82a-1a2b-4ce3-b3e9-e0a084d5f7e1",
   "metadata": {},
   "outputs": [],
   "source": [
    "import os"
   ]
  },
  {
   "cell_type": "code",
   "execution_count": 3,
   "id": "46f77937-5b98-45c9-9205-11cab744e786",
   "metadata": {},
   "outputs": [],
   "source": [
    "# 存放测试图片\n",
    "os.mkdir('test_img')\n",
    "\n",
    "# 存放结果文件\n",
    "os.mkdir('output')\n",
    "\n",
    "# 存放模型权重文件\n",
    "os.mkdir('checkpoint')"
   ]
  },
  {
   "cell_type": "code",
   "execution_count": 2,
   "id": "9a98df91-87c2-46cd-bd80-0de948907dcd",
   "metadata": {},
   "outputs": [
    {
     "name": "stdout",
     "output_type": "stream",
     "text": [
      "--2022-09-19 15:54:52--  https://zihao-openmmlab.obs.cn-east-3.myhuaweicloud.com/20220919-explain/test_img/puppies.jpg\n",
      "正在连接 172.16.0.13:5848... 已连接。\n",
      "已发出 Proxy 请求，正在等待回应... 200 OK\n",
      "长度： 410751 (401K) [image/jpeg]\n",
      "正在保存至: “test_img/puppies.jpg.1”\n",
      "\n",
      "puppies.jpg.1       100%[===================>] 401.12K  1.89MB/s    用时 0.2s    \n",
      "\n",
      "2022-09-19 15:54:52 (1.89 MB/s) - 已保存 “test_img/puppies.jpg.1” [410751/410751])\n",
      "\n",
      "--2022-09-19 15:54:53--  https://zihao-openmmlab.obs.cn-east-3.myhuaweicloud.com/20220919-explain/test_img/bear.jpeg\n",
      "正在连接 172.16.0.13:5848... 已连接。\n",
      "已发出 Proxy 请求，正在等待回应... 200 OK\n",
      "长度： 337749 (330K) [image/jpeg]\n",
      "正在保存至: “test_img/bear.jpeg”\n",
      "\n",
      "bear.jpeg           100%[===================>] 329.83K  1.65MB/s    用时 0.2s    \n",
      "\n",
      "2022-09-19 15:54:53 (1.65 MB/s) - 已保存 “test_img/bear.jpeg” [337749/337749])\n",
      "\n",
      "--2022-09-19 15:54:53--  https://zihao-openmmlab.obs.cn-east-3.myhuaweicloud.com/20220919-explain/test_img/box_tabby.png\n",
      "正在连接 172.16.0.13:5848... 已连接。\n",
      "已发出 Proxy 请求，正在等待回应... 200 OK\n",
      "长度： 90226 (88K) [image/png]\n",
      "正在保存至: “test_img/box_tabby.png”\n",
      "\n",
      "box_tabby.png       100%[===================>]  88.11K  --.-KB/s    用时 0.1s    \n",
      "\n",
      "2022-09-19 15:54:54 (775 KB/s) - 已保存 “test_img/box_tabby.png” [90226/90226])\n",
      "\n"
     ]
    }
   ],
   "source": [
    "!wget https://zihao-openmmlab.obs.cn-east-3.myhuaweicloud.com/20220919-explain/test_img/puppies.jpg -P test_img\n",
    "\n",
    "!wget https://zihao-openmmlab.obs.cn-east-3.myhuaweicloud.com/20220919-explain/test_img/bear.jpeg -P test_img\n",
    "\n",
    "!wget https://zihao-openmmlab.obs.cn-east-3.myhuaweicloud.com/20220919-explain/test_img/box_tabby.png -P test_img\n"
   ]
  },
  {
   "cell_type": "code",
   "execution_count": 9,
   "id": "f65bea37-299b-4811-9aff-ceaaabfdc9de",
   "metadata": {},
   "outputs": [
    {
     "name": "stdout",
     "output_type": "stream",
     "text": [
      "--2022-09-19 16:35:08--  https://zihao-openmmlab.obs.myhuaweicloud.com/20220716-mmclassification/test/0818/test_fruits.jpg\n",
      "正在连接 172.16.0.13:5848... 已连接。\n",
      "已发出 Proxy 请求，正在等待回应... 200 OK\n",
      "长度： 2579427 (2.5M) [image/jpeg]\n",
      "正在保存至: “test_img/test_fruits.jpg”\n",
      "\n",
      "test_fruits.jpg     100%[===================>]   2.46M  7.69MB/s    用时 0.3s    \n",
      "\n",
      "2022-09-19 16:35:15 (7.69 MB/s) - 已保存 “test_img/test_fruits.jpg” [2579427/2579427])\n",
      "\n"
     ]
    }
   ],
   "source": [
    "!wget https://zihao-openmmlab.obs.myhuaweicloud.com/20220716-mmclassification/test/0818/test_fruits.jpg -P test_img"
   ]
  },
  {
   "cell_type": "code",
   "execution_count": 4,
   "id": "5c913cd8-3985-4a77-9b5c-cfb7d47f7351",
   "metadata": {},
   "outputs": [
    {
     "name": "stdout",
     "output_type": "stream",
     "text": [
      "--2022-09-19 08:56:19--  https://zihao-openmmlab.obs.cn-east-3.myhuaweicloud.com/20220716-mmclassification/test/border-collie.jpg\n",
      "正在连接 172.16.0.13:5848... 已连接。\n",
      "已发出 Proxy 请求，正在等待回应... 200 OK\n",
      "长度： 312888 (306K) [image/jpeg]\n",
      "正在保存至: “test_img/border-collie.jpg”\n",
      "\n",
      "border-collie.jpg   100%[===================>] 305.55K  1.56MB/s    用时 0.2s    \n",
      "\n",
      "2022-09-19 08:56:20 (1.56 MB/s) - 已保存 “test_img/border-collie.jpg” [312888/312888])\n",
      "\n",
      "--2022-09-19 08:56:20--  https://zihao-openmmlab.obs.cn-east-3.myhuaweicloud.com/20220716-mmclassification/test/cat_dog.jpg\n",
      "正在连接 172.16.0.13:5848... 已连接。\n",
      "已发出 Proxy 请求，正在等待回应... 200 OK\n",
      "长度： 817995 (799K) [image/jpeg]\n",
      "正在保存至: “test_img/cat_dog.jpg”\n",
      "\n",
      "cat_dog.jpg         100%[===================>] 798.82K  3.15MB/s    用时 0.2s    \n",
      "\n",
      "2022-09-19 08:56:20 (3.15 MB/s) - 已保存 “test_img/cat_dog.jpg” [817995/817995])\n",
      "\n",
      "--2022-09-19 08:56:21--  https://zihao-openmmlab.obs.cn-east-3.myhuaweicloud.com/20220716-mmclassification/test/0818/room_video.mp4\n",
      "正在连接 172.16.0.13:5848... 已连接。\n",
      "已发出 Proxy 请求，正在等待回应... 200 OK\n",
      "长度： 16829395 (16M) [video/mp4]\n",
      "正在保存至: “test_img/room_video.mp4”\n",
      "\n",
      "room_video.mp4      100%[===================>]  16.05M  30.9MB/s    用时 0.5s    \n",
      "\n",
      "2022-09-19 08:56:22 (30.9 MB/s) - 已保存 “test_img/room_video.mp4” [16829395/16829395])\n",
      "\n",
      "--2022-09-19 08:56:22--  https://zihao-openmmlab.obs.cn-east-3.myhuaweicloud.com/20220716-mmclassification/test/0818/test_%E8%8D%89%E8%8E%93.jpg\n",
      "正在连接 172.16.0.13:5848... 已连接。\n",
      "已发出 Proxy 请求，正在等待回应... 200 OK\n",
      "长度： 193879 (189K) [image/jpeg]\n",
      "正在保存至: “test_img/test_草莓.jpg”\n",
      "\n",
      "test_草莓.jpg       100%[===================>] 189.33K  1.15MB/s    用时 0.2s    \n",
      "\n",
      "2022-09-19 08:56:22 (1.15 MB/s) - 已保存 “test_img/test_草莓.jpg” [193879/193879])\n",
      "\n"
     ]
    }
   ],
   "source": [
    "# 下载测试图像文件 至 test_img 文件夹\n",
    "\n",
    "# 边牧犬，来源：https://www.woopets.fr/assets/races/000/066/big-portrait/border-collie.jpg\n",
    "!wget https://zihao-openmmlab.obs.cn-east-3.myhuaweicloud.com/20220716-mmclassification/test/border-collie.jpg -P test_img\n",
    "\n",
    "!wget https://zihao-openmmlab.obs.cn-east-3.myhuaweicloud.com/20220716-mmclassification/test/cat_dog.jpg -P test_img\n",
    "\n",
    "!wget https://zihao-openmmlab.obs.cn-east-3.myhuaweicloud.com/20220716-mmclassification/test/0818/room_video.mp4 -P test_img\n",
    "\n",
    "# 草莓图像，来源：https://www.pexels.com/zh-cn/photo/4828489/\n",
    "!wget https://zihao-openmmlab.obs.cn-east-3.myhuaweicloud.com/20220716-mmclassification/test/0818/test_草莓.jpg -P test_img"
   ]
  },
  {
   "cell_type": "markdown",
   "id": "7225c9fb-a2d9-4917-a370-2365e2a3df79",
   "metadata": {},
   "source": [
    "## 下载 ImageNet 1000类别信息"
   ]
  },
  {
   "cell_type": "code",
   "execution_count": 3,
   "id": "99dd5d25-feb6-4750-94f2-a12c4aad481a",
   "metadata": {},
   "outputs": [
    {
     "name": "stdout",
     "output_type": "stream",
     "text": [
      "--2022-09-19 16:06:16--  https://zihao-openmmlab.obs.cn-east-3.myhuaweicloud.com/20220716-mmclassification/dataset/meta_data/imagenet_class_index.csv\n",
      "正在连接 172.16.0.13:5848... 已连接。\n",
      "已发出 Proxy 请求，正在等待回应... 200 OK\n",
      "长度： 37074 (36K) [text/csv]\n",
      "正在保存至: “imagenet_class_index.csv”\n",
      "\n",
      "imagenet_class_inde 100%[===================>]  36.21K  --.-KB/s    用时 0.06s   \n",
      "\n",
      "2022-09-19 16:06:16 (601 KB/s) - 已保存 “imagenet_class_index.csv” [37074/37074])\n",
      "\n"
     ]
    }
   ],
   "source": [
    "!wget https://zihao-openmmlab.obs.cn-east-3.myhuaweicloud.com/20220716-mmclassification/dataset/meta_data/imagenet_class_index.csv\n"
   ]
  },
  {
   "cell_type": "markdown",
   "id": "a8da4bb9-0598-4898-93f7-5d6c0652c7a2",
   "metadata": {},
   "source": [
    "## 自己训练得到的30类水果图像分类模型"
   ]
  },
  {
   "cell_type": "code",
   "execution_count": 7,
   "id": "4e50e3c8-05da-4abf-bf44-549e629ed41f",
   "metadata": {},
   "outputs": [
    {
     "name": "stdout",
     "output_type": "stream",
     "text": [
      "--2022-09-19 16:31:55--  https://zihao-openmmlab.obs.cn-east-3.myhuaweicloud.com/20220716-mmclassification/checkpoints/fruit30_pytorch_20220814.pth\n",
      "正在连接 172.16.0.13:5848... 已连接。\n",
      "已发出 Proxy 请求，正在等待回应... 200 OK\n",
      "长度： 44854477 (43M) [binary/octet-stream]\n",
      "正在保存至: “checkpoint/fruit30_pytorch_20220814.pth”\n",
      "\n",
      "fruit30_pytorch_202 100%[===================>]  42.78M  41.6MB/s    用时 1.0s    \n",
      "\n",
      "2022-09-19 16:31:57 (41.6 MB/s) - 已保存 “checkpoint/fruit30_pytorch_20220814.pth” [44854477/44854477])\n",
      "\n",
      "--2022-09-19 16:31:57--  https://zihao-openmmlab.obs.cn-east-3.myhuaweicloud.com/20220716-mmclassification/dataset/fruit30/labels_to_idx.npy\n",
      "正在连接 172.16.0.13:5848... 已连接。\n",
      "已发出 Proxy 请求，正在等待回应... 200 OK\n",
      "长度： 769 [binary/octet-stream]\n",
      "正在保存至: “labels_to_idx.npy”\n",
      "\n",
      "labels_to_idx.npy   100%[===================>]     769  --.-KB/s    用时 0s      \n",
      "\n",
      "2022-09-19 16:31:57 (14.2 MB/s) - 已保存 “labels_to_idx.npy” [769/769])\n",
      "\n",
      "--2022-09-19 16:31:57--  https://zihao-openmmlab.obs.cn-east-3.myhuaweicloud.com/20220716-mmclassification/dataset/fruit30/idx_to_labels.npy\n",
      "正在连接 172.16.0.13:5848... 已连接。\n",
      "已发出 Proxy 请求，正在等待回应... 200 OK\n",
      "长度： 769 [binary/octet-stream]\n",
      "正在保存至: “idx_to_labels.npy”\n",
      "\n",
      "idx_to_labels.npy   100%[===================>]     769  --.-KB/s    用时 0s      \n",
      "\n",
      "2022-09-19 16:31:57 (14.8 MB/s) - 已保存 “idx_to_labels.npy” [769/769])\n",
      "\n"
     ]
    }
   ],
   "source": [
    "# 下载样例模型文件\n",
    "!wget https://zihao-openmmlab.obs.cn-east-3.myhuaweicloud.com/20220716-mmclassification/checkpoints/fruit30_pytorch_20220814.pth -P checkpoint\n",
    "\n",
    "# 下载 类别名称 和 ID索引号 的映射字典\n",
    "!wget https://zihao-openmmlab.obs.cn-east-3.myhuaweicloud.com/20220716-mmclassification/dataset/fruit30/labels_to_idx.npy\n",
    "!wget https://zihao-openmmlab.obs.cn-east-3.myhuaweicloud.com/20220716-mmclassification/dataset/fruit30/idx_to_labels.npy\n"
   ]
  },
  {
   "cell_type": "markdown",
   "id": "dd4f93cc-a1e6-4050-ae80-3b54a41cb5a8",
   "metadata": {},
   "source": [
    "## 下载 pytorch-grad-cam"
   ]
  },
  {
   "cell_type": "code",
   "execution_count": 14,
   "id": "895f1c12-4079-4960-92e2-b307be623989",
   "metadata": {},
   "outputs": [
    {
     "name": "stdout",
     "output_type": "stream",
     "text": [
      "正克隆到 'pytorch-grad-cam'...\n",
      "remote: Enumerating objects: 1057, done.\u001b[K\n",
      "remote: Counting objects: 100% (1057/1057), done.\u001b[K\n",
      "remote: Compressing objects: 100% (447/447), done.\u001b[K\n",
      "remote: Total 1057 (delta 588), reused 1052 (delta 588), pack-reused 0\u001b[K\n",
      "接收对象中: 100% (1057/1057), 96.81 MiB | 14.67 MiB/s, 完成.\n",
      "处理 delta 中: 100% (588/588), 完成.\n"
     ]
    }
   ],
   "source": [
    "!git clone https://github.com/jacobgil/pytorch-grad-cam.git"
   ]
  },
  {
   "cell_type": "markdown",
   "id": "f22f7530-b030-46a3-b1ac-ed0f97629e5a",
   "metadata": {},
   "source": [
    "## 验证安装配置成功"
   ]
  },
  {
   "cell_type": "code",
   "execution_count": 5,
   "id": "6bc6bca9-59cf-49d5-98bf-25b156a41ecb",
   "metadata": {},
   "outputs": [],
   "source": [
    "import pytorch_grad_cam"
   ]
  },
  {
   "cell_type": "code",
   "execution_count": null,
   "id": "ff00a4db-9636-412d-af60-6189b6801e5c",
   "metadata": {},
   "outputs": [],
   "source": []
  }
 ],
 "metadata": {
  "kernelspec": {
   "display_name": "Python 3 (ipykernel)",
   "language": "python",
   "name": "python3"
  },
  "language_info": {
   "codemirror_mode": {
    "name": "ipython",
    "version": 3
   },
   "file_extension": ".py",
   "mimetype": "text/x-python",
   "name": "python",
   "nbconvert_exporter": "python",
   "pygments_lexer": "ipython3",
   "version": "3.7.10"
  }
 },
 "nbformat": 4,
 "nbformat_minor": 5
}

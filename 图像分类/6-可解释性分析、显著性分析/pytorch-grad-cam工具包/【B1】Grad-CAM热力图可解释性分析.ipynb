{
 "cells": [
  {
   "cell_type": "markdown",
   "id": "790ab874-84ed-4668-ac70-434809a4ac4f",
   "metadata": {},
   "source": [
    "# Grad-CAM可解释性分析"
   ]
  },
  {
   "cell_type": "markdown",
   "id": "1c629017-99dc-4731-a88e-48a2f54d2eb1",
   "metadata": {},
   "source": [
    "## 导入工具包"
   ]
  },
  {
   "cell_type": "code",
   "execution_count": 61,
   "id": "e81c2fff-8f2c-4b1e-abbe-edc5940e8085",
   "metadata": {},
   "outputs": [
    {
     "name": "stdout",
     "output_type": "stream",
     "text": [
      "device cuda:0\n"
     ]
    }
   ],
   "source": [
    "from pytorch_grad_cam.utils.model_targets import ClassifierOutputTarget\n",
    "from torchvision.models import resnet50\n",
    "\n",
    "import numpy as np\n",
    "import cv2\n",
    "from PIL import Image\n",
    "import matplotlib.pyplot as plt\n",
    "%matplotlib inline\n",
    "\n",
    "import torch\n",
    "# 有 GPU 就用 GPU，没有就用 CPU\n",
    "device = torch.device('cuda:0' if torch.cuda.is_available() else 'cpu')\n",
    "print('device', device)"
   ]
  },
  {
   "cell_type": "markdown",
   "id": "2fb81e02-05e8-4654-b11a-2cbc6a3ad1cf",
   "metadata": {},
   "source": [
    "## 载入ImageNet预训练图像分类模型"
   ]
  },
  {
   "cell_type": "code",
   "execution_count": 62,
   "id": "da32d4c2-dda0-47fb-9f15-823cb89278f2",
   "metadata": {},
   "outputs": [],
   "source": [
    "model = resnet50(pretrained=True).eval().to(device)"
   ]
  },
  {
   "cell_type": "markdown",
   "id": "dbf710b7-b5e3-4377-bc42-bea3178a2f89",
   "metadata": {},
   "source": [
    "## 图像预处理"
   ]
  },
  {
   "cell_type": "code",
   "execution_count": 63,
   "id": "0aa63d3b-d77c-4a9b-a2c8-63729c929999",
   "metadata": {},
   "outputs": [],
   "source": [
    "from torchvision import transforms\n",
    "\n",
    "# 测试集图像预处理-RCTN：缩放、裁剪、转 Tensor、归一化\n",
    "test_transform = transforms.Compose([transforms.Resize(512),\n",
    "                                     # transforms.CenterCrop(512),\n",
    "                                     transforms.ToTensor(),\n",
    "                                     transforms.Normalize(\n",
    "                                         mean=[0.485, 0.456, 0.406], \n",
    "                                         std=[0.229, 0.224, 0.225])\n",
    "                                    ])"
   ]
  },
  {
   "cell_type": "markdown",
   "id": "083408e5-a0d8-4dac-8e52-571339b770f0",
   "metadata": {},
   "source": [
    "## 载入测试图像"
   ]
  },
  {
   "cell_type": "code",
   "execution_count": 64,
   "id": "516cc495-b6bb-44ba-993c-d6c8ab6b828a",
   "metadata": {},
   "outputs": [],
   "source": [
    "img_path = 'test_img/cat_dog.jpg'"
   ]
  },
  {
   "cell_type": "code",
   "execution_count": 82,
   "id": "64d6d137-9899-405f-a499-6e665d9d9b7a",
   "metadata": {},
   "outputs": [],
   "source": [
    "img_pil = Image.open(img_path)"
   ]
  },
  {
   "cell_type": "code",
   "execution_count": 83,
   "id": "8075e3c2-0d66-4def-aa13-423367f01e68",
   "metadata": {},
   "outputs": [],
   "source": [
    "# img_pil"
   ]
  },
  {
   "cell_type": "code",
   "execution_count": 65,
   "id": "527317f0-20f3-41d1-a5e2-feb612c508e3",
   "metadata": {},
   "outputs": [],
   "source": [
    "input_tensor = test_transform(img_pil).unsqueeze(0).to(device) # 预处理"
   ]
  },
  {
   "cell_type": "code",
   "execution_count": 66,
   "id": "5f36c50a-2a17-4f70-9381-a21e339b2e9f",
   "metadata": {},
   "outputs": [
    {
     "data": {
      "text/plain": [
       "torch.Size([1, 3, 512, 768])"
      ]
     },
     "execution_count": 66,
     "metadata": {},
     "output_type": "execute_result"
    }
   ],
   "source": [
    "input_tensor.shape"
   ]
  },
  {
   "cell_type": "markdown",
   "id": "04257e28-58b5-4805-8b8d-86d23000b355",
   "metadata": {},
   "source": [
    "input_tensor 可以在 batch 维度有多张图片"
   ]
  },
  {
   "cell_type": "markdown",
   "id": "4566250c-63af-4d1a-8639-0ab09a87fef6",
   "metadata": {},
   "source": [
    "## 指定分析的类别"
   ]
  },
  {
   "cell_type": "code",
   "execution_count": 67,
   "id": "f6185999-04fa-4538-a80d-dba5765071b0",
   "metadata": {},
   "outputs": [],
   "source": [
    "# 如果 targets 为 None，则默认为最高置信度类别\n",
    "targets = [ClassifierOutputTarget(232)]"
   ]
  },
  {
   "cell_type": "markdown",
   "id": "093757bd-c361-42db-80ef-1e8d97a05c69",
   "metadata": {},
   "source": [
    "281 虎斑猫\n",
    "\n",
    "232 边牧犬"
   ]
  },
  {
   "cell_type": "markdown",
   "id": "7e0f346c-4126-4b84-8bf5-562ea76ef5d8",
   "metadata": {},
   "source": [
    "## 分析模型结构，确定待分析的层"
   ]
  },
  {
   "cell_type": "code",
   "execution_count": 68,
   "id": "7fb559b3-0e9d-48cc-a66d-037eef9eaa7a",
   "metadata": {},
   "outputs": [],
   "source": [
    "# model"
   ]
  },
  {
   "cell_type": "code",
   "execution_count": 69,
   "id": "f76b66c8-e3ad-421c-a2f3-a2dabc7b3436",
   "metadata": {},
   "outputs": [
    {
     "data": {
      "text/plain": [
       "Bottleneck(\n",
       "  (conv1): Conv2d(2048, 512, kernel_size=(1, 1), stride=(1, 1), bias=False)\n",
       "  (bn1): BatchNorm2d(512, eps=1e-05, momentum=0.1, affine=True, track_running_stats=True)\n",
       "  (conv2): Conv2d(512, 512, kernel_size=(3, 3), stride=(1, 1), padding=(1, 1), bias=False)\n",
       "  (bn2): BatchNorm2d(512, eps=1e-05, momentum=0.1, affine=True, track_running_stats=True)\n",
       "  (conv3): Conv2d(512, 2048, kernel_size=(1, 1), stride=(1, 1), bias=False)\n",
       "  (bn3): BatchNorm2d(2048, eps=1e-05, momentum=0.1, affine=True, track_running_stats=True)\n",
       "  (relu): ReLU(inplace=True)\n",
       ")"
      ]
     },
     "execution_count": 69,
     "metadata": {},
     "output_type": "execute_result"
    }
   ],
   "source": [
    "model.layer4[-1]"
   ]
  },
  {
   "cell_type": "code",
   "execution_count": 70,
   "id": "3d0516cb-fc20-4f44-9cef-40e2b2e720ed",
   "metadata": {},
   "outputs": [
    {
     "data": {
      "text/plain": [
       "Bottleneck(\n",
       "  (conv1): Conv2d(64, 64, kernel_size=(1, 1), stride=(1, 1), bias=False)\n",
       "  (bn1): BatchNorm2d(64, eps=1e-05, momentum=0.1, affine=True, track_running_stats=True)\n",
       "  (conv2): Conv2d(64, 64, kernel_size=(3, 3), stride=(1, 1), padding=(1, 1), bias=False)\n",
       "  (bn2): BatchNorm2d(64, eps=1e-05, momentum=0.1, affine=True, track_running_stats=True)\n",
       "  (conv3): Conv2d(64, 256, kernel_size=(1, 1), stride=(1, 1), bias=False)\n",
       "  (bn3): BatchNorm2d(256, eps=1e-05, momentum=0.1, affine=True, track_running_stats=True)\n",
       "  (relu): ReLU(inplace=True)\n",
       "  (downsample): Sequential(\n",
       "    (0): Conv2d(64, 256, kernel_size=(1, 1), stride=(1, 1), bias=False)\n",
       "    (1): BatchNorm2d(256, eps=1e-05, momentum=0.1, affine=True, track_running_stats=True)\n",
       "  )\n",
       ")"
      ]
     },
     "execution_count": 70,
     "metadata": {},
     "output_type": "execute_result"
    }
   ],
   "source": [
    "model.layer1[0]"
   ]
  },
  {
   "cell_type": "markdown",
   "id": "17fee47e-b497-402c-bcd0-982fef762b6b",
   "metadata": {},
   "source": [
    "## 选择可解释性分析方法（任选一个）"
   ]
  },
  {
   "cell_type": "code",
   "execution_count": 71,
   "id": "042f6658-4ec1-42e2-bc6f-991b979553b4",
   "metadata": {},
   "outputs": [],
   "source": [
    "from pytorch_grad_cam import GradCAM, HiResCAM, GradCAMElementWise, GradCAMPlusPlus, XGradCAM, AblationCAM, ScoreCAM, EigenCAM, EigenGradCAM, LayerCAM, FullGrad\n"
   ]
  },
  {
   "cell_type": "code",
   "execution_count": 72,
   "id": "4dd4a9e2-8273-4034-a0df-85168e9f33d8",
   "metadata": {},
   "outputs": [],
   "source": [
    "# Grad-CAM\n",
    "from pytorch_grad_cam import GradCAM\n",
    "target_layers = [model.layer4[-1]]\n",
    "cam = GradCAM(model=model, target_layers=target_layers, use_cuda=True)"
   ]
  },
  {
   "cell_type": "code",
   "execution_count": 73,
   "id": "fa2c8688-531b-4f3a-93a9-706d9083180a",
   "metadata": {},
   "outputs": [],
   "source": [
    "# # Grad-CAM++\n",
    "# from pytorch_grad_cam import GradCAMPlusPlus\n",
    "# target_layers = [model.layer4[-1]]\n",
    "# cam = GradCAMPlusPlus(model=model, target_layers=target_layers, use_cuda=True)"
   ]
  },
  {
   "cell_type": "markdown",
   "id": "a9f92cfa-8c02-4c1a-9919-044873c24ef4",
   "metadata": {},
   "source": [
    "## 生成CAM热力图"
   ]
  },
  {
   "cell_type": "code",
   "execution_count": 74,
   "id": "e0bdfcd0-ca18-4b64-a559-b35da647525e",
   "metadata": {},
   "outputs": [],
   "source": [
    "cam_map = cam(input_tensor=input_tensor, targets=targets)[0] # 不加平滑\n",
    "# cam_map = cam(input_tensor=input_tensor, targets=targets, aug_smooth=True, eigen_smooth=True)[0] # 加平滑"
   ]
  },
  {
   "cell_type": "code",
   "execution_count": 75,
   "id": "45275302-911d-4426-b833-271f392ebd3c",
   "metadata": {},
   "outputs": [],
   "source": [
    "# 也可以这么写\n",
    "# with GradCAM(model=model, target_layers=target_layers, use_cuda=True) as cam:\n",
    "#     cam_map = cam(input_tensor=input_tensor, targets=targets, aug_smooth=True, eigen_smooth=True)[0]"
   ]
  },
  {
   "cell_type": "markdown",
   "id": "ea60e867-842a-4996-aeaa-138ecfe9d37e",
   "metadata": {},
   "source": [
    "## 可视化CAM热力图"
   ]
  },
  {
   "cell_type": "code",
   "execution_count": 76,
   "id": "faeab031-8fd4-47f6-b8e7-5d2ed1e35801",
   "metadata": {},
   "outputs": [
    {
     "data": {
      "text/plain": [
       "(512, 768)"
      ]
     },
     "execution_count": 76,
     "metadata": {},
     "output_type": "execute_result"
    }
   ],
   "source": [
    "cam_map.shape"
   ]
  },
  {
   "cell_type": "code",
   "execution_count": 77,
   "id": "92832b46-c415-4017-ae1c-1d72809c2dcf",
   "metadata": {},
   "outputs": [
    {
     "data": {
      "image/png": "[encoded data removed]",
      "text/plain": [
       "<Figure size 432x288 with 1 Axes>"
      ]
     },
     "metadata": {
      "needs_background": "light"
     },
     "output_type": "display_data"
    }
   ],
   "source": [
    "plt.imshow(cam_map)\n",
    "plt.show()"
   ]
  },
  {
   "cell_type": "code",
   "execution_count": 78,
   "id": "0fa25b22-3e21-43a9-834c-372bcd433821",
   "metadata": {},
   "outputs": [],
   "source": [
    "import torchcam\n",
    "from torchcam.utils import overlay_mask\n",
    "\n",
    "result = overlay_mask(img_pil, Image.fromarray(cam_map), alpha=0.6) # alpha越小，原图越淡"
   ]
  },
  {
   "cell_type": "code",
   "execution_count": 81,
   "id": "95cd659a-8122-49b1-8323-d00351d6ac97",
   "metadata": {},
   "outputs": [],
   "source": [
    "# result"
   ]
  },
  {
   "cell_type": "code",
   "execution_count": 80,
   "id": "b0d13f14-183d-40b6-8202-d0f06887643d",
   "metadata": {},
   "outputs": [],
   "source": [
    "result.save('output/B1.jpg')"
   ]
  },
  {
   "cell_type": "code",
   "execution_count": null,
   "id": "dfba6390-cbb9-40a6-ac54-08ca80158efe",
   "metadata": {},
   "outputs": [],
   "source": []
  },
  {
   "cell_type": "code",
   "execution_count": null,
   "id": "2ffed9a8-c763-4f83-b3d2-b4e307d559a8",
   "metadata": {},
   "outputs": [],
   "source": []
  }
 ],
 "metadata": {
  "kernelspec": {
   "display_name": "Python 3 (ipykernel)",
   "language": "python",
   "name": "python3"
  },
  "language_info": {
   "codemirror_mode": {
    "name": "ipython",
    "version": 3
   },
   "file_extension": ".py",
   "mimetype": "text/x-python",
   "name": "python",
   "nbconvert_exporter": "python",
   "pygments_lexer": "ipython3",
   "version": "3.7.10"
  }
 },
 "nbformat": 4,
 "nbformat_minor": 5
}

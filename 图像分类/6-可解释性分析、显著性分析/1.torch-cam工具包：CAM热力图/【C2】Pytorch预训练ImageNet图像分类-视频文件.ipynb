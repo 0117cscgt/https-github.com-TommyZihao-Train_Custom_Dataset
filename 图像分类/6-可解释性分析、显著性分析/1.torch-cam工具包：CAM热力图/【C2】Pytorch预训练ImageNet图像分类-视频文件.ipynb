{
 "cells": [
  {
   "cell_type": "markdown",
   "id": "e3265255-2fbf-4bfe-847b-cfd7c6197107",
   "metadata": {},
   "source": [
    "# Pytorch预训练ImageNet-1000图像分类-视频文件\n",
    "\n",
    "通过Python API方式，使用torchcam算法库，对Pytorch预训练ImageNet-1000图像分类模型进行基于CAM的可解释性分析。\n",
    "\n",
    "同济子豪兄 https://space.bilibili.com/1900783\n",
    "\n",
    "代码运行云GPU平台：https://featurize.cn/?s=d7ce99f842414bfcaea5662a97581bd1\n",
    "\n",
    "2022-8-19"
   ]
  },
  {
   "cell_type": "markdown",
   "id": "dbcd1eb3-8146-4f36-acf4-0e6fb68c47ca",
   "metadata": {},
   "source": [
    "## 导入工具包"
   ]
  },
  {
   "cell_type": "code",
   "execution_count": 1,
   "id": "a344d4d0-da96-44de-ac73-4e5fa539e8c1",
   "metadata": {},
   "outputs": [
    {
     "name": "stdout",
     "output_type": "stream",
     "text": [
      "device cuda:0\n"
     ]
    }
   ],
   "source": [
    "import os\n",
    "import time\n",
    "import shutil\n",
    "import tempfile\n",
    "from tqdm import tqdm\n",
    "import gc\n",
    "\n",
    "import matplotlib.pyplot as plt\n",
    "%matplotlib inline\n",
    "\n",
    "import cv2\n",
    "from PIL import Image\n",
    "import mmcv\n",
    "\n",
    "import torch\n",
    "from torchcam.utils import overlay_mask\n",
    "# 有 GPU 就用 GPU，没有就用 CPU\n",
    "device = torch.device('cuda:0' if torch.cuda.is_available() else 'cpu')\n",
    "print('device', device)"
   ]
  },
  {
   "cell_type": "markdown",
   "id": "f98b1834-98fa-424c-b082-64009cb5f7eb",
   "metadata": {},
   "source": [
    "## 导入pillow中文字体"
   ]
  },
  {
   "cell_type": "code",
   "execution_count": 2,
   "id": "41442956-98b9-4438-81db-4609c7b18b7a",
   "metadata": {},
   "outputs": [],
   "source": [
    "from PIL import ImageFont, ImageDraw\n",
    "# 导入中文字体，指定字体大小\n",
    "font = ImageFont.truetype('SimHei.ttf', 50)"
   ]
  },
  {
   "cell_type": "markdown",
   "id": "b1175bb8-b928-4314-b039-aff3fdb15bf8",
   "metadata": {},
   "source": [
    "## 导入ImageNet预训练模型"
   ]
  },
  {
   "cell_type": "code",
   "execution_count": 3,
   "id": "1fd0d0e9-8228-4656-bdab-353633f328ab",
   "metadata": {},
   "outputs": [],
   "source": [
    "from torchvision.models import resnet18\n",
    "model = resnet18(pretrained=True).eval().to(device)"
   ]
  },
  {
   "cell_type": "markdown",
   "id": "bc93ebc1-402e-44c6-b9db-7ee4bf90ff02",
   "metadata": {},
   "source": [
    "## 载入ImageNet 1000图像分类标签\n",
    "\n",
    "ImageNet 1000类别中文释义：https://github.com/ningbonb/imagenet_classes_chinese"
   ]
  },
  {
   "cell_type": "code",
   "execution_count": 4,
   "id": "cf6b5c57-8df3-4c05-94ef-98efc0106d9a",
   "metadata": {},
   "outputs": [],
   "source": [
    "import pandas as pd\n",
    "df = pd.read_csv('imagenet_class_index.csv')\n",
    "idx_to_labels = {}\n",
    "idx_to_labels_cn = {}\n",
    "for idx, row in df.iterrows():\n",
    "    idx_to_labels[row['ID']] = row['class']\n",
    "    idx_to_labels_cn[row['ID']] = row['Chinese']"
   ]
  },
  {
   "cell_type": "markdown",
   "id": "e191ce88-a95d-4bba-8244-cd93b177eb49",
   "metadata": {},
   "source": [
    "## 导入可解释性分析方法"
   ]
  },
  {
   "cell_type": "code",
   "execution_count": 5,
   "id": "23ada875-b1e9-44f7-aed9-ee731bb4151c",
   "metadata": {},
   "outputs": [
    {
     "name": "stderr",
     "output_type": "stream",
     "text": [
      "WARNING:root:no value was provided for `target_layer`, thus set to 'layer4'.\n"
     ]
    }
   ],
   "source": [
    "from torchcam.methods import SmoothGradCAMpp \n",
    "# CAM GradCAM GradCAMpp ISCAM LayerCAM SSCAM ScoreCAM SmoothGradCAMpp XGradCAM\n",
    "\n",
    "cam_extractor = SmoothGradCAMpp(model)"
   ]
  },
  {
   "cell_type": "markdown",
   "id": "1f789da5-98d8-4d50-8844-21fa25ad9fef",
   "metadata": {},
   "source": [
    "## 预处理"
   ]
  },
  {
   "cell_type": "code",
   "execution_count": 6,
   "id": "10b9f054-79bc-4560-a43d-8c34d4869945",
   "metadata": {},
   "outputs": [],
   "source": [
    "from torchvision import transforms\n",
    "# 测试集图像预处理-RCTN：缩放、裁剪、转 Tensor、归一化\n",
    "test_transform = transforms.Compose([transforms.Resize(256),\n",
    "                                     transforms.CenterCrop(224),\n",
    "                                     transforms.ToTensor(),\n",
    "                                     transforms.Normalize(\n",
    "                                         mean=[0.485, 0.456, 0.406], \n",
    "                                         std=[0.229, 0.224, 0.225])\n",
    "                                    ])"
   ]
  },
  {
   "cell_type": "markdown",
   "id": "628407f7-b824-4d8d-b681-fd9d44e2b30d",
   "metadata": {},
   "source": [
    "## 图像分类预测函数"
   ]
  },
  {
   "cell_type": "code",
   "execution_count": 7,
   "id": "c13a8c74-022b-43aa-8fe6-dbaa7015e1bb",
   "metadata": {},
   "outputs": [],
   "source": [
    "def pred_single_frame(img, show_class_id=None, Chinese=True):\n",
    "    '''\n",
    "    输入摄像头画面bgr-array和用于绘制热力图的类别ID，输出写字的热力图PIL-Image\n",
    "    如果不指定类别ID，则为置信度最高的预测类别ID\n",
    "    '''\n",
    "    \n",
    "    img_bgr = img\n",
    "    img_rgb = cv2.cvtColor(img, cv2.COLOR_BGR2RGB) # BGR 转 RGB\n",
    "    img_pil = Image.fromarray(img_rgb) # array 转 pil\n",
    "    input_tensor = test_transform(img_pil).unsqueeze(0).to(device) # 预处理\n",
    "    pred_logits = model(input_tensor) # 执行前向预测，得到所有类别的 logit 预测分数\n",
    "    pred_top1 = torch.topk(pred_logits, 1)\n",
    "    pred_id = pred_top1[1].detach().cpu().numpy().squeeze().item()\n",
    "    \n",
    "    # 可视化热力图的类别ID，如果为 None，则为置信度最高的预测类别ID\n",
    "    if show_class_id:\n",
    "        show_id = show_class_id\n",
    "    else:\n",
    "        show_id = pred_id\n",
    "        show_class_id = pred_id\n",
    "        \n",
    "    # 生成可解释性分析热力图\n",
    "    activation_map = cam_extractor(show_id, pred_logits)\n",
    "    activation_map = activation_map[0][0].detach().cpu().numpy()\n",
    "    result = overlay_mask(img_pil, Image.fromarray(activation_map), alpha=0.7)\n",
    "    \n",
    "    # 在图像上写字\n",
    "    draw = ImageDraw.Draw(result)\n",
    "    \n",
    "    if Chinese:\n",
    "        # 在图像上写中文\n",
    "        text_pred = 'Pred Class: {}'.format(idx_to_labels_cn[pred_id])\n",
    "        text_show = 'Show Class: {}'.format(idx_to_labels_cn[show_class_id])\n",
    "    else:\n",
    "        # 在图像上写英文\n",
    "        text_pred = 'Pred Class: {}'.format(idx_to_labels[pred_id])\n",
    "        text_show = 'Show Class: {}'.format(idx_to_labels[show_class_id])\n",
    "    # 文字坐标，中文字符串，字体，rgba颜色\n",
    "    draw.text((50, 100), text_pred, font=font, fill=(255, 0, 0, 1))\n",
    "    draw.text((50, 200), text_show, font=font, fill=(255, 0, 0, 1))\n",
    "        \n",
    "    return result"
   ]
  },
  {
   "cell_type": "markdown",
   "id": "ffaf74e1-a369-4806-80c9-b2564ed31e6b",
   "metadata": {},
   "source": [
    "## 视频预测"
   ]
  },
  {
   "cell_type": "markdown",
   "id": "e9f86586-915d-4d29-b21c-0eed173532b5",
   "metadata": {},
   "source": [
    "### 输入输出视频路径"
   ]
  },
  {
   "cell_type": "code",
   "execution_count": 8,
   "id": "a0ae61f8-23ec-4f99-8951-ebc1522280b7",
   "metadata": {},
   "outputs": [],
   "source": [
    "input_video = 'test_img/room_video.mp4'"
   ]
  },
  {
   "cell_type": "markdown",
   "id": "fc5d1991-8166-4304-9ac7-17e33928e638",
   "metadata": {},
   "source": [
    "### 创建临时文件夹"
   ]
  },
  {
   "cell_type": "code",
   "execution_count": 9,
   "id": "9d92a9e1-040d-4c4b-881d-f16053086db0",
   "metadata": {},
   "outputs": [
    {
     "name": "stdout",
     "output_type": "stream",
     "text": [
      "创建文件夹 20220920213420 用于存放每帧预测结果\n"
     ]
    }
   ],
   "source": [
    "# 创建临时文件夹，存放每帧结果\n",
    "temp_out_dir = time.strftime('%Y%m%d%H%M%S')\n",
    "os.mkdir(temp_out_dir)\n",
    "print('创建文件夹 {} 用于存放每帧预测结果'.format(temp_out_dir))"
   ]
  },
  {
   "cell_type": "markdown",
   "id": "274384d0-dc24-491f-ae6f-01f6e44ab009",
   "metadata": {},
   "source": [
    "### 视频逐帧预测"
   ]
  },
  {
   "cell_type": "code",
   "execution_count": 10,
   "id": "4b53cf47-d1eb-4b77-97bd-8ce01dc3cbc4",
   "metadata": {},
   "outputs": [
    {
     "name": "stdout",
     "output_type": "stream",
     "text": [
      "[>>>>>>>>>>>>>>>>>>>>>>>>>>>>>>] 201/201, 37.9 task/s, elapsed: 5s, ETA:     0s[                                                  ] 0/201, elapsed: 0s, ETA:\n",
      "删除临时文件夹 20220920213420\n"
     ]
    }
   ],
   "source": [
    "# 读入待预测视频\n",
    "imgs = mmcv.VideoReader(input_video)\n",
    "\n",
    "prog_bar = mmcv.ProgressBar(len(imgs))\n",
    "\n",
    "# 对视频逐帧处理\n",
    "for frame_id, img in enumerate(imgs):\n",
    "    \n",
    "    ## 处理单帧画面\n",
    "    img = pred_single_frame(img, show_class_id=None)\n",
    "    # 将处理后的该帧画面图像文件，保存至 /tmp 目录下\n",
    "    img.save(f'{temp_out_dir}/{frame_id:06d}.jpg', \"BMP\")\n",
    "    \n",
    "    prog_bar.update() # 更新进度条\n",
    "\n",
    "# 把每一帧串成视频文件\n",
    "mmcv.frames2video(temp_out_dir, 'output/output_pred.mp4', fps=imgs.fps, fourcc='mp4v')\n",
    "\n",
    "shutil.rmtree(temp_out_dir) # 删除存放每帧画面的临时文件夹\n",
    "print('删除临时文件夹', temp_out_dir)"
   ]
  },
  {
   "cell_type": "code",
   "execution_count": null,
   "id": "16d158de-2961-46f5-88aa-ff9e27d62224",
   "metadata": {},
   "outputs": [],
   "source": []
  }
 ],
 "metadata": {
  "kernelspec": {
   "display_name": "Python 3 (ipykernel)",
   "language": "python",
   "name": "python3"
  },
  "language_info": {
   "codemirror_mode": {
    "name": "ipython",
    "version": 3
   },
   "file_extension": ".py",
   "mimetype": "text/x-python",
   "name": "python",
   "nbconvert_exporter": "python",
   "pygments_lexer": "ipython3",
   "version": "3.7.10"
  }
 },
 "nbformat": 4,
 "nbformat_minor": 5
}

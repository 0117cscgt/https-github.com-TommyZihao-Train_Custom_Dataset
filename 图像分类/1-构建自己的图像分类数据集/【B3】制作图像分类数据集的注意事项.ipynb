{
 "cells": [
  {
   "cell_type": "markdown",
   "id": "a59772a4-7398-4b67-9599-65b9f8a17e11",
   "metadata": {},
   "source": [
    "# 制作图像分类数据集的注意事项\n",
    "\n",
    "同济子豪兄 https://space.bilibili.com/1900783\n",
    "\n",
    "2022-8-1"
   ]
  },
  {
   "cell_type": "markdown",
   "id": "b403566c-fabe-4b47-a7ed-7c8cce5c551c",
   "metadata": {},
   "source": [
    "## 删除无关图片"
   ]
  },
  {
   "cell_type": "markdown",
   "id": "1abbad10-237e-4512-995d-c3261ad65b7f",
   "metadata": {},
   "source": [
    "## 类别均衡"
   ]
  },
  {
   "cell_type": "markdown",
   "id": "f038fbd1-7592-445c-bed1-80ae9932c092",
   "metadata": {},
   "source": [
    "## 多样性、代表性、一致性\n",
    "\n",
    "数据集应尽可能包括目标物体的各类场景，训练出的图像分类模型才能在各类测试场景中具备好的泛化性能，防止过拟合。\n",
    "\n",
    "```\n",
    "不同尺寸、比例的图像\n",
    "\n",
    "不同拍摄环境（光照、设备、拍摄角度、遮挡、远近、大小）\n",
    "\n",
    "不同形态（完整西瓜、切瓣西瓜、切块西瓜）\n",
    "\n",
    "不同部位（全瓜、瓜皮、瓜瓤、瓜子）\n",
    "\n",
    "不同时期（瓜秧、小瓜、大瓜）\n",
    "\n",
    "不同背景（人物、菜地、抠图）\n",
    "\n",
    "不同图像域（照片、漫画、剪贴画、油画）\n",
    "\n",
    "```\n",
    "\n",
    "如果训练集的图像分布与测试集（或真实测试场景）的图像分布不一致，会出现OOD（Out-Of-Distribution）问题。\n",
    "\n",
    "我们工作室的小伙伴[tennant123](https://space.bilibili.com/12270504)在 ECCV 2022 举办了一场 Workshop: 计算机视觉中的OOD泛化\n",
    "\n",
    "详细信息见 https://zhuanlan.zhihu.com/p/526185478"
   ]
  },
  {
   "cell_type": "markdown",
   "id": "9d491127-ed19-417c-8e16-4695aac6c1b5",
   "metadata": {},
   "source": [
    "## 删除系统自动生成的多余文件和文件夹（见【B4】代码）"
   ]
  },
  {
   "cell_type": "markdown",
   "id": "831a4a39-41ff-4a4f-8a6e-dd40d9a08142",
   "metadata": {
    "tags": []
   },
   "source": [
    "## 删除gif文件（见【B4】代码）"
   ]
  },
  {
   "cell_type": "code",
   "execution_count": null,
   "id": "ded97273-1fa1-4561-9b9a-377cc4cb3cd4",
   "metadata": {},
   "outputs": [],
   "source": []
  }
 ],
 "metadata": {
  "kernelspec": {
   "display_name": "Python 3 (ipykernel)",
   "language": "python",
   "name": "python3"
  },
  "language_info": {
   "codemirror_mode": {
    "name": "ipython",
    "version": 3
   },
   "file_extension": ".py",
   "mimetype": "text/x-python",
   "name": "python",
   "nbconvert_exporter": "python",
   "pygments_lexer": "ipython3",
   "version": "3.7.10"
  }
 },
 "nbformat": 4,
 "nbformat_minor": 5
}

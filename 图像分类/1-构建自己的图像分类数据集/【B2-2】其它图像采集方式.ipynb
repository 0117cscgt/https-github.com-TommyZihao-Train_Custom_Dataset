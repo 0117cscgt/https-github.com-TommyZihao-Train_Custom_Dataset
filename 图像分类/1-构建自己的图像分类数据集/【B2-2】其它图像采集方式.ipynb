{
 "cells": [
  {
   "cell_type": "markdown",
   "id": "44724b1a-2a08-468b-811c-f40eb0eac7bb",
   "metadata": {},
   "source": [
    "# 其它图像采集方式\n",
    "\n",
    "https://github.com/QianyanTech/Image-Downloader\n",
    "\n",
    "https://github.com/gurugaurav/bing_image_downloader\n",
    "\n",
    "注意：谷歌和必应图片有版权保护和反爬策略，批量爬取下来的图片多带水印。\n",
    "\n",
    "实在不行的话，手动右键另存为吧~"
   ]
  },
  {
   "cell_type": "code",
   "execution_count": null,
   "id": "6ea49b86-f95d-4a75-a358-f98b8357216d",
   "metadata": {},
   "outputs": [],
   "source": []
  }
 ],
 "metadata": {
  "kernelspec": {
   "display_name": "Python 3 (ipykernel)",
   "language": "python",
   "name": "python3"
  },
  "language_info": {
   "codemirror_mode": {
    "name": "ipython",
    "version": 3
   },
   "file_extension": ".py",
   "mimetype": "text/x-python",
   "name": "python",
   "nbconvert_exporter": "python",
   "pygments_lexer": "ipython3",
   "version": "3.7.10"
  }
 },
 "nbformat": 4,
 "nbformat_minor": 5
}

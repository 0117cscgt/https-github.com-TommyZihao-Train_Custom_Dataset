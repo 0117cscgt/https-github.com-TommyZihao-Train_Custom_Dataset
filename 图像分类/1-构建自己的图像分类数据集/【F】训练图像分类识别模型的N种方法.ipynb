{
 "cells": [
  {
   "cell_type": "markdown",
   "id": "82d15311-0e7e-49f4-a665-a7771c84dac9",
   "metadata": {},
   "source": [
    "# 训练图像分类识别模型的N种方法\n",
    "\n",
    "同济子豪兄 https://space.bilibili.com/1900783\n",
    "\n",
    "代码：https://github.com/TommyZihao/Train_Custom_Dataset\n",
    "\n",
    "2022-8-2"
   ]
  },
  {
   "cell_type": "markdown",
   "id": "016dbf0a-f8e9-4ae5-a5c7-ed5587aea593",
   "metadata": {
    "tags": []
   },
   "source": [
    "## 不用写代码\n",
    "\n",
    "- 百度飞桨EasyDL\n",
    "\n",
    "主页：https://ai.baidu.com/easydl/\n",
    "\n",
    "教程：https://www.bilibili.com/video/BV1W44y1g7cB\n",
    "\n",
    "- 华为云ModelArts一站式AI开发平台\n",
    "\n",
    "主页：https://www.huaweicloud.com/product/modelarts.html\n",
    "\n",
    "教程：https://www.bilibili.com/video/BV1xT4y1c7TW\n",
    "\n",
    "## 要写代码\n",
    "\n",
    "- 原生Pytorch\n",
    "\n",
    "主页：https://pytorch.org/\n",
    "\n",
    "- OpenMMLab 之 MMClassification\n",
    "\n",
    "主页：https://github.com/open-mmlab/mmclassification\n",
    "\n",
    "- Fast.ai\n",
    "\n",
    "主页：https://www.fast.ai/\n",
    "\n",
    "- 原生Tensorflow和Keras"
   ]
  },
  {
   "cell_type": "code",
   "execution_count": null,
   "id": "4b8b013e-340f-4da0-8496-1e065f7995f0",
   "metadata": {},
   "outputs": [],
   "source": []
  }
 ],
 "metadata": {
  "kernelspec": {
   "display_name": "Python 3 (ipykernel)",
   "language": "python",
   "name": "python3"
  },
  "language_info": {
   "codemirror_mode": {
    "name": "ipython",
    "version": 3
   },
   "file_extension": ".py",
   "mimetype": "text/x-python",
   "name": "python",
   "nbconvert_exporter": "python",
   "pygments_lexer": "ipython3",
   "version": "3.7.10"
  }
 },
 "nbformat": 4,
 "nbformat_minor": 5
}

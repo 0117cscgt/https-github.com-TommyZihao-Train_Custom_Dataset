{
 "cells": [
  {
   "cell_type": "markdown",
   "id": "34bf3342-b63b-4bb6-9a38-db6b6d396dcb",
   "metadata": {},
   "source": [
    "# 统计图像尺寸、比例分布\n",
    "\n",
    "同济子豪兄 https://space.bilibili.com/1900783\n",
    "\n",
    "2022-8-1"
   ]
  },
  {
   "cell_type": "markdown",
   "id": "115e44be-7f62-48b9-b7b1-2bf440904df8",
   "metadata": {},
   "source": [
    "## 导入工具包"
   ]
  },
  {
   "cell_type": "code",
   "execution_count": 1,
   "id": "d11c29c9-de4f-45a0-bdef-2f727be2b469",
   "metadata": {},
   "outputs": [],
   "source": [
    "import os\n",
    "import numpy as np\n",
    "import pandas as pd\n",
    "import cv2\n",
    "from tqdm import tqdm\n",
    "\n",
    "import matplotlib.pyplot as plt\n",
    "%matplotlib inline"
   ]
  },
  {
   "cell_type": "markdown",
   "id": "df140610-cd22-4a2c-9a85-1559f32d8eb9",
   "metadata": {},
   "source": [
    "## 指定数据集路径"
   ]
  },
  {
   "cell_type": "code",
   "execution_count": 2,
   "id": "055e8a00-7726-4a0a-a002-5dc13c66dfaf",
   "metadata": {},
   "outputs": [
    {
     "data": {
      "text/plain": [
       "['莲雾',\n",
       " '黄桃',\n",
       " '圣女果',\n",
       " '芒果',\n",
       " '菠萝',\n",
       " '石榴',\n",
       " '桑葚',\n",
       " '沃柑',\n",
       " '山竹',\n",
       " '血橙',\n",
       " '人参果',\n",
       " '羊角蜜',\n",
       " '菠萝莓',\n",
       " '猕猴桃',\n",
       " '哈密瓜',\n",
       " '山楂',\n",
       " '黑莓',\n",
       " '沙棘',\n",
       " '柚子',\n",
       " '脐橙',\n",
       " '杨桃',\n",
       " '甘蔗',\n",
       " '车厘子',\n",
       " '杨梅',\n",
       " '蛇皮果',\n",
       " '西柚',\n",
       " '百香果',\n",
       " '牛油果',\n",
       " '无花果',\n",
       " '草莓',\n",
       " '白兰瓜',\n",
       " '椰子',\n",
       " '西瓜',\n",
       " '蓝莓',\n",
       " '桂圆',\n",
       " '佛手瓜',\n",
       " '葡萄-红',\n",
       " '毛丹',\n",
       " '酸角',\n",
       " '番石榴-红',\n",
       " '荔枝',\n",
       " '香橼',\n",
       " '香蕉',\n",
       " '水蜜桃',\n",
       " '柠檬',\n",
       " '甜瓜-白',\n",
       " '胡萝卜',\n",
       " '橘子',\n",
       " '白心火龙果',\n",
       " '梨',\n",
       " '蟠桃',\n",
       " '甜瓜-伊丽莎白',\n",
       " '葡萄-白',\n",
       " '杏',\n",
       " '砂糖橘',\n",
       " '芦柑',\n",
       " '樱桃',\n",
       " '枣',\n",
       " '榴莲',\n",
       " '粑粑柑',\n",
       " '枇杷',\n",
       " '西红柿',\n",
       " '甜瓜-金',\n",
       " '柿子',\n",
       " '菠萝蜜',\n",
       " '甜瓜-绿',\n",
       " '羊奶果',\n",
       " '油桃',\n",
       " '树莓',\n",
       " '西梅',\n",
       " '红心火龙果',\n",
       " '沙果',\n",
       " '青苹果',\n",
       " '番石榴-百',\n",
       " '白萝卜',\n",
       " '李子',\n",
       " '金桔',\n",
       " '红苹果',\n",
       " '青柠',\n",
       " '木瓜',\n",
       " '腰果']"
      ]
     },
     "execution_count": 2,
     "metadata": {},
     "output_type": "execute_result"
    }
   ],
   "source": [
    "# 指定数据集路径\n",
    "dataset_path = 'fruit81_full'\n",
    "os.chdir(dataset_path)\n",
    "os.listdir()"
   ]
  },
  {
   "cell_type": "code",
   "execution_count": 3,
   "id": "77beae62-7183-4780-83d6-bedaf85c3539",
   "metadata": {},
   "outputs": [
    {
     "name": "stderr",
     "output_type": "stream",
     "text": [
      "100%|██████████| 81/81 [01:35<00:00,  1.17s/it]\n"
     ]
    }
   ],
   "source": [
    "df = pd.DataFrame()\n",
    "for fruit in tqdm(os.listdir()): # 遍历每个类别    \n",
    "    os.chdir(fruit)\n",
    "    for file in os.listdir(): # 遍历每张图像\n",
    "        try:\n",
    "            img = cv2.imread(file)\n",
    "            df = df.append({'类别':fruit, '文件名':file, '图像宽':img.shape[1], '图像高':img.shape[0]}, ignore_index=True)\n",
    "        except:\n",
    "            print(os.path.join(fruit, file), '读取错误')\n",
    "    os.chdir('../')\n",
    "os.chdir('../')"
   ]
  },
  {
   "cell_type": "code",
   "execution_count": 4,
   "id": "b87e2069-ac01-4269-8346-bf2f54abd475",
   "metadata": {},
   "outputs": [
    {
     "data": {
      "text/html": [
       "<div>\n",
       "<style scoped>\n",
       "    .dataframe tbody tr th:only-of-type {\n",
       "        vertical-align: middle;\n",
       "    }\n",
       "\n",
       "    .dataframe tbody tr th {\n",
       "        vertical-align: top;\n",
       "    }\n",
       "\n",
       "    .dataframe thead th {\n",
       "        text-align: right;\n",
       "    }\n",
       "</style>\n",
       "<table border=\"1\" class=\"dataframe\">\n",
       "  <thead>\n",
       "    <tr style=\"text-align: right;\">\n",
       "      <th></th>\n",
       "      <th>类别</th>\n",
       "      <th>文件名</th>\n",
       "      <th>图像宽</th>\n",
       "      <th>图像高</th>\n",
       "    </tr>\n",
       "  </thead>\n",
       "  <tbody>\n",
       "    <tr>\n",
       "      <th>0</th>\n",
       "      <td>莲雾</td>\n",
       "      <td>63.jpg</td>\n",
       "      <td>500.0</td>\n",
       "      <td>281.0</td>\n",
       "    </tr>\n",
       "    <tr>\n",
       "      <th>1</th>\n",
       "      <td>莲雾</td>\n",
       "      <td>189.jpg</td>\n",
       "      <td>699.0</td>\n",
       "      <td>442.0</td>\n",
       "    </tr>\n",
       "    <tr>\n",
       "      <th>2</th>\n",
       "      <td>莲雾</td>\n",
       "      <td>77.jpg</td>\n",
       "      <td>375.0</td>\n",
       "      <td>500.0</td>\n",
       "    </tr>\n",
       "    <tr>\n",
       "      <th>3</th>\n",
       "      <td>莲雾</td>\n",
       "      <td>162.jpg</td>\n",
       "      <td>500.0</td>\n",
       "      <td>500.0</td>\n",
       "    </tr>\n",
       "    <tr>\n",
       "      <th>4</th>\n",
       "      <td>莲雾</td>\n",
       "      <td>176.jpg</td>\n",
       "      <td>550.0</td>\n",
       "      <td>324.0</td>\n",
       "    </tr>\n",
       "    <tr>\n",
       "      <th>...</th>\n",
       "      <td>...</td>\n",
       "      <td>...</td>\n",
       "      <td>...</td>\n",
       "      <td>...</td>\n",
       "    </tr>\n",
       "    <tr>\n",
       "      <th>14428</th>\n",
       "      <td>腰果</td>\n",
       "      <td>147.jpg</td>\n",
       "      <td>500.0</td>\n",
       "      <td>372.0</td>\n",
       "    </tr>\n",
       "    <tr>\n",
       "      <th>14429</th>\n",
       "      <td>腰果</td>\n",
       "      <td>52.jpg</td>\n",
       "      <td>500.0</td>\n",
       "      <td>500.0</td>\n",
       "    </tr>\n",
       "    <tr>\n",
       "      <th>14430</th>\n",
       "      <td>腰果</td>\n",
       "      <td>46.jpg</td>\n",
       "      <td>500.0</td>\n",
       "      <td>500.0</td>\n",
       "    </tr>\n",
       "    <tr>\n",
       "      <th>14431</th>\n",
       "      <td>腰果</td>\n",
       "      <td>190.jpg</td>\n",
       "      <td>600.0</td>\n",
       "      <td>400.0</td>\n",
       "    </tr>\n",
       "    <tr>\n",
       "      <th>14432</th>\n",
       "      <td>腰果</td>\n",
       "      <td>184.jpg</td>\n",
       "      <td>419.0</td>\n",
       "      <td>600.0</td>\n",
       "    </tr>\n",
       "  </tbody>\n",
       "</table>\n",
       "<p>14433 rows × 4 columns</p>\n",
       "</div>"
      ],
      "text/plain": [
       "       类别      文件名    图像宽    图像高\n",
       "0      莲雾   63.jpg  500.0  281.0\n",
       "1      莲雾  189.jpg  699.0  442.0\n",
       "2      莲雾   77.jpg  375.0  500.0\n",
       "3      莲雾  162.jpg  500.0  500.0\n",
       "4      莲雾  176.jpg  550.0  324.0\n",
       "...    ..      ...    ...    ...\n",
       "14428  腰果  147.jpg  500.0  372.0\n",
       "14429  腰果   52.jpg  500.0  500.0\n",
       "14430  腰果   46.jpg  500.0  500.0\n",
       "14431  腰果  190.jpg  600.0  400.0\n",
       "14432  腰果  184.jpg  419.0  600.0\n",
       "\n",
       "[14433 rows x 4 columns]"
      ]
     },
     "execution_count": 4,
     "metadata": {},
     "output_type": "execute_result"
    }
   ],
   "source": [
    "df"
   ]
  },
  {
   "cell_type": "markdown",
   "id": "ed352515-e77c-400c-a439-e8a4dd6f0ccd",
   "metadata": {},
   "source": [
    "## 可视化图像尺寸分布"
   ]
  },
  {
   "cell_type": "code",
   "execution_count": 7,
   "id": "36c57c33-87f5-4d12-ae13-4a8f9c11ee9c",
   "metadata": {},
   "outputs": [
    {
     "data": {
      "image/png": "[encoded data removed]",
      "text/plain": [
       "<Figure size 720x720 with 1 Axes>"
      ]
     },
     "metadata": {
      "needs_background": "light"
     },
     "output_type": "display_data"
    }
   ],
   "source": [
    "from scipy.stats import gaussian_kde\n",
    "from matplotlib.colors import LogNorm\n",
    "\n",
    "x = df['图像宽']\n",
    "y = df['图像高']\n",
    "\n",
    "xy = np.vstack([x,y])\n",
    "z = gaussian_kde(xy)(xy)\n",
    "\n",
    "# Sort the points by density, so that the densest points are plotted last\n",
    "idx = z.argsort()\n",
    "x, y, z = x[idx], y[idx], z[idx]\n",
    "\n",
    "plt.figure(figsize=(10,10))\n",
    "# plt.figure(figsize=(12,12))\n",
    "plt.scatter(x, y, c=z,  s=5, cmap='Spectral_r')\n",
    "# plt.colorbar()\n",
    "# plt.xticks([])\n",
    "# plt.yticks([])\n",
    "\n",
    "plt.tick_params(labelsize=15)\n",
    "\n",
    "xy_max = max(max(df['图像宽']), max(df['图像高']))\n",
    "plt.xlim(xmin=0, xmax=xy_max)\n",
    "plt.ylim(ymin=0, ymax=xy_max)\n",
    "\n",
    "plt.ylabel('height', fontsize=25)\n",
    "plt.xlabel('width', fontsize=25)\n",
    "\n",
    "plt.savefig('图像尺寸分布.pdf', dpi=120, bbox_inches='tight')\n",
    "\n",
    "plt.show()"
   ]
  },
  {
   "cell_type": "code",
   "execution_count": null,
   "id": "6d9e1800-5edb-4af8-930d-e43863686daa",
   "metadata": {},
   "outputs": [],
   "source": []
  }
 ],
 "metadata": {
  "kernelspec": {
   "display_name": "Python 3 (ipykernel)",
   "language": "python",
   "name": "python3"
  },
  "language_info": {
   "codemirror_mode": {
    "name": "ipython",
    "version": 3
   },
   "file_extension": ".py",
   "mimetype": "text/x-python",
   "name": "python",
   "nbconvert_exporter": "python",
   "pygments_lexer": "ipython3",
   "version": "3.7.10"
  }
 },
 "nbformat": 4,
 "nbformat_minor": 5
}

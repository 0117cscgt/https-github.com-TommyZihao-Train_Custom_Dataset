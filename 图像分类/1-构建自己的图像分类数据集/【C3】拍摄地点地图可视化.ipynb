{
 "cells": [
  {
   "cell_type": "markdown",
   "id": "98042635-67ef-4cb5-b02a-313756c2ddcc",
   "metadata": {},
   "source": [
    "# 拍摄地点地图可视化\n",
    "\n",
    "同济子豪兄 视频教程：https://www.bilibili.com/video/BV1m3411A786\n",
    "\n",
    "注：这个功能适用于包含EXIF地理位置信息的图像文件（例如手机或单反相机拍摄的照片文件），不适用于网络爬取图片。"
   ]
  },
  {
   "cell_type": "code",
   "execution_count": null,
   "id": "07f9fd8e-598e-4a29-acea-3b98d67b4e96",
   "metadata": {},
   "outputs": [],
   "source": []
  }
 ],
 "metadata": {
  "kernelspec": {
   "display_name": "Python 3 (ipykernel)",
   "language": "python",
   "name": "python3"
  },
  "language_info": {
   "codemirror_mode": {
    "name": "ipython",
    "version": 3
   },
   "file_extension": ".py",
   "mimetype": "text/x-python",
   "name": "python",
   "nbconvert_exporter": "python",
   "pygments_lexer": "ipython3",
   "version": "3.7.10"
  }
 },
 "nbformat": 4,
 "nbformat_minor": 5
}

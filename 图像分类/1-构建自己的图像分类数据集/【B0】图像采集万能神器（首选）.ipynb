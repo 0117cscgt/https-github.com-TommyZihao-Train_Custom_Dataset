{
 "cells": [
  {
   "cell_type": "markdown",
   "id": "44724b1a-2a08-468b-811c-f40eb0eac7bb",
   "metadata": {},
   "source": [
    "# 图像采集万能神器\n",
    "\n",
    "强烈推荐：https://github.com/QianyanTech/Image-Downloader\n",
    "\n",
    "https://github.com/gurugaurav/bing_image_downloader"
   ]
  },
  {
   "cell_type": "code",
   "execution_count": null,
   "id": "6ea49b86-f95d-4a75-a358-f98b8357216d",
   "metadata": {},
   "outputs": [],
   "source": []
  }
 ],
 "metadata": {
  "kernelspec": {
   "display_name": "Python 3 (ipykernel)",
   "language": "python",
   "name": "python3"
  },
  "language_info": {
   "codemirror_mode": {
    "name": "ipython",
    "version": 3
   },
   "file_extension": ".py",
   "mimetype": "text/x-python",
   "name": "python",
   "nbconvert_exporter": "python",
   "pygments_lexer": "ipython3",
   "version": "3.7.10"
  }
 },
 "nbformat": 4,
 "nbformat_minor": 5
}

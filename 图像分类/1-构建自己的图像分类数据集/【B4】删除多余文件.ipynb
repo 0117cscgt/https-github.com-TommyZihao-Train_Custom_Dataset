{
 "cells": [
  {
   "cell_type": "markdown",
   "id": "a59772a4-7398-4b67-9599-65b9f8a17e11",
   "metadata": {},
   "source": [
    "# 删除多余文件\n",
    "\n",
    "同济子豪兄 https://space.bilibili.com/1900783\n",
    "\n",
    "2022-8-1"
   ]
  },
  {
   "cell_type": "markdown",
   "id": "185dec06-1393-4d41-b1a2-25080381e7bf",
   "metadata": {},
   "source": [
    "## 导入工具包"
   ]
  },
  {
   "cell_type": "code",
   "execution_count": 14,
   "id": "60e25bcc-d14e-4393-89d3-0c01d228e02d",
   "metadata": {},
   "outputs": [],
   "source": [
    "import os\n",
    "import cv2\n",
    "from tqdm import tqdm"
   ]
  },
  {
   "cell_type": "markdown",
   "id": "9d037d57-2676-46d0-8d93-cd0be7c3005c",
   "metadata": {},
   "source": [
    "## 准备样例数据集"
   ]
  },
  {
   "cell_type": "code",
   "execution_count": 27,
   "id": "380ea21d-89be-43dd-a98a-b16262ea6392",
   "metadata": {},
   "outputs": [
    {
     "name": "stdout",
     "output_type": "stream",
     "text": [
      "--2022-08-02 12:57:00--  https://zihao-openmmlab.obs.cn-east-3.myhuaweicloud.com/20220716-mmclassification/dataset/dataset_delete_test.zip\n",
      "Connecting to 172.16.0.13:5848... connected.\n",
      "Proxy request sent, awaiting response... 200 OK\n",
      "Length: 29954078 (29M) [application/zip]\n",
      "Saving to: ‘dataset_delete_test.zip’\n",
      "\n",
      "dataset_delete_test 100%[===================>]  28.57M  38.5MB/s    in 0.7s    \n",
      "\n",
      "2022-08-02 12:57:05 (38.5 MB/s) - ‘dataset_delete_test.zip’ saved [29954078/29954078]\n",
      "\n"
     ]
    }
   ],
   "source": [
    "# 下载测试数据集压缩包\n",
    "!wget https://zihao-openmmlab.obs.cn-east-3.myhuaweicloud.com/20220716-mmclassification/dataset/dataset_delete_test.zip"
   ]
  },
  {
   "cell_type": "code",
   "execution_count": 3,
   "id": "36dae75b-8263-4dce-8a77-02870947c148",
   "metadata": {},
   "outputs": [],
   "source": [
    "# 解压\n",
    "!unzip dataset_delete_test.zip >> /dev/null"
   ]
  },
  {
   "cell_type": "markdown",
   "id": "58043e9d-25f4-419c-8d0e-27d2e0aa723f",
   "metadata": {},
   "source": [
    "## 删除系统自动生成的多余文件\n",
    "\n",
    "建议在 Linux 系统中运行爬虫、划分训练集测试集代码"
   ]
  },
  {
   "cell_type": "markdown",
   "id": "59f1d609-3983-45e5-beeb-b96f1c438295",
   "metadata": {},
   "source": [
    "### 查看待删除的多余文件"
   ]
  },
  {
   "cell_type": "code",
   "execution_count": 15,
   "id": "a8356247-4b89-42e9-aa87-4c630f05e1f8",
   "metadata": {},
   "outputs": [],
   "source": [
    "!find . -iname '__MACOSX'"
   ]
  },
  {
   "cell_type": "code",
   "execution_count": 16,
   "id": "a1b64d9d-bdf8-43fe-8321-bb6d241137dc",
   "metadata": {},
   "outputs": [],
   "source": [
    "!find . -iname '.DS_Store'"
   ]
  },
  {
   "cell_type": "code",
   "execution_count": 17,
   "id": "a5f038c2-72ba-4724-a190-b2ec97d8bcf0",
   "metadata": {},
   "outputs": [
    {
     "name": "stdout",
     "output_type": "stream",
     "text": [
      "./.ipynb_checkpoints\n"
     ]
    }
   ],
   "source": [
    "!find . -iname '.ipynb_checkpoints'"
   ]
  },
  {
   "cell_type": "code",
   "execution_count": 9,
   "id": "e524530c-75f8-4326-92bf-4d54d6a6b55d",
   "metadata": {},
   "outputs": [
    {
     "data": {
      "text/plain": [
       "True"
      ]
     },
     "execution_count": 9,
     "metadata": {},
     "output_type": "execute_result"
    }
   ],
   "source": [
    "'.DS_Store' in os.listdir('dataset_delete_test/芒果')"
   ]
  },
  {
   "cell_type": "markdown",
   "id": "c9db2572-5a40-4100-990b-12ea808fae34",
   "metadata": {},
   "source": [
    "### 删除多余文件"
   ]
  },
  {
   "cell_type": "code",
   "execution_count": 5,
   "id": "4bf04f95-0750-4248-8696-fa2aa4ff03e5",
   "metadata": {},
   "outputs": [],
   "source": [
    "!for i in `find . -iname '__MACOSX'`; do rm -rf $i;done"
   ]
  },
  {
   "cell_type": "code",
   "execution_count": 6,
   "id": "217b2325-835b-451c-89d7-3d39c5dfc5c2",
   "metadata": {},
   "outputs": [],
   "source": [
    "!for i in `find . -iname '.DS_Store'`; do rm -rf $i;done"
   ]
  },
  {
   "cell_type": "code",
   "execution_count": 7,
   "id": "cfb7afa4-106a-4e6a-ab35-86f0eb902432",
   "metadata": {},
   "outputs": [],
   "source": [
    "!for i in `find . -iname '.ipynb_checkpoints'`; do rm -rf $i;done"
   ]
  },
  {
   "cell_type": "markdown",
   "id": "7e400ec2-341b-4ac3-888a-c5416d4f8895",
   "metadata": {},
   "source": [
    "### 验证多余文件已删除"
   ]
  },
  {
   "cell_type": "code",
   "execution_count": 8,
   "id": "33239471-a70e-426d-beba-3517c14311e6",
   "metadata": {},
   "outputs": [],
   "source": [
    "!find . -iname '__MACOSX'"
   ]
  },
  {
   "cell_type": "code",
   "execution_count": 9,
   "id": "f82a7703-8b94-4103-9672-ec29849616b9",
   "metadata": {},
   "outputs": [],
   "source": [
    "!find . -iname '.DS_Store'"
   ]
  },
  {
   "cell_type": "code",
   "execution_count": 10,
   "id": "0101460a-d0bc-4388-aa0b-d30b0f0ef538",
   "metadata": {},
   "outputs": [],
   "source": [
    "!find . -iname '.ipynb_checkpoints'"
   ]
  },
  {
   "cell_type": "markdown",
   "id": "c8eaf8f0-b6ab-4e49-baf7-84124c6a472a",
   "metadata": {
    "tags": []
   },
   "source": [
    "## 删除gif格式的图像文件"
   ]
  },
  {
   "cell_type": "code",
   "execution_count": 18,
   "id": "b4e5db5c-965a-4e8a-a084-c353116d3d09",
   "metadata": {},
   "outputs": [],
   "source": [
    "dataset_path = 'dataset_delete_test'"
   ]
  },
  {
   "cell_type": "code",
   "execution_count": 19,
   "id": "b7d6bba1-5ab0-482c-a0f9-4856a6bd7b41",
   "metadata": {},
   "outputs": [
    {
     "name": "stderr",
     "output_type": "stream",
     "text": [
      "100%|██████████| 81/81 [01:00<00:00,  1.34it/s]\n"
     ]
    }
   ],
   "source": [
    "for fruit in tqdm(os.listdir(dataset_path)):\n",
    "    for file in os.listdir(os.path.join(dataset_path, fruit)):\n",
    "        file_path = os.path.join(dataset_path, fruit, file)\n",
    "        img = cv2.imread(file_path)\n",
    "        if img is None:\n",
    "            print(file_path, '读取错误，删除')\n",
    "            os.remove(file_path)"
   ]
  },
  {
   "cell_type": "markdown",
   "id": "6204feec-0ec4-441d-b358-479d705e179f",
   "metadata": {},
   "source": [
    "## 删除非三通道的图像"
   ]
  },
  {
   "cell_type": "code",
   "execution_count": 67,
   "id": "f6d07e40-2abc-4897-a3ea-2a834f1e6c50",
   "metadata": {},
   "outputs": [],
   "source": [
    "import numpy as np\n",
    "from PIL import Image\n",
    "for fruit in tqdm(os.listdir(dataset_path)):\n",
    "    for file in os.listdir(os.path.join(dataset_path, fruit)):\n",
    "        file_path = os.path.join(dataset_path, fruit, file)\n",
    "        img = np.array(Image.open(file_path))\n",
    "        try:\n",
    "            channel = img.shape[2]\n",
    "            if channel != 3:\n",
    "                print(file_path, '非三通道，删除')\n",
    "                os.remove(file_path)\n",
    "        except:\n",
    "            print(file_path, '非三通道，删除')\n",
    "            os.remove(file_path)"
   ]
  },
  {
   "cell_type": "markdown",
   "id": "4f9afab9-4f90-47c1-8f5c-3fbc3a2f9995",
   "metadata": {},
   "source": [
    "## 再次删除多余的`.ipynb_checkpoints`目录"
   ]
  },
  {
   "cell_type": "code",
   "execution_count": 20,
   "id": "b6720c92-39f7-4ab2-915d-4d73def40a56",
   "metadata": {},
   "outputs": [
    {
     "name": "stdout",
     "output_type": "stream",
     "text": [
      "./.ipynb_checkpoints\n"
     ]
    }
   ],
   "source": [
    "!find . -iname '.ipynb_checkpoints'"
   ]
  },
  {
   "cell_type": "code",
   "execution_count": 21,
   "id": "e810b64e-1371-455e-ae3a-5a97417d91ac",
   "metadata": {},
   "outputs": [],
   "source": [
    "!for i in `find . -iname '.ipynb_checkpoints'`; do rm -rf $i;done"
   ]
  },
  {
   "cell_type": "code",
   "execution_count": 22,
   "id": "75ca2b9a-3c10-479e-b782-88901a3c8bcf",
   "metadata": {},
   "outputs": [],
   "source": [
    "!find . -iname '.ipynb_checkpoints'"
   ]
  },
  {
   "cell_type": "code",
   "execution_count": null,
   "id": "f134f949-0448-45c4-884e-a1ac89c37bca",
   "metadata": {},
   "outputs": [],
   "source": []
  }
 ],
 "metadata": {
  "kernelspec": {
   "display_name": "Python 3 (ipykernel)",
   "language": "python",
   "name": "python3"
  },
  "language_info": {
   "codemirror_mode": {
    "name": "ipython",
    "version": 3
   },
   "file_extension": ".py",
   "mimetype": "text/x-python",
   "name": "python",
   "nbconvert_exporter": "python",
   "pygments_lexer": "ipython3",
   "version": "3.7.10"
  }
 },
 "nbformat": 4,
 "nbformat_minor": 5
}

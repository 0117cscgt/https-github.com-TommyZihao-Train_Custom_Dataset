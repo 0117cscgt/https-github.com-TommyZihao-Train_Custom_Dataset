{
 "cells": [
  {
   "cell_type": "markdown",
   "id": "9e2f582b-3805-4b9b-86cc-9d8e30b3e9e6",
   "metadata": {},
   "source": [
    "# 下载Demo数据集\n",
    "\n",
    "同济子豪兄 https://space.bilibili.com/1900783\n",
    "\n",
    "代码运行[云GPU平台](https://featurize.cn/?s=d7ce99f842414bfcaea5662a97581bd1)\n",
    "\n",
    "2022-8-2"
   ]
  },
  {
   "cell_type": "markdown",
   "id": "9f84e2ac-8295-4896-8661-f2e7cd929aee",
   "metadata": {},
   "source": [
    "## melon17瓜果图像分类数据集"
   ]
  },
  {
   "cell_type": "code",
   "execution_count": null,
   "id": "7dc1fa1d-588c-4d26-8c54-3adc8b37a875",
   "metadata": {},
   "outputs": [],
   "source": [
    "# 下载压缩包\n",
    "# 如报错 Unable to establish SSL connection. 重新运行本代码块即可\n",
    "!wget https://zihao-openmmlab.obs.cn-east-3.myhuaweicloud.com/20220716-mmclassification/dataset/melon17/melon17_full.zip"
   ]
  },
  {
   "cell_type": "code",
   "execution_count": null,
   "id": "342917b7-1535-4659-a506-7ef216ab2fed",
   "metadata": {},
   "outputs": [],
   "source": [
    "# 解压\n",
    "!unzip melon17_full.zip >> /dev/null"
   ]
  },
  {
   "cell_type": "markdown",
   "id": "3ec92de5-b3a7-4a6b-9ea0-afa74784e8d8",
   "metadata": {},
   "source": [
    "## fruit81水果图像分类数据集"
   ]
  },
  {
   "cell_type": "code",
   "execution_count": 7,
   "id": "dddc647c-208f-4822-9764-736fe493f40a",
   "metadata": {},
   "outputs": [
    {
     "name": "stdout",
     "output_type": "stream",
     "text": [
      "--2022-08-02 15:19:51--  https://zihao-openmmlab.obs.cn-east-3.myhuaweicloud.com/20220716-mmclassification/dataset/fruit81/fruit81_full.zip\n",
      "Connecting to 172.16.0.13:5848... connected.\n",
      "Proxy request sent, awaiting response... 200 OK\n",
      "Length: 724936499 (691M) [application/zip]\n",
      "Saving to: ‘fruit81_full.zip’\n",
      "\n",
      "fruit81_full.zip    100%[===================>] 691.35M  56.7MB/s    in 17s     \n",
      "\n",
      "2022-08-02 15:20:08 (40.7 MB/s) - ‘fruit81_full.zip’ saved [724936499/724936499]\n",
      "\n"
     ]
    }
   ],
   "source": [
    "# 下载压缩包\n",
    "# 如报错 Unable to establish SSL connection. 重新运行本代码块即可\n",
    "!wget https://zihao-openmmlab.obs.cn-east-3.myhuaweicloud.com/20220716-mmclassification/dataset/fruit81/fruit81_full.zip"
   ]
  },
  {
   "cell_type": "code",
   "execution_count": 8,
   "id": "9f5d9f94-394f-42e6-a3de-48b8cc88485d",
   "metadata": {},
   "outputs": [],
   "source": [
    "# 解压\n",
    "!unzip fruit81_full.zip >> /dev/null"
   ]
  },
  {
   "cell_type": "markdown",
   "id": "39cff6ce-4ba9-490f-9eca-dba90568965b",
   "metadata": {},
   "source": [
    "## 如何删除文件和文件夹"
   ]
  },
  {
   "cell_type": "code",
   "execution_count": null,
   "id": "6b668148-3adc-4305-84b3-9aea9949201f",
   "metadata": {},
   "outputs": [],
   "source": [
    "# 删除文件\n",
    "!rm -rf fruit81_full.zip"
   ]
  },
  {
   "cell_type": "code",
   "execution_count": null,
   "id": "a844a868-e670-43d3-98e2-b20211fa964d",
   "metadata": {},
   "outputs": [],
   "source": [
    "# 删除文件夹\n",
    "!rm -rf fruit81_split"
   ]
  },
  {
   "cell_type": "code",
   "execution_count": null,
   "id": "420fd776-6b39-47f8-b8cd-a3ec104b6640",
   "metadata": {},
   "outputs": [],
   "source": []
  }
 ],
 "metadata": {
  "kernelspec": {
   "display_name": "Python 3 (ipykernel)",
   "language": "python",
   "name": "python3"
  },
  "language_info": {
   "codemirror_mode": {
    "name": "ipython",
    "version": 3
   },
   "file_extension": ".py",
   "mimetype": "text/x-python",
   "name": "python",
   "nbconvert_exporter": "python",
   "pygments_lexer": "ipython3",
   "version": "3.7.10"
  }
 },
 "nbformat": 4,
 "nbformat_minor": 5
}

{
 "cells": [
  {
   "cell_type": "markdown",
   "metadata": {},
   "source": [
    "# 图像采集\n",
    "\n",
    "本代码仅供编程科普教学、科研学术等非盈利用途。\n",
    "\n",
    "请遵守国家相关法律法规和互联网数据使用规定。\n",
    "\n",
    "请勿用于商业用途，请勿高频长时间访问服务器，请勿用于网络攻击，请勿恶意窃取信息，请勿用于作恶。\n",
    "\n",
    "任何后果与作者无关。"
   ]
  },
  {
   "cell_type": "markdown",
   "metadata": {},
   "source": [
    "## 导入工具包"
   ]
  },
  {
   "cell_type": "code",
   "execution_count": 5,
   "metadata": {},
   "outputs": [],
   "source": [
    "import os\n",
    "\n",
    "import time\n",
    "\n",
    "import requests\n",
    "\n",
    "import urllib3\n",
    "urllib3.disable_warnings()\n",
    "\n",
    "# 进度条库\n",
    "from tqdm import tqdm\n",
    "\n",
    "import os"
   ]
  },
  {
   "cell_type": "markdown",
   "metadata": {},
   "source": [
    "## HTTP请求参数"
   ]
  },
  {
   "cell_type": "code",
   "execution_count": 6,
   "metadata": {},
   "outputs": [],
   "source": [
    "cookies = {\n",
    "'BDqhfp': '%E7%8B%97%E7%8B%97%26%26NaN-1undefined%26%2618880%26%2621',\n",
    "'BIDUPSID': '06338E0BE23C6ADB52165ACEB972355B',\n",
    "'PSTM': '1646905430',\n",
    "'BAIDUID': '104BD58A7C408DABABCAC9E0A1B184B4:FG=1',\n",
    "'BDORZ': 'B490B5EBF6F3CD402E515D22BCDA1598',\n",
    "'H_PS_PSSID': '35836_35105_31254_36024_36005_34584_36142_36120_36032_35993_35984_35319_26350_35723_22160_36061',\n",
    "'BDSFRCVID': '8--OJexroG0xMovDbuOS5T78igKKHJQTDYLtOwXPsp3LGJLVgaSTEG0PtjcEHMA-2ZlgogKK02OTH6KF_2uxOjjg8UtVJeC6EG0Ptf8g0M5',\n",
    "'H_BDCLCKID_SF': 'tJPqoKtbtDI3fP36qR3KhPt8Kpby2D62aKDs2nopBhcqEIL4QTQM5p5yQ2c7LUvtynT2KJnz3Po8MUbSj4QoDjFjXJ7RJRJbK6vwKJ5s5h5nhMJSb67JDMP0-4F8exry523ioIovQpn0MhQ3DRoWXPIqbN7P-p5Z5mAqKl0MLPbtbb0xXj_0D6bBjHujtT_s2TTKLPK8fCnBDP59MDTjhPrMypomWMT-0bFH_-5L-l5js56SbU5hW5LSQxQ3QhLDQNn7_JjOX-0bVIj6Wl_-etP3yarQhxQxtNRdXInjtpvhHR38MpbobUPUDa59LUvEJgcdot5yBbc8eIna5hjkbfJBQttjQn3hfIkj0DKLtD8bMC-RDjt35n-Wqxobbtof-KOhLTrJaDkWsx7Oy4oTj6DD5lrG0P6RHmb8ht59JROPSU7mhqb_3MvB-fnEbf7r-2TP_R6GBPQtqMbIQft20-DIeMtjBMJaJRCqWR7jWhk2hl72ybCMQlRX5q79atTMfNTJ-qcH0KQpsIJM5-DWbT8EjHCet5DJJn4j_Dv5b-0aKRcY-tT5M-Lf5eT22-usy6Qd2hcH0KLKDh6gb4PhQKuZ5qutLTb4QTbqWKJcKfb1MRjvMPnF-tKZDb-JXtr92nuDal5TtUthSDnTDMRhXfIL04nyKMnitnr9-pnLJpQrh459XP68bTkA5bjZKxtq3mkjbPbDfn02eCKuj6tWj6j0DNRabK6aKC5bL6rJabC3b5CzXU6q2bDeQN3OW4Rq3Irt2M8aQI0WjJ3oyU7k0q0vWtvJWbbvLT7johRTWqR4enjb3MonDh83Mxb4BUrCHRrzWn3O5hvvhKoO3MA-yUKmDloOW-TB5bbPLUQF5l8-sq0x0bOte-bQXH_E5bj2qRCqVIKa3f',\n",
    "'BDSFRCVID_BFESS': '8--OJexroG0xMovDbuOS5T78igKKHJQTDYLtOwXPsp3LGJLVgaSTEG0PtjcEHMA-2ZlgogKK02OTH6KF_2uxOjjg8UtVJeC6EG0Ptf8g0M5',\n",
    "'H_BDCLCKID_SF_BFESS': 'tJPqoKtbtDI3fP36qR3KhPt8Kpby2D62aKDs2nopBhcqEIL4QTQM5p5yQ2c7LUvtynT2KJnz3Po8MUbSj4QoDjFjXJ7RJRJbK6vwKJ5s5h5nhMJSb67JDMP0-4F8exry523ioIovQpn0MhQ3DRoWXPIqbN7P-p5Z5mAqKl0MLPbtbb0xXj_0D6bBjHujtT_s2TTKLPK8fCnBDP59MDTjhPrMypomWMT-0bFH_-5L-l5js56SbU5hW5LSQxQ3QhLDQNn7_JjOX-0bVIj6Wl_-etP3yarQhxQxtNRdXInjtpvhHR38MpbobUPUDa59LUvEJgcdot5yBbc8eIna5hjkbfJBQttjQn3hfIkj0DKLtD8bMC-RDjt35n-Wqxobbtof-KOhLTrJaDkWsx7Oy4oTj6DD5lrG0P6RHmb8ht59JROPSU7mhqb_3MvB-fnEbf7r-2TP_R6GBPQtqMbIQft20-DIeMtjBMJaJRCqWR7jWhk2hl72ybCMQlRX5q79atTMfNTJ-qcH0KQpsIJM5-DWbT8EjHCet5DJJn4j_Dv5b-0aKRcY-tT5M-Lf5eT22-usy6Qd2hcH0KLKDh6gb4PhQKuZ5qutLTb4QTbqWKJcKfb1MRjvMPnF-tKZDb-JXtr92nuDal5TtUthSDnTDMRhXfIL04nyKMnitnr9-pnLJpQrh459XP68bTkA5bjZKxtq3mkjbPbDfn02eCKuj6tWj6j0DNRabK6aKC5bL6rJabC3b5CzXU6q2bDeQN3OW4Rq3Irt2M8aQI0WjJ3oyU7k0q0vWtvJWbbvLT7johRTWqR4enjb3MonDh83Mxb4BUrCHRrzWn3O5hvvhKoO3MA-yUKmDloOW-TB5bbPLUQF5l8-sq0x0bOte-bQXH_E5bj2qRCqVIKa3f',\n",
    "'indexPageSugList': '%5B%22%E7%8B%97%E7%8B%97%22%5D',\n",
    "'cleanHistoryStatus': '0',\n",
    "'BAIDUID_BFESS': '104BD58A7C408DABABCAC9E0A1B184B4:FG=1',\n",
    "'BDRCVFR[dG2JNJb_ajR]': 'mk3SLVN4HKm',\n",
    "'BDRCVFR[-pGxjrCMryR]': 'mk3SLVN4HKm',\n",
    "'ab_sr': '1.0.1_Y2YxZDkwMWZkMmY2MzA4MGU0OTNhMzVlNTcwMmM2MWE4YWU4OTc1ZjZmZDM2N2RjYmVkMzFiY2NjNWM4Nzk4NzBlZTliYWU0ZTAyODkzNDA3YzNiMTVjMTllMzQ0MGJlZjAwYzk5MDdjNWM0MzJmMDdhOWNhYTZhMjIwODc5MDMxN2QyMmE1YTFmN2QyY2M1M2VmZDkzMjMyOThiYmNhZA==',\n",
    "'delPer': '0',\n",
    "'PSINO': '2',\n",
    "'BA_HECTOR': '8h24a024042g05alup1h3g0aq0q',\n",
    "}\n",
    "\n",
    "headers = {\n",
    "'Connection': 'keep-alive',\n",
    "'sec-ch-ua': '\" Not;A Brand\";v=\"99\", \"Google Chrome\";v=\"97\", \"Chromium\";v=\"97\"',\n",
    "'Accept': 'text/plain, */*; q=0.01',\n",
    "'X-Requested-With': 'XMLHttpRequest',\n",
    "'sec-ch-ua-mobile': '?0',\n",
    "'User-Agent': 'Mozilla/5.0 (Macintosh; Intel Mac OS X 10_15_7) AppleWebKit/537.36 (KHTML, like Gecko) Chrome/97.0.4692.99 Safari/537.36',\n",
    "'sec-ch-ua-platform': '\"macOS\"',\n",
    "'Sec-Fetch-Site': 'same-origin',\n",
    "'Sec-Fetch-Mode': 'cors',\n",
    "'Sec-Fetch-Dest': 'empty',\n",
    "'Referer': 'https://image.baidu.com/search/index?tn=baiduimage&ipn=r&ct=201326592&cl=2&lm=-1&st=-1&fm=result&fr=&sf=1&fmq=1647837998851_R&pv=&ic=&nc=1&z=&hd=&latest=&copyright=&se=1&showtab=0&fb=0&width=&height=&face=0&istype=2&dyTabStr=MCwzLDIsNiwxLDUsNCw4LDcsOQ%3D%3D&ie=utf-8&sid=&word=%E7%8B%97%E7%8B%97',\n",
    "'Accept-Language': 'zh-CN,zh;q=0.9',\n",
    "}"
   ]
  },
  {
   "cell_type": "markdown",
   "metadata": {},
   "source": [
    "## 爬取一类"
   ]
  },
  {
   "cell_type": "markdown",
   "metadata": {},
   "source": [
    "### 指定关键词"
   ]
  },
  {
   "cell_type": "code",
   "execution_count": 12,
   "metadata": {},
   "outputs": [],
   "source": [
    "# 关键词\n",
    "keyword = '西瓜'\n",
    "\n",
    "# 拟爬取图像个数\n",
    "DOWNLOAD_NUM = 5"
   ]
  },
  {
   "cell_type": "markdown",
   "metadata": {},
   "source": [
    "### 创建文件夹"
   ]
  },
  {
   "cell_type": "code",
   "execution_count": 13,
   "metadata": {},
   "outputs": [
    {
     "name": "stdout",
     "output_type": "stream",
     "text": [
      "新建 dataset 文件夹\n",
      "新建文件夹：dataset/西瓜\n"
     ]
    }
   ],
   "source": [
    "if not os.path.exists('dataset'):\n",
    "    os.makedirs('dataset')\n",
    "    print('新建 dataset 文件夹')\n",
    "\n",
    "if os.path.exists('dataset/'+keyword):\n",
    "    print('文件夹 dataset/{} 已存在，之后直接将爬取到的图片保存至该文件夹中'.format(keyword))\n",
    "else:\n",
    "    os.makedirs('dataset/{}'.format(keyword))\n",
    "    print('新建文件夹：dataset/{}'.format(keyword))"
   ]
  },
  {
   "cell_type": "markdown",
   "metadata": {},
   "source": [
    "### 爬取并保存图像文件至本地"
   ]
  },
  {
   "cell_type": "code",
   "execution_count": 14,
   "metadata": {},
   "outputs": [
    {
     "name": "stdout",
     "output_type": "stream",
     "text": [
      "链接 https://img2.baidu.com/it/u=1995714671,2564276948&fm=253&fmt=auto&app=138&f=JPEG?w=653&h=452\n",
      "第 1 张图像 供应山东西瓜山东西瓜基地西瓜批发西瓜出售西瓜基地西瓜山东西瓜 爬取完成\n",
      "链接 https://img2.baidu.com/it/u=2034718686,1727931329&fm=253&fmt=auto&app=138&f=JPEG?w=1080&h=408\n",
      "第 2 张图像 西瓜为什么不建议挖着吃?答案出乎意料 爬取完成\n",
      "链接 https://img0.baidu.com/it/u=574293911,1047119192&fm=253&fmt=auto&app=138&f=JPEG?w=500&h=390\n",
      "第 3 张图像 西瓜 爬取完成\n",
      "链接 https://img1.baidu.com/it/u=67698561,2000807686&fm=253&fmt=auto&app=138&f=JPEG?w=667&h=500\n",
      "第 4 张图像 西瓜,清凉一夏. 爬取完成\n",
      "链接 https://img1.baidu.com/it/u=480688295,1634014007&fm=253&fmt=auto&app=138&f=JPEG?w=750&h=500\n",
      "第 5 张图像 小肠坏死被切除,竟是因为吃了隔夜西瓜! 爬取完成\n",
      "6 张图像爬取完毕\n"
     ]
    }
   ],
   "source": [
    "count = 1\n",
    "\n",
    "# 爬取第几张\n",
    "num = 1\n",
    "\n",
    "# 是否继续爬取\n",
    "FLAG = True\n",
    "\n",
    "while FLAG:\n",
    "    \n",
    "    page = 30 * count\n",
    "    \n",
    "    params = (\n",
    "        ('tn', 'resultjson_com'),\n",
    "        ('logid', '12508239107856075440'),\n",
    "        ('ipn', 'rj'),\n",
    "        ('ct', '201326592'),\n",
    "        ('is', ''),\n",
    "        ('fp', 'result'),\n",
    "        ('fr', ''),\n",
    "        ('word', f'{keyword}'),\n",
    "        ('queryWord', f'{keyword}'),\n",
    "        ('cl', '2'),\n",
    "        ('lm', '-1'),\n",
    "        ('ie', 'utf-8'),\n",
    "        ('oe', 'utf-8'),\n",
    "        ('adpicid', ''),\n",
    "        ('st', '-1'),\n",
    "        ('z', ''),\n",
    "        ('ic', ''),\n",
    "        ('hd', ''),\n",
    "        ('latest', ''),\n",
    "        ('copyright', ''),\n",
    "        ('s', ''),\n",
    "        ('se', ''),\n",
    "        ('tab', ''),\n",
    "        ('width', ''),\n",
    "        ('height', ''),\n",
    "        ('face', '0'),\n",
    "        ('istype', '2'),\n",
    "        ('qc', ''),\n",
    "        ('nc', '1'),\n",
    "        ('expermode', ''),\n",
    "        ('nojc', ''),\n",
    "        ('isAsync', ''),\n",
    "        ('pn', f'{page}'),\n",
    "        ('rn', '30'),\n",
    "        ('gsm', '1e'),\n",
    "        ('1647838001666', ''),\n",
    "    )\n",
    "\n",
    "    response = requests.get('https://image.baidu.com/search/acjson', headers=headers, params=params, cookies=cookies)\n",
    "    if response.status_code == 200:\n",
    "        try:\n",
    "            json_data = response.json().get(\"data\")\n",
    "            \n",
    "            if json_data:\n",
    "                for x in json_data:\n",
    "                    type = x.get(\"type\")\n",
    "                    if type not in [\"gif\"]:\n",
    "                        img = x.get(\"thumbURL\")\n",
    "                        fromPageTitleEnc = x.get(\"fromPageTitleEnc\")\n",
    "                        try:\n",
    "                            resp = requests.get(url=img, verify=False)\n",
    "                            time.sleep(1)\n",
    "                            print(f\"链接 {img}\")\n",
    "                            # 保存文件名\n",
    "                            # file_save_path = f'dataset/{keyword}/{num}-{fromPageTitleEnc}.{type}'\n",
    "                            file_save_path = f'dataset/{keyword}/{num}.{type}'\n",
    "                            with open(file_save_path, 'wb') as f:\n",
    "                                f.write(resp.content) # 保存图像文件到本地\n",
    "                                f.flush()\n",
    "                                print('第 {} 张图像 {} 爬取完成'.format(num, fromPageTitleEnc))\n",
    "                                num += 1\n",
    "\n",
    "\n",
    "                            # 爬取数量达到要求\n",
    "                            if num > DOWNLOAD_NUM:\n",
    "                                FLAG = False\n",
    "                                print('{} 张图像爬取完毕'.format(num))\n",
    "                                break\n",
    "\n",
    "                        except Exception:\n",
    "                            pass\n",
    "        except:\n",
    "            pass\n",
    "    else:\n",
    "        break\n",
    "\n",
    "    count += 1"
   ]
  },
  {
   "cell_type": "markdown",
   "metadata": {},
   "source": [
    "## 封装函数"
   ]
  },
  {
   "cell_type": "code",
   "execution_count": 10,
   "metadata": {},
   "outputs": [],
   "source": [
    "def craw_single_class(keyword, DOWNLOAD_NUM = 200):\n",
    "    if os.path.exists('dataset/'+keyword):\n",
    "        print('文件夹 dataset/{} 已存在，之后直接将爬取到的图片保存至该文件夹中'.format(keyword))\n",
    "    else:\n",
    "        os.makedirs('dataset/{}'.format(keyword))\n",
    "        print('新建文件夹：dataset/{}'.format(keyword))\n",
    "    count = 1\n",
    "    \n",
    "    with tqdm(total=DOWNLOAD_NUM, position=0, leave=True) as pbar:\n",
    "        \n",
    "        # 爬取第几张\n",
    "        num = 0\n",
    "\n",
    "        # 是否继续爬取\n",
    "        FLAG = True\n",
    "\n",
    "        while FLAG:\n",
    "\n",
    "            page = 30 * count\n",
    "\n",
    "            params = (\n",
    "                ('tn', 'resultjson_com'),\n",
    "                ('logid', '12508239107856075440'),\n",
    "                ('ipn', 'rj'),\n",
    "                ('ct', '201326592'),\n",
    "                ('is', ''),\n",
    "                ('fp', 'result'),\n",
    "                ('fr', ''),\n",
    "                ('word', f'{keyword}'),\n",
    "                ('queryWord', f'{keyword}'),\n",
    "                ('cl', '2'),\n",
    "                ('lm', '-1'),\n",
    "                ('ie', 'utf-8'),\n",
    "                ('oe', 'utf-8'),\n",
    "                ('adpicid', ''),\n",
    "                ('st', '-1'),\n",
    "                ('z', ''),\n",
    "                ('ic', ''),\n",
    "                ('hd', ''),\n",
    "                ('latest', ''),\n",
    "                ('copyright', ''),\n",
    "                ('s', ''),\n",
    "                ('se', ''),\n",
    "                ('tab', ''),\n",
    "                ('width', ''),\n",
    "                ('height', ''),\n",
    "                ('face', '0'),\n",
    "                ('istype', '2'),\n",
    "                ('qc', ''),\n",
    "                ('nc', '1'),\n",
    "                ('expermode', ''),\n",
    "                ('nojc', ''),\n",
    "                ('isAsync', ''),\n",
    "                ('pn', f'{page}'),\n",
    "                ('rn', '30'),\n",
    "                ('gsm', '1e'),\n",
    "                ('1647838001666', ''),\n",
    "            )\n",
    "\n",
    "            response = requests.get('https://image.baidu.com/search/acjson', headers=headers, params=params, cookies=cookies)\n",
    "            if response.status_code == 200:\n",
    "                try:\n",
    "                    json_data = response.json().get(\"data\")\n",
    "\n",
    "                    if json_data:\n",
    "                        for x in json_data:\n",
    "                            type = x.get(\"type\")\n",
    "                            if type not in [\"gif\"]:\n",
    "                                img = x.get(\"thumbURL\")\n",
    "                                fromPageTitleEnc = x.get(\"fromPageTitleEnc\")\n",
    "                                try:\n",
    "                                    resp = requests.get(url=img, verify=False)\n",
    "                                    time.sleep(1)\n",
    "                                    # print(f\"链接 {img}\")\n",
    "\n",
    "                                    # 保存文件名\n",
    "                                    # file_save_path = f'dataset/{keyword}/{num}-{fromPageTitleEnc}.{type}'\n",
    "                                    file_save_path = f'dataset/{keyword}/{num}.{type}'\n",
    "                                    with open(file_save_path, 'wb') as f:                                    \n",
    "                                        f.write(resp.content)\n",
    "                                        f.flush()\n",
    "                                        # print('第 {} 张图像 {} 爬取完成'.format(num, fromPageTitleEnc))\n",
    "                                        num += 1\n",
    "                                        pbar.update(1) # 进度条更新\n",
    "\n",
    "                                    # 爬取数量达到要求\n",
    "                                    if num > DOWNLOAD_NUM:\n",
    "                                        FLAG = False\n",
    "                                        print('{} 张图像爬取完毕'.format(num))\n",
    "                                        break\n",
    "\n",
    "                                except Exception:\n",
    "                                    pass\n",
    "                except:\n",
    "                    pass\n",
    "            else:\n",
    "                break\n",
    "\n",
    "            count += 1"
   ]
  },
  {
   "cell_type": "markdown",
   "metadata": {},
   "source": [
    "### 爬取一类"
   ]
  },
  {
   "cell_type": "code",
   "execution_count": 21,
   "metadata": {},
   "outputs": [
    {
     "name": "stderr",
     "output_type": "stream",
     "text": [
      "  0%|          | 0/200 [00:00<?, ?it/s]"
     ]
    },
    {
     "name": "stdout",
     "output_type": "stream",
     "text": [
      "新建文件夹：dataset/柚子\n"
     ]
    },
    {
     "name": "stderr",
     "output_type": "stream",
     "text": [
      "100%|██████████| 200/200 [03:51<00:00,  1.16s/it]"
     ]
    },
    {
     "name": "stdout",
     "output_type": "stream",
     "text": [
      "201 张图像爬取完毕\n"
     ]
    },
    {
     "name": "stderr",
     "output_type": "stream",
     "text": [
      "\n"
     ]
    }
   ],
   "source": [
    "craw_single_class('柚子', DOWNLOAD_NUM = 200)"
   ]
  },
  {
   "cell_type": "markdown",
   "metadata": {},
   "source": [
    "### 爬取多类"
   ]
  },
  {
   "cell_type": "code",
   "execution_count": 9,
   "metadata": {},
   "outputs": [],
   "source": [
    "class_list = ['黄瓜','南瓜','冬瓜','木瓜','苦瓜','丝瓜','窝瓜','甜瓜','香瓜','白兰瓜','黄金瓜','西葫芦','人参果','羊角蜜','佛手瓜','伊丽莎白瓜']"
   ]
  },
  {
   "cell_type": "code",
   "execution_count": 10,
   "metadata": {},
   "outputs": [
    {
     "name": "stdout",
     "output_type": "stream",
     "text": [
      "新建文件夹：dataset/哈密瓜\n",
      "201 张图像爬取完毕\n",
      "新建文件夹：dataset/黄瓜\n",
      "201 张图像爬取完毕\n",
      "新建文件夹：dataset/南瓜\n",
      "201 张图像爬取完毕\n",
      "新建文件夹：dataset/冬瓜\n",
      "201 张图像爬取完毕\n",
      "新建文件夹：dataset/木瓜\n",
      "201 张图像爬取完毕\n",
      "新建文件夹：dataset/苦瓜\n",
      "201 张图像爬取完毕\n",
      "新建文件夹：dataset/丝瓜\n",
      "201 张图像爬取完毕\n",
      "新建文件夹：dataset/窝瓜\n",
      "201 张图像爬取完毕\n",
      "新建文件夹：dataset/甜瓜\n",
      "201 张图像爬取完毕\n",
      "新建文件夹：dataset/香瓜\n",
      "201 张图像爬取完毕\n",
      "新建文件夹：dataset/白兰瓜\n",
      "201 张图像爬取完毕\n",
      "新建文件夹：dataset/黄金瓜\n",
      "201 张图像爬取完毕\n"
     ]
    }
   ],
   "source": [
    "for each in class_list:\n",
    "    craw_single_class(each, DOWNLOAD_NUM = 200)"
   ]
  },
  {
   "cell_type": "markdown",
   "metadata": {},
   "source": [
    "## 一些参考类别关键词"
   ]
  },
  {
   "cell_type": "code",
   "execution_count": null,
   "metadata": {},
   "outputs": [],
   "source": [
    "# 苹果\n",
    "'苹果 水果','青苹果'"
   ]
  },
  {
   "cell_type": "code",
   "execution_count": null,
   "metadata": {},
   "outputs": [],
   "source": [
    "# 常见水果\n",
    "'菠萝','榴莲','椰子','香蕉','梨','芒果'"
   ]
  },
  {
   "cell_type": "code",
   "execution_count": null,
   "metadata": {},
   "outputs": [],
   "source": [
    "# 西红柿类\n",
    "'圣女果','西红柿'"
   ]
  },
  {
   "cell_type": "code",
   "execution_count": null,
   "metadata": {},
   "outputs": [],
   "source": [
    "# 桔橙类\n",
    "'砂糖橘','脐橙','金桔','柠檬','西柚','血橙','芦柑','青柠','沃柑','粑粑柑','橘子','柚子'"
   ]
  },
  {
   "cell_type": "code",
   "execution_count": null,
   "metadata": {},
   "outputs": [],
   "source": [
    "# 桃类\n",
    "'猕猴桃','油桃','水蜜桃','蟠桃','杨桃','黄桃'"
   ]
  },
  {
   "cell_type": "code",
   "execution_count": null,
   "metadata": {},
   "outputs": [],
   "source": [
    "# 樱桃类\n",
    "'樱桃','智利 车厘子'"
   ]
  },
  {
   "cell_type": "code",
   "execution_count": null,
   "metadata": {},
   "outputs": [],
   "source": [
    "# 火龙果类\n",
    "'白心火龙果','红心火龙果'"
   ]
  },
  {
   "cell_type": "code",
   "execution_count": null,
   "metadata": {},
   "outputs": [],
   "source": [
    "# 葡萄类\n",
    "'马奶提子','红提'"
   ]
  },
  {
   "cell_type": "code",
   "execution_count": null,
   "metadata": {},
   "outputs": [],
   "source": [
    "# 萝卜类\n",
    "'胡萝卜','白萝卜'"
   ]
  },
  {
   "cell_type": "code",
   "execution_count": null,
   "metadata": {},
   "outputs": [],
   "source": [
    "# 莓类\n",
    "'桑葚','蔓越莓','蓝莓','草莓','树莓','菠萝莓''黑莓 水果'"
   ]
  },
  {
   "cell_type": "code",
   "execution_count": null,
   "metadata": {},
   "outputs": [],
   "source": [
    "# 其它类\n",
    "'山楂','桂圆','杨梅','西梅','沙果','枣','荔枝','腰果','无花果','沙棘','羊奶果','百香果','黄金百香果','甘蔗','菠萝蜜','酸角','蛇皮果','人参果','红芭乐','白芭乐','牛油果','莲雾','山竹','杏','李子','柿子','枇杷','香橼','毛丹','石榴'\n"
   ]
  },
  {
   "cell_type": "code",
   "execution_count": null,
   "metadata": {},
   "outputs": [],
   "source": []
  }
 ],
 "metadata": {
  "kernelspec": {
   "display_name": "Python 3 (ipykernel)",
   "language": "python",
   "name": "python3"
  },
  "language_info": {
   "codemirror_mode": {
    "name": "ipython",
    "version": 3
   },
   "file_extension": ".py",
   "mimetype": "text/x-python",
   "name": "python",
   "nbconvert_exporter": "python",
   "pygments_lexer": "ipython3",
   "version": "3.7.10"
  }
 },
 "nbformat": 4,
 "nbformat_minor": 4
}

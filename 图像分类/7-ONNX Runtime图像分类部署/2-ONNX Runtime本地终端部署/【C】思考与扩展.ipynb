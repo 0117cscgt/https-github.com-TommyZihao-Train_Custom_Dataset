{
 "cells": [
  {
   "cell_type": "markdown",
   "metadata": {},
   "source": [
    "# 思考与扩展\n",
    "\n",
    "同济子豪兄 2023-5-8\n"
   ]
  },
  {
   "cell_type": "markdown",
   "metadata": {},
   "source": [
    "## 辅导答疑\n",
    "\n",
    "【同济子豪兄】两天搞定图像分类、目标检测、语义分割、实例分割、关键点检测毕业设计：https://github.com/TommyZihao/Train_Custom_Dataset\n",
    "\n",
    "开发需求：手机APP、微信小程序、网页开发、服务器部署，公众号 人工智能小技巧 回复 定制开发 加东哥微信\n",
    "\n",
    "两天搞定图像分类毕业设计答疑交流微信群，公众号 人工智能小技巧 回复 图像分类\n",
    "\n",
    "OpenMMLab算法库，MMClassification（MMPretrain）、MMDeploy大佬交流，加喵喵微信 OpenMMLabwx，备注：来自子豪兄部署教程"
   ]
  },
  {
   "cell_type": "markdown",
   "metadata": {},
   "source": [
    "## 思考题\n",
    "\n",
    "对比原生pytorch的.pth模型文件预测，和ONNX Runtime预测，它们的速度、精度、预测结果有何不同？\n",
    "\n",
    "为什么经过ONNX Runtime部署之后，运算速度提升了7-10倍？\n",
    "\n",
    "对比GPU和CPU的视频、摄像头实时画面处理时间，有什么差异？为什么?\n",
    "\n",
    "摄像头实时画面处理时，处理一帧画面需要用时多久？时间都消耗在哪个部分？\n",
    "\n",
    "如何进一步提升实时预测速度？\n",
    "\n",
    "如何更优雅地用OpenCV在画面上写中文？\n",
    "\n",
    "本讲只讲了本地PC部署，对于其它不同的硬件平台（安卓手机、苹果手机、嵌入式开发板、服务器、浏览器Web前端、微信小程序），如何部署？"
   ]
  },
  {
   "cell_type": "markdown",
   "metadata": {},
   "source": [
    "## 预告\n",
    "\n",
    "ONNX Runtime 安卓手机APP部署\n",
    "\n",
    "ONNX Runtime 浏览器Web前端部署\n",
    "\n",
    "ONNX Runtime 开发板部署\n",
    "\n",
    "其它推理引擎（TensorRT、OpenVino、CoreML、TFLite、Paddle）部署\n",
    "\n",
    "英伟达Jetson Nano开发板部署\n",
    "\n",
    "安卓手机部署：ONNX Runtime、NCNN、aidlux.com"
   ]
  },
  {
   "cell_type": "code",
   "execution_count": null,
   "metadata": {},
   "outputs": [],
   "source": []
  }
 ],
 "metadata": {
  "kernelspec": {
   "display_name": "Python 3",
   "language": "python",
   "name": "python3"
  },
  "language_info": {
   "codemirror_mode": {
    "name": "ipython",
    "version": 3
   },
   "file_extension": ".py",
   "mimetype": "text/x-python",
   "name": "python",
   "nbconvert_exporter": "python",
   "pygments_lexer": "ipython3",
   "version": "3.7.2"
  }
 },
 "nbformat": 4,
 "nbformat_minor": 4
}

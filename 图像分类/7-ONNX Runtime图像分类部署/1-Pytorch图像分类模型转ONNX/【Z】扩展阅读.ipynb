{
 "cells": [
  {
   "cell_type": "markdown",
   "id": "ecb51ce6",
   "metadata": {},
   "source": [
    "# 扩展阅读\n",
    "\n",
    "【同济子豪兄】两天搞定图像分类、目标检测、语义分割、实例分割、关键点检测毕业设计：https://github.com/TommyZihao/Train_Custom_Dataset\n",
    "\n",
    "ONNX主页： https://onnx.ai\n",
    "\n",
    "ONNX Github主页： https://github.com/onnx/onnx\n",
    "\n",
    "ONNX支持的深度学习框架：https://onnx.ai/supported-tools.html\n",
    "\n",
    "ONNX支持的计算平台：https://onnx.ai/supported-tools.html\n",
    "\n",
    "ONNX算子：https://onnx.ai/onnx/operators\n",
    "\n",
    "模型在线可视化网站 Netron：https://netron.app\n",
    "\n",
    "Netron视频教程：https://www.bilibili.com/video/BV1TV4y1P7AP\n",
    "\n",
    "**周奕帆博客**\n",
    "\n",
    "模型部署入门教程（一）：模型部署简介\n",
    "https://zhuanlan.zhihu.com/p/477743341\n",
    "\n",
    "\n",
    "模型部署入门教程（二）：解决模型部署中的难题\n",
    "https://zhuanlan.zhihu.com/p/479290520\n",
    "\n",
    "模型部署入门教程（三）：PyTorch 转 ONNX 详解\n",
    "https://zhuanlan.zhihu.com/p/498425043"
   ]
  },
  {
   "cell_type": "code",
   "execution_count": null,
   "id": "4a6056d8",
   "metadata": {},
   "outputs": [],
   "source": []
  }
 ],
 "metadata": {
  "kernelspec": {
   "display_name": "Python 3 (ipykernel)",
   "language": "python",
   "name": "python3"
  },
  "language_info": {
   "codemirror_mode": {
    "name": "ipython",
    "version": 3
   },
   "file_extension": ".py",
   "mimetype": "text/x-python",
   "name": "python",
   "nbconvert_exporter": "python",
   "pygments_lexer": "ipython3",
   "version": "3.7.10"
  }
 },
 "nbformat": 4,
 "nbformat_minor": 5
}

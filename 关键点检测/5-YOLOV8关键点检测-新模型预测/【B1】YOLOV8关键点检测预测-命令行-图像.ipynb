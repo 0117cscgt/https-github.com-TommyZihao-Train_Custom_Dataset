{
 "cells": [
  {
   "cell_type": "markdown",
   "id": "0e07acf1-6010-4815-9c52-e793d88a2ec9",
   "metadata": {},
   "source": [
    "# YOLOV8关键点检测预测-命令行-图像\n",
    "\n",
    "同济子豪兄 2023-4-15"
   ]
  },
  {
   "cell_type": "markdown",
   "id": "9e677bfc-dbfa-40d8-b0fd-afa2f27783b1",
   "metadata": {},
   "source": [
    "## 关键点检测预测"
   ]
  },
  {
   "cell_type": "code",
   "execution_count": 3,
   "id": "4a19c899-ac1b-4e05-9c52-f6b0f97db965",
   "metadata": {},
   "outputs": [],
   "source": [
    "!yolo pose predict model=checkpoint/Triangle_215_yolov8x_p6_pretrain.pt source=images/triangle_4.jpg device=0\n"
   ]
  },
  {
   "cell_type": "markdown",
   "id": "db02832b-357d-4254-82c6-4de0ba137023",
   "metadata": {},
   "source": [
    "## 预测结果保存在`runs`目录"
   ]
  },
  {
   "cell_type": "code",
   "execution_count": null,
   "id": "344846a6-4303-4ec5-bac4-20506e02a36b",
   "metadata": {},
   "outputs": [],
   "source": []
  }
 ],
 "metadata": {
  "kernelspec": {
   "display_name": "Python 3 (ipykernel)",
   "language": "python",
   "name": "python3"
  },
  "language_info": {
   "codemirror_mode": {
    "name": "ipython",
    "version": 3
   },
   "file_extension": ".py",
   "mimetype": "text/x-python",
   "name": "python",
   "nbconvert_exporter": "python",
   "pygments_lexer": "ipython3",
   "version": "3.7.10"
  }
 },
 "nbformat": 4,
 "nbformat_minor": 5
}

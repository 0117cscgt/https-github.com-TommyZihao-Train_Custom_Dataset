{
 "cells": [
  {
   "cell_type": "markdown",
   "id": "9003aae0",
   "metadata": {},
   "source": [
    "# YOLOV8关键点检测预测-命令行-摄像头实时画面\n",
    "\n",
    "同济子豪兄 2023-4-15"
   ]
  },
  {
   "cell_type": "markdown",
   "id": "7457c5d8",
   "metadata": {},
   "source": [
    "## `注意，本代码需要在本地，连接摄像头运行，不能在云GPU平台运行`"
   ]
  },
  {
   "cell_type": "markdown",
   "id": "39268b72",
   "metadata": {},
   "source": [
    "## 安装YOLOV8"
   ]
  },
  {
   "cell_type": "code",
   "execution_count": 7,
   "id": "b0407d01",
   "metadata": {},
   "outputs": [],
   "source": [
    "!pip install ultralytics==8.0.88 -i https://pypi.tuna.tsinghua.edu.cn/simple"
   ]
  },
  {
   "cell_type": "markdown",
   "id": "6e7f4536",
   "metadata": {},
   "source": [
    "## 安装其它第三方工具包"
   ]
  },
  {
   "cell_type": "code",
   "execution_count": 5,
   "id": "73d9865e",
   "metadata": {},
   "outputs": [],
   "source": [
    "!pip install numpy opencv-python pillow pandas matplotlib seaborn tqdm -i https://pypi.tuna.tsinghua.edu.cn/simple"
   ]
  },
  {
   "cell_type": "markdown",
   "id": "27f2d637",
   "metadata": {},
   "source": [
    "## 下载训练得到的模型权重文件"
   ]
  },
  {
   "cell_type": "code",
   "execution_count": 4,
   "id": "35a3ebe9",
   "metadata": {},
   "outputs": [],
   "source": [
    "# yolov8n-pose 预训练模型微调\n",
    "!wget https://zihao-download.obs.cn-east-3.myhuaweicloud.com/yolov8/datasets/Triangle_215_Dataset/checkpoint/Triangle_215_yolov8n_pretrain.pt -P checkpoint\n",
    "\n",
    "# yolov8s-pose 预训练模型微调\n",
    "!wget https://zihao-download.obs.cn-east-3.myhuaweicloud.com/yolov8/datasets/Triangle_215_Dataset/checkpoint/Triangle_215_yolov8s_pretrain.pt -P checkpoint\n",
    "\n",
    "# yolov8m-pose 预训练模型微调\n",
    "!wget https://zihao-download.obs.cn-east-3.myhuaweicloud.com/yolov8/datasets/Triangle_215_Dataset/checkpoint/Triangle_215_yolov8m_pretrain.pt -P checkpoint\n",
    "\n",
    "# yolov8l-pose 预训练模型微调\n",
    "!wget https://zihao-download.obs.cn-east-3.myhuaweicloud.com/yolov8/datasets/Triangle_215_Dataset/checkpoint/Triangle_215_yolov8l_pretrain.pt -P checkpoint"
   ]
  },
  {
   "cell_type": "markdown",
   "id": "87c7e2eb",
   "metadata": {},
   "source": [
    "## 验证安装成功"
   ]
  },
  {
   "cell_type": "code",
   "execution_count": 8,
   "id": "97cfe4b9",
   "metadata": {},
   "outputs": [
    {
     "name": "stderr",
     "output_type": "stream",
     "text": [
      "Ultralytics YOLOv8.0.88 🚀 Python-3.7.2 torch-1.13.1 CPU\n",
      "Setup complete ✅ (16 CPUs, 16.0 GB RAM, 917.8/931.5 GB disk)\n"
     ]
    }
   ],
   "source": [
    "import ultralytics\n",
    "ultralytics.checks()"
   ]
  },
  {
   "cell_type": "markdown",
   "id": "fe70c716",
   "metadata": {},
   "source": [
    "## 命令行预测"
   ]
  },
  {
   "cell_type": "code",
   "execution_count": 11,
   "id": "614b7299",
   "metadata": {},
   "outputs": [
    {
     "name": "stdout",
     "output_type": "stream",
     "text": [
      "2023-04-28 16:24:38.759 Python[37411:4464651] ApplePersistenceIgnoreState: Existing state will not be touched. New state will be written to /var/folders/ly/mdyk3b_d1r39hm00y4s1yk1m0000gn/T/org.python.python.savedState\n",
      "Ultralytics YOLOv8.0.88 🚀 Python-3.7.2 torch-1.13.1 CPU\n",
      "YOLOv8m-pose summary (fused): 237 layers, 26401822 parameters, 0 gradients, 80.8 GFLOPs\n",
      "1/1: 0... Success ✅ (inf frames of shape 1280x720 at 30.00 FPS)\n",
      "\n",
      "Results saved to \u001b[1mruns/pose/predict3\u001b[0m\n",
      "\u001b[0m"
     ]
    }
   ],
   "source": [
    "!yolo pose predict model=checkpoint/Triangle_215_yolov8m_pretrain.pt source=0 show verbose=False"
   ]
  },
  {
   "cell_type": "markdown",
   "id": "46370484",
   "metadata": {},
   "source": [
    "## 按`q`键退出"
   ]
  },
  {
   "cell_type": "code",
   "execution_count": null,
   "id": "c94cd066",
   "metadata": {},
   "outputs": [],
   "source": []
  }
 ],
 "metadata": {
  "kernelspec": {
   "display_name": "Python 3 (ipykernel)",
   "language": "python",
   "name": "python3"
  },
  "language_info": {
   "codemirror_mode": {
    "name": "ipython",
    "version": 3
   },
   "file_extension": ".py",
   "mimetype": "text/x-python",
   "name": "python",
   "nbconvert_exporter": "python",
   "pygments_lexer": "ipython3",
   "version": "3.7.10"
  }
 },
 "nbformat": 4,
 "nbformat_minor": 5
}

{
 "cells": [
  {
   "cell_type": "markdown",
   "id": "d435b13a-c122-4164-9983-51a1ad207f5e",
   "metadata": {},
   "source": [
    "# Labelme关键点标注注意事项\n",
    "\n",
    "同济子豪兄 2023-3-10\n",
    "\n",
    "1. 每一个物体都要画框\n",
    "\n",
    "2. 每一个关键点`必须且只能落入一个框中`，不落入第二个框中\n",
    "\n",
    "3. 可以标分割多段线（polygon），但多段线的第一个点`必须且只能落入一个框中`"
   ]
  },
  {
   "cell_type": "code",
   "execution_count": null,
   "id": "fba40e8d-f5f8-4bcf-b84e-029d4636d321",
   "metadata": {},
   "outputs": [],
   "source": []
  }
 ],
 "metadata": {
  "kernelspec": {
   "display_name": "Python 3 (ipykernel)",
   "language": "python",
   "name": "python3"
  },
  "language_info": {
   "codemirror_mode": {
    "name": "ipython",
    "version": 3
   },
   "file_extension": ".py",
   "mimetype": "text/x-python",
   "name": "python",
   "nbconvert_exporter": "python",
   "pygments_lexer": "ipython3",
   "version": "3.7.10"
  }
 },
 "nbformat": 4,
 "nbformat_minor": 5
}

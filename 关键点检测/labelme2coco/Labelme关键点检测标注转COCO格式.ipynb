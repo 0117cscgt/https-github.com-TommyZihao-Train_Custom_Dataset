{
 "cells": [
  {
   "cell_type": "markdown",
   "id": "06e5af38-85ad-46b6-a5ea-52a7ff947853",
   "metadata": {},
   "source": [
    "# Labelme关键点检测标注转COCO格式\n",
    "\n",
    "同济子豪兄 呕心沥血写成\n",
    "\n",
    "2023-3-9\n",
    "\n",
    "2023-3-10"
   ]
  },
  {
   "cell_type": "markdown",
   "id": "b0a8a2a1-fb46-4d51-8b4f-cd0568bc13f8",
   "metadata": {},
   "source": [
    "## 导入工具包"
   ]
  },
  {
   "cell_type": "code",
   "execution_count": 1,
   "id": "5969d148-19e6-4b2e-9797-01105b87b56c",
   "metadata": {},
   "outputs": [],
   "source": [
    "import os\n",
    "import json\n",
    "\n",
    "import numpy as np"
   ]
  },
  {
   "cell_type": "markdown",
   "id": "64d63f54-219e-481b-84ba-071e65b3c127",
   "metadata": {},
   "source": [
    "## 进入labelme标注文件目录"
   ]
  },
  {
   "cell_type": "code",
   "execution_count": 2,
   "id": "7ce8910c-ab54-4f68-a386-ac46840100bf",
   "metadata": {},
   "outputs": [],
   "source": [
    "labelme_folder = 'crab-new'"
   ]
  },
  {
   "cell_type": "code",
   "execution_count": 3,
   "id": "d4ce86a5-597a-4f56-a54f-4581ec54bb09",
   "metadata": {},
   "outputs": [],
   "source": [
    "os.chdir(labelme_folder)"
   ]
  },
  {
   "cell_type": "code",
   "execution_count": 4,
   "id": "e1406f74-680e-4feb-9534-c331232688b5",
   "metadata": {},
   "outputs": [
    {
     "data": {
      "text/plain": [
       "['3.webp',\n",
       " '2.webp',\n",
       " '5.webp',\n",
       " '1.webp',\n",
       " '4.webp',\n",
       " '2.json',\n",
       " '3.json',\n",
       " '5.json',\n",
       " '4.json',\n",
       " '.ipynb_checkpoints',\n",
       " '1.json']"
      ]
     },
     "execution_count": 4,
     "metadata": {},
     "output_type": "execute_result"
    }
   ],
   "source": [
    "os.listdir()"
   ]
  },
  {
   "cell_type": "markdown",
   "id": "4b4fb7ee-0886-416c-bbaf-6c2dfe7e63c9",
   "metadata": {},
   "source": [
    "## 示例-导入一个labelme格式的json标注文件"
   ]
  },
  {
   "cell_type": "code",
   "execution_count": 5,
   "id": "b17d0e7a-b987-4784-9dfe-a67ebfeefb15",
   "metadata": {},
   "outputs": [],
   "source": [
    "# with open('1.json', 'r', encoding='utf-8') as f:\n",
    "#     labelme = json.load(f)"
   ]
  },
  {
   "cell_type": "code",
   "execution_count": 6,
   "id": "2ddb2f62-b076-491f-83cf-aa4f12c82ea3",
   "metadata": {},
   "outputs": [],
   "source": [
    "# labelme['shapes']"
   ]
  },
  {
   "cell_type": "code",
   "execution_count": 7,
   "id": "2c2b711c-4e34-459b-854f-bfdda7170935",
   "metadata": {},
   "outputs": [],
   "source": [
    "# labelme.keys()"
   ]
  },
  {
   "cell_type": "code",
   "execution_count": 8,
   "id": "9fb38995-4ecc-44b4-a132-1d6851f18961",
   "metadata": {},
   "outputs": [],
   "source": [
    "# labelme['version']"
   ]
  },
  {
   "cell_type": "code",
   "execution_count": 9,
   "id": "376d7a49-d5a1-4827-b68e-7334a231a144",
   "metadata": {},
   "outputs": [],
   "source": [
    "# labelme['flags']"
   ]
  },
  {
   "cell_type": "code",
   "execution_count": 10,
   "id": "1733f8f9-72d4-47f8-a010-2ab98b724afa",
   "metadata": {},
   "outputs": [],
   "source": [
    "# 图像文件名\n",
    "# labelme['imagePath']"
   ]
  },
  {
   "cell_type": "code",
   "execution_count": 11,
   "id": "c0411a3c-8e43-4878-8657-cbdca9e15c18",
   "metadata": {},
   "outputs": [],
   "source": [
    "# labelme['imageData']"
   ]
  },
  {
   "cell_type": "code",
   "execution_count": 12,
   "id": "9bc00c97-9d5f-4664-b502-631cdf2a15b8",
   "metadata": {},
   "outputs": [],
   "source": [
    "# 图像高度\n",
    "# labelme['imageHeight']"
   ]
  },
  {
   "cell_type": "code",
   "execution_count": 13,
   "id": "8185cf9e-84ba-4081-8e4a-db189b10d29e",
   "metadata": {},
   "outputs": [],
   "source": [
    "# 图像宽度\n",
    "# labelme['imageWidth']"
   ]
  },
  {
   "cell_type": "markdown",
   "id": "3e2093d2-f904-40da-b06f-8e844bf86d72",
   "metadata": {},
   "source": [
    "## 创建coco格式的字典"
   ]
  },
  {
   "cell_type": "code",
   "execution_count": 14,
   "id": "270c366b-3283-4e2f-acf1-79fb9f6f8af5",
   "metadata": {},
   "outputs": [],
   "source": [
    "coco = {}"
   ]
  },
  {
   "cell_type": "markdown",
   "id": "76e3dae4-2846-4f7b-ae86-477f1bb52ec1",
   "metadata": {},
   "source": [
    "## info"
   ]
  },
  {
   "cell_type": "code",
   "execution_count": 15,
   "id": "3113d81f-e367-45b1-b954-bc0e51901625",
   "metadata": {},
   "outputs": [],
   "source": [
    "# coco['info'] = {}\n",
    "# coco['info']['description'] = 'Labelme2coco keypoint format script from Zihao'\n",
    "# coco['info']['year'] = 2023\n",
    "# coco['info']['date_created'] = '2023/03/09'"
   ]
  },
  {
   "cell_type": "markdown",
   "id": "0010f997-25e6-43b3-8f5b-e107a2423ed5",
   "metadata": {},
   "source": [
    "## categories"
   ]
  },
  {
   "cell_type": "markdown",
   "id": "f84eb010-9bcc-4a11-ae83-d723b84bc961",
   "metadata": {},
   "source": [
    "supercategory：框的类别（一般只有一个类别）\n",
    "\n",
    "keypoints：节点类别排序，后续的关键点坐标展示顺序\n",
    "\n",
    "skeleton：可有可无，可视化时需要"
   ]
  },
  {
   "cell_type": "code",
   "execution_count": 16,
   "id": "d5300c79-48a3-40f4-a0c8-7dd4a6388aa8",
   "metadata": {},
   "outputs": [],
   "source": [
    "class_list = {'supercategory': 'crab',\n",
    "              'id': 1,\n",
    "              'name': 'crab',\n",
    "              'keypoints': ['Left-Eye', 'Right-Eye', 'Left-Sharp', 'Right-Sharp'],\n",
    "              'skeleton':[[0,2], [1,3]]\n",
    "             }"
   ]
  },
  {
   "cell_type": "code",
   "execution_count": 17,
   "id": "9e4ab405-1aef-484a-8d39-8d565f54204f",
   "metadata": {},
   "outputs": [],
   "source": [
    "coco['categories'] = []\n",
    "coco['categories'].append(class_list)\n",
    "\n",
    "coco['images'] = []\n",
    "coco['annotations'] = []\n",
    "\n",
    "IMG_ID = 0\n",
    "ANN_ID = 0"
   ]
  },
  {
   "cell_type": "markdown",
   "id": "68f2d4e8-824d-4b19-b529-632c85de25ec",
   "metadata": {},
   "source": [
    "## 函数-处理单个labelme标注json文件"
   ]
  },
  {
   "cell_type": "code",
   "execution_count": 18,
   "id": "a53dbf74-7e72-4ef0-b39e-e03baa198a21",
   "metadata": {},
   "outputs": [],
   "source": [
    "def process_single_json(labelme, image_id=1):\n",
    "    '''\n",
    "    输入labelme的json数据，输出coco格式的每个框的关键点标注信息\n",
    "    '''\n",
    "    \n",
    "    global ANN_ID\n",
    "    \n",
    "    coco_annotations = []\n",
    "    \n",
    "    for each_ann in labelme['shapes']: # 遍历该json文件中的所有标注\n",
    "\n",
    "        if each_ann['shape_type'] == 'rectangle': # 筛选出个体框\n",
    "\n",
    "            # 个体框元数据\n",
    "            bbox_dict = {}\n",
    "            bbox_dict['category_id'] = 1\n",
    "            bbox_dict['segmentation'] = []\n",
    "            bbox_dict['area'] = 100\n",
    "            bbox_dict['iscrowd'] = 0\n",
    "            bbox_dict['segmentation'] = []\n",
    "            bbox_dict['image_id'] = image_id\n",
    "            bbox_dict['id'] = ANN_ID\n",
    "            # print(ANN_ID)\n",
    "            ANN_ID += 1\n",
    "\n",
    "            # 获取个体框坐标\n",
    "            bbox_left_top_x = min(int(each_ann['points'][0][0]), int(each_ann['points'][1][0]))\n",
    "            bbox_left_top_y = min(int(each_ann['points'][0][1]), int(each_ann['points'][1][1]))\n",
    "            bbox_right_bottom_x = max(int(each_ann['points'][0][0]), int(each_ann['points'][1][0]))\n",
    "            bbox_right_bottom_y = max(int(each_ann['points'][0][1]), int(each_ann['points'][1][1]))\n",
    "            bbox_w = bbox_right_bottom_x - bbox_left_top_x\n",
    "            bbox_h = bbox_right_bottom_y - bbox_left_top_y\n",
    "            bbox_dict['bbox'] = [bbox_left_top_x, bbox_left_top_y, bbox_w, bbox_h] # 左上角x、y、框的w、h\n",
    "            \n",
    "            # 筛选出分割多段线\n",
    "            for each_ann in labelme['shapes']: # 遍历所有标注\n",
    "                if each_ann['shape_type'] == 'polygon': # 筛选出分割多段线标注\n",
    "                    # 第一个点的坐标\n",
    "                    first_x = each_ann['points'][0][0]\n",
    "                    first_y = each_ann['points'][0][1]\n",
    "                    if (first_x>bbox_left_top_x) & (first_x<bbox_right_bottom_x) & (first_y<bbox_right_bottom_y) & (first_y>bbox_left_top_y): # 筛选出在该个体框中的关键点\n",
    "                        bbox_dict['segmentation'] = list(map(lambda x: list(map(lambda y: round(y, 2), x)), each_ann['points'])) # 坐标保留两位小数\n",
    "                        # bbox_dict['segmentation'] = each_ann['points']\n",
    "\n",
    "            # 筛选出该个体框中的所有关键点\n",
    "            bbox_keypoints_dict = {}\n",
    "            for each_ann in labelme['shapes']: # 遍历所有标注\n",
    "                \n",
    "                if each_ann['shape_type'] == 'point': # 筛选出关键点标注\n",
    "                    # 关键点横纵坐标\n",
    "                    x = int(each_ann['points'][0][0])\n",
    "                    y = int(each_ann['points'][0][1])\n",
    "                    label = each_ann['label']\n",
    "                    if (x>bbox_left_top_x) & (x<bbox_right_bottom_x) & (y<bbox_right_bottom_y) & (y>bbox_left_top_y): # 筛选出在该个体框中的关键点\n",
    "                        bbox_keypoints_dict[label] = [x, y]\n",
    "                        \n",
    "            bbox_dict['num_keypoints'] = len(bbox_keypoints_dict)\n",
    "            # print(bbox_keypoints_dict)\n",
    "\n",
    "            # 把关键点按照类别顺序排好\n",
    "            bbox_dict['keypoints'] = []\n",
    "            for each_class in class_list['keypoints']:\n",
    "                if each_class in bbox_keypoints_dict:\n",
    "                    bbox_dict['keypoints'].append(bbox_keypoints_dict[each_class][0])\n",
    "                    bbox_dict['keypoints'].append(bbox_keypoints_dict[each_class][1])\n",
    "                    bbox_dict['keypoints'].append(2) # 2-可见不遮挡 1-遮挡 0-没有点\n",
    "                else: # 不存在的点，一律为0\n",
    "                    bbox_dict['keypoints'].append(0)\n",
    "                    bbox_dict['keypoints'].append(0)\n",
    "                    bbox_dict['keypoints'].append(0)\n",
    "                    \n",
    "            coco_annotations.append(bbox_dict)\n",
    "            \n",
    "    return coco_annotations"
   ]
  },
  {
   "cell_type": "markdown",
   "id": "fb0000c2-7255-488b-8585-d87af4c849b0",
   "metadata": {},
   "source": [
    "## 测试一下函数的效果，处理单个labelme格式的json标注文件"
   ]
  },
  {
   "cell_type": "code",
   "execution_count": 19,
   "id": "5235f915-a441-43c3-9cdf-2eab3698d1c6",
   "metadata": {},
   "outputs": [],
   "source": [
    "with open('1.json', 'r', encoding='utf-8') as f:\n",
    "    labelme = json.load(f)"
   ]
  },
  {
   "cell_type": "code",
   "execution_count": 20,
   "id": "1c68653e-fcc0-413c-b96d-2befbd370788",
   "metadata": {},
   "outputs": [
    {
     "data": {
      "text/plain": [
       "[{'category_id': 1,\n",
       "  'segmentation': [[80.0, 203.0],\n",
       "   [125.88, 151.24],\n",
       "   [161.18, 135.94],\n",
       "   [203.53, 118.29],\n",
       "   [261.18, 127.71],\n",
       "   [311.76, 153.59],\n",
       "   [334.12, 180.65],\n",
       "   [370.59, 187.71],\n",
       "   [328.24, 197.12],\n",
       "   [283.53, 227.71],\n",
       "   [274.12, 250.06],\n",
       "   [256.47, 272.41],\n",
       "   [210.59, 281.82],\n",
       "   [163.53, 288.88],\n",
       "   [138.82, 263.0],\n",
       "   [109.41, 245.35],\n",
       "   [43.53, 238.29]],\n",
       "  'area': 100,\n",
       "  'iscrowd': 0,\n",
       "  'image_id': 1,\n",
       "  'id': 0,\n",
       "  'bbox': [11, 112, 377, 220],\n",
       "  'num_keypoints': 4,\n",
       "  'keypoints': [176, 123, 2, 224, 117, 2, 55, 236, 2, 353, 186, 2]},\n",
       " {'category_id': 1,\n",
       "  'segmentation': [[75.29, 445.35],\n",
       "   [129.41, 428.88],\n",
       "   [152.94, 394.76],\n",
       "   [162.35, 371.24],\n",
       "   [176.47, 341.82],\n",
       "   [183.53, 330.06],\n",
       "   [243.53, 317.12],\n",
       "   [284.71, 299.47],\n",
       "   [328.24, 303.0],\n",
       "   [362.35, 327.71],\n",
       "   [401.18, 337.12],\n",
       "   [447.06, 330.06],\n",
       "   [418.82, 358.29],\n",
       "   [401.18, 400.65],\n",
       "   [387.06, 433.59],\n",
       "   [356.47, 467.71],\n",
       "   [323.53, 492.41],\n",
       "   [265.88, 519.47],\n",
       "   [211.76, 520.65],\n",
       "   [160.0, 491.24],\n",
       "   [109.41, 461.82]],\n",
       "  'area': 100,\n",
       "  'iscrowd': 0,\n",
       "  'image_id': 1,\n",
       "  'id': 1,\n",
       "  'bbox': [6, 283, 478, 279],\n",
       "  'num_keypoints': 4,\n",
       "  'keypoints': [383, 444, 2, 298, 511, 2, 439, 330, 2, 78, 457, 2]}]"
      ]
     },
     "execution_count": 20,
     "metadata": {},
     "output_type": "execute_result"
    }
   ],
   "source": [
    "process_single_json(labelme)"
   ]
  },
  {
   "cell_type": "markdown",
   "id": "a88fa786-8795-459b-9df4-d603f3c4165f",
   "metadata": {},
   "source": [
    "## images和annotations"
   ]
  },
  {
   "cell_type": "code",
   "execution_count": 21,
   "id": "2cabd690-f506-4409-91e2-72b58778be09",
   "metadata": {},
   "outputs": [],
   "source": [
    "IMG_ID = 0\n",
    "ANN_ID = 0"
   ]
  },
  {
   "cell_type": "code",
   "execution_count": 22,
   "id": "8ff03c44-d52f-4ea4-aabe-c5a431f202b7",
   "metadata": {},
   "outputs": [
    {
     "name": "stdout",
     "output_type": "stream",
     "text": [
      "2.json 已处理完毕\n",
      "3.json 已处理完毕\n",
      "5.json 已处理完毕\n",
      "4.json 已处理完毕\n",
      "1.json 已处理完毕\n"
     ]
    }
   ],
   "source": [
    "# 遍历所有 labelme 格式的 json 文件\n",
    "for labelme_json in os.listdir(): \n",
    "    \n",
    "    if labelme_json.split('.')[-1] == 'json':\n",
    "        \n",
    "        with open(labelme_json, 'r', encoding='utf-8') as f:\n",
    "            \n",
    "            labelme = json.load(f)\n",
    "            \n",
    "            ## 提取图像元数据\n",
    "            img_dict = {}\n",
    "            img_dict['file_name'] = labelme['imagePath']\n",
    "            img_dict['height'] = labelme['imageHeight']\n",
    "            img_dict['width'] = labelme['imageWidth']\n",
    "            img_dict['id'] = IMG_ID\n",
    "            coco['images'].append(img_dict)\n",
    "            \n",
    "            ## 提取框和关键点信息\n",
    "            coco_annotations = process_single_json(labelme, image_id=IMG_ID)\n",
    "            coco['annotations'] += coco_annotations\n",
    "            \n",
    "            IMG_ID += 1\n",
    "            \n",
    "            print(labelme_json, '已处理完毕')\n",
    "\n",
    "    else:\n",
    "        pass\n",
    "    \n",
    "with open('../labelme2coco.json', 'w') as f:\n",
    "    json.dump(coco, f, indent=2)"
   ]
  },
  {
   "cell_type": "code",
   "execution_count": 23,
   "id": "c44fa1ed-ecea-46e1-a571-2347a80cd945",
   "metadata": {},
   "outputs": [
    {
     "data": {
      "text/plain": [
       "{'categories': [{'supercategory': 'crab',\n",
       "   'id': 1,\n",
       "   'name': 'crab',\n",
       "   'keypoints': ['Left-Eye', 'Right-Eye', 'Left-Sharp', 'Right-Sharp'],\n",
       "   'skeleton': [[0, 2], [1, 3]]}],\n",
       " 'images': [{'file_name': '2.webp', 'height': 343, 'width': 500, 'id': 0},\n",
       "  {'file_name': '3.webp', 'height': 270, 'width': 400, 'id': 1},\n",
       "  {'file_name': '5.webp', 'height': 427, 'width': 641, 'id': 2},\n",
       "  {'file_name': '4.webp', 'height': 500, 'width': 667, 'id': 3},\n",
       "  {'file_name': '1.webp', 'height': 666, 'width': 500, 'id': 4}],\n",
       " 'annotations': [{'category_id': 1,\n",
       "   'segmentation': [],\n",
       "   'area': 100,\n",
       "   'iscrowd': 0,\n",
       "   'image_id': 0,\n",
       "   'id': 0,\n",
       "   'bbox': [10, 2, 479, 334],\n",
       "   'num_keypoints': 4,\n",
       "   'keypoints': [218, 112, 2, 283, 111, 2, 102, 188, 2, 393, 188, 2]},\n",
       "  {'category_id': 1,\n",
       "   'segmentation': [],\n",
       "   'area': 100,\n",
       "   'iscrowd': 0,\n",
       "   'image_id': 1,\n",
       "   'id': 1,\n",
       "   'bbox': [2, 13, 390, 249],\n",
       "   'num_keypoints': 4,\n",
       "   'keypoints': [162, 91, 2, 228, 92, 2, 75, 154, 2, 321, 155, 2]},\n",
       "  {'category_id': 1,\n",
       "   'segmentation': [],\n",
       "   'area': 100,\n",
       "   'iscrowd': 0,\n",
       "   'image_id': 2,\n",
       "   'id': 2,\n",
       "   'bbox': [2, 125, 245, 297],\n",
       "   'num_keypoints': 3,\n",
       "   'keypoints': [184, 180, 2, 228, 239, 2, 25, 140, 2, 0, 0, 0]},\n",
       "  {'category_id': 1,\n",
       "   'segmentation': [],\n",
       "   'area': 100,\n",
       "   'iscrowd': 0,\n",
       "   'image_id': 2,\n",
       "   'id': 3,\n",
       "   'bbox': [204, 54, 239, 370],\n",
       "   'num_keypoints': 4,\n",
       "   'keypoints': [383, 148, 2, 414, 219, 2, 233, 108, 2, 357, 393, 2]},\n",
       "  {'category_id': 1,\n",
       "   'segmentation': [],\n",
       "   'area': 100,\n",
       "   'iscrowd': 0,\n",
       "   'image_id': 2,\n",
       "   'id': 4,\n",
       "   'bbox': [352, 19, 273, 307],\n",
       "   'num_keypoints': 4,\n",
       "   'keypoints': [518, 63, 2, 562, 129, 2, 373, 41, 2, 553, 296, 2]},\n",
       "  {'category_id': 1,\n",
       "   'segmentation': [],\n",
       "   'area': 100,\n",
       "   'iscrowd': 0,\n",
       "   'image_id': 3,\n",
       "   'id': 5,\n",
       "   'bbox': [1, 28, 618, 468],\n",
       "   'num_keypoints': 4,\n",
       "   'keypoints': [316, 51, 2, 435, 63, 2, 107, 165, 2, 607, 225, 2]},\n",
       "  {'category_id': 1,\n",
       "   'segmentation': [[80.0, 203.0],\n",
       "    [125.88, 151.24],\n",
       "    [161.18, 135.94],\n",
       "    [203.53, 118.29],\n",
       "    [261.18, 127.71],\n",
       "    [311.76, 153.59],\n",
       "    [334.12, 180.65],\n",
       "    [370.59, 187.71],\n",
       "    [328.24, 197.12],\n",
       "    [283.53, 227.71],\n",
       "    [274.12, 250.06],\n",
       "    [256.47, 272.41],\n",
       "    [210.59, 281.82],\n",
       "    [163.53, 288.88],\n",
       "    [138.82, 263.0],\n",
       "    [109.41, 245.35],\n",
       "    [43.53, 238.29]],\n",
       "   'area': 100,\n",
       "   'iscrowd': 0,\n",
       "   'image_id': 4,\n",
       "   'id': 6,\n",
       "   'bbox': [11, 112, 377, 220],\n",
       "   'num_keypoints': 4,\n",
       "   'keypoints': [176, 123, 2, 224, 117, 2, 55, 236, 2, 353, 186, 2]},\n",
       "  {'category_id': 1,\n",
       "   'segmentation': [[75.29, 445.35],\n",
       "    [129.41, 428.88],\n",
       "    [152.94, 394.76],\n",
       "    [162.35, 371.24],\n",
       "    [176.47, 341.82],\n",
       "    [183.53, 330.06],\n",
       "    [243.53, 317.12],\n",
       "    [284.71, 299.47],\n",
       "    [328.24, 303.0],\n",
       "    [362.35, 327.71],\n",
       "    [401.18, 337.12],\n",
       "    [447.06, 330.06],\n",
       "    [418.82, 358.29],\n",
       "    [401.18, 400.65],\n",
       "    [387.06, 433.59],\n",
       "    [356.47, 467.71],\n",
       "    [323.53, 492.41],\n",
       "    [265.88, 519.47],\n",
       "    [211.76, 520.65],\n",
       "    [160.0, 491.24],\n",
       "    [109.41, 461.82]],\n",
       "   'area': 100,\n",
       "   'iscrowd': 0,\n",
       "   'image_id': 4,\n",
       "   'id': 7,\n",
       "   'bbox': [6, 283, 478, 279],\n",
       "   'num_keypoints': 4,\n",
       "   'keypoints': [383, 444, 2, 298, 511, 2, 439, 330, 2, 78, 457, 2]}]}"
      ]
     },
     "execution_count": 23,
     "metadata": {},
     "output_type": "execute_result"
    }
   ],
   "source": [
    "coco"
   ]
  },
  {
   "cell_type": "markdown",
   "id": "19620709-b2dc-4db5-892f-8854702333e7",
   "metadata": {},
   "source": [
    "## 验证MS COCO格式的标注"
   ]
  },
  {
   "cell_type": "code",
   "execution_count": 38,
   "id": "2f9928c0-d49c-4521-a374-fa00ad1d0443",
   "metadata": {},
   "outputs": [
    {
     "name": "stdout",
     "output_type": "stream",
     "text": [
      "Looking in indexes: https://pypi.tuna.tsinghua.edu.cn/simple\n",
      "Collecting pycocotools\n",
      "  Downloading https://pypi.tuna.tsinghua.edu.cn/packages/ef/c6/90220be3b39fbc4cbd203775ca47dd8dc97fae06fbd2b500637395621b7c/pycocotools-2.0.6.tar.gz (24 kB)\n",
      "  Installing build dependencies ... \u001b[?25ldone\n",
      "\u001b[?25h  Getting requirements to build wheel ... \u001b[?25ldone\n",
      "\u001b[?25h    Preparing wheel metadata ... \u001b[?25ldone\n",
      "\u001b[?25hRequirement already satisfied: numpy in /environment/miniconda3/lib/python3.7/site-packages (from pycocotools) (1.21.4)\n",
      "Requirement already satisfied: matplotlib>=2.1.0 in /environment/miniconda3/lib/python3.7/site-packages (from pycocotools) (3.5.0)\n",
      "Requirement already satisfied: fonttools>=4.22.0 in /environment/miniconda3/lib/python3.7/site-packages (from matplotlib>=2.1.0->pycocotools) (4.28.3)\n",
      "Requirement already satisfied: pillow>=6.2.0 in /environment/miniconda3/lib/python3.7/site-packages (from matplotlib>=2.1.0->pycocotools) (8.4.0)\n",
      "Requirement already satisfied: cycler>=0.10 in /environment/miniconda3/lib/python3.7/site-packages (from matplotlib>=2.1.0->pycocotools) (0.11.0)\n",
      "Requirement already satisfied: kiwisolver>=1.0.1 in /environment/miniconda3/lib/python3.7/site-packages (from matplotlib>=2.1.0->pycocotools) (1.3.2)\n",
      "Requirement already satisfied: pyparsing>=2.2.1 in /environment/miniconda3/lib/python3.7/site-packages (from matplotlib>=2.1.0->pycocotools) (3.0.6)\n",
      "Requirement already satisfied: python-dateutil>=2.7 in /environment/miniconda3/lib/python3.7/site-packages (from matplotlib>=2.1.0->pycocotools) (2.8.2)\n",
      "Requirement already satisfied: packaging>=20.0 in /environment/miniconda3/lib/python3.7/site-packages (from matplotlib>=2.1.0->pycocotools) (21.3)\n",
      "Requirement already satisfied: setuptools-scm>=4 in /environment/miniconda3/lib/python3.7/site-packages (from matplotlib>=2.1.0->pycocotools) (6.3.2)\n",
      "Requirement already satisfied: six>=1.5 in /environment/miniconda3/lib/python3.7/site-packages (from python-dateutil>=2.7->matplotlib>=2.1.0->pycocotools) (1.16.0)\n",
      "Requirement already satisfied: setuptools in /environment/miniconda3/lib/python3.7/site-packages (from setuptools-scm>=4->matplotlib>=2.1.0->pycocotools) (52.0.0.post20210125)\n",
      "Requirement already satisfied: tomli>=1.0.0 in /environment/miniconda3/lib/python3.7/site-packages (from setuptools-scm>=4->matplotlib>=2.1.0->pycocotools) (1.2.2)\n",
      "Building wheels for collected packages: pycocotools\n",
      "  Building wheel for pycocotools (PEP 517) ... \u001b[?25ldone\n",
      "\u001b[?25h  Created wheel for pycocotools: filename=pycocotools-2.0.6-cp37-cp37m-linux_x86_64.whl size=373954 sha256=ec57289d32ad993c8cc7551fdde48fb56c8fc59ec7b2740b54ffe7752012e781\n",
      "  Stored in directory: /home/featurize/.cache/pip/wheels/f8/94/70/046149e666bd5812b7de6b87a28dcef238f7162f4108e0b3d8\n",
      "Successfully built pycocotools\n",
      "Installing collected packages: pycocotools\n",
      "Successfully installed pycocotools-2.0.6\n"
     ]
    }
   ],
   "source": [
    "!pip install pycocotools"
   ]
  },
  {
   "cell_type": "code",
   "execution_count": 22,
   "id": "10fa6971-4520-41fd-b6ca-5560bd2dad03",
   "metadata": {},
   "outputs": [
    {
     "name": "stdout",
     "output_type": "stream",
     "text": [
      "loading annotations into memory...\n",
      "Done (t=0.00s)\n",
      "creating index...\n",
      "index created!\n"
     ]
    }
   ],
   "source": [
    "from pycocotools.coco import COCO\n",
    "\n",
    "my_coco = COCO('../labelme2coco.json')"
   ]
  },
  {
   "cell_type": "code",
   "execution_count": null,
   "id": "77ed753d-327c-4a0c-8528-a40b8b2c58bf",
   "metadata": {},
   "outputs": [],
   "source": []
  }
 ],
 "metadata": {
  "kernelspec": {
   "display_name": "Python 3 (ipykernel)",
   "language": "python",
   "name": "python3"
  },
  "language_info": {
   "codemirror_mode": {
    "name": "ipython",
    "version": 3
   },
   "file_extension": ".py",
   "mimetype": "text/x-python",
   "name": "python",
   "nbconvert_exporter": "python",
   "pygments_lexer": "ipython3",
   "version": "3.7.10"
  }
 },
 "nbformat": 4,
 "nbformat_minor": 5
}

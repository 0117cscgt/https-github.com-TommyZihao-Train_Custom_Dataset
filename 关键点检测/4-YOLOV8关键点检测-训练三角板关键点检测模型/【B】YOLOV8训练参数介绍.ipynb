{
 "cells": [
  {
   "cell_type": "markdown",
   "id": "56e787a6-fe76-496d-87d8-975379c74eed",
   "metadata": {},
   "source": [
    "# YOLOV8训练参数介绍\n",
    "\n",
    "同济子豪兄 2023-4-27"
   ]
  },
  {
   "cell_type": "markdown",
   "id": "908736bf-6db4-4c76-aee8-a364a34b2a65",
   "metadata": {
    "jp-MarkdownHeadingCollapsed": true,
    "tags": []
   },
   "source": [
    "## YOLOV8训练命令行参数\n",
    "\n",
    "https://docs.ultralytics.com/modes/train\n",
    "\n",
    "## YOLOV8-关键点检测预训练模型\n",
    "\n",
    "yolov8n-pose.pt\n",
    "\n",
    "yolov8s-pose.pt\n",
    "\n",
    "yolov8m-pose.pt\n",
    "\n",
    "yolov8l-pose.pt\n",
    "\n",
    "yolov8x-pose.pt\n",
    "\n",
    "yolov8x-pose-p6.pt\n",
    "\n",
    "## 几个比较重要的训练参数\n",
    "\n",
    "model YOLOV8模型\n",
    "\n",
    "data 配置文件（.yaml格式）\n",
    "\n",
    "pretrained 是否在预训练模型权重基础上迁移学习泛化微调\n",
    "\n",
    "epochs 训练轮次，默认100\n",
    "\n",
    "batch batch-size，默认16\n",
    "\n",
    "imgsz 输入图像宽高尺寸，默认640\n",
    "\n",
    "device 计算设备（device=0 或 device=0,1,2,3 或 device=cpu）\n",
    "\n",
    "project 项目名称，建议同一个数据集取同一个项目名称\n",
    "\n",
    "name 实验名称，建议每一次训练对应一个实验名称\n",
    "\n",
    "optimizer 梯度下降优化器，默认'SGD'，备选：['SGD', 'Adam', 'AdamW', 'RMSProp']\n",
    "\n",
    "close_mosaic 是否关闭马赛克图像扩增，默认为0，也就是开启马赛克图像扩增\n",
    "\n",
    "cls 目标检测分类损失函数cls_loss权重，默认0.5\n",
    "\n",
    "box 目标检测框定位损失函数box_loss权重，默认7.5\n",
    "\n",
    "\n",
    "dfl 类别不均衡时Dual Focal Loss损失函数dfl_loss权重，默认1.5。\n",
    "\n",
    "> DFL损失函数论文：Generalized Focal Loss: Learning Qualified and Distributed Bounding Boxes for Dense Object Detection\n",
    ">\n",
    "> DFL损失函数知乎博客：https://zhuanlan.zhihu.com/p/147691786\n",
    "\n",
    "\n",
    "pose 关键点定位损失函数pose_loss权重，默认12.0（只在关键点检测训练时用到）\n",
    "\n",
    "kobj 关键点置信度损失函数keypoint_loss权重，默认2.0（只在关键点检测训练时用到）"
   ]
  },
  {
   "cell_type": "markdown",
   "id": "0be6f276-d037-4e97-9c38-e53ae026b886",
   "metadata": {},
   "source": [
    "## 选择迁移学习训练方式\n",
    "\n",
    "斯坦福CS231N【迁移学习】中文精讲：https://www.bilibili.com/video/BV1K7411W7So\n",
    "\n",
    "斯坦福CS231N【迁移学习】官方笔记：https://cs231n.github.io/transfer-learning\n",
    "\n",
    "如果你的数据集和MS COCO数据集的图像域**类似**（街景、动植物、生活用品），可以保留预训练模型权重，在自己的数据集上迁移学习微调分类输出层或所有层。站在巨人的肩膀上，复用预训练模型在MS COCO数据集上学习到的图像特征。（Transfer Learning, Fine Tuning）\n",
    "\n",
    "如果你的数据集和MS COCO数据集的图像域**不类似**（医疗影像、显微镜图像、工业检测、天文照片、动画、油画），可以随机初始化模型权重，在自己的数据集上重新训练所有层。（From Scratch）。或者冻结底层权重，只重新训练顶层，复用预训练模型在MS COCO数据集上学习到的底层图像特征。"
   ]
  },
  {
   "cell_type": "code",
   "execution_count": null,
   "id": "b6eefa93-0c3f-4540-923d-df3ed28c6819",
   "metadata": {},
   "outputs": [],
   "source": []
  }
 ],
 "metadata": {
  "kernelspec": {
   "display_name": "Python 3 (ipykernel)",
   "language": "python",
   "name": "python3"
  },
  "language_info": {
   "codemirror_mode": {
    "name": "ipython",
    "version": 3
   },
   "file_extension": ".py",
   "mimetype": "text/x-python",
   "name": "python",
   "nbconvert_exporter": "python",
   "pygments_lexer": "ipython3",
   "version": "3.7.10"
  }
 },
 "nbformat": 4,
 "nbformat_minor": 5
}

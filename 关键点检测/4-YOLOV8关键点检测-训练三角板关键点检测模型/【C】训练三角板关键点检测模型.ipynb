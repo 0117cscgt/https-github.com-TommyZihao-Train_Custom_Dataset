{
 "cells": [
  {
   "cell_type": "markdown",
   "id": "4f30b1ab-f463-44b6-a60f-bc4f59d992d8",
   "metadata": {},
   "source": [
    "# 训练关键点检测模型\n",
    "\n",
    "同济子豪兄 2023-4-26"
   ]
  },
  {
   "cell_type": "markdown",
   "id": "b4e186da-9b1f-4a7c-ac9a-bdc8f72ebead",
   "metadata": {},
   "source": [
    "## 如果遇到报错`CUDA out of memory`，内核-关闭所有内核，或调小`batch`参数"
   ]
  },
  {
   "cell_type": "markdown",
   "id": "6c380505-d1a1-4710-a358-57e742a24a78",
   "metadata": {},
   "source": [
    "## 训练`yolov8n-pose`关键点检测模型"
   ]
  },
  {
   "cell_type": "code",
   "execution_count": 1,
   "id": "076b2ada-7abf-416a-bdec-0529fdaee076",
   "metadata": {},
   "outputs": [],
   "source": [
    "# yolov8n-pose模型，迁移学习微调\n",
    "!yolo pose train data=Triangle_215.yaml model=yolov8n-pose.pt pretrained=True project=Triangle_215 name=n_pretrain epochs=50 batch=16 device=0\n"
   ]
  },
  {
   "cell_type": "code",
   "execution_count": 9,
   "id": "fd84c09d-9d7a-4a0e-9677-01d41e3d2aef",
   "metadata": {},
   "outputs": [],
   "source": [
    "# yolov8n-pose模型，随机初始权重，从头重新学习\n",
    "!yolo pose train data=Triangle_215.yaml model=yolov8n-pose.pt project=Triangle_215 name=n_scratch epochs=50 batch=16 device=0\n"
   ]
  },
  {
   "cell_type": "markdown",
   "id": "2b860948-9978-4b4f-8f1f-93efe458ceee",
   "metadata": {},
   "source": [
    "## 训练`yolov8s-pose`关键点检测模型"
   ]
  },
  {
   "cell_type": "code",
   "execution_count": 10,
   "id": "1956139d-b4ac-4d99-8006-3c11dae64467",
   "metadata": {},
   "outputs": [],
   "source": [
    "# yolov8s-pose模型，迁移学习微调\n",
    "!yolo pose train data=Triangle_215.yaml model=yolov8s-pose.pt pretrained=True project=Triangle_215 name=s_pretrain epochs=50 batch=16 device=0\n"
   ]
  },
  {
   "cell_type": "code",
   "execution_count": 11,
   "id": "67d3af11-f7c2-4e8f-95f6-26526d857e76",
   "metadata": {},
   "outputs": [],
   "source": [
    "# yolov8s-pose模型，随机初始权重，从头重新学习\n",
    "!yolo pose train data=Triangle_215.yaml model=yolov8s-pose.pt project=Triangle_215 name=s_scratch epochs=50 batch=16 device=0\n"
   ]
  },
  {
   "cell_type": "markdown",
   "id": "760e061f-15e7-4b40-8e3f-1c116fb65f54",
   "metadata": {},
   "source": [
    "## 训练`yolov8m-pose`关键点检测模型"
   ]
  },
  {
   "cell_type": "code",
   "execution_count": 12,
   "id": "738ab7fc-12aa-4b28-b9fa-fbd6f09d1740",
   "metadata": {},
   "outputs": [],
   "source": [
    "# yolov8m-pose模型，迁移学习微调\n",
    "!yolo pose train data=Triangle_215.yaml model=yolov8m-pose.pt pretrained=True project=Triangle_215 name=m_pretrain epochs=50 batch=16 device=0\n"
   ]
  },
  {
   "cell_type": "code",
   "execution_count": 13,
   "id": "213871ab-b816-4bed-9b51-26c8956c0c79",
   "metadata": {},
   "outputs": [],
   "source": [
    "# yolov8m-pose模型，随机初始权重，从头重新学习\n",
    "!yolo pose train data=Triangle_215.yaml model=yolov8m-pose.pt project=Triangle_215 name=m_scratch epochs=50 batch=16 device=0\n"
   ]
  },
  {
   "cell_type": "markdown",
   "id": "8214d1a7-8693-4816-8363-aae3d652fc9a",
   "metadata": {},
   "source": [
    "## 训练`yolov8l-pose`关键点检测模型"
   ]
  },
  {
   "cell_type": "code",
   "execution_count": 14,
   "id": "3549894f-b615-4666-979e-e2bec57d030f",
   "metadata": {},
   "outputs": [],
   "source": [
    "# yolov8l-pose模型，迁移学习微调\n",
    "!yolo pose train data=Triangle_215.yaml model=yolov8l-pose.pt pretrained=True project=Triangle_215 name=l_pretrain epochs=50 batch=4 device=0\n"
   ]
  },
  {
   "cell_type": "code",
   "execution_count": 15,
   "id": "bf7f1266-0953-43b3-92b5-529562c11310",
   "metadata": {},
   "outputs": [],
   "source": [
    "# yolov8l-pose模型，随机初始权重，从头重新学习\n",
    "!yolo pose train data=Triangle_215.yaml model=yolov8l-pose.pt project=Triangle_215 name=l_scratch epochs=50 batch=4 device=0\n"
   ]
  },
  {
   "cell_type": "markdown",
   "id": "2e0850c6-019d-421e-861e-55ae1260992e",
   "metadata": {},
   "source": [
    "## 训练`yolov8x-pose`关键点检测模型"
   ]
  },
  {
   "cell_type": "code",
   "execution_count": 16,
   "id": "66dd7ca3-d8b6-4ff8-8018-dd9209a369e5",
   "metadata": {},
   "outputs": [],
   "source": [
    "# yolov8x-pose模型，迁移学习微调\n",
    "!yolo pose train data=Triangle_215.yaml model=yolov8x-pose.pt pretrained=True project=Triangle_215 name=x_pretrain epochs=50 batch=4 device=0\n"
   ]
  },
  {
   "cell_type": "code",
   "execution_count": 17,
   "id": "03b95745-401e-4f47-9352-db052d2761ae",
   "metadata": {},
   "outputs": [],
   "source": [
    "# yolov8x-pose模型，随机初始权重，从头重新学习\n",
    "!yolo pose train data=Triangle_215.yaml model=yolov8x-pose.pt project=Triangle_215 name=x_scratch epochs=50 batch=4 device=0\n"
   ]
  },
  {
   "cell_type": "markdown",
   "id": "809e8aab-1cd1-49b5-8aec-f1fc57b80c5e",
   "metadata": {},
   "source": [
    "## 训练`yolov8x-pose-p6`关键点检测模型"
   ]
  },
  {
   "cell_type": "code",
   "execution_count": 18,
   "id": "fcd68d9e-51f5-4ea5-96df-217541840cd2",
   "metadata": {},
   "outputs": [],
   "source": [
    "# yolov8x-pose-p6模型，迁移学习微调\n",
    "!yolo pose train data=Triangle_215.yaml model=yolov8x-pose-p6.pt pretrained=True imgsz=1280 project=Triangle_215 name=x_p6_pretrain epochs=50 batch=2 device=0\n"
   ]
  },
  {
   "cell_type": "code",
   "execution_count": 19,
   "id": "fe1263fe-3ea6-4de1-91b6-0de9cfbf066f",
   "metadata": {},
   "outputs": [],
   "source": [
    "# yolov8x-pose-p6模型，随机初始权重，从头重新学习\n",
    "!yolo pose train data=Triangle_215.yaml model=yolov8x-pose-p6.pt imgsz=1280 project=Triangle_215 name=x_p6_scratch epochs=50 batch=2 device=0\n"
   ]
  },
  {
   "cell_type": "markdown",
   "id": "0dc288f9-1202-4aa1-8589-97a2e6c2753f",
   "metadata": {},
   "source": [
    "## 得到模型权重.pt文件"
   ]
  },
  {
   "cell_type": "code",
   "execution_count": null,
   "id": "0aa1399a-99f6-49b1-9eea-5d4c1b939764",
   "metadata": {},
   "outputs": [],
   "source": [
    "# !wget https://zihao-download.obs.cn-east-3.myhuaweicloud.com/yolov8/datasets/Triangle_215_Dataset/checkpoint/Triangle_215_yolov8n_pose_pretrain.pt -P checkpoint\n",
    "\n",
    "# !wget https://zihao-download.obs.cn-east-3.myhuaweicloud.com/yolov8/datasets/Triangle_215_Dataset/checkpoint/Triangle_215_yolov8s_pretrain.pt -P checkpoint\n",
    "\n",
    "# !wget https://zihao-download.obs.cn-east-3.myhuaweicloud.com/yolov8/datasets/Triangle_215_Dataset/checkpoint/Triangle_215_yolov8m_pretrain.pt -P checkpoint\n",
    "\n",
    "# !wget https://zihao-download.obs.cn-east-3.myhuaweicloud.com/yolov8/datasets/Triangle_215_Dataset/checkpoint/Triangle_215_yolov8l_pretrain.pt -P checkpoint\n",
    "\n",
    "# !wget https://zihao-download.obs.cn-east-3.myhuaweicloud.com/yolov8/datasets/Triangle_215_Dataset/checkpoint/Triangle_215_yolov8x_pretrain.pt -P checkpoint\n",
    "\n",
    "# !wget https://zihao-download.obs.cn-east-3.myhuaweicloud.com/yolov8/datasets/Triangle_215_Dataset/checkpoint/Triangle_215_yolov8x_p6_pretrain.pt -P checkpoint\n"
   ]
  }
 ],
 "metadata": {
  "kernelspec": {
   "display_name": "Python 3 (ipykernel)",
   "language": "python",
   "name": "python3"
  },
  "language_info": {
   "codemirror_mode": {
    "name": "ipython",
    "version": 3
   },
   "file_extension": ".py",
   "mimetype": "text/x-python",
   "name": "python",
   "nbconvert_exporter": "python",
   "pygments_lexer": "ipython3",
   "version": "3.7.10"
  }
 },
 "nbformat": 4,
 "nbformat_minor": 5
}

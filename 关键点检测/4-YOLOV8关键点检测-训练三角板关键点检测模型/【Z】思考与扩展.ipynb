{
 "cells": [
  {
   "cell_type": "markdown",
   "id": "100c689f-437f-4d3c-8b03-c8ddeef41dca",
   "metadata": {},
   "source": [
    "# 思考与扩展\n",
    "\n",
    "同济子豪兄 2023-4-27"
   ]
  },
  {
   "cell_type": "markdown",
   "id": "24096610-f7fb-47f6-8b27-69cc2823e8dd",
   "metadata": {},
   "source": [
    "## 数据集\n",
    "\n",
    "YOLO格式的关键点检测标注，包含了哪些信息？和yaml配置文件有什么关系？\n",
    "\n",
    "严禁把测试集图像用于训练（反向传播更新权重）\n",
    "\n",
    "验证集和测试集是什么关系？\n",
    "\n",
    "## 损失函数\n",
    "\n",
    "cls_loss、box_loss、dfl_loss、pose_loss、keypoint_loss\n",
    "\n",
    "这几项损失函数各有什么作用？哪些是关键点检测任务特有的损失函数？\n",
    "\n",
    "## 训练细节\n",
    "\n",
    "保留预训练模型权重，微调效果好，还是随机初始化权重，从头训练效果好？\n",
    "\n",
    "imgsz 输入图像宽高尺寸，对训练效果有什么影响？\n",
    "\n",
    "马赛克数据扩增有什么作用？\n",
    "\n",
    "收敛越快的模型，效果也越好，你是否认同？\n",
    "\n",
    "## 测试集评估指标\n",
    "\n",
    "抛开baseline基准模型谈性能（速度、精度），都是耍流氓\n",
    "\n",
    "测试集上的准确率越高，模型就一定越好吗？\n",
    "\n",
    "对于关键点检测，还可以计算哪些测试集上的评估指标？`PCK@0.5`"
   ]
  },
  {
   "cell_type": "markdown",
   "id": "3e4f6f41-3dff-415f-99f7-09f836814e95",
   "metadata": {},
   "source": [
    "## 创新点展望\n",
    "\n",
    "更换不同的预训练模型，比较不同尺寸模型微调后的训练效果\n",
    "\n",
    "分别尝试不同的迁移学习训练配置\n",
    "\n",
    "更换不同的优化器、学习率\n",
    "\n",
    "使用其它关键点检测算法，例如MMPose：https://github.com/open-mmlab/mmpose\n",
    "\n",
    "是否适用于多个框（遮挡）"
   ]
  },
  {
   "cell_type": "markdown",
   "id": "797c1148-ac17-42a7-a826-6c4a5cd2f5f3",
   "metadata": {},
   "source": [
    "## 训练好关键点检测模型之后，做什么？\n",
    "\n",
    "在新图像、视频、摄像头实时画面预测\n",
    "\n",
    "模型转ONNX、TensorRT、OpenVino、CoreML、TFLite、Paddle\n",
    "\n",
    "模型部署：智能手机APP、开发板、浏览器、服务器、微信小程序\n",
    "\n",
    "> 预告：安卓手机部署工具：NCNN、aidlux.com"
   ]
  },
  {
   "cell_type": "code",
   "execution_count": null,
   "id": "c69ca847-17cb-4dcd-bc7e-1b9e2b0db7ff",
   "metadata": {},
   "outputs": [],
   "source": []
  }
 ],
 "metadata": {
  "kernelspec": {
   "display_name": "Python 3 (ipykernel)",
   "language": "python",
   "name": "python3"
  },
  "language_info": {
   "codemirror_mode": {
    "name": "ipython",
    "version": 3
   },
   "file_extension": ".py",
   "mimetype": "text/x-python",
   "name": "python",
   "nbconvert_exporter": "python",
   "pygments_lexer": "ipython3",
   "version": "3.7.10"
  }
 },
 "nbformat": 4,
 "nbformat_minor": 5
}

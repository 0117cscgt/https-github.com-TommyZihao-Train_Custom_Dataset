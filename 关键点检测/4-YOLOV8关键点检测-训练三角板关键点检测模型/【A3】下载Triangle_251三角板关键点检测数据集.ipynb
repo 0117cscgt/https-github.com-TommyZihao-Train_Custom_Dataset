{
 "cells": [
  {
   "cell_type": "markdown",
   "id": "cb1a1e40-d82b-4457-bec9-c6925030f095",
   "metadata": {},
   "source": [
    "# 下载Triangle_251三角板关键点检测数据集\n",
    "\n",
    "同济子豪兄 2023-4-26"
   ]
  },
  {
   "cell_type": "markdown",
   "id": "db1eaaf3-8e31-48a0-882e-fd40de53c631",
   "metadata": {},
   "source": [
    "## 下载数据集"
   ]
  },
  {
   "cell_type": "code",
   "execution_count": 1,
   "id": "af6d0d79-4371-436e-84fa-00fbb6205ee0",
   "metadata": {},
   "outputs": [
    {
     "name": "stdout",
     "output_type": "stream",
     "text": [
      "--2023-04-28 11:14:13--  https://zihao-download.obs.cn-east-3.myhuaweicloud.com/yolov8/datasets/Triangle_215_Dataset/Triangle_215_Keypoint_YOLO.zip\n",
      "正在连接 172.16.0.13:5848... 已连接。\n",
      "已发出 Proxy 请求，正在等待回应... 200 OK\n",
      "长度： 337545608 (322M) [application/zip]\n",
      "正在保存至: “datasets/Triangle_215_Keypoint_YOLO.zip”\n",
      "\n",
      "Triangle_215_Keypoi 100%[===================>] 321.91M  38.9MB/s    用时 8.6s    \n",
      "\n",
      "2023-04-28 11:14:22 (37.6 MB/s) - 已保存 “datasets/Triangle_215_Keypoint_YOLO.zip” [337545608/337545608])\n",
      "\n"
     ]
    }
   ],
   "source": [
    "# 下载数据集至 datasets 目录\n",
    "!rm -rf datasets/Triangle_215_Keypoint_YOLO.zip datasets/Triangle_215_Keypoint_YOLO\n",
    "!wget https://zihao-download.obs.cn-east-3.myhuaweicloud.com/yolov8/datasets/Triangle_215_Dataset/Triangle_215_Keypoint_YOLO.zip -P datasets"
   ]
  },
  {
   "cell_type": "markdown",
   "id": "38858435-c370-4ca0-87bc-111bddae02ec",
   "metadata": {},
   "source": [
    "## 解压数据集"
   ]
  },
  {
   "cell_type": "code",
   "execution_count": 2,
   "id": "084fe5ff-88fa-4f9b-94c1-33e1798383df",
   "metadata": {},
   "outputs": [],
   "source": [
    "# 解压\n",
    "!unzip datasets/Triangle_215_Keypoint_YOLO.zip -d datasets >> /dev/null\n",
    "\n",
    "# 删除压缩包\n",
    "!rm -rf datasets/Triangle_215_Keypoint_YOLO.zip"
   ]
  },
  {
   "cell_type": "markdown",
   "id": "e4ec3336-bfbe-4cdd-b025-162c44904471",
   "metadata": {},
   "source": [
    "## 下载yaml配置文件"
   ]
  },
  {
   "cell_type": "code",
   "execution_count": 3,
   "id": "da95fe9e-3f66-4b37-aa1d-07872985f0ca",
   "metadata": {},
   "outputs": [
    {
     "name": "stdout",
     "output_type": "stream",
     "text": [
      "--2023-04-28 11:16:31--  https://zihao-download.obs.cn-east-3.myhuaweicloud.com/yolov8/datasets/Triangle_215_Dataset/Triangle_215.yaml\n",
      "正在连接 172.16.0.13:5848... 已连接。\n",
      "已发出 Proxy 请求，正在等待回应... 200 OK\n",
      "长度： 483 [text/yaml]\n",
      "正在保存至: “Triangle_215.yaml”\n",
      "\n",
      "Triangle_215.yaml   100%[===================>]     483  --.-KB/s    用时 0s      \n",
      "\n",
      "2023-04-28 11:16:31 (33.7 MB/s) - 已保存 “Triangle_215.yaml” [483/483])\n",
      "\n"
     ]
    }
   ],
   "source": [
    "!wget https://zihao-download.obs.cn-east-3.myhuaweicloud.com/yolov8/datasets/Triangle_215_Dataset/Triangle_215.yaml"
   ]
  },
  {
   "cell_type": "markdown",
   "id": "7d45843a-0735-48f6-8337-fa923fe3a815",
   "metadata": {},
   "source": [
    "## 删除系统自动生成的多余文件"
   ]
  },
  {
   "cell_type": "markdown",
   "id": "b5f1c944-1497-4d3f-932c-d043a720c6a4",
   "metadata": {},
   "source": [
    "### 查看待删除的多余文件"
   ]
  },
  {
   "cell_type": "code",
   "execution_count": 3,
   "id": "cf7bd7ac-6682-4c65-8ce3-b1d52f942bf6",
   "metadata": {},
   "outputs": [],
   "source": [
    "!find . -iname '__MACOSX'"
   ]
  },
  {
   "cell_type": "code",
   "execution_count": 4,
   "id": "9df449b0-782f-4376-8b05-c141979d0461",
   "metadata": {},
   "outputs": [],
   "source": [
    "!find . -iname '.DS_Store'"
   ]
  },
  {
   "cell_type": "code",
   "execution_count": 5,
   "id": "f78dc839-548d-4b46-8338-368dcfee1821",
   "metadata": {},
   "outputs": [
    {
     "name": "stdout",
     "output_type": "stream",
     "text": [
      "./.ipynb_checkpoints\n",
      "./Triangle_215/n_scratch/weights/.ipynb_checkpoints\n",
      "./Triangle_215/.ipynb_checkpoints\n"
     ]
    }
   ],
   "source": [
    "!find . -iname '.ipynb_checkpoints'"
   ]
  },
  {
   "cell_type": "markdown",
   "id": "7ec649ab-d3d4-451e-986e-d87720f73a5e",
   "metadata": {},
   "source": [
    "### 删除多余文件"
   ]
  },
  {
   "cell_type": "code",
   "execution_count": 8,
   "id": "0d853448-0e94-4216-9699-30dd835c56ed",
   "metadata": {},
   "outputs": [],
   "source": [
    "!for i in `find . -iname '__MACOSX'`; do rm -rf $i;done"
   ]
  },
  {
   "cell_type": "code",
   "execution_count": 9,
   "id": "dfbf99c9-ef2b-4d4c-b2a3-8f568f2b9ec0",
   "metadata": {},
   "outputs": [],
   "source": [
    "!for i in `find . -iname '.DS_Store'`; do rm -rf $i;done"
   ]
  },
  {
   "cell_type": "code",
   "execution_count": 10,
   "id": "9debf0ea-f96b-41b8-8a36-ba6909fdcec1",
   "metadata": {},
   "outputs": [],
   "source": [
    "!for i in `find . -iname '.ipynb_checkpoints'`; do rm -rf $i;done"
   ]
  },
  {
   "cell_type": "markdown",
   "id": "ce08b044-b71e-463a-9122-7eccdc00004d",
   "metadata": {},
   "source": [
    "### 验证多余文件已删除"
   ]
  },
  {
   "cell_type": "code",
   "execution_count": 11,
   "id": "ad67020c-1abc-4468-ab9f-9f79e27e4821",
   "metadata": {},
   "outputs": [],
   "source": [
    "!find . -iname '__MACOSX'"
   ]
  },
  {
   "cell_type": "code",
   "execution_count": 12,
   "id": "5d5beb04-183a-4c22-b1d2-77a80c131a0e",
   "metadata": {},
   "outputs": [],
   "source": [
    "!find . -iname '.DS_Store'"
   ]
  },
  {
   "cell_type": "code",
   "execution_count": 13,
   "id": "ab2b69fe-bf09-4cea-add8-fbc56bafde8e",
   "metadata": {},
   "outputs": [],
   "source": [
    "!find . -iname '.ipynb_checkpoints'"
   ]
  },
  {
   "cell_type": "markdown",
   "id": "f87b06b8-27ba-453d-9a53-1fd917be2df4",
   "metadata": {},
   "source": [
    "## 查看目录结构"
   ]
  },
  {
   "cell_type": "code",
   "execution_count": 18,
   "id": "34d87e0f-a21a-47f3-a8a8-c5ffa67d328e",
   "metadata": {},
   "outputs": [
    {
     "name": "stdout",
     "output_type": "stream",
     "text": [
      "📁 0428录制/\n",
      "├─📄 【A1】关于本教程.ipynb\n",
      "├─📄 【B】YOLOV8训练参数介绍.ipynb\n",
      "├─📄 【A2】安装配置YOLOV8环境.ipynb\n",
      "├─📄 【C】训练三角板关键点检测模型.ipynb\n",
      "├─📄 【D】训练日志和评估指标可视化.ipynb\n",
      "├─📄 【Z】思考与扩展.ipynb\n",
      "├─📄 【A3】下载Triangle_251三角板关键点检测数据集.ipynb\n",
      "├─📁 datasets/\n",
      "│ └─📁 Triangle_215_Keypoint_YOLO/\n",
      "│   ├─📁 images/\n",
      "│   └─📁 labels/\n",
      "└─📄 Triangle_215.yaml\n"
     ]
    }
   ],
   "source": [
    "import seedir as sd\n",
    "sd.seedir('.', style='emoji', depthlimit=3)"
   ]
  },
  {
   "cell_type": "code",
   "execution_count": null,
   "id": "6d733ad1-d582-4aae-bfb4-5afb90ddd90b",
   "metadata": {},
   "outputs": [],
   "source": []
  }
 ],
 "metadata": {
  "kernelspec": {
   "display_name": "Python 3 (ipykernel)",
   "language": "python",
   "name": "python3"
  },
  "language_info": {
   "codemirror_mode": {
    "name": "ipython",
    "version": 3
   },
   "file_extension": ".py",
   "mimetype": "text/x-python",
   "name": "python",
   "nbconvert_exporter": "python",
   "pygments_lexer": "ipython3",
   "version": "3.7.10"
  }
 },
 "nbformat": 4,
 "nbformat_minor": 5
}

{
 "cells": [
  {
   "cell_type": "markdown",
   "id": "bd46438d-2445-4735-af54-7a23f7be9d12",
   "metadata": {
    "tags": []
   },
   "source": [
    "# Labelme标注关键点检测数据集-大纲\n",
    "\n",
    "同济子豪兄 2023-4-23"
   ]
  },
  {
   "cell_type": "markdown",
   "id": "d0ef2d03-e712-485f-9ba0-32dfb20dff27",
   "metadata": {
    "tags": []
   },
   "source": [
    "## 关键点检测标注背景介绍\n",
    "\n",
    "## 样例数据集：30度直角三角板关键点检测\n",
    "\n",
    "## 标注工具labelme介绍\n",
    "\n",
    "## 标注样例数据集\n",
    "\n",
    "## labelme标注格式介绍\n",
    "\n",
    "## 可视化Labelme标注\n",
    "\n",
    "## 关键点检测数据集探索挖掘\n",
    "\n",
    "## YOLO格式标注和MS COCO格式标注讲解\n",
    "\n",
    "## Labelme格式标注转YOLO格式和MS COCO格式\n",
    "\n",
    "## 开源关键点检测数据集"
   ]
  },
  {
   "cell_type": "code",
   "execution_count": null,
   "id": "ed2debb3-3d16-4b78-b75c-18ea76d546c6",
   "metadata": {},
   "outputs": [],
   "source": []
  }
 ],
 "metadata": {
  "kernelspec": {
   "display_name": "Python 3 (ipykernel)",
   "language": "python",
   "name": "python3"
  },
  "language_info": {
   "codemirror_mode": {
    "name": "ipython",
    "version": 3
   },
   "file_extension": ".py",
   "mimetype": "text/x-python",
   "name": "python",
   "nbconvert_exporter": "python",
   "pygments_lexer": "ipython3",
   "version": "3.7.10"
  }
 },
 "nbformat": 4,
 "nbformat_minor": 5
}

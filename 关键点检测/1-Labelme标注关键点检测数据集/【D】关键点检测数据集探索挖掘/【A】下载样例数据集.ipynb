{
 "cells": [
  {
   "cell_type": "markdown",
   "id": "e1afa291-010a-4aab-927c-1ce58ae200c7",
   "metadata": {},
   "source": [
    "# 下载样例数据集\n",
    "\n",
    "同济子豪兄 2023-4-23"
   ]
  },
  {
   "cell_type": "markdown",
   "id": "ae3f328e-f0bb-4a46-897d-4fc37eac29bc",
   "metadata": {},
   "source": [
    "## 下载数据集"
   ]
  },
  {
   "cell_type": "code",
   "execution_count": 10,
   "id": "a1149ac4-edbb-4390-add9-316370a7f12f",
   "metadata": {},
   "outputs": [
    {
     "name": "stdout",
     "output_type": "stream",
     "text": [
      "--2023-04-24 18:31:47--  https://zihao-download.obs.cn-east-3.myhuaweicloud.com/yolov8/datasets/Triangle_215_Dataset/Triangle_215_Keypoint_Labelme.zip\n",
      "正在连接 172.16.0.13:5848... 已连接。\n",
      "已发出 Proxy 请求，正在等待回应... 200 OK\n",
      "长度： 815350815 (778M) [application/zip]\n",
      "正在保存至: “Triangle_215_Keypoint_Labelme.zip”\n",
      "\n",
      "Triangle_215_Keypoi 100%[===================>] 777.58M  55.3MB/s    用时 14s     \n",
      "\n",
      "2023-04-24 18:32:02 (53.9 MB/s) - 已保存 “Triangle_215_Keypoint_Labelme.zip” [815350815/815350815])\n",
      "\n"
     ]
    }
   ],
   "source": [
    "# 下载数据集至 datasets 目录\n",
    "!rm -rf Triangle_215_Keypoint_Labelme.zip Triangle_215_Keypoint_Labelme\n",
    "!wget https://zihao-download.obs.cn-east-3.myhuaweicloud.com/yolov8/datasets/Triangle_215_Dataset/Triangle_215_Keypoint_Labelme.zip"
   ]
  },
  {
   "cell_type": "markdown",
   "id": "b991cfff-9fa4-4f3d-a8d3-6943a3f9c7a1",
   "metadata": {},
   "source": [
    "## 解压数据集"
   ]
  },
  {
   "cell_type": "code",
   "execution_count": 11,
   "id": "1da160bb-b30e-4aab-a8f6-77b5084c1485",
   "metadata": {},
   "outputs": [],
   "source": [
    "# 解压\n",
    "!unzip Triangle_215_Keypoint_Labelme.zip >> /dev/null\n",
    "\n",
    "# 删除压缩包\n",
    "!rm -rf Triangle_215_Keypoint_Labelme.zip"
   ]
  },
  {
   "cell_type": "markdown",
   "id": "635df350-76d9-4e47-ae8f-8deca86af979",
   "metadata": {},
   "source": [
    "## 删除系统自动生成的多余文件"
   ]
  },
  {
   "cell_type": "markdown",
   "id": "7e6295a8-b2ab-4f4f-9fb5-9d03ab053c10",
   "metadata": {},
   "source": [
    "### 查看待删除的多余文件"
   ]
  },
  {
   "cell_type": "code",
   "execution_count": 12,
   "id": "cf7bd7ac-6682-4c65-8ce3-b1d52f942bf6",
   "metadata": {},
   "outputs": [],
   "source": [
    "!find . -iname '__MACOSX'"
   ]
  },
  {
   "cell_type": "code",
   "execution_count": 13,
   "id": "9df449b0-782f-4376-8b05-c141979d0461",
   "metadata": {},
   "outputs": [
    {
     "name": "stdout",
     "output_type": "stream",
     "text": [
      "./Triangle_215_Keypoint_Labelme/.DS_Store\n",
      "./Triangle_215_Keypoint_Labelme/images/.DS_Store\n"
     ]
    }
   ],
   "source": [
    "!find . -iname '.DS_Store'"
   ]
  },
  {
   "cell_type": "code",
   "execution_count": 14,
   "id": "f78dc839-548d-4b46-8338-368dcfee1821",
   "metadata": {},
   "outputs": [
    {
     "name": "stdout",
     "output_type": "stream",
     "text": [
      "./.ipynb_checkpoints\n"
     ]
    }
   ],
   "source": [
    "!find . -iname '.ipynb_checkpoints'"
   ]
  },
  {
   "cell_type": "markdown",
   "id": "c38a3c91-a043-47f5-9abe-1832dda5f527",
   "metadata": {},
   "source": [
    "### 删除多余文件"
   ]
  },
  {
   "cell_type": "code",
   "execution_count": 15,
   "id": "0d853448-0e94-4216-9699-30dd835c56ed",
   "metadata": {},
   "outputs": [],
   "source": [
    "!for i in `find . -iname '__MACOSX'`; do rm -rf $i;done"
   ]
  },
  {
   "cell_type": "code",
   "execution_count": 16,
   "id": "dfbf99c9-ef2b-4d4c-b2a3-8f568f2b9ec0",
   "metadata": {},
   "outputs": [],
   "source": [
    "!for i in `find . -iname '.DS_Store'`; do rm -rf $i;done"
   ]
  },
  {
   "cell_type": "code",
   "execution_count": 17,
   "id": "9debf0ea-f96b-41b8-8a36-ba6909fdcec1",
   "metadata": {},
   "outputs": [],
   "source": [
    "!for i in `find . -iname '.ipynb_checkpoints'`; do rm -rf $i;done"
   ]
  },
  {
   "cell_type": "markdown",
   "id": "24d726e8-47ae-4ce0-9504-577008490e5d",
   "metadata": {},
   "source": [
    "### 验证多余文件已删除"
   ]
  },
  {
   "cell_type": "code",
   "execution_count": 18,
   "id": "ad67020c-1abc-4468-ab9f-9f79e27e4821",
   "metadata": {},
   "outputs": [],
   "source": [
    "!find . -iname '__MACOSX'"
   ]
  },
  {
   "cell_type": "code",
   "execution_count": 19,
   "id": "5d5beb04-183a-4c22-b1d2-77a80c131a0e",
   "metadata": {},
   "outputs": [],
   "source": [
    "!find . -iname '.DS_Store'"
   ]
  },
  {
   "cell_type": "code",
   "execution_count": 20,
   "id": "ab2b69fe-bf09-4cea-add8-fbc56bafde8e",
   "metadata": {},
   "outputs": [],
   "source": [
    "!find . -iname '.ipynb_checkpoints'"
   ]
  },
  {
   "cell_type": "code",
   "execution_count": null,
   "id": "cfde25f4-3de6-4d18-ac39-f82cd4623cf3",
   "metadata": {},
   "outputs": [],
   "source": []
  }
 ],
 "metadata": {
  "kernelspec": {
   "display_name": "Python 3 (ipykernel)",
   "language": "python",
   "name": "python3"
  },
  "language_info": {
   "codemirror_mode": {
    "name": "ipython",
    "version": 3
   },
   "file_extension": ".py",
   "mimetype": "text/x-python",
   "name": "python",
   "nbconvert_exporter": "python",
   "pygments_lexer": "ipython3",
   "version": "3.7.10"
  }
 },
 "nbformat": 4,
 "nbformat_minor": 5
}

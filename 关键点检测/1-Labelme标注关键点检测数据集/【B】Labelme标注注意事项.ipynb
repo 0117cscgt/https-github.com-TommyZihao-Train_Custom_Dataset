{
 "cells": [
  {
   "cell_type": "markdown",
   "id": "d435b13a-c122-4164-9983-51a1ad207f5e",
   "metadata": {},
   "source": [
    "# Labelme标注注意事项\n",
    "\n",
    "同济子豪兄 2023-4-16\n",
    "\n",
    "## 标注前\n",
    "\n",
    "1. 标注前，需开启`Save Automatically`自动保存\n",
    "\n",
    "2. 标注前，需关闭`Save With Image Data`将图像本身保存至标签文件中\n",
    "\n",
    "## 目标检测框、关键点、分割多段线\n",
    "\n",
    "3. 目标检测，画外接矩形框。框的两个点，必须分别是左上角和右下角，顺序不能错。\n",
    "\n",
    "4. 每一个关键点`必须且只能落入一个框中`，不落入第二个框中\n",
    "\n",
    "5. 可以标分割多段线（polygon），但多段线的第一个点`必须且只能落入一个框中`\n",
    "\n",
    "## 标注后确认\n",
    "\n",
    "6. Labelme标注的json文件最后`imagePath`图像路径，**只能**是图像名字本身，**不能**有其它的路径和符号（例如`../`、`\\\\`之类的）。也就是说，图像和标注应该在同一级目录"
   ]
  },
  {
   "cell_type": "markdown",
   "id": "04c54f12-8868-49b3-96c6-d3250a997aae",
   "metadata": {},
   "source": [
    "## 安装pycocotools"
   ]
  },
  {
   "cell_type": "code",
   "execution_count": 3,
   "id": "10e98636-0d12-45bf-b1cb-95e1f9507fdc",
   "metadata": {},
   "outputs": [],
   "source": [
    "!pip install pycocotools -i https://pypi.tuna.tsinghua.edu.cn/simple"
   ]
  },
  {
   "cell_type": "code",
   "execution_count": null,
   "id": "50d23e8a-56fe-4f37-861e-d3bff0210632",
   "metadata": {},
   "outputs": [],
   "source": []
  }
 ],
 "metadata": {
  "kernelspec": {
   "display_name": "Python 3 (ipykernel)",
   "language": "python",
   "name": "python3"
  },
  "language_info": {
   "codemirror_mode": {
    "name": "ipython",
    "version": 3
   },
   "file_extension": ".py",
   "mimetype": "text/x-python",
   "name": "python",
   "nbconvert_exporter": "python",
   "pygments_lexer": "ipython3",
   "version": "3.7.10"
  }
 },
 "nbformat": 4,
 "nbformat_minor": 5
}

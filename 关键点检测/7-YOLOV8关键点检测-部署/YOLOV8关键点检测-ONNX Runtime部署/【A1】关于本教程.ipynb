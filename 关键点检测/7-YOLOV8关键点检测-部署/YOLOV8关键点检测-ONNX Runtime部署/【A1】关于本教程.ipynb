{
 "cells": [
  {
   "cell_type": "markdown",
   "metadata": {
    "tags": []
   },
   "source": [
    "# 关于本教程\n",
    "\n",
    "2023-5-11\n",
    "\n",
    "## 概述\n",
    "\n",
    "计算机视觉神器YOLOV8开源之后，成为了目标检测、目标追踪、实例分割、图像分类、人体姿态估计、关键点检测等领域的新标杆。\n",
    "\n",
    "本教程系统讲解了使用YOLOV8完成推理预测、数据集构建、模型训练、性能评估、终端部署的全流程。\n",
    "\n",
    "你也可以站在YOLOV8巨人的肩膀上，解决各行各业的计算机视觉应用。\n",
    "\n",
    "代码教程：https://github.com/TommyZihao/Train_Custom_Dataset\n",
    "\n",
    "- 安装配置YOLOV8环境\n",
    "\n",
    "- 预训练模型推理预测：单张图像、视频、摄像头实时画面\n",
    "\n",
    "- 标注自己的目标检测、实例分割、关键点检测数据集\n",
    "\n",
    "- 训练自己的YOLOV8算法：目标检测、目标追踪、实例分割、关键点检测\n",
    "\n",
    "- 在测试集上评估模型准确度\n",
    "\n",
    "- 模型推理预测：单张图像、视频、摄像头实时画面\n",
    "\n",
    "- 评估模型性能：速度与精度评估\n",
    "\n",
    "- **模型终端部署：转ONNX格式， ONNX Runtime推理框架部署**\n",
    "\n",
    "- 模型终端部署：转TensorRT格式，TensorRT推理框架部署\n",
    "\n",
    "## 作者\n",
    "\n",
    "张子豪（同济子豪兄）：https://space.bilibili.com/1900783\n",
    "\n",
    "微软人工智能最有价值专家（MVP）、华为云人工智能HCDE云享专家、中国图象图形学学会-科普与教育工作委员会委员。\n",
    "\n",
    "代表作：精读AI经典论文、编程奇妙夜、斯坦福CS231N计算机视觉中文精讲、CS224W图神经网络中文精讲、“两天搞定图像分类、目标检测、图像分割、关键点检测毕业设计”、DataWhale可解释机器学习公开课"
   ]
  },
  {
   "cell_type": "markdown",
   "metadata": {},
   "source": [
    "## 交流群\n",
    "\n",
    "公众号 人工智能小技巧 回复 关键点检测毕设"
   ]
  },
  {
   "cell_type": "code",
   "execution_count": null,
   "metadata": {},
   "outputs": [],
   "source": []
  }
 ],
 "metadata": {
  "kernelspec": {
   "display_name": "Python 3",
   "language": "python",
   "name": "python3"
  },
  "language_info": {
   "codemirror_mode": {
    "name": "ipython",
    "version": 3
   },
   "file_extension": ".py",
   "mimetype": "text/x-python",
   "name": "python",
   "nbconvert_exporter": "python",
   "pygments_lexer": "ipython3",
   "version": "3.7.2"
  }
 },
 "nbformat": 4,
 "nbformat_minor": 5
}

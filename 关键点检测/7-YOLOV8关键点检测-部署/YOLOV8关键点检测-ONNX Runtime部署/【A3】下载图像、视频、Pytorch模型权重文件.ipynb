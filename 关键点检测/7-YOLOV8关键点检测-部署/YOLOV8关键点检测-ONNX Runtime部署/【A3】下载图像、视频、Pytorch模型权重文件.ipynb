{
 "cells": [
  {
   "cell_type": "markdown",
   "metadata": {},
   "source": [
    "# 下载图像、视频、Pytorch模型权重文件\n",
    "\n",
    "同济子豪兄 2023-5-11"
   ]
  },
  {
   "cell_type": "markdown",
   "metadata": {},
   "source": [
    "## 下载测试图像至`images`目录"
   ]
  },
  {
   "cell_type": "code",
   "execution_count": 1,
   "metadata": {},
   "outputs": [
    {
     "name": "stdout",
     "output_type": "stream",
     "text": [
      "--2023-05-17 23:14:56--  https://zihao-openmmlab.obs.myhuaweicloud.com/20220610-mmpose/triangle_dataset/test_img/triangle_4.jpg\n",
      "正在解析主机 zihao-openmmlab.obs.myhuaweicloud.com (zihao-openmmlab.obs.myhuaweicloud.com)... 121.36.235.132\n",
      "正在连接 zihao-openmmlab.obs.myhuaweicloud.com (zihao-openmmlab.obs.myhuaweicloud.com)|121.36.235.132|:443... 已连接。\n",
      "已发出 HTTP 请求，正在等待回应... 200 OK\n",
      "长度：1037930 (1014K) [image/jpeg]\n",
      "正在保存至: “images/triangle_4.jpg”\n",
      "\n",
      "triangle_4.jpg      100%[===================>]   1014K  --.-KB/s  用时 0.06s     \n",
      "\n",
      "2023-05-17 23:14:57 (16.3 MB/s) - 已保存 “images/triangle_4.jpg” [1037930/1037930])\n",
      "\n"
     ]
    }
   ],
   "source": [
    "# 图像-30度直角三角板，拍摄：同济子豪兄、田文博\n",
    "# !wget https://zihao-openmmlab.obs.myhuaweicloud.com/20220610-mmpose/triangle_dataset/test_img/triangle_1.jpg -P images\n",
    "# !wget https://zihao-openmmlab.obs.myhuaweicloud.com/20220610-mmpose/triangle_dataset/test_img/triangle_2.jpg -P images\n",
    "# !wget https://zihao-openmmlab.obs.myhuaweicloud.com/20220610-mmpose/triangle_dataset/test_img/triangle_3.jpg -P images\n",
    "!wget https://zihao-openmmlab.obs.myhuaweicloud.com/20220610-mmpose/triangle_dataset/test_img/triangle_4.jpg -P images"
   ]
  },
  {
   "cell_type": "markdown",
   "metadata": {},
   "source": [
    "## 下载测试视频至`videos`目录"
   ]
  },
  {
   "cell_type": "code",
   "execution_count": 2,
   "metadata": {},
   "outputs": [
    {
     "name": "stdout",
     "output_type": "stream",
     "text": [
      "--2023-05-17 23:15:00--  https://zihao-openmmlab.obs.myhuaweicloud.com/20220610-mmpose/triangle_dataset/videos/triangle_7.mp4\n",
      "正在解析主机 zihao-openmmlab.obs.myhuaweicloud.com (zihao-openmmlab.obs.myhuaweicloud.com)... 121.36.235.132\n",
      "正在连接 zihao-openmmlab.obs.myhuaweicloud.com (zihao-openmmlab.obs.myhuaweicloud.com)|121.36.235.132|:443... 已连接。\n",
      "已发出 HTTP 请求，正在等待回应... 200 OK\n",
      "长度：3358088 (3.2M) [video/mp4]\n",
      "正在保存至: “videos/triangle_7.mp4”\n",
      "\n",
      "triangle_7.mp4      100%[===================>]   3.20M  --.-KB/s  用时 0.1s      \n",
      "\n",
      "2023-05-17 23:15:00 (32.4 MB/s) - 已保存 “videos/triangle_7.mp4” [3358088/3358088])\n",
      "\n"
     ]
    }
   ],
   "source": [
    "# 视频-30度直角三角板，拍摄：同济子豪兄，田文博\n",
    "# !wget https://zihao-openmmlab.obs.myhuaweicloud.com/20220610-mmpose/triangle_dataset/videos/triangle_6.mp4 -P videos\n",
    "!wget https://zihao-openmmlab.obs.myhuaweicloud.com/20220610-mmpose/triangle_dataset/videos/triangle_7.mp4 -P videos\n",
    "# !wget https://zihao-openmmlab.obs.myhuaweicloud.com/20220610-mmpose/triangle_dataset/videos/triangle_9.mp4 -P videos"
   ]
  },
  {
   "cell_type": "markdown",
   "metadata": {},
   "source": [
    "## 下载Pytorch模型权重文件至`checkpoint`目录"
   ]
  },
  {
   "cell_type": "code",
   "execution_count": 3,
   "metadata": {},
   "outputs": [
    {
     "name": "stdout",
     "output_type": "stream",
     "text": [
      "--2023-05-17 23:15:03--  https://zihao-download.obs.cn-east-3.myhuaweicloud.com/yolov8/datasets/Triangle_215_Dataset/checkpoint/Triangle_215_yolov8n_pretrain.pt\n",
      "正在解析主机 zihao-download.obs.cn-east-3.myhuaweicloud.com (zihao-download.obs.cn-east-3.myhuaweicloud.com)... 121.36.235.162, 121.36.235.163\n",
      "正在连接 zihao-download.obs.cn-east-3.myhuaweicloud.com (zihao-download.obs.cn-east-3.myhuaweicloud.com)|121.36.235.162|:443... 已连接。\n",
      "已发出 HTTP 请求，正在等待回应... 200 OK\n",
      "长度：6405855 (6.1M) [binary/octet-stream]\n",
      "正在保存至: “checkpoint/Triangle_215_yolov8n_pretrain.pt”\n",
      "\n",
      "Triangle_215_yolov8 100%[===================>]   6.11M  --.-KB/s  用时 0.1s      \n",
      "\n",
      "2023-05-17 23:15:03 (40.8 MB/s) - 已保存 “checkpoint/Triangle_215_yolov8n_pretrain.pt” [6405855/6405855])\n",
      "\n",
      "--2023-05-17 23:15:03--  https://zihao-download.obs.cn-east-3.myhuaweicloud.com/yolov8/datasets/Triangle_215_Dataset/checkpoint/Triangle_215_yolov8l_pretrain.pt\n",
      "正在解析主机 zihao-download.obs.cn-east-3.myhuaweicloud.com (zihao-download.obs.cn-east-3.myhuaweicloud.com)... 121.36.235.162, 121.36.235.163\n",
      "正在连接 zihao-download.obs.cn-east-3.myhuaweicloud.com (zihao-download.obs.cn-east-3.myhuaweicloud.com)|121.36.235.162|:443... 已连接。\n",
      "已发出 HTTP 请求，正在等待回应... 200 OK\n",
      "长度：89349695 (85M) [binary/octet-stream]\n",
      "正在保存至: “checkpoint/Triangle_215_yolov8l_pretrain.pt”\n",
      "\n",
      "Triangle_215_yolov8 100%[===================>]  85.21M  39.4MB/s  用时 2.2s      \n",
      "\n",
      "2023-05-17 23:15:06 (39.4 MB/s) - 已保存 “checkpoint/Triangle_215_yolov8l_pretrain.pt” [89349695/89349695])\n",
      "\n"
     ]
    }
   ],
   "source": [
    "# # yolov8n-pose 预训练模型微调\n",
    "!wget https://zihao-download.obs.cn-east-3.myhuaweicloud.com/yolov8/datasets/Triangle_215_Dataset/checkpoint/Triangle_215_yolov8n_pretrain.pt -P checkpoint\n",
    "\n",
    "# # yolov8s-pose 预训练模型微调\n",
    "# !wget https://zihao-download.obs.cn-east-3.myhuaweicloud.com/yolov8/datasets/Triangle_215_Dataset/checkpoint/Triangle_215_yolov8s_pretrain.pt -P checkpoint\n",
    "\n",
    "# yolov8m-pose 预训练模型微调\n",
    "# !wget https://zihao-download.obs.cn-east-3.myhuaweicloud.com/yolov8/datasets/Triangle_215_Dataset/checkpoint/Triangle_215_yolov8m_pretrain.pt -P checkpoint\n",
    "\n",
    "# # yolov8l-pose 预训练模型微调\n",
    "!wget https://zihao-download.obs.cn-east-3.myhuaweicloud.com/yolov8/datasets/Triangle_215_Dataset/checkpoint/Triangle_215_yolov8l_pretrain.pt -P checkpoint\n",
    "\n",
    "# # yolov8x-pose 预训练模型微调\n",
    "# !wget https://zihao-download.obs.cn-east-3.myhuaweicloud.com/yolov8/datasets/Triangle_215_Dataset/checkpoint/Triangle_215_yolov8x_pretrain.pt -P checkpoint\n",
    "\n",
    "# yolov8x-pose-p6 预训练模型微调\n",
    "# !wget https://zihao-download.obs.cn-east-3.myhuaweicloud.com/yolov8/datasets/Triangle_215_Dataset/checkpoint/Triangle_215_yolov8x_p6_pretrain.pt -P checkpoint\n"
   ]
  },
  {
   "cell_type": "code",
   "execution_count": null,
   "metadata": {},
   "outputs": [],
   "source": []
  }
 ],
 "metadata": {
  "kernelspec": {
   "display_name": "Python 3",
   "language": "python",
   "name": "python3"
  },
  "language_info": {
   "codemirror_mode": {
    "name": "ipython",
    "version": 3
   },
   "file_extension": ".py",
   "mimetype": "text/x-python",
   "name": "python",
   "nbconvert_exporter": "python",
   "pygments_lexer": "ipython3",
   "version": "3.7.2"
  }
 },
 "nbformat": 4,
 "nbformat_minor": 5
}

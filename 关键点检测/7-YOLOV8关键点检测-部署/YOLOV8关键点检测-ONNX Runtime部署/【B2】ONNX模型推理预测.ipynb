{
 "cells": [
  {
   "cell_type": "markdown",
   "metadata": {},
   "source": [
    "# ONNX模型推理预测\n",
    "\n",
    "同济子豪兄 2023-5-11"
   ]
  },
  {
   "cell_type": "markdown",
   "metadata": {},
   "source": [
    "> ## 和`.pth`原生模型预测完全相同，只需要把`model`参数换成`.onnx`模型即可"
   ]
  },
  {
   "cell_type": "markdown",
   "metadata": {},
   "source": [
    "## 预测-命令行"
   ]
  },
  {
   "cell_type": "code",
   "execution_count": 1,
   "metadata": {},
   "outputs": [],
   "source": [
    "# 单张图像\n",
    "!yolo predict pose model=checkpoint/Triangle_215_yolov8l_pretrain.onnx source=images/triangle_4.jpg"
   ]
  },
  {
   "cell_type": "code",
   "execution_count": 1,
   "metadata": {},
   "outputs": [],
   "source": [
    "# 视频\n",
    "!yolo predict pose model=checkpoint/Triangle_215_yolov8l_pretrain.onnx source=videos/triangle_7.mp4"
   ]
  },
  {
   "cell_type": "code",
   "execution_count": 2,
   "metadata": {},
   "outputs": [],
   "source": [
    "# 摄像头\n",
    "!yolo predict pose model=checkpoint/Triangle_215_yolov8l_pretrain.onnx source=0 show verbose=False"
   ]
  },
  {
   "cell_type": "markdown",
   "metadata": {},
   "source": [
    "## Python API"
   ]
  },
  {
   "cell_type": "code",
   "execution_count": 2,
   "metadata": {},
   "outputs": [],
   "source": [
    "# 导入模型\n",
    "from ultralytics import YOLO\n",
    "\n",
    "model = YOLO('checkpoint/Triangle_215_yolov8l_pretrain.onnx', task='pose')"
   ]
  },
  {
   "cell_type": "code",
   "execution_count": 3,
   "metadata": {},
   "outputs": [
    {
     "name": "stderr",
     "output_type": "stream",
     "text": [
      "Loading checkpoint/Triangle_215_yolov8l_pretrain.onnx for ONNX Runtime inference...\n",
      "\n",
      "image 1/1 /Users/tommy/Downloads/0516-B/YOLOV8关键点检测-ONNX Runtime部署/images/triangle_4.jpg: 640x640 3 sjb_rects, 646.4ms\n",
      "Speed: 6.4ms preprocess, 646.4ms inference, 2.5ms postprocess per image at shape (1, 3, 640, 640)\n",
      "Results saved to \u001b[1mruns/pose/predict2\u001b[0m\n"
     ]
    }
   ],
   "source": [
    "# 预测图像\n",
    "results = model.predict('images/triangle_4.jpg', task='pose', save=True)"
   ]
  },
  {
   "cell_type": "markdown",
   "metadata": {},
   "source": [
    "## 测试集评估-命令行"
   ]
  },
  {
   "cell_type": "code",
   "execution_count": null,
   "metadata": {},
   "outputs": [],
   "source": [
    "## 需下载数据集和 yaml 文件\n",
    "# !yolo val task=pose model=checkpoint/Triangle_215_yolov8m_pretrain.onnx imgsz=640 data=Triangle_215.yaml "
   ]
  },
  {
   "cell_type": "code",
   "execution_count": null,
   "metadata": {},
   "outputs": [],
   "source": []
  }
 ],
 "metadata": {
  "kernelspec": {
   "display_name": "Python 3",
   "language": "python",
   "name": "python3"
  },
  "language_info": {
   "codemirror_mode": {
    "name": "ipython",
    "version": 3
   },
   "file_extension": ".py",
   "mimetype": "text/x-python",
   "name": "python",
   "nbconvert_exporter": "python",
   "pygments_lexer": "ipython3",
   "version": "3.7.2"
  }
 },
 "nbformat": 4,
 "nbformat_minor": 4
}

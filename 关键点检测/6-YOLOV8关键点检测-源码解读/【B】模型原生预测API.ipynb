{
 "cells": [
  {
   "cell_type": "markdown",
   "id": "0e07acf1-6010-4815-9c52-e793d88a2ec9",
   "metadata": {},
   "source": [
    "# YOLOV8关键点检测预测-命令行-图像\n",
    "\n",
    "同济子豪兄 2023-4-15"
   ]
  },
  {
   "cell_type": "markdown",
   "id": "9e677bfc-dbfa-40d8-b0fd-afa2f27783b1",
   "metadata": {},
   "source": [
    "## 关键点检测预测-命令行"
   ]
  },
  {
   "cell_type": "code",
   "execution_count": 14,
   "id": "4a19c899-ac1b-4e05-9c52-f6b0f97db965",
   "metadata": {},
   "outputs": [
    {
     "name": "stdout",
     "output_type": "stream",
     "text": [
      "Ultralytics YOLOv8.0.98 🚀 Python-3.7.10 torch-1.10.0+cu113 CUDA:0 (NVIDIA GeForce GTX 1080 Ti, 11179MiB)\n",
      "YOLOv8l-pose summary (fused): 287 layers, 44457390 parameters, 0 gradients, 168.5 GFLOPs\n",
      "\n",
      "image 1/1 /home/featurize/work/两天搞定关键点检测毕业设计/6-YOLOV8关键点检测-预测源码解读/triangle_4.jpg: 448x640 3 sjb_rects, 28.2ms\n",
      "Speed: 3.9ms preprocess, 28.2ms inference, 2.4ms postprocess per image at shape (1, 3, 640, 640)\n",
      "Results saved to \u001b[1mruns/pose/predict\u001b[0m\n"
     ]
    }
   ],
   "source": [
    "!yolo pose predict model=Triangle_215_yolov8l_pretrain.pt source=triangle_4.jpg device=0\n"
   ]
  },
  {
   "cell_type": "markdown",
   "id": "f54154eb-5130-4942-9212-c2fad34c7b85",
   "metadata": {},
   "source": [
    "## 关键点检测预测-Python API"
   ]
  },
  {
   "cell_type": "code",
   "execution_count": 15,
   "id": "064bc54c-f2b8-45e3-b2cc-47d4dcea85d4",
   "metadata": {},
   "outputs": [],
   "source": [
    "from ultralytics import YOLO"
   ]
  },
  {
   "cell_type": "code",
   "execution_count": 16,
   "id": "decc5666-e864-42fb-813d-3f8e43abf7a4",
   "metadata": {},
   "outputs": [],
   "source": [
    "# 模型\n",
    "model = YOLO('Triangle_215_yolov8l_pretrain.pt')"
   ]
  },
  {
   "cell_type": "code",
   "execution_count": 17,
   "id": "d86069a1-11c9-4aca-b814-5f08c00e2a4d",
   "metadata": {},
   "outputs": [],
   "source": [
    "# 输入图像\n",
    "img_path = 'triangle_4.jpg'"
   ]
  },
  {
   "cell_type": "code",
   "execution_count": 18,
   "id": "4979d3c1-692b-49df-86e3-8e2a881d4b37",
   "metadata": {},
   "outputs": [
    {
     "name": "stderr",
     "output_type": "stream",
     "text": [
      "\n",
      "image 1/1 /home/featurize/work/两天搞定关键点检测毕业设计/6-YOLOV8关键点检测-预测源码解读/triangle_4.jpg: 448x640 3 sjb_rects, 28.1ms\n",
      "Speed: 3.3ms preprocess, 28.1ms inference, 1.9ms postprocess per image at shape (1, 3, 640, 640)\n"
     ]
    }
   ],
   "source": [
    "# 推理预测\n",
    "results = model(img_path)"
   ]
  },
  {
   "cell_type": "code",
   "execution_count": 20,
   "id": "21c95e37-a7a7-47de-8d2a-6f8d5d8a8500",
   "metadata": {},
   "outputs": [],
   "source": [
    "# results"
   ]
  },
  {
   "cell_type": "code",
   "execution_count": null,
   "id": "cfcfe989-1e1c-474e-8209-4a22c6866ce0",
   "metadata": {},
   "outputs": [],
   "source": []
  }
 ],
 "metadata": {
  "kernelspec": {
   "display_name": "Python 3 (ipykernel)",
   "language": "python",
   "name": "python3"
  },
  "language_info": {
   "codemirror_mode": {
    "name": "ipython",
    "version": 3
   },
   "file_extension": ".py",
   "mimetype": "text/x-python",
   "name": "python",
   "nbconvert_exporter": "python",
   "pygments_lexer": "ipython3",
   "version": "3.7.10"
  }
 },
 "nbformat": 4,
 "nbformat_minor": 5
}

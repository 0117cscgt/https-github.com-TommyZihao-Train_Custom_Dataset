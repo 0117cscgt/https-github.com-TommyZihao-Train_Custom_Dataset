{
 "cells": [
  {
   "cell_type": "markdown",
   "metadata": {},
   "source": [
    "# YOLOV8关键点检测-预测源码\n",
    "\n",
    "同济子豪兄、东哥Talk 2023-5-14"
   ]
  },
  {
   "cell_type": "markdown",
   "metadata": {},
   "source": [
    "## 导入工具包"
   ]
  },
  {
   "cell_type": "code",
   "execution_count": 1,
   "metadata": {},
   "outputs": [],
   "source": [
    "import cv2\n",
    "import numpy as np"
   ]
  },
  {
   "cell_type": "markdown",
   "metadata": {},
   "source": [
    "## 构造预测参数字典overrides"
   ]
  },
  {
   "cell_type": "code",
   "execution_count": 2,
   "metadata": {},
   "outputs": [],
   "source": [
    "overrides = {\n",
    "    'task': 'pose',\n",
    "    'mode': 'predict',\n",
    "    'model': 'Triangle_215_yolov8l_pretrain.pt',\n",
    "    'data': 'Triangle_215.yaml',\n",
    "    'conf': 0.25,\n",
    "    'iou': 0.7,\n",
    "    'imgsz': 640,\n",
    "    'single_cls': False,\n",
    "    'verbose':True\n",
    "}"
   ]
  },
  {
   "cell_type": "markdown",
   "metadata": {},
   "source": [
    "## 生成PosePredictor"
   ]
  },
  {
   "cell_type": "code",
   "execution_count": 3,
   "metadata": {},
   "outputs": [],
   "source": [
    "from ultralytics.yolo.v8.pose import PosePredictor\n",
    "predictor = PosePredictor(overrides=overrides)"
   ]
  },
  {
   "cell_type": "markdown",
   "metadata": {},
   "source": [
    "## 输入图像路径推理预测"
   ]
  },
  {
   "cell_type": "code",
   "execution_count": 4,
   "metadata": {},
   "outputs": [],
   "source": [
    "img_path = 'triangle_4.jpg'"
   ]
  },
  {
   "cell_type": "code",
   "execution_count": 5,
   "metadata": {},
   "outputs": [
    {
     "name": "stderr",
     "output_type": "stream",
     "text": [
      "\n",
      "Ultralytics YOLOv8.0.98 🚀 Python-3.7.2 torch-1.13.1 CPU\n"
     ]
    },
    {
     "name": "stdout",
     "output_type": "stream",
     "text": [
      "model Triangle_215_yolov8l_pretrain.pt\n",
      "args task=pose\n",
      "mode=predict\n",
      "model=Triangle_215_yolov8l_pretrain.pt\n",
      "data=Triangle_215.yaml\n",
      "epochs=100\n",
      "patience=50\n",
      "batch=16\n",
      "imgsz=640\n",
      "save=True\n",
      "save_period=-1\n",
      "cache=False\n",
      "device=None\n",
      "workers=8\n",
      "project=None\n",
      "name=None\n",
      "exist_ok=False\n",
      "pretrained=False\n",
      "optimizer=SGD\n",
      "verbose=True\n",
      "seed=0\n",
      "deterministic=True\n",
      "single_cls=False\n",
      "rect=False\n",
      "cos_lr=False\n",
      "close_mosaic=0\n",
      "resume=False\n",
      "amp=True\n",
      "overlap_mask=True\n",
      "mask_ratio=4\n",
      "dropout=0.0\n",
      "val=True\n",
      "split=val\n",
      "save_json=False\n",
      "save_hybrid=False\n",
      "conf=0.25\n",
      "iou=0.7\n",
      "max_det=300\n",
      "half=False\n",
      "dnn=False\n",
      "plots=True\n",
      "source=None\n",
      "show=False\n",
      "save_txt=False\n",
      "save_conf=False\n",
      "save_crop=False\n",
      "show_labels=True\n",
      "show_conf=True\n",
      "vid_stride=1\n",
      "line_width=None\n",
      "visualize=False\n",
      "augment=False\n",
      "agnostic_nms=False\n",
      "classes=None\n",
      "retina_masks=False\n",
      "boxes=True\n",
      "format=torchscript\n",
      "keras=False\n",
      "optimize=False\n",
      "int8=False\n",
      "dynamic=False\n",
      "simplify=False\n",
      "opset=None\n",
      "workspace=4\n",
      "nms=False\n",
      "lr0=0.01\n",
      "lrf=0.01\n",
      "momentum=0.937\n",
      "weight_decay=0.0005\n",
      "warmup_epochs=3.0\n",
      "warmup_momentum=0.8\n",
      "warmup_bias_lr=0.1\n",
      "box=7.5\n",
      "cls=0.5\n",
      "dfl=1.5\n",
      "pose=12.0\n",
      "kobj=1.0\n",
      "label_smoothing=0.0\n",
      "nbs=64\n",
      "hsv_h=0.015\n",
      "hsv_s=0.7\n",
      "hsv_v=0.4\n",
      "degrees=0.0\n",
      "translate=0.1\n",
      "scale=0.5\n",
      "shear=0.0\n",
      "perspective=0.0\n",
      "flipud=0.0\n",
      "fliplr=0.5\n",
      "mosaic=1.0\n",
      "mixup=0.0\n",
      "copy_paste=0.0\n",
      "cfg=None\n",
      "v5loader=False\n",
      "tracker=botsort.yaml\n"
     ]
    },
    {
     "name": "stderr",
     "output_type": "stream",
     "text": [
      "YOLOv8l-pose summary (fused): 287 layers, 44457390 parameters, 0 gradients\n"
     ]
    },
    {
     "name": "stdout",
     "output_type": "stream",
     "text": [
      "auto True\n",
      "stride 32\n",
      "imgsz [640, 640]\n",
      "augment False\n",
      "visualize False\n"
     ]
    },
    {
     "name": "stderr",
     "output_type": "stream",
     "text": [
      "image 1/1 /Users/tommy/Downloads/0511/YOLOV8/小黑屋/triangle_4.jpg: 448x640 3 sjb_rects, 1694.7ms\n",
      "Speed: 8.6ms preprocess, 1694.7ms inference, 1.3ms postprocess per image at shape (1, 3, 640, 640)\n",
      "Results saved to \u001b[1mruns/pose/predict19\u001b[0m\n"
     ]
    }
   ],
   "source": [
    "result = predictor(source=img_path)"
   ]
  },
  {
   "cell_type": "code",
   "execution_count": 10,
   "metadata": {},
   "outputs": [],
   "source": [
    "# result[0]"
   ]
  },
  {
   "cell_type": "code",
   "execution_count": null,
   "metadata": {},
   "outputs": [],
   "source": []
  }
 ],
 "metadata": {
  "colab": {
   "provenance": []
  },
  "kernelspec": {
   "display_name": "Python 3",
   "language": "python",
   "name": "python3"
  },
  "language_info": {
   "codemirror_mode": {
    "name": "ipython",
    "version": 3
   },
   "file_extension": ".py",
   "mimetype": "text/x-python",
   "name": "python",
   "nbconvert_exporter": "python",
   "pygments_lexer": "ipython3",
   "version": "3.7.2"
  }
 },
 "nbformat": 4,
 "nbformat_minor": 1
}

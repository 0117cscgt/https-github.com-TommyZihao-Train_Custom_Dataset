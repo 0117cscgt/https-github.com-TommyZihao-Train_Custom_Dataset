{
 "cells": [
  {
   "cell_type": "markdown",
   "id": "5d31775d-9858-422f-b3e7-b333df407c8b",
   "metadata": {},
   "source": [
    "# 安装YOLOV8，下载素材和模型权重\n",
    "\n",
    "同济子豪兄 2023-5-15\n",
    "\n",
    "安装YOLOV8环境和所需的第三方工具包"
   ]
  },
  {
   "cell_type": "markdown",
   "id": "8ba9d553-9064-492d-811b-812ff409d8e1",
   "metadata": {},
   "source": [
    "## 安装YOLOV8"
   ]
  },
  {
   "cell_type": "code",
   "execution_count": 2,
   "id": "e3afb786-1343-46fd-82c9-ff2d716c79e0",
   "metadata": {},
   "outputs": [],
   "source": [
    "!pip install ultralytics==8.0.98 -i https://pypi.tuna.tsinghua.edu.cn/simple"
   ]
  },
  {
   "cell_type": "markdown",
   "id": "9823667e-5c29-4e9f-aae3-8f0dea3f5105",
   "metadata": {},
   "source": [
    "## 验证安装成功"
   ]
  },
  {
   "cell_type": "code",
   "execution_count": 3,
   "id": "1de9f7c1-d2bb-4f54-9eb3-2602b806085a",
   "metadata": {},
   "outputs": [
    {
     "name": "stderr",
     "output_type": "stream",
     "text": [
      "Ultralytics YOLOv8.0.98 🚀 Python-3.7.10 torch-1.10.0+cu113 CUDA:0 (NVIDIA GeForce GTX 1080 Ti, 11179MiB)\n",
      "Setup complete ✅ (6 CPUs, 25.5 GB RAM, 19.9/406.9 GB disk)\n"
     ]
    }
   ],
   "source": [
    "import ultralytics\n",
    "ultralytics.checks()"
   ]
  },
  {
   "cell_type": "markdown",
   "id": "78ce4d27-bc9f-4f5e-b3dd-9844733e4549",
   "metadata": {},
   "source": [
    "## 安装其它第三方工具包"
   ]
  },
  {
   "cell_type": "code",
   "execution_count": 6,
   "id": "cf430bb8-4404-40c6-a357-b0bb07f1d7ab",
   "metadata": {},
   "outputs": [],
   "source": [
    "!pip install numpy opencv-python pillow pandas matplotlib seaborn tqdm -i https://pypi.tuna.tsinghua.edu.cn/simple"
   ]
  },
  {
   "cell_type": "markdown",
   "id": "1a857961-7243-4450-8dfb-2954e0ccd54f",
   "metadata": {},
   "source": [
    "## 下载素材文件"
   ]
  },
  {
   "cell_type": "code",
   "execution_count": null,
   "id": "785abfc0-5a30-4ef9-a03b-78074bf7b96d",
   "metadata": {},
   "outputs": [],
   "source": [
    "# 图像-30度直角三角板，拍摄：同济子豪兄、田文博\n",
    "!wget https://zihao-openmmlab.obs.myhuaweicloud.com/20220610-mmpose/triangle_dataset/test_img/triangle_4.jpg"
   ]
  },
  {
   "cell_type": "code",
   "execution_count": 10,
   "id": "4a8bb02b-3ab6-438c-8d38-65d8f226414d",
   "metadata": {},
   "outputs": [],
   "source": [
    "# yolov8l-pose 预训练模型微调\n",
    "!wget https://zihao-download.obs.cn-east-3.myhuaweicloud.com/yolov8/datasets/Triangle_215_Dataset/checkpoint/Triangle_215_yolov8l_pretrain.pt"
   ]
  },
  {
   "cell_type": "code",
   "execution_count": null,
   "id": "a381f80f-149d-45d4-bb93-99fb817b53c7",
   "metadata": {},
   "outputs": [],
   "source": [
    "# 视频-30度直角三角板，拍摄：同济子豪兄，田文博\n",
    "!wget https://zihao-openmmlab.obs.myhuaweicloud.com/20220610-mmpose/triangle_dataset/videos/triangle_7.mp4"
   ]
  },
  {
   "cell_type": "code",
   "execution_count": null,
   "id": "51c46a0a-2ded-4a9b-986f-8983527bde0f",
   "metadata": {},
   "outputs": [],
   "source": []
  }
 ],
 "metadata": {
  "kernelspec": {
   "display_name": "Python 3 (ipykernel)",
   "language": "python",
   "name": "python3"
  },
  "language_info": {
   "codemirror_mode": {
    "name": "ipython",
    "version": 3
   },
   "file_extension": ".py",
   "mimetype": "text/x-python",
   "name": "python",
   "nbconvert_exporter": "python",
   "pygments_lexer": "ipython3",
   "version": "3.7.10"
  }
 },
 "nbformat": 4,
 "nbformat_minor": 5
}

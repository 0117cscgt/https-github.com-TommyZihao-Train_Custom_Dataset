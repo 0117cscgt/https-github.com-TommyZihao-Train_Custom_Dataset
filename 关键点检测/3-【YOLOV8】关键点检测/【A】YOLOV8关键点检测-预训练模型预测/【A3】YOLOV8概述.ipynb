{
 "cells": [
  {
   "cell_type": "markdown",
   "id": "bf161b50-7506-4ad7-9065-d6494e187eb2",
   "metadata": {},
   "source": [
    "# YOLOV8概述"
   ]
  },
  {
   "cell_type": "markdown",
   "id": "d73858bb-803c-4b61-aece-7277342241e1",
   "metadata": {},
   "source": [
    "## YOLOV8官方文档\n",
    "\n",
    "YOLOV8文档：https://docs.ultralytics.com\n",
    "\n",
    "YOLOV8的Github主页：https://github.com/ultralytics/ultralytics"
   ]
  },
  {
   "cell_type": "markdown",
   "id": "b7e74e92-de4e-4aea-b1f3-de26a70f74df",
   "metadata": {},
   "source": [
    "## YOLOV8预训练模型库\n",
    "\n",
    "https://github.com/ultralytics/ultralytics/tree/main/ultralytics/models/v8"
   ]
  },
  {
   "cell_type": "markdown",
   "id": "59045fae-cb87-49fb-90d6-a693fc81e5ef",
   "metadata": {},
   "source": [
    "## YOLOV8-Pose任务预训练模型"
   ]
  },
  {
   "cell_type": "markdown",
   "id": "cc972f80-85f7-4f11-b5c7-aa857175c27e",
   "metadata": {},
   "source": [
    "https://github.com/ultralytics/ultralytics/tree/main/ultralytics/models#pose"
   ]
  },
  {
   "cell_type": "markdown",
   "id": "37971b59-50e4-4161-9593-c9e3ffee00e1",
   "metadata": {},
   "source": [
    "## YOLOV8命令行模板"
   ]
  },
  {
   "cell_type": "markdown",
   "id": "26961eea-df2c-4b8d-a725-ca23e0114ac7",
   "metadata": {},
   "source": [
    "```\n",
    "yolo task=detect    mode=train    model=yolov8n.yaml      args...\n",
    "          classify       predict        yolov8n-cls.yaml  args...\n",
    "          segment        val            yolov8n-seg.yaml  args...\n",
    "                         export         yolov8n.pt        format=onnx  args...\n",
    "```                       "
   ]
  },
  {
   "cell_type": "markdown",
   "id": "59782a96-ab64-4301-9e77-708b9f579f3f",
   "metadata": {},
   "source": [
    "## YOLOV8预测命令行参数\n",
    "\n",
    "https://docs.ultralytics.com/usage/cfg/#predict\n",
    "\n",
    "https://docs.ultralytics.com/modes/predict"
   ]
  },
  {
   "cell_type": "code",
   "execution_count": null,
   "id": "ad170953-d016-4299-98ec-f5e557b1a78c",
   "metadata": {},
   "outputs": [],
   "source": []
  }
 ],
 "metadata": {
  "kernelspec": {
   "display_name": "Python 3 (ipykernel)",
   "language": "python",
   "name": "python3"
  },
  "language_info": {
   "codemirror_mode": {
    "name": "ipython",
    "version": 3
   },
   "file_extension": ".py",
   "mimetype": "text/x-python",
   "name": "python",
   "nbconvert_exporter": "python",
   "pygments_lexer": "ipython3",
   "version": "3.7.10"
  }
 },
 "nbformat": 4,
 "nbformat_minor": 5
}

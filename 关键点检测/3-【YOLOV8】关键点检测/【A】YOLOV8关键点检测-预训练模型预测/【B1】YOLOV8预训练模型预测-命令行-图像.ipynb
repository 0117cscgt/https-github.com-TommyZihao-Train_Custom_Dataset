{
 "cells": [
  {
   "cell_type": "markdown",
   "id": "0e07acf1-6010-4815-9c52-e793d88a2ec9",
   "metadata": {},
   "source": [
    "# YOLOV8预训练模型预测-命令行-图像\n",
    "\n",
    "同济子豪兄 2023-4-15"
   ]
  },
  {
   "cell_type": "markdown",
   "id": "0905db45-c997-4557-a451-1fbbf635e578",
   "metadata": {},
   "source": [
    "## 目标检测预测"
   ]
  },
  {
   "cell_type": "code",
   "execution_count": 1,
   "id": "2b780f10-6151-46e3-b743-c346a44e630d",
   "metadata": {},
   "outputs": [],
   "source": [
    "# !yolo detect predict model=yolov8x.pt source=images/zihao_table.jpg device=0"
   ]
  },
  {
   "cell_type": "markdown",
   "id": "6a001288-13be-4da3-8aee-25b488c62c39",
   "metadata": {},
   "source": [
    "## 图像分割预测"
   ]
  },
  {
   "cell_type": "code",
   "execution_count": 2,
   "id": "e14c3aa9-7c01-4877-9c61-b8eb6bfd0467",
   "metadata": {},
   "outputs": [],
   "source": [
    "# !yolo segment predict model=yolov8x-seg.pt source=images/zihao_table.jpg device=0"
   ]
  },
  {
   "cell_type": "markdown",
   "id": "f78a2b9e-3220-4aa9-bfa5-1094add0e5f2",
   "metadata": {},
   "source": [
    "## 图像分类预测"
   ]
  },
  {
   "cell_type": "code",
   "execution_count": 3,
   "id": "d86ad26d-e679-4ac7-b2d4-0401d949f6eb",
   "metadata": {},
   "outputs": [],
   "source": [
    "# !yolo classify predict model=yolov8x-cls.pt source=images/husky1.jpeg device=0"
   ]
  },
  {
   "cell_type": "markdown",
   "id": "9e677bfc-dbfa-40d8-b0fd-afa2f27783b1",
   "metadata": {},
   "source": [
    "## 人体姿态估计（关键点检测）预测"
   ]
  },
  {
   "cell_type": "code",
   "execution_count": 6,
   "id": "4a19c899-ac1b-4e05-9c52-f6b0f97db965",
   "metadata": {},
   "outputs": [
    {
     "name": "stdout",
     "output_type": "stream",
     "text": [
      "Downloading https://github.com/ultralytics/assets/releases/download/v0.0.0/yolov8x-pose-p6.pt to yolov8x-pose-p6.pt...\n",
      "100%|█████████████████████████████████████████| 190M/190M [00:01<00:00, 107MB/s]\n",
      "Ultralytics YOLOv8.0.87 🚀 Python-3.7.10 torch-1.10.0+cu113 CUDA:0 (NVIDIA GeForce RTX 3060, 12053MiB)\n",
      "YOLOv8x-pose-p6 summary (fused): 375 layers, 99141280 parameters, 0 gradients, 266.6 GFLOPs\n",
      "\n",
      "image 1/1 /home/featurize/work/两天搞定关键点检测毕业设计/3-【YOLOV8】关键点检测/images/multi-person.jpeg: 768x1280 14 persons, 99.6ms\n",
      "Speed: 0.8ms preprocess, 99.6ms inference, 3.2ms postprocess per image at shape (1, 3, 1280, 1280)\n",
      "Results saved to \u001b[1mruns/pose/predict\u001b[0m\n"
     ]
    }
   ],
   "source": [
    "!yolo pose predict model=yolov8x-pose-p6.pt source=images/multi-person.jpeg device=0"
   ]
  },
  {
   "cell_type": "markdown",
   "id": "db02832b-357d-4254-82c6-4de0ba137023",
   "metadata": {},
   "source": [
    "## 预测结果保存在`runs`目录"
   ]
  },
  {
   "cell_type": "markdown",
   "id": "cde7f223-197c-46dd-a801-f9bea061fbae",
   "metadata": {},
   "source": [
    "- 备用关键点检测预训练模型\n",
    "\n",
    "yolov8n-pose.pt\n",
    "\n",
    "yolov8s-pose.pt\n",
    "\n",
    "yolov8m-pose.pt\n",
    "\n",
    "yolov8l-pose.pt\n",
    "\n",
    "yolov8x-pose.pt\n",
    "\n",
    "yolov8x-pose-p6.pt"
   ]
  },
  {
   "cell_type": "code",
   "execution_count": null,
   "id": "344846a6-4303-4ec5-bac4-20506e02a36b",
   "metadata": {},
   "outputs": [],
   "source": []
  }
 ],
 "metadata": {
  "kernelspec": {
   "display_name": "Python 3 (ipykernel)",
   "language": "python",
   "name": "python3"
  },
  "language_info": {
   "codemirror_mode": {
    "name": "ipython",
    "version": 3
   },
   "file_extension": ".py",
   "mimetype": "text/x-python",
   "name": "python",
   "nbconvert_exporter": "python",
   "pygments_lexer": "ipython3",
   "version": "3.7.10"
  }
 },
 "nbformat": 4,
 "nbformat_minor": 5
}

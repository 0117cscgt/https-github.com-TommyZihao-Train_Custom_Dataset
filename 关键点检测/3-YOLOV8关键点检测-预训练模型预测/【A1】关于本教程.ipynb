{
 "cells": [
  {
   "cell_type": "markdown",
   "id": "4219b911-3e91-4ed5-bf03-e89336c24be9",
   "metadata": {
    "tags": []
   },
   "source": [
    "# 关于本教程\n",
    "\n",
    "2023-4-15\n",
    "\n",
    "## 概述\n",
    "\n",
    "计算机视觉神器YOLOV8开源之后，成为了目标检测、图像分割、人体姿态估计、关键点检测等领域的新标杆。\n",
    "\n",
    "本教程系统讲解了使用YOLOV8完成推理预测、数据集构建、模型训练、性能评估、终端部署的全流程。\n",
    "\n",
    "你也可以站在YOLOV8巨人的肩膀上，解决各行各业的计算机视觉应用。\n",
    "\n",
    "教程主页：https://github.com/TommyZihao/Train_Custom_Dataset\n",
    "\n",
    "- 安装配置YOLOV8环境\n",
    "\n",
    "- 预训练模型推理预测：单张图像、视频、摄像头实时画面\n",
    "\n",
    "- 标注自己的目标检测、图像分割、关键点检测数据集\n",
    "\n",
    "- 训练自己的YOLOV8算法：目标检测、图像分割、关键点检测\n",
    "\n",
    "- 模型推理预测：单张图像、视频、摄像头实时画面\n",
    "\n",
    "- 评估模型性能：速度与精度评估\n",
    "\n",
    "- 模型终端部署：转ONNX格式、安卓手机部署、开发板部署\n",
    "\n",
    "## 作者\n",
    "\n",
    "张子豪（同济子豪兄）：https://space.bilibili.com/1900783\n",
    "\n",
    "微软人工智能最有价值专家（MVP）、华为云人工智能HCDE云享专家、中国图象图形学学会-科普与教育工作委员会委员。\n",
    "\n",
    "代表作：精读AI经典论文、编程奇妙夜、斯坦福CS231N计算机视觉中文精讲、CS224W图神经网络中文精讲、“两天搞定图像分类、目标检测、图像分割、关键点检测毕业设计”、DataWhale可解释机器学习公开课\n",
    "\n",
    "## 特别感谢\n",
    "\n",
    "菜狗闻星：https://github.com/vansinhu\n",
    "\n",
    "田文博：https://github.com/wenbo0117\n",
    "\n",
    "Tennat123：https://space.bilibili.com/12270504\n",
    "\n",
    "## 交流群\n",
    "\n",
    "公众号 人工智能小技巧 回复 关键点检测毕设"
   ]
  },
  {
   "cell_type": "markdown",
   "id": "6f5c2405-7b09-4f4f-a404-9507a31e35c4",
   "metadata": {},
   "source": [
    "## 推荐代码运行云GPU平台\n",
    "\n",
    "https://featurize.cn/?s=d7ce99f842414bfcaea5662a97581bd1\n",
    "\n",
    "公众号 人工智能小技巧 回复 gpu 查看链接\n",
    "\n",
    "GPU RTX 3060、CUDA v11.6"
   ]
  },
  {
   "cell_type": "code",
   "execution_count": null,
   "id": "6257a756-46d9-41a4-a0c2-dde69c50bdf3",
   "metadata": {},
   "outputs": [],
   "source": []
  }
 ],
 "metadata": {
  "kernelspec": {
   "display_name": "Python 3 (ipykernel)",
   "language": "python",
   "name": "python3"
  },
  "language_info": {
   "codemirror_mode": {
    "name": "ipython",
    "version": 3
   },
   "file_extension": ".py",
   "mimetype": "text/x-python",
   "name": "python",
   "nbconvert_exporter": "python",
   "pygments_lexer": "ipython3",
   "version": "3.7.10"
  }
 },
 "nbformat": 4,
 "nbformat_minor": 5
}

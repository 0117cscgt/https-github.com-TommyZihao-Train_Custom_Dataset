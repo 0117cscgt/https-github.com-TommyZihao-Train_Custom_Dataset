{
 "cells": [
  {
   "cell_type": "markdown",
   "id": "b720ccdb-e2b8-4491-88a5-26a1a0de6fcb",
   "metadata": {},
   "source": [
    "# 思考题\n",
    "\n",
    "同济子豪兄 2023-4-25\n",
    "\n",
    "- 对比不同大小的 yolov8-pose 模型，它们的速度、精度有什么差异？\n",
    "\n",
    "- 对比GPU和CPU的视频、摄像头实时画面处理时间，有什么差异？\n",
    "\n",
    "- 摄像头实时画面处理时，处理一帧画面需要用时多久？时间都消耗在哪个部分？如何进一步提升实时预测速度？\n",
    "\n",
    "- MS COCO关键点检测数据集包含多少个关键点？它们各自代表什么含义？\n",
    "\n",
    "- 为什么关键点检测时，需要目标检测预测框？\n",
    "\n",
    "- 为什么说关键点检测可以看做是一种特殊的实例分割？\n",
    "\n",
    "- 如果类别名称包含中文，如何在图像、视频、摄像头实时画面上写中文呢？https://www.bilibili.com/video/BV1qe4y1D7zD\n"
   ]
  },
  {
   "cell_type": "code",
   "execution_count": null,
   "id": "d08e9806-18de-4b5c-afe0-7c7876a06596",
   "metadata": {},
   "outputs": [],
   "source": []
  }
 ],
 "metadata": {
  "kernelspec": {
   "display_name": "Python 3 (ipykernel)",
   "language": "python",
   "name": "python3"
  },
  "language_info": {
   "codemirror_mode": {
    "name": "ipython",
    "version": 3
   },
   "file_extension": ".py",
   "mimetype": "text/x-python",
   "name": "python",
   "nbconvert_exporter": "python",
   "pygments_lexer": "ipython3",
   "version": "3.7.10"
  }
 },
 "nbformat": 4,
 "nbformat_minor": 5
}

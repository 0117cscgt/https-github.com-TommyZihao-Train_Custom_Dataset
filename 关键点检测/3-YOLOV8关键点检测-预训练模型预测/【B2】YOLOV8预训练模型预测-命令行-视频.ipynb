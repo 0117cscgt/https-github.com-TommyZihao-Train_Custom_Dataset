{
 "cells": [
  {
   "cell_type": "markdown",
   "id": "6ccb759f-702c-4be2-b19b-81c21fda7d03",
   "metadata": {},
   "source": [
    "# YOLOV8预训练模型预测-命令行-视频\n",
    "\n",
    "同济子豪兄 2023-4-15"
   ]
  },
  {
   "cell_type": "markdown",
   "id": "ababf319-90a7-4d72-b438-8931784eecfc",
   "metadata": {},
   "source": [
    "## 目标检测预测"
   ]
  },
  {
   "cell_type": "code",
   "execution_count": 6,
   "id": "6aba35f3-f8ea-419f-9290-02a3c0be2398",
   "metadata": {},
   "outputs": [],
   "source": [
    "# !yolo detect predict model=yolov8x.pt source=videos/video_fruits.mp4 device=0"
   ]
  },
  {
   "cell_type": "markdown",
   "id": "4106e5e8-a8b9-4d84-ad37-a248f09269c3",
   "metadata": {},
   "source": [
    "## 图像分割预测"
   ]
  },
  {
   "cell_type": "code",
   "execution_count": 7,
   "id": "75d3cc4f-0308-40d0-8a4f-c64ec5ab068b",
   "metadata": {},
   "outputs": [],
   "source": [
    "# !yolo segment predict model=yolov8x-seg.pt source=videos/video_fruits.mp4 device=0"
   ]
  },
  {
   "cell_type": "markdown",
   "id": "e2c7c4db-1417-432c-a794-fd6e9c0a1d47",
   "metadata": {},
   "source": [
    "## 图像分类预测"
   ]
  },
  {
   "cell_type": "code",
   "execution_count": 8,
   "id": "4490739e-847e-471b-8612-10d3c0c6e3ea",
   "metadata": {},
   "outputs": [],
   "source": [
    "# !yolo classify predict model=yolov8x-cls.pt source=videos/video_2.mp4 device=0"
   ]
  },
  {
   "cell_type": "markdown",
   "id": "f374d999-3579-4803-8abc-b89051b9faab",
   "metadata": {},
   "source": [
    "## 人体姿态估计（关键点检测）预测"
   ]
  },
  {
   "cell_type": "code",
   "execution_count": 14,
   "id": "15aa88bc-35ab-4ff9-8187-ac386523a542",
   "metadata": {},
   "outputs": [],
   "source": [
    "!yolo pose predict model=yolov8x-pose-p6.pt source=videos/cxk.mp4 device=0"
   ]
  },
  {
   "cell_type": "code",
   "execution_count": 15,
   "id": "48f88a74-8177-44cb-91d0-73a8c636bc08",
   "metadata": {},
   "outputs": [],
   "source": [
    "!yolo pose predict model=yolov8x-pose-p6.pt source=videos/mother_wx.mp4 device=0"
   ]
  },
  {
   "cell_type": "code",
   "execution_count": null,
   "id": "e118a578-f155-4ef1-957a-756d4aa57766",
   "metadata": {},
   "outputs": [],
   "source": []
  }
 ],
 "metadata": {
  "kernelspec": {
   "display_name": "Python 3 (ipykernel)",
   "language": "python",
   "name": "python3"
  },
  "language_info": {
   "codemirror_mode": {
    "name": "ipython",
    "version": 3
   },
   "file_extension": ".py",
   "mimetype": "text/x-python",
   "name": "python",
   "nbconvert_exporter": "python",
   "pygments_lexer": "ipython3",
   "version": "3.7.10"
  }
 },
 "nbformat": 4,
 "nbformat_minor": 5
}

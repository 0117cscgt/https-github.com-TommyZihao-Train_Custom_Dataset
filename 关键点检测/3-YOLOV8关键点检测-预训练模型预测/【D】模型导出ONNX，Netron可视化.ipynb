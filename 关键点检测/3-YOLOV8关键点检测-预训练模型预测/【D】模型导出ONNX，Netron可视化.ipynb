{
 "cells": [
  {
   "cell_type": "markdown",
   "id": "75276d32-a57b-4cfe-a7fc-aee76a35669a",
   "metadata": {},
   "source": [
    "# 模型导出ONNX，Netron可视化\n",
    "\n",
    "同济子豪兄 2023-4-25"
   ]
  },
  {
   "cell_type": "markdown",
   "id": "64716fde-6383-4ab2-b504-98e1469cb343",
   "metadata": {},
   "source": [
    "## 导入工具包"
   ]
  },
  {
   "cell_type": "code",
   "execution_count": 1,
   "id": "638d887e-02f3-4286-b128-3598b1452fcd",
   "metadata": {},
   "outputs": [],
   "source": [
    "from ultralytics import YOLO"
   ]
  },
  {
   "cell_type": "markdown",
   "id": "ccd87d58-870c-4d91-bd24-24a863375185",
   "metadata": {},
   "source": [
    "## 载入模型"
   ]
  },
  {
   "cell_type": "code",
   "execution_count": 2,
   "id": "4642afff-a461-4760-84c4-4c78143dd719",
   "metadata": {},
   "outputs": [
    {
     "name": "stderr",
     "output_type": "stream",
     "text": [
      "Downloading https://github.com/ultralytics/assets/releases/download/v0.0.0/yolov8n-pose.pt to yolov8n-pose.pt...\n"
     ]
    },
    {
     "data": {
      "application/vnd.jupyter.widget-view+json": {
       "model_id": "628046802cca42f78e207cd37df42b70",
       "version_major": 2,
       "version_minor": 0
      },
      "text/plain": [
       "  0%|          | 0.00/6.49M [00:00<?, ?B/s]"
      ]
     },
     "metadata": {},
     "output_type": "display_data"
    }
   ],
   "source": [
    "# 载入预训练模型\n",
    "model = YOLO('yolov8n-pose.pt')\n",
    "# model = YOLO('yolov8s-pose.pt')\n",
    "# model = YOLO('yolov8m-pose.pt')\n",
    "# model = YOLO('yolov8l-pose.pt')\n",
    "# model = YOLO('yolov8x-pose.pt')\n",
    "# model = YOLO('yolov8x-pose-p6.pt')"
   ]
  },
  {
   "cell_type": "markdown",
   "id": "9606d749-7e70-4c92-9f7d-fa6d367c92c6",
   "metadata": {},
   "source": [
    "## 将模型导出为ONNX文件"
   ]
  },
  {
   "cell_type": "code",
   "execution_count": 3,
   "id": "dd7be689-c4ce-4d03-8c1b-9ece225ac28a",
   "metadata": {},
   "outputs": [
    {
     "name": "stderr",
     "output_type": "stream",
     "text": [
      "Ultralytics YOLOv8.0.87 🚀 Python-3.7.10 torch-1.10.0+cu113 CPU\n",
      "YOLOv8n-pose summary (fused): 187 layers, 3289964 parameters, 0 gradients, 9.2 GFLOPs\n",
      "\n",
      "\u001b[34m\u001b[1mPyTorch:\u001b[0m starting from yolov8n-pose.pt with input shape (1, 3, 640, 640) BCHW and output shape(s) (1, 56, 8400) (6.5 MB)\n",
      "\n",
      "\u001b[34m\u001b[1mONNX:\u001b[0m starting export with onnx 1.13.1 opset 13...\n",
      "WARNING: The shape inference of prim::Constant type is missing, so it may result in wrong shape inference for the exported graph. Please consider adding it in symbolic function.\n",
      "WARNING: The shape inference of prim::Constant type is missing, so it may result in wrong shape inference for the exported graph. Please consider adding it in symbolic function.\n",
      "WARNING: The shape inference of prim::Constant type is missing, so it may result in wrong shape inference for the exported graph. Please consider adding it in symbolic function.\n",
      "WARNING: The shape inference of prim::Constant type is missing, so it may result in wrong shape inference for the exported graph. Please consider adding it in symbolic function.\n",
      "WARNING: The shape inference of prim::Constant type is missing, so it may result in wrong shape inference for the exported graph. Please consider adding it in symbolic function.\n",
      "WARNING: The shape inference of prim::Constant type is missing, so it may result in wrong shape inference for the exported graph. Please consider adding it in symbolic function.\n",
      "\u001b[34m\u001b[1mONNX:\u001b[0m export success ✅ 3.4s, saved as yolov8n-pose.onnx (12.9 MB)\n",
      "\n",
      "Export complete (3.9s)\n",
      "Results saved to \u001b[1m/home/featurize/work/两天搞定关键点检测毕业设计/3-【YOLOV8】关键点检测\u001b[0m\n",
      "Predict:         yolo predict task=pose model=yolov8n-pose.onnx imgsz=640 \n",
      "Validate:        yolo val task=pose model=yolov8n-pose.onnx imgsz=640 data=/usr/src/app/ultralytics/datasets/coco-pose.yaml \n",
      "Visualize:       https://netron.app\n"
     ]
    }
   ],
   "source": [
    "success = model.export(format='onnx')"
   ]
  },
  {
   "cell_type": "markdown",
   "id": "d7193091-382f-4f6c-bd97-32b71ff72531",
   "metadata": {},
   "source": [
    "## 使用Netron可视化模型结构\n",
    "\n",
    "Netron：https://netron.app\n",
    "\n",
    "视频教程：https://www.bilibili.com/video/BV1TV4y1P7AP"
   ]
  },
  {
   "cell_type": "code",
   "execution_count": null,
   "id": "f0c38b62-fc1e-4917-bd13-4b271a899d14",
   "metadata": {},
   "outputs": [],
   "source": []
  }
 ],
 "metadata": {
  "kernelspec": {
   "display_name": "Python 3 (ipykernel)",
   "language": "python",
   "name": "python3"
  },
  "language_info": {
   "codemirror_mode": {
    "name": "ipython",
    "version": 3
   },
   "file_extension": ".py",
   "mimetype": "text/x-python",
   "name": "python",
   "nbconvert_exporter": "python",
   "pygments_lexer": "ipython3",
   "version": "3.7.10"
  }
 },
 "nbformat": 4,
 "nbformat_minor": 5
}

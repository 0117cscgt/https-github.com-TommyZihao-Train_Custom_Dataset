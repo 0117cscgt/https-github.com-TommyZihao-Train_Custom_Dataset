{
 "cells": [
  {
   "cell_type": "markdown",
   "id": "3223fdf5-b94a-4179-b8b9-9ed1accb0d8f",
   "metadata": {},
   "source": [
    "# 扩展阅读\n",
    "\n",
    "同济子豪兄 2023-4-24"
   ]
  },
  {
   "cell_type": "markdown",
   "id": "64ecc6b3-98c8-4392-b12c-11496e40f3a2",
   "metadata": {},
   "source": [
    "## 训练自己的图像分类、目标检测、图像分割、关键点检测模型\n",
    "\n",
    "https://github.com/TommyZihao/Train_Custom_Dataset\n",
    "\n",
    "## 常见计算机视觉标注格式相互转换\n",
    "\n",
    "https://github.com/TommyZihao/Label2Everything\n",
    "\n",
    "## 标注工具\n",
    "\n",
    "Labelme：https://github.com/wkentaro/labelme\n",
    "\n",
    "Label Studio：https://labelstud.io\n",
    "\n",
    "LabelU：https://github.com/opendatalab/labelU\n",
    "\n",
    "## MS COCO数据集及标注格式\n",
    "\n",
    "https://cocodataset.org\n",
    "\n",
    "https://paperswithcode.com/task/keypoint-detection\n",
    "\n",
    "https://www.section.io/engineering-education/understanding-coco-dataset\n",
    "\n",
    "https://zhuanlan.zhihu.com/p/263454360\n",
    "\n",
    "## YOLO标注格式\n",
    "\n",
    "https://github.com/ultralytics/ultralytics/issues/2066 "
   ]
  },
  {
   "cell_type": "markdown",
   "id": "ab937944-d0d3-417d-aeca-693ac3e1cbf9",
   "metadata": {},
   "source": [
    "## 微信交流群\n",
    "\n",
    "- **免费**加入MMPose/MMHuman3D/关键点检测交流群\n",
    "\n",
    "添加喵喵小助手微信：OpenMMLabwx，回复“子豪兄三角板”\n",
    "\n",
    "进群后发暗号“子豪兄关键点检测毕设”，同济子豪兄和众多Pose大佬在群里等你~\n",
    "\n",
    "- 公众号 人工智能小技巧 回复 关键点检测毕设\n",
    "\n",
    "手机APP、微信小程序、网页开发、智能硬件、服务器部署、代码bug江湖救急、论文创新点辅导答疑"
   ]
  },
  {
   "cell_type": "code",
   "execution_count": null,
   "id": "da019258-b6a5-4fc2-89aa-447f6ca2c6da",
   "metadata": {},
   "outputs": [],
   "source": []
  }
 ],
 "metadata": {
  "kernelspec": {
   "display_name": "Python 3 (ipykernel)",
   "language": "python",
   "name": "python3"
  },
  "language_info": {
   "codemirror_mode": {
    "name": "ipython",
    "version": 3
   },
   "file_extension": ".py",
   "mimetype": "text/x-python",
   "name": "python",
   "nbconvert_exporter": "python",
   "pygments_lexer": "ipython3",
   "version": "3.7.10"
  }
 },
 "nbformat": 4,
 "nbformat_minor": 5
}

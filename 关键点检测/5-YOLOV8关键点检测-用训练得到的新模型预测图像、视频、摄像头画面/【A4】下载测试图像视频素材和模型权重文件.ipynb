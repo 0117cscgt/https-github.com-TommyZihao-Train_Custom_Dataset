{
 "cells": [
  {
   "cell_type": "markdown",
   "id": "4b740763-3e61-4e84-939b-9662bac24b8c",
   "metadata": {},
   "source": [
    "# 下载测试图像视频素材和模型权重文件\n",
    "\n",
    "同济子豪兄 2023-4-27"
   ]
  },
  {
   "cell_type": "markdown",
   "id": "16a2d509-b60e-4e41-9a08-c2bf96d541c3",
   "metadata": {},
   "source": [
    "## 下载测试图像至`images`目录"
   ]
  },
  {
   "cell_type": "code",
   "execution_count": 4,
   "id": "d6c6939e-c3b8-4fce-91a8-ac28d9b9e13c",
   "metadata": {},
   "outputs": [],
   "source": [
    "# 图像-30度直角三角板，拍摄：同济子豪兄、田文博\n",
    "!wget https://zihao-openmmlab.obs.myhuaweicloud.com/20220610-mmpose/triangle_dataset/test_img/triangle_1.jpg -P images\n",
    "!wget https://zihao-openmmlab.obs.myhuaweicloud.com/20220610-mmpose/triangle_dataset/test_img/triangle_2.jpg -P images\n",
    "!wget https://zihao-openmmlab.obs.myhuaweicloud.com/20220610-mmpose/triangle_dataset/test_img/triangle_3.jpg -P images\n",
    "!wget https://zihao-openmmlab.obs.myhuaweicloud.com/20220610-mmpose/triangle_dataset/test_img/triangle_4.jpg -P images"
   ]
  },
  {
   "cell_type": "markdown",
   "id": "8d7e1c2a-96b6-4c16-ba4b-a6a2bdb2927c",
   "metadata": {},
   "source": [
    "## 下载测试视频至`videos`目录"
   ]
  },
  {
   "cell_type": "code",
   "execution_count": 5,
   "id": "7e797c00-39ac-4245-86fb-b1dc0611316f",
   "metadata": {},
   "outputs": [],
   "source": [
    "# 视频-30度直角三角板，拍摄：同济子豪兄，田文博\n",
    "!wget https://zihao-openmmlab.obs.myhuaweicloud.com/20220610-mmpose/triangle_dataset/videos/triangle_6.mp4 -P videos\n",
    "!wget https://zihao-openmmlab.obs.myhuaweicloud.com/20220610-mmpose/triangle_dataset/videos/triangle_7.mp4 -P videos\n",
    "!wget https://zihao-openmmlab.obs.myhuaweicloud.com/20220610-mmpose/triangle_dataset/videos/triangle_9.mp4 -P videos"
   ]
  },
  {
   "cell_type": "markdown",
   "id": "af9e6d0b-ff78-4675-92f3-98da0aa0a498",
   "metadata": {},
   "source": [
    "## 下载模型权重文件至`checkpoint`目录"
   ]
  },
  {
   "cell_type": "code",
   "execution_count": 6,
   "id": "c08882f9-0f60-42bb-906a-2576a2b38c75",
   "metadata": {},
   "outputs": [],
   "source": [
    "# yolov8n-pose 预训练模型微调\n",
    "!wget https://zihao-download.obs.cn-east-3.myhuaweicloud.com/yolov8/datasets/Triangle_215_Dataset/checkpoint/Triangle_215_yolov8n_pretrain.pt -P checkpoint\n",
    "\n",
    "# yolov8s-pose 预训练模型微调\n",
    "!wget https://zihao-download.obs.cn-east-3.myhuaweicloud.com/yolov8/datasets/Triangle_215_Dataset/checkpoint/Triangle_215_yolov8s_pretrain.pt -P checkpoint\n",
    "\n",
    "# yolov8m-pose 预训练模型微调\n",
    "!wget https://zihao-download.obs.cn-east-3.myhuaweicloud.com/yolov8/datasets/Triangle_215_Dataset/checkpoint/Triangle_215_yolov8m_pretrain.pt -P checkpoint\n",
    "\n",
    "# # yolov8l-pose 预训练模型微调\n",
    "# !wget https://zihao-download.obs.cn-east-3.myhuaweicloud.com/yolov8/datasets/Triangle_215_Dataset/checkpoint/Triangle_215_yolov8l_pretrain.pt -P checkpoint\n",
    "\n",
    "# # yolov8x-pose 预训练模型微调\n",
    "# !wget https://zihao-download.obs.cn-east-3.myhuaweicloud.com/yolov8/datasets/Triangle_215_Dataset/checkpoint/Triangle_215_yolov8x_pretrain.pt -P checkpoint\n",
    "\n",
    "# yolov8x-pose-p6 预训练模型微调\n",
    "!wget https://zihao-download.obs.cn-east-3.myhuaweicloud.com/yolov8/datasets/Triangle_215_Dataset/checkpoint/Triangle_215_yolov8x_p6_pretrain.pt -P checkpoint\n"
   ]
  },
  {
   "cell_type": "code",
   "execution_count": null,
   "id": "200dc602-16cd-4f55-a90c-9a9d2cee2ad0",
   "metadata": {},
   "outputs": [],
   "source": []
  }
 ],
 "metadata": {
  "kernelspec": {
   "display_name": "Python 3 (ipykernel)",
   "language": "python",
   "name": "python3"
  },
  "language_info": {
   "codemirror_mode": {
    "name": "ipython",
    "version": 3
   },
   "file_extension": ".py",
   "mimetype": "text/x-python",
   "name": "python",
   "nbconvert_exporter": "python",
   "pygments_lexer": "ipython3",
   "version": "3.7.10"
  }
 },
 "nbformat": 4,
 "nbformat_minor": 5
}

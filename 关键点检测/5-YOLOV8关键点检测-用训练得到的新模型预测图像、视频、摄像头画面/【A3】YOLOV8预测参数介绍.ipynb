{
 "cells": [
  {
   "cell_type": "markdown",
   "id": "bf161b50-7506-4ad7-9065-d6494e187eb2",
   "metadata": {},
   "source": [
    "# YOLOV8预测参数介绍\n",
    "\n",
    "同济子豪兄 2023-4-28"
   ]
  },
  {
   "cell_type": "markdown",
   "id": "d73858bb-803c-4b61-aece-7277342241e1",
   "metadata": {},
   "source": [
    "## 官方文档\n",
    "\n",
    "- YOLOV8文档：https://docs.ultralytics.com\n",
    "\n",
    "- YOLOV8的Github主页：https://github.com/ultralytics/ultralytics\n",
    "\n",
    "- 所有模型：https://github.com/ultralytics/ultralytics/tree/main/ultralytics/models/v8\n",
    "\n",
    "- Pose预训练模型：https://github.com/ultralytics/ultralytics/tree/main/ultralytics/models#pose\n",
    "\n",
    "- 预测参数文档：https://docs.ultralytics.com/usage/cfg/#predict\n",
    "\n",
    "- YOLOV8命令行模板：\n",
    "\n",
    "```\n",
    "yolo task=detect    mode=train    model=yolov8n.yaml      args...\n",
    "          classify       predict        yolov8n-cls.yaml  args...\n",
    "          segment        val            yolov8n-seg.yaml  args...\n",
    "                         export         yolov8n.pt        format=onnx  args...\n",
    "```"
   ]
  },
  {
   "cell_type": "markdown",
   "id": "c9c901c8-23a8-46f1-aabe-b2d66e8b5857",
   "metadata": {},
   "source": [
    "## 几个比较重要的预测参数\n",
    "\n",
    "- **基础参数**\n",
    "\n",
    "model YOLOV8模型\n",
    "\n",
    "source 输入模型预测的图像、视频、文件夹路径\n",
    "\n",
    "device 计算设备（device=0 或 device=0,1,2,3 或 device=cpu）\n",
    "\n",
    "verbose 是否在命令行输出每一帧的预测结果，默认为True\n",
    "\n",
    "- **后处理参数**\n",
    "\n",
    "conf 目标检测置信度，默认0.25\n",
    "\n",
    "iou 目标检测非极大值抑制（NMS）的IOU阈值，默认0.7，越小，NMS越强\n",
    "\n",
    "agnostic_nms 对所有类的框，而不仅仅对同类框，做目标检测非极大值抑制（NMS）\n",
    "\n",
    "classes 只显示哪个或哪些类别的预测结果（class=0 或 class=[0,2,3]）\n",
    "\n",
    "- **可视化参数**\n",
    "\n",
    "show 是否将预测结果显示在屏幕上，默认为False。摄像头实时预测时，建议开启\n",
    "\n",
    "show_labels 是否显示目标检测框类别文字，默认为True\n",
    "\n",
    "show_conf 是否显示目标检测框置信度，默认为True\n",
    "\n",
    "line_thickness 目标检测框线宽，默认为3\n",
    "\n",
    "max_det 一张图像最多预测多少个框，默认为300\n",
    "\n",
    "boxes 是否在实例分割预测结果中显示目标检测框\n",
    "\n",
    "visualize 可视化模型特征\n",
    "\n",
    "retina_masks 是否显示高分辨率实例分割mask，默认为False\n",
    "\n",
    "- **保存结果参数**\n",
    "\n",
    "save 保存预测结果可视化图像，默认为False\n",
    "\n",
    "save_txt 将预测结果保存为txt文件，默认为False\n",
    "\n",
    "save_conf 保存的预测结果中，包含置信度，默认为False\n",
    "\n",
    "save_crop 保存的预测结果可视化图像中，是否裁切，默认为False\n",
    "\n",
    "- **其它参数**\n",
    "\n",
    "half 是否开启半精度（FP16），默认为False\n",
    "\n",
    "augment 对输入数据做数据扩增，默认False"
   ]
  },
  {
   "cell_type": "code",
   "execution_count": null,
   "id": "d3768dee-933f-4966-8147-ec50dfd7a1cf",
   "metadata": {},
   "outputs": [],
   "source": []
  }
 ],
 "metadata": {
  "kernelspec": {
   "display_name": "Python 3 (ipykernel)",
   "language": "python",
   "name": "python3"
  },
  "language_info": {
   "codemirror_mode": {
    "name": "ipython",
    "version": 3
   },
   "file_extension": ".py",
   "mimetype": "text/x-python",
   "name": "python",
   "nbconvert_exporter": "python",
   "pygments_lexer": "ipython3",
   "version": "3.7.10"
  }
 },
 "nbformat": 4,
 "nbformat_minor": 5
}

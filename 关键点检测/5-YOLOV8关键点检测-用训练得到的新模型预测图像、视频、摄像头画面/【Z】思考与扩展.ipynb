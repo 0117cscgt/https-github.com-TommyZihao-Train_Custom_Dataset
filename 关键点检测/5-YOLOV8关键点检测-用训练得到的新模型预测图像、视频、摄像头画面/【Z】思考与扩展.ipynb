{
 "cells": [
  {
   "cell_type": "markdown",
   "id": "b720ccdb-e2b8-4491-88a5-26a1a0de6fcb",
   "metadata": {
    "tags": []
   },
   "source": [
    "# 思考与扩展\n",
    "\n",
    "同济子豪兄 2023-4-28\n",
    "\n",
    "- 对比不同大小的 yolov8-pose 模型，它们的速度、精度有什么差异？\n",
    "\n",
    "- 对比GPU和CPU的视频、摄像头实时画面处理时间，有什么差异？为什么?\n",
    "\n",
    "- 摄像头实时画面处理时，处理一帧画面需要用时多久？时间都消耗在哪个部分？如何进一步提升实时预测速度？\n",
    "\n",
    "- 如果类别名称包含中文，如何在图像、视频、摄像头实时画面上写中文呢？https://www.bilibili.com/video/BV1qe4y1D7zD\n",
    "\n",
    "- 为什么单阶段的关键点检测算法，精度不如Top-Down自顶向下两阶段算法？\n",
    "\n",
    "- 尝试不同的预测参数，它们分别如何影响最终预测效果？\n",
    "\n",
    "- 本讲用的模型仍然是原生pytorch模型，没有经过专门的轻量化处理、加速和优化，如何针对性地部署在各种硬件平台上？\n",
    "\n",
    "> 模型转ONNX、TensorRT、OpenVino、CoreML、TFLite、Paddle\n",
    ">\n",
    "> 模型部署：智能手机APP、开发板、浏览器、服务器、微信小程序\n",
    ">\n",
    "> 预告：安卓手机部署工具：NCNN、aidlux.com\n"
   ]
  },
  {
   "cell_type": "code",
   "execution_count": null,
   "id": "fa4f4b92-ae69-40df-8ca1-1146d207c68a",
   "metadata": {},
   "outputs": [],
   "source": []
  }
 ],
 "metadata": {
  "kernelspec": {
   "display_name": "Python 3 (ipykernel)",
   "language": "python",
   "name": "python3"
  },
  "language_info": {
   "codemirror_mode": {
    "name": "ipython",
    "version": 3
   },
   "file_extension": ".py",
   "mimetype": "text/x-python",
   "name": "python",
   "nbconvert_exporter": "python",
   "pygments_lexer": "ipython3",
   "version": "3.7.10"
  }
 },
 "nbformat": 4,
 "nbformat_minor": 5
}

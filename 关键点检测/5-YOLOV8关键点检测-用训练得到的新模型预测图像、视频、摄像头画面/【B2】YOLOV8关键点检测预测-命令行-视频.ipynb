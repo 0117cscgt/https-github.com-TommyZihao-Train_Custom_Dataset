{
 "cells": [
  {
   "cell_type": "markdown",
   "id": "6ccb759f-702c-4be2-b19b-81c21fda7d03",
   "metadata": {},
   "source": [
    "# YOLOV8关键点检测预测-命令行-视频\n",
    "\n",
    "同济子豪兄 2023-4-27"
   ]
  },
  {
   "cell_type": "markdown",
   "id": "f374d999-3579-4803-8abc-b89051b9faab",
   "metadata": {},
   "source": [
    "## 关键点检测预测"
   ]
  },
  {
   "cell_type": "code",
   "execution_count": 2,
   "id": "15aa88bc-35ab-4ff9-8187-ac386523a542",
   "metadata": {},
   "outputs": [
    {
     "name": "stdout",
     "output_type": "stream",
     "text": [
      "Ultralytics YOLOv8.0.89 🚀 Python-3.7.10 torch-1.10.0+cu113 CUDA:0 (NVIDIA RTX A4000, 16117MiB)\n",
      "YOLOv8x-pose-p6 summary (fused): 375 layers, 99127672 parameters, 0 gradients, 266.5 GFLOPs\n",
      "Results saved to \u001b[1mruns/pose/predict5\u001b[0m\n"
     ]
    }
   ],
   "source": [
    "!yolo pose predict model=checkpoint/Triangle_215_yolov8x_p6_pretrain.pt source=videos/triangle_7.mp4 device=0 verbose=False\n"
   ]
  },
  {
   "cell_type": "markdown",
   "id": "1732f923-9b67-45c5-ad44-3067e473fa94",
   "metadata": {},
   "source": [
    "## 预测结果保存在`runs`目录"
   ]
  },
  {
   "cell_type": "code",
   "execution_count": null,
   "id": "0e9258ea-151c-41cc-af70-d19e9edc159f",
   "metadata": {},
   "outputs": [],
   "source": []
  }
 ],
 "metadata": {
  "kernelspec": {
   "display_name": "Python 3 (ipykernel)",
   "language": "python",
   "name": "python3"
  },
  "language_info": {
   "codemirror_mode": {
    "name": "ipython",
    "version": 3
   },
   "file_extension": ".py",
   "mimetype": "text/x-python",
   "name": "python",
   "nbconvert_exporter": "python",
   "pygments_lexer": "ipython3",
   "version": "3.7.10"
  }
 },
 "nbformat": 4,
 "nbformat_minor": 5
}

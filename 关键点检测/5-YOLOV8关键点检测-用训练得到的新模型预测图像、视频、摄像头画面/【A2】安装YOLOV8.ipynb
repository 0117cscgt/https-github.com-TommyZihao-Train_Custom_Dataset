{
 "cells": [
  {
   "cell_type": "markdown",
   "id": "5d31775d-9858-422f-b3e7-b333df407c8b",
   "metadata": {},
   "source": [
    "# 安装YOLOV8\n",
    "\n",
    "同济子豪兄 2023-4-15\n",
    "\n",
    "安装YOLOV8环境和所需的第三方工具包"
   ]
  },
  {
   "cell_type": "markdown",
   "id": "8ba9d553-9064-492d-811b-812ff409d8e1",
   "metadata": {},
   "source": [
    "## 安装YOLOV8"
   ]
  },
  {
   "cell_type": "code",
   "execution_count": 4,
   "id": "e3afb786-1343-46fd-82c9-ff2d716c79e0",
   "metadata": {},
   "outputs": [],
   "source": [
    "!pip install ultralytics --upgrade -i https://pypi.tuna.tsinghua.edu.cn/simple"
   ]
  },
  {
   "cell_type": "markdown",
   "id": "9823667e-5c29-4e9f-aae3-8f0dea3f5105",
   "metadata": {},
   "source": [
    "## 验证安装成功"
   ]
  },
  {
   "cell_type": "code",
   "execution_count": 2,
   "id": "1de9f7c1-d2bb-4f54-9eb3-2602b806085a",
   "metadata": {},
   "outputs": [
    {
     "name": "stderr",
     "output_type": "stream",
     "text": [
      "Ultralytics YOLOv8.0.89 🚀 Python-3.7.10 torch-1.10.0+cu113 CUDA:0 (NVIDIA RTX A4000, 16117MiB)\n",
      "Setup complete ✅ (6 CPUs, 27.4 GB RAM, 20.0/406.9 GB disk)\n"
     ]
    }
   ],
   "source": [
    "import ultralytics\n",
    "ultralytics.checks()"
   ]
  },
  {
   "cell_type": "markdown",
   "id": "78ce4d27-bc9f-4f5e-b3dd-9844733e4549",
   "metadata": {},
   "source": [
    "## 安装其它第三方工具包"
   ]
  },
  {
   "cell_type": "code",
   "execution_count": 5,
   "id": "cf430bb8-4404-40c6-a357-b0bb07f1d7ab",
   "metadata": {},
   "outputs": [],
   "source": [
    "!pip install numpy opencv-python pillow pandas matplotlib seaborn tqdm -i https://pypi.tuna.tsinghua.edu.cn/simple"
   ]
  },
  {
   "cell_type": "code",
   "execution_count": null,
   "id": "6c610437-4506-46e1-b7dc-0b4b48b4a879",
   "metadata": {},
   "outputs": [],
   "source": []
  }
 ],
 "metadata": {
  "kernelspec": {
   "display_name": "Python 3 (ipykernel)",
   "language": "python",
   "name": "python3"
  },
  "language_info": {
   "codemirror_mode": {
    "name": "ipython",
    "version": 3
   },
   "file_extension": ".py",
   "mimetype": "text/x-python",
   "name": "python",
   "nbconvert_exporter": "python",
   "pygments_lexer": "ipython3",
   "version": "3.7.10"
  }
 },
 "nbformat": 4,
 "nbformat_minor": 5
}
